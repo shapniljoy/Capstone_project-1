{
 "cells": [
  {
   "cell_type": "code",
   "execution_count": 81,
   "id": "f1081a02",
   "metadata": {},
   "outputs": [],
   "source": [
    "import pandas as pd\n",
    "import numpy as np\n",
    "import matplotlib.pyplot as plt\n",
    "import seaborn as sns\n",
    "\n",
    "import category_encoders as ce\n",
    "from sklearn.pipeline import Pipeline\n",
    "from sklearn.preprocessing import OneHotEncoder,StandardScaler,OrdinalEncoder,TargetEncoder\n",
    "from sklearn.compose import ColumnTransformer\n",
    "from sklearn.impute import SimpleImputer\n",
    "from sklearn.linear_model import LinearRegression\n",
    "from sklearn.model_selection import train_test_split,GridSearchCV,cross_val_score,KFold,RandomizedSearchCV\n",
    "from lightgbm import LGBMRegressor\n",
    "from sklearn.linear_model import LinearRegression, Ridge, Lasso\n",
    "from sklearn.svm import SVR\n",
    "from sklearn.tree import DecisionTreeRegressor\n",
    "from sklearn.ensemble import RandomForestRegressor, ExtraTreesRegressor, GradientBoostingRegressor, AdaBoostRegressor\n",
    "from sklearn.neural_network import MLPRegressor\n",
    "from xgboost import XGBRegressor\n",
    "import xgboost as xgb\n",
    "from sklearn.metrics import mean_squared_error,mean_absolute_error,r2_score\n",
    "import optuna\n",
    "from plotly.io import show\n",
    "\n",
    "pd.set_option('display.max_columns', None)"
   ]
  },
  {
   "cell_type": "code",
   "execution_count": 82,
   "id": "124e3828",
   "metadata": {},
   "outputs": [],
   "source": [
    "df = pd.read_csv('outliers_treated.csv')"
   ]
  },
  {
   "cell_type": "code",
   "execution_count": 83,
   "id": "98809c0e",
   "metadata": {},
   "outputs": [],
   "source": [
    "df.drop(columns=['Unnamed: 0','price_per_sqft','areaWithType','outliers','area_room_ratio','store room','pooja room','others','area'],inplace=True)\n",
    "\n",
    "df['luxury_cat'] = pd.cut(df['luxury_score'],bins=[-1,50,150,175],labels=['low','medium','high'])\n",
    "df['floorNum_cat'] = pd.cut(df['floorNum'],bins=[-1,3,10,51],labels=['low','medium','high'])\n",
    "\n",
    "df.drop(columns=['luxury_score','facing','floorNum','society'],inplace=True)\n",
    "\n",
    "df.loc[df['agePossession'] == 'Undefined','agePossession'] = np.nan\n",
    "\n",
    "df['furnishing_type'] = df['furnishing_type'].replace({0:'unfurnished',1:'semi_furnished',2:'furnished'})"
   ]
  },
  {
   "cell_type": "code",
   "execution_count": 84,
   "id": "8c0d9f62",
   "metadata": {},
   "outputs": [],
   "source": [
    "x = df.drop(columns=['price'])\n",
    "y = df['price']"
   ]
  },
  {
   "cell_type": "code",
   "execution_count": 85,
   "id": "59ed1c92",
   "metadata": {},
   "outputs": [],
   "source": [
    "y = np.log1p(y)"
   ]
  },
  {
   "cell_type": "code",
   "execution_count": 86,
   "id": "09e866a8",
   "metadata": {},
   "outputs": [],
   "source": [
    "x_train, x_test, y_train, y_test = train_test_split(x, y, test_size=0.2, random_state=0)"
   ]
  },
  {
   "cell_type": "code",
   "execution_count": 87,
   "id": "b176d37f",
   "metadata": {},
   "outputs": [],
   "source": [
    "def objective(trial):\n",
    "\n",
    "    missing_pipe_cat_age = Pipeline([\n",
    "    ('Missing_Cat', SimpleImputer(strategy='most_frequent')),\n",
    "    ('Onehot',OneHotEncoder(drop='first',handle_unknown='ignore'))\n",
    "    ])\n",
    "\n",
    "    missing_pipe_cat_floor = Pipeline([\n",
    "    ('Missing_Cat', SimpleImputer(strategy='most_frequent')),\n",
    "    ('ordinal',OrdinalEncoder())\n",
    "    ])\n",
    "\n",
    "    missing_pipe_num = Pipeline([\n",
    "    ('Missing_Num', SimpleImputer(strategy='median')),\n",
    "    ('scaling',StandardScaler())\n",
    "     ])\n",
    "\n",
    "\n",
    "    Target_preprocessor = ColumnTransformer([\n",
    "    ('missing_pipe_cat_age',missing_pipe_cat_age,['agePossession']),\n",
    "    ('missing_pipe_cat_floor',missing_pipe_cat_floor,['floorNum_cat']),\n",
    "    ('missing_pipe_num',missing_pipe_num,[ 'super_built_up_area','built_up_area', 'carpet_area']),\n",
    "    ('ordinal',OrdinalEncoder(),['balcony','luxury_cat']),\n",
    "    ('onehot',OneHotEncoder(drop='first', handle_unknown='ignore'), ['furnishing_type','property_type']),\n",
    "    ('target',ce.TargetEncoder(),['sector']),\n",
    "    ('scaling',StandardScaler(),['bedRoom', 'bathroom', 'study room', 'servant room'])\n",
    "    ],remainder='passthrough')\n",
    "\n",
    "\n",
    "    regressor_name = trial.suggest_categorical('regressor',['xgboost'])\n",
    "\n",
    "\n",
    "    if regressor_name == 'xgboost':\n",
    "\n",
    "       gamma = trial.suggest_int('model__gamma',0,10)\n",
    "       reg_lambda = trial.suggest_float('model__reg_lambda',0.1,10)\n",
    "       n_estimators = trial.suggest_int('model__n_estimators',100,1000)\n",
    "       eta = trial.suggest_float('model__eta',0.01,0.5)\n",
    "       min_child_weight = trial.suggest_int('model__min_child_weight',1,50)\n",
    "       subsample = trial.suggest_float('model__subsample',0.5,1.0)\n",
    "       colsample_bynode = trial.suggest_float('model__colsample_bynode',0.5,1.0)\n",
    "       max_depth = trial.suggest_int('model__max_depth',3,6)\n",
    "       tree_method = trial.suggest_categorical('model__tree_method',['hist'])\n",
    "       max_bin = trial.suggest_int('model__max_bin',64,256)\n",
    "\n",
    "\n",
    "\n",
    "       model_pipe = Pipeline([\n",
    "       ('preprocessor',Target_preprocessor),\n",
    "       ('model',XGBRegressor(random_state=0,gamma=gamma,reg_lambda=reg_lambda,n_estimators=n_estimators,eta=eta,\n",
    "                            min_child_weight=min_child_weight,max_bin=max_bin,\n",
    "                            subsample=subsample,colsample_bynode=colsample_bynode,max_depth=max_depth,tree_method=tree_method))    \n",
    "\n",
    "       ])\n",
    "\n",
    "       \n",
    "       \n",
    "       trial.set_user_attr('model',model_pipe)\n",
    "\n",
    "       cv_score = cross_val_score(model_pipe,x,y,cv=5,scoring='r2')\n",
    "\n",
    "       return cv_score.mean()\n",
    "       "
   ]
  },
  {
   "cell_type": "code",
   "execution_count": null,
   "id": "f1ff7d0d",
   "metadata": {},
   "outputs": [
    {
     "name": "stderr",
     "output_type": "stream",
     "text": [
      "[I 2025-08-28 15:51:21,907] A new study created in memory with name: no-name-be6acd23-aef7-43d0-bc25-563467a4e0ea\n",
      "[I 2025-08-28 15:51:25,145] Trial 0 finished with value: 0.7729263758710296 and parameters: {'regressor': 'xgboost', 'model__gamma': 9, 'model__reg_lambda': 1.322088554517635, 'model__n_estimators': 356, 'model__eta': 0.12462390356024645, 'model__min_child_weight': 25, 'model__subsample': 0.6797759215757097, 'model__colsample_bynode': 0.7487505113494488, 'model__max_depth': 4, 'model__tree_method': 'hist', 'model__max_bin': 94}. Best is trial 0 with value: 0.7729263758710296.\n",
      "[I 2025-08-28 15:51:25,599] Trial 5 finished with value: 0.7746682041957743 and parameters: {'regressor': 'xgboost', 'model__gamma': 7, 'model__reg_lambda': 2.1531140807664317, 'model__n_estimators': 430, 'model__eta': 0.3200795872998935, 'model__min_child_weight': 25, 'model__subsample': 0.553111852518445, 'model__colsample_bynode': 0.533936208267425, 'model__max_depth': 5, 'model__tree_method': 'hist', 'model__max_bin': 102}. Best is trial 5 with value: 0.7746682041957743.\n",
      "[I 2025-08-28 15:51:25,602] Trial 4 finished with value: 0.7958493175382817 and parameters: {'regressor': 'xgboost', 'model__gamma': 5, 'model__reg_lambda': 7.469965670289159, 'model__n_estimators': 416, 'model__eta': 0.17404873935066573, 'model__min_child_weight': 5, 'model__subsample': 0.8445128406358364, 'model__colsample_bynode': 0.8740942684502735, 'model__max_depth': 5, 'model__tree_method': 'hist', 'model__max_bin': 240}. Best is trial 4 with value: 0.7958493175382817.\n",
      "[I 2025-08-28 15:51:25,836] Trial 10 finished with value: 0.8051127542881288 and parameters: {'regressor': 'xgboost', 'model__gamma': 3, 'model__reg_lambda': 9.080017270395572, 'model__n_estimators': 470, 'model__eta': 0.3121835108575124, 'model__min_child_weight': 37, 'model__subsample': 0.5397375440486861, 'model__colsample_bynode': 0.9229674407684896, 'model__max_depth': 6, 'model__tree_method': 'hist', 'model__max_bin': 193}. Best is trial 10 with value: 0.8051127542881288.\n",
      "[I 2025-08-28 15:51:26,201] Trial 7 finished with value: 0.7980720152378438 and parameters: {'regressor': 'xgboost', 'model__gamma': 4, 'model__reg_lambda': 8.918859416365434, 'model__n_estimators': 513, 'model__eta': 0.10951574627099059, 'model__min_child_weight': 44, 'model__subsample': 0.5849014328207942, 'model__colsample_bynode': 0.8375235022580458, 'model__max_depth': 3, 'model__tree_method': 'hist', 'model__max_bin': 214}. Best is trial 10 with value: 0.8051127542881288.\n",
      "[I 2025-08-28 15:51:27,368] Trial 14 finished with value: 0.7839279130577747 and parameters: {'regressor': 'xgboost', 'model__gamma': 7, 'model__reg_lambda': 8.081886601093029, 'model__n_estimators': 176, 'model__eta': 0.30529367235358507, 'model__min_child_weight': 25, 'model__subsample': 0.8550096463973285, 'model__colsample_bynode': 0.6929590978354769, 'model__max_depth': 4, 'model__tree_method': 'hist', 'model__max_bin': 98}. Best is trial 10 with value: 0.8051127542881288.\n",
      "[I 2025-08-28 15:51:27,615] Trial 9 finished with value: 0.7997428676326106 and parameters: {'regressor': 'xgboost', 'model__gamma': 4, 'model__reg_lambda': 8.543316626986764, 'model__n_estimators': 702, 'model__eta': 0.300039604496174, 'model__min_child_weight': 17, 'model__subsample': 0.776318264872692, 'model__colsample_bynode': 0.9143959160499504, 'model__max_depth': 3, 'model__tree_method': 'hist', 'model__max_bin': 145}. Best is trial 10 with value: 0.8051127542881288.\n",
      "[I 2025-08-28 15:51:27,862] Trial 8 finished with value: 0.8017000786232147 and parameters: {'regressor': 'xgboost', 'model__gamma': 3, 'model__reg_lambda': 3.22107578524211, 'model__n_estimators': 728, 'model__eta': 0.4672849733450887, 'model__min_child_weight': 21, 'model__subsample': 0.7176399555138707, 'model__colsample_bynode': 0.7315079861827474, 'model__max_depth': 6, 'model__tree_method': 'hist', 'model__max_bin': 112}. Best is trial 10 with value: 0.8051127542881288.\n",
      "[I 2025-08-28 15:51:28,515] Trial 6 finished with value: 0.8763816629963175 and parameters: {'regressor': 'xgboost', 'model__gamma': 0, 'model__reg_lambda': 5.428225470170904, 'model__n_estimators': 397, 'model__eta': 0.3215046055607294, 'model__min_child_weight': 20, 'model__subsample': 0.9314137645398304, 'model__colsample_bynode': 0.9692863716075428, 'model__max_depth': 5, 'model__tree_method': 'hist', 'model__max_bin': 254}. Best is trial 6 with value: 0.8763816629963175.\n",
      "[I 2025-08-28 15:51:28,637] Trial 15 finished with value: 0.7852761789074714 and parameters: {'regressor': 'xgboost', 'model__gamma': 6, 'model__reg_lambda': 5.557358106613421, 'model__n_estimators': 276, 'model__eta': 0.41361893268113054, 'model__min_child_weight': 3, 'model__subsample': 0.9990823387956149, 'model__colsample_bynode': 0.585620127200171, 'model__max_depth': 3, 'model__tree_method': 'hist', 'model__max_bin': 232}. Best is trial 6 with value: 0.8763816629963175.\n",
      "[I 2025-08-28 15:51:29,123] Trial 1 finished with value: 0.7937056099895359 and parameters: {'regressor': 'xgboost', 'model__gamma': 5, 'model__reg_lambda': 2.2008911918280805, 'model__n_estimators': 862, 'model__eta': 0.09676761177041128, 'model__min_child_weight': 30, 'model__subsample': 0.6549898719674334, 'model__colsample_bynode': 0.7084094645196524, 'model__max_depth': 6, 'model__tree_method': 'hist', 'model__max_bin': 165}. Best is trial 6 with value: 0.8763816629963175.\n",
      "[I 2025-08-28 15:51:29,407] Trial 18 finished with value: 0.8266504747212118 and parameters: {'regressor': 'xgboost', 'model__gamma': 1, 'model__reg_lambda': 6.040281373020162, 'model__n_estimators': 149, 'model__eta': 0.24394964602431343, 'model__min_child_weight': 20, 'model__subsample': 0.7126642870201298, 'model__colsample_bynode': 0.9096702688045948, 'model__max_depth': 4, 'model__tree_method': 'hist', 'model__max_bin': 157}. Best is trial 6 with value: 0.8763816629963175.\n",
      "[I 2025-08-28 15:51:29,817] Trial 11 finished with value: 0.7736146143599238 and parameters: {'regressor': 'xgboost', 'model__gamma': 8, 'model__reg_lambda': 3.857793152813569, 'model__n_estimators': 985, 'model__eta': 0.4320327961161619, 'model__min_child_weight': 38, 'model__subsample': 0.7242935430818569, 'model__colsample_bynode': 0.7595353780659786, 'model__max_depth': 4, 'model__tree_method': 'hist', 'model__max_bin': 119}. Best is trial 6 with value: 0.8763816629963175.\n",
      "[I 2025-08-28 15:51:30,722] Trial 13 finished with value: 0.8134062699180538 and parameters: {'regressor': 'xgboost', 'model__gamma': 2, 'model__reg_lambda': 0.9034354101274462, 'model__n_estimators': 617, 'model__eta': 0.3091073203695344, 'model__min_child_weight': 38, 'model__subsample': 0.7771203314538917, 'model__colsample_bynode': 0.64001587311481, 'model__max_depth': 3, 'model__tree_method': 'hist', 'model__max_bin': 150}. Best is trial 6 with value: 0.8763816629963175.\n",
      "[I 2025-08-28 15:51:31,049] Trial 17 finished with value: 0.8576562374472214 and parameters: {'regressor': 'xgboost', 'model__gamma': 0, 'model__reg_lambda': 2.4391739767056984, 'model__n_estimators': 187, 'model__eta': 0.36515460094067664, 'model__min_child_weight': 16, 'model__subsample': 0.5489496937258816, 'model__colsample_bynode': 0.6019084725836175, 'model__max_depth': 6, 'model__tree_method': 'hist', 'model__max_bin': 70}. Best is trial 6 with value: 0.8763816629963175.\n",
      "[I 2025-08-28 15:51:31,901] Trial 23 finished with value: 0.8776824200201657 and parameters: {'regressor': 'xgboost', 'model__gamma': 0, 'model__reg_lambda': 5.56526946017159, 'model__n_estimators': 125, 'model__eta': 0.19839546954832, 'model__min_child_weight': 13, 'model__subsample': 0.9923871134695471, 'model__colsample_bynode': 0.9996257050292229, 'model__max_depth': 5, 'model__tree_method': 'hist', 'model__max_bin': 154}. Best is trial 23 with value: 0.8776824200201657.\n",
      "[I 2025-08-28 15:51:32,404] Trial 16 finished with value: 0.7832903107497505 and parameters: {'regressor': 'xgboost', 'model__gamma': 7, 'model__reg_lambda': 2.33428101908777, 'model__n_estimators': 723, 'model__eta': 0.2735558690545395, 'model__min_child_weight': 1, 'model__subsample': 0.6730899718659804, 'model__colsample_bynode': 0.7916229234536416, 'model__max_depth': 5, 'model__tree_method': 'hist', 'model__max_bin': 156}. Best is trial 23 with value: 0.8776824200201657.\n",
      "[I 2025-08-28 15:51:32,485] Trial 3 finished with value: 0.8703630519511154 and parameters: {'regressor': 'xgboost', 'model__gamma': 0, 'model__reg_lambda': 3.0833598418243975, 'model__n_estimators': 625, 'model__eta': 0.39208105618495437, 'model__min_child_weight': 20, 'model__subsample': 0.986010590111869, 'model__colsample_bynode': 0.5298201464441881, 'model__max_depth': 6, 'model__tree_method': 'hist', 'model__max_bin': 131}. Best is trial 23 with value: 0.8776824200201657.\n",
      "[I 2025-08-28 15:51:32,659] Trial 24 finished with value: 0.8734423236646947 and parameters: {'regressor': 'xgboost', 'model__gamma': 0, 'model__reg_lambda': 5.915993314599903, 'model__n_estimators': 146, 'model__eta': 0.20695024951758934, 'model__min_child_weight': 13, 'model__subsample': 0.9970312649781989, 'model__colsample_bynode': 0.9966542727064869, 'model__max_depth': 5, 'model__tree_method': 'hist', 'model__max_bin': 64}. Best is trial 23 with value: 0.8776824200201657.\n",
      "[I 2025-08-28 15:51:32,932] Trial 12 finished with value: 0.7900911793262269 and parameters: {'regressor': 'xgboost', 'model__gamma': 6, 'model__reg_lambda': 0.5221204277677043, 'model__n_estimators': 853, 'model__eta': 0.022202872418928783, 'model__min_child_weight': 9, 'model__subsample': 0.7774026590370728, 'model__colsample_bynode': 0.6895978813655209, 'model__max_depth': 4, 'model__tree_method': 'hist', 'model__max_bin': 131}. Best is trial 23 with value: 0.8776824200201657.\n",
      "[I 2025-08-28 15:51:33,025] Trial 2 finished with value: 0.8742325465198603 and parameters: {'regressor': 'xgboost', 'model__gamma': 0, 'model__reg_lambda': 5.579774301393682, 'model__n_estimators': 640, 'model__eta': 0.307494956517284, 'model__min_child_weight': 15, 'model__subsample': 0.9057196695150035, 'model__colsample_bynode': 0.8926140416646813, 'model__max_depth': 6, 'model__tree_method': 'hist', 'model__max_bin': 204}. Best is trial 23 with value: 0.8776824200201657.\n",
      "[I 2025-08-28 15:51:33,103] Trial 20 finished with value: 0.7757154363852947 and parameters: {'regressor': 'xgboost', 'model__gamma': 8, 'model__reg_lambda': 3.9681693738964747, 'model__n_estimators': 495, 'model__eta': 0.1305591500207118, 'model__min_child_weight': 37, 'model__subsample': 0.6801916790037519, 'model__colsample_bynode': 0.8636899301252843, 'model__max_depth': 5, 'model__tree_method': 'hist', 'model__max_bin': 147}. Best is trial 23 with value: 0.8776824200201657.\n",
      "[I 2025-08-28 15:51:33,233] Trial 25 finished with value: 0.8763205875260776 and parameters: {'regressor': 'xgboost', 'model__gamma': 0, 'model__reg_lambda': 6.169910576117058, 'model__n_estimators': 110, 'model__eta': 0.208238918095096, 'model__min_child_weight': 13, 'model__subsample': 0.9848966070777894, 'model__colsample_bynode': 0.9857999935575137, 'model__max_depth': 5, 'model__tree_method': 'hist', 'model__max_bin': 184}. Best is trial 23 with value: 0.8776824200201657.\n",
      "[I 2025-08-28 15:51:34,214] Trial 19 finished with value: 0.8318456957136556 and parameters: {'regressor': 'xgboost', 'model__gamma': 1, 'model__reg_lambda': 5.87237020882525, 'model__n_estimators': 687, 'model__eta': 0.31565493367201447, 'model__min_child_weight': 8, 'model__subsample': 0.9335472358169512, 'model__colsample_bynode': 0.9299143528371216, 'model__max_depth': 6, 'model__tree_method': 'hist', 'model__max_bin': 125}. Best is trial 23 with value: 0.8776824200201657.\n",
      "[I 2025-08-28 15:51:35,751] Trial 26 finished with value: 0.8527080569664782 and parameters: {'regressor': 'xgboost', 'model__gamma': 0, 'model__reg_lambda': 4.323539856429001, 'model__n_estimators': 254, 'model__eta': 0.017981130693626585, 'model__min_child_weight': 11, 'model__subsample': 0.9777545249473081, 'model__colsample_bynode': 0.8222228488101175, 'model__max_depth': 5, 'model__tree_method': 'hist', 'model__max_bin': 71}. Best is trial 23 with value: 0.8776824200201657.\n",
      "[I 2025-08-28 15:51:36,289] Trial 29 finished with value: 0.834865987815331 and parameters: {'regressor': 'xgboost', 'model__gamma': 1, 'model__reg_lambda': 6.738534242069801, 'model__n_estimators': 294, 'model__eta': 0.2120438863676703, 'model__min_child_weight': 13, 'model__subsample': 0.9335695349610582, 'model__colsample_bynode': 0.9982045581649003, 'model__max_depth': 5, 'model__tree_method': 'hist', 'model__max_bin': 188}. Best is trial 23 with value: 0.8776824200201657.\n",
      "[I 2025-08-28 15:51:36,737] Trial 34 finished with value: 0.8205068690550608 and parameters: {'regressor': 'xgboost', 'model__gamma': 2, 'model__reg_lambda': 7.005748176368999, 'model__n_estimators': 279, 'model__eta': 0.21436805701216463, 'model__min_child_weight': 10, 'model__subsample': 0.9222140838109364, 'model__colsample_bynode': 0.9954114707988669, 'model__max_depth': 5, 'model__tree_method': 'hist', 'model__max_bin': 256}. Best is trial 23 with value: 0.8776824200201657.\n",
      "[I 2025-08-28 15:51:36,820] Trial 32 finished with value: 0.834915705243651 and parameters: {'regressor': 'xgboost', 'model__gamma': 1, 'model__reg_lambda': 4.556351962196121, 'model__n_estimators': 300, 'model__eta': 0.22548804531261832, 'model__min_child_weight': 9, 'model__subsample': 0.9239591421334719, 'model__colsample_bynode': 0.9899167565793073, 'model__max_depth': 5, 'model__tree_method': 'hist', 'model__max_bin': 186}. Best is trial 23 with value: 0.8776824200201657.\n",
      "[I 2025-08-28 15:51:37,020] Trial 31 finished with value: 0.8223487551709748 and parameters: {'regressor': 'xgboost', 'model__gamma': 2, 'model__reg_lambda': 4.484019887771036, 'model__n_estimators': 315, 'model__eta': 0.2072856524586875, 'model__min_child_weight': 9, 'model__subsample': 0.9279944328758797, 'model__colsample_bynode': 0.9787725522963805, 'model__max_depth': 5, 'model__tree_method': 'hist', 'model__max_bin': 182}. Best is trial 23 with value: 0.8776824200201657.\n",
      "[I 2025-08-28 15:51:37,073] Trial 33 finished with value: 0.8341368088376668 and parameters: {'regressor': 'xgboost', 'model__gamma': 1, 'model__reg_lambda': 7.039668559166937, 'model__n_estimators': 309, 'model__eta': 0.22901869781071155, 'model__min_child_weight': 12, 'model__subsample': 0.9303117424882361, 'model__colsample_bynode': 0.9978635941614954, 'model__max_depth': 5, 'model__tree_method': 'hist', 'model__max_bin': 195}. Best is trial 23 with value: 0.8776824200201657.\n",
      "[I 2025-08-28 15:51:37,074] Trial 30 finished with value: 0.8220363243031447 and parameters: {'regressor': 'xgboost', 'model__gamma': 2, 'model__reg_lambda': 4.409530323765898, 'model__n_estimators': 302, 'model__eta': 0.025821106307457514, 'model__min_child_weight': 9, 'model__subsample': 0.9085294503717454, 'model__colsample_bynode': 0.9981222880286313, 'model__max_depth': 5, 'model__tree_method': 'hist', 'model__max_bin': 185}. Best is trial 23 with value: 0.8776824200201657.\n",
      "[I 2025-08-28 15:51:37,296] Trial 27 finished with value: 0.8810512376496767 and parameters: {'regressor': 'xgboost', 'model__gamma': 0, 'model__reg_lambda': 4.716970961810881, 'model__n_estimators': 287, 'model__eta': 0.18893073322541407, 'model__min_child_weight': 10, 'model__subsample': 0.9988431986823604, 'model__colsample_bynode': 0.9937202996365887, 'model__max_depth': 5, 'model__tree_method': 'hist', 'model__max_bin': 197}. Best is trial 27 with value: 0.8810512376496767.\n",
      "[I 2025-08-28 15:51:37,739] Trial 28 finished with value: 0.8416627616361069 and parameters: {'regressor': 'xgboost', 'model__gamma': 0, 'model__reg_lambda': 6.711719043693021, 'model__n_estimators': 278, 'model__eta': 0.011603492354573808, 'model__min_child_weight': 11, 'model__subsample': 0.9949462709837238, 'model__colsample_bynode': 0.9998373053085761, 'model__max_depth': 5, 'model__tree_method': 'hist', 'model__max_bin': 188}. Best is trial 27 with value: 0.8810512376496767.\n",
      "[I 2025-08-28 15:51:38,093] Trial 36 finished with value: 0.819002001588987 and parameters: {'regressor': 'xgboost', 'model__gamma': 2, 'model__reg_lambda': 6.7396461706288795, 'model__n_estimators': 107, 'model__eta': 0.21396526415094733, 'model__min_child_weight': 29, 'model__subsample': 0.9285833779898051, 'model__colsample_bynode': 0.9885263731579708, 'model__max_depth': 5, 'model__tree_method': 'hist', 'model__max_bin': 184}. Best is trial 27 with value: 0.8810512376496767.\n",
      "[I 2025-08-28 15:51:38,305] Trial 35 finished with value: 0.8195603816463326 and parameters: {'regressor': 'xgboost', 'model__gamma': 2, 'model__reg_lambda': 7.105526436529507, 'model__n_estimators': 277, 'model__eta': 0.21970846572928926, 'model__min_child_weight': 11, 'model__subsample': 0.9313485326288932, 'model__colsample_bynode': 0.998484354848887, 'model__max_depth': 5, 'model__tree_method': 'hist', 'model__max_bin': 182}. Best is trial 27 with value: 0.8810512376496767.\n",
      "[I 2025-08-28 15:51:38,887] Trial 37 finished with value: 0.820229215530125 and parameters: {'regressor': 'xgboost', 'model__gamma': 2, 'model__reg_lambda': 7.070540761271565, 'model__n_estimators': 105, 'model__eta': 0.1895137855121378, 'model__min_child_weight': 7, 'model__subsample': 0.8673477113165688, 'model__colsample_bynode': 0.9611440901675277, 'model__max_depth': 5, 'model__tree_method': 'hist', 'model__max_bin': 252}. Best is trial 27 with value: 0.8810512376496767.\n",
      "[I 2025-08-28 15:51:39,463] Trial 39 finished with value: 0.8133658350709745 and parameters: {'regressor': 'xgboost', 'model__gamma': 2, 'model__reg_lambda': 4.98832681531616, 'model__n_estimators': 109, 'model__eta': 0.36627256941043873, 'model__min_child_weight': 29, 'model__subsample': 0.8770077167998748, 'model__colsample_bynode': 0.9547061376230876, 'model__max_depth': 4, 'model__tree_method': 'hist', 'model__max_bin': 175}. Best is trial 27 with value: 0.8810512376496767.\n",
      "[I 2025-08-28 15:51:40,030] Trial 43 finished with value: 0.7673733084172657 and parameters: {'regressor': 'xgboost', 'model__gamma': 10, 'model__reg_lambda': 5.075307717495749, 'model__n_estimators': 111, 'model__eta': 0.1500155111379275, 'model__min_child_weight': 29, 'model__subsample': 0.8625489360252867, 'model__colsample_bynode': 0.9706926847659993, 'model__max_depth': 4, 'model__tree_method': 'hist', 'model__max_bin': 169}. Best is trial 27 with value: 0.8810512376496767.\n",
      "[I 2025-08-28 15:51:40,194] Trial 44 finished with value: 0.7668077457155321 and parameters: {'regressor': 'xgboost', 'model__gamma': 10, 'model__reg_lambda': 9.82106854406561, 'model__n_estimators': 102, 'model__eta': 0.16109298297924768, 'model__min_child_weight': 5, 'model__subsample': 0.8615486208432049, 'model__colsample_bynode': 0.945275384648893, 'model__max_depth': 4, 'model__tree_method': 'hist', 'model__max_bin': 167}. Best is trial 27 with value: 0.8810512376496767.\n",
      "[I 2025-08-28 15:51:40,284] Trial 41 finished with value: 0.8694809523796456 and parameters: {'regressor': 'xgboost', 'model__gamma': 0, 'model__reg_lambda': 5.292154442519847, 'model__n_estimators': 104, 'model__eta': 0.35659545492991623, 'model__min_child_weight': 17, 'model__subsample': 0.871874293631051, 'model__colsample_bynode': 0.9511471715592816, 'model__max_depth': 4, 'model__tree_method': 'hist', 'model__max_bin': 215}. Best is trial 27 with value: 0.8810512376496767.\n",
      "[I 2025-08-28 15:51:40,317] Trial 42 finished with value: 0.8668961028266974 and parameters: {'regressor': 'xgboost', 'model__gamma': 0, 'model__reg_lambda': 5.399856817814609, 'model__n_estimators': 109, 'model__eta': 0.1506813681018892, 'model__min_child_weight': 16, 'model__subsample': 0.8755159858112291, 'model__colsample_bynode': 0.9414872617234427, 'model__max_depth': 4, 'model__tree_method': 'hist', 'model__max_bin': 214}. Best is trial 27 with value: 0.8810512376496767.\n",
      "[I 2025-08-28 15:51:40,319] Trial 22 finished with value: 0.8678780028647191 and parameters: {'regressor': 'xgboost', 'model__gamma': 0, 'model__reg_lambda': 6.242464284753817, 'model__n_estimators': 618, 'model__eta': 0.37883177235519144, 'model__min_child_weight': 39, 'model__subsample': 0.9979284330164112, 'model__colsample_bynode': 0.9980605362734578, 'model__max_depth': 6, 'model__tree_method': 'hist', 'model__max_bin': 188}. Best is trial 27 with value: 0.8810512376496767.\n",
      "[I 2025-08-28 15:51:41,148] Trial 38 finished with value: 0.8188662570131908 and parameters: {'regressor': 'xgboost', 'model__gamma': 2, 'model__reg_lambda': 5.023755634660553, 'model__n_estimators': 370, 'model__eta': 0.25367782828223445, 'model__min_child_weight': 31, 'model__subsample': 0.868565633916321, 'model__colsample_bynode': 0.9555744500951272, 'model__max_depth': 5, 'model__tree_method': 'hist', 'model__max_bin': 182}. Best is trial 27 with value: 0.8810512376496767.\n",
      "[I 2025-08-28 15:51:41,302] Trial 40 finished with value: 0.8113873013749064 and parameters: {'regressor': 'xgboost', 'model__gamma': 3, 'model__reg_lambda': 5.143204164109171, 'model__n_estimators': 385, 'model__eta': 0.15752732465294336, 'model__min_child_weight': 30, 'model__subsample': 0.8750188953548157, 'model__colsample_bynode': 0.9465550457057639, 'model__max_depth': 4, 'model__tree_method': 'hist', 'model__max_bin': 212}. Best is trial 27 with value: 0.8810512376496767.\n",
      "[I 2025-08-28 15:51:41,630] Trial 46 finished with value: 0.7667702768305344 and parameters: {'regressor': 'xgboost', 'model__gamma': 10, 'model__reg_lambda': 5.2965149931908035, 'model__n_estimators': 399, 'model__eta': 0.15408184736954628, 'model__min_child_weight': 18, 'model__subsample': 0.8700819750862374, 'model__colsample_bynode': 0.9504371119706515, 'model__max_depth': 4, 'model__tree_method': 'hist', 'model__max_bin': 171}. Best is trial 27 with value: 0.8810512376496767.\n",
      "[I 2025-08-28 15:51:42,311] Trial 45 finished with value: 0.8805145980249021 and parameters: {'regressor': 'xgboost', 'model__gamma': 0, 'model__reg_lambda': 5.1418906161268145, 'model__n_estimators': 377, 'model__eta': 0.17354052983623866, 'model__min_child_weight': 18, 'model__subsample': 0.8716135184752436, 'model__colsample_bynode': 0.9482867812138654, 'model__max_depth': 4, 'model__tree_method': 'hist', 'model__max_bin': 171}. Best is trial 27 with value: 0.8810512376496767.\n",
      "[I 2025-08-28 15:51:42,429] Trial 47 finished with value: 0.8813979550995381 and parameters: {'regressor': 'xgboost', 'model__gamma': 0, 'model__reg_lambda': 5.344362124446211, 'model__n_estimators': 381, 'model__eta': 0.15928244596415175, 'model__min_child_weight': 18, 'model__subsample': 0.8777139152416464, 'model__colsample_bynode': 0.9487130235618204, 'model__max_depth': 4, 'model__tree_method': 'hist', 'model__max_bin': 170}. Best is trial 47 with value: 0.8813979550995381.\n",
      "[I 2025-08-28 15:51:42,520] Trial 21 finished with value: 0.8716137917443462 and parameters: {'regressor': 'xgboost', 'model__gamma': 0, 'model__reg_lambda': 5.486235318268309, 'model__n_estimators': 996, 'model__eta': 0.013203907865401238, 'model__min_child_weight': 12, 'model__subsample': 0.9778086100595703, 'model__colsample_bynode': 0.9938209168469745, 'model__max_depth': 5, 'model__tree_method': 'hist', 'model__max_bin': 175}. Best is trial 47 with value: 0.8813979550995381.\n",
      "[I 2025-08-28 15:51:42,574] Trial 48 finished with value: 0.8781088703329203 and parameters: {'regressor': 'xgboost', 'model__gamma': 0, 'model__reg_lambda': 5.556366585994813, 'model__n_estimators': 375, 'model__eta': 0.14752899529596367, 'model__min_child_weight': 18, 'model__subsample': 0.9637227927480404, 'model__colsample_bynode': 0.9452467008595863, 'model__max_depth': 4, 'model__tree_method': 'hist', 'model__max_bin': 214}. Best is trial 47 with value: 0.8813979550995381.\n",
      "[I 2025-08-28 15:51:42,814] Trial 49 finished with value: 0.8773188811973999 and parameters: {'regressor': 'xgboost', 'model__gamma': 0, 'model__reg_lambda': 9.954128394230622, 'model__n_estimators': 387, 'model__eta': 0.07947602045833523, 'model__min_child_weight': 22, 'model__subsample': 0.964052181124914, 'model__colsample_bynode': 0.9380465977576801, 'model__max_depth': 6, 'model__tree_method': 'hist', 'model__max_bin': 215}. Best is trial 47 with value: 0.8813979550995381.\n"
     ]
    },
    {
     "name": "stdout",
     "output_type": "stream",
     "text": [
      "Best Cross Val Training accuracy: 0.8813979550995381\n"
     ]
    }
   ],
   "source": [
    "study = optuna.create_study(direction='maximize',sampler=optuna.samplers.TPESampler(seed=0))\n",
    "study.optimize(objective,n_trials=50,n_jobs=-1)\n",
    "\n",
    "best_params = study.best_params\n",
    "best_score = study.best_value\n",
    "\n",
    "\n",
    "print(f\"Best Cross Val Training score: {best_score}\")\n"
   ]
  },
  {
   "cell_type": "code",
   "execution_count": 89,
   "id": "0374d134",
   "metadata": {},
   "outputs": [
    {
     "data": {
      "text/plain": [
       "{'regressor': 'xgboost',\n",
       " 'model__gamma': 0,\n",
       " 'model__reg_lambda': 5.344362124446211,\n",
       " 'model__n_estimators': 381,\n",
       " 'model__eta': 0.15928244596415175,\n",
       " 'model__min_child_weight': 18,\n",
       " 'model__subsample': 0.8777139152416464,\n",
       " 'model__colsample_bynode': 0.9487130235618204,\n",
       " 'model__max_depth': 4,\n",
       " 'model__tree_method': 'hist',\n",
       " 'model__max_bin': 170}"
      ]
     },
     "execution_count": 89,
     "metadata": {},
     "output_type": "execute_result"
    }
   ],
   "source": [
    "study.best_params"
   ]
  },
  {
   "cell_type": "code",
   "execution_count": 90,
   "id": "07f43b71",
   "metadata": {},
   "outputs": [
    {
     "data": {
      "text/plain": [
       "0.8813979550995381"
      ]
     },
     "execution_count": 90,
     "metadata": {},
     "output_type": "execute_result"
    }
   ],
   "source": [
    "study.best_value"
   ]
  },
  {
   "cell_type": "code",
   "execution_count": null,
   "id": "6a30401f",
   "metadata": {},
   "outputs": [
    {
     "name": "stdout",
     "output_type": "stream",
     "text": [
      "Test_r2_score:0.8382921571080147\n",
      "Test_mse_score:1.044808453068846\n",
      "Test_mae_score:0.49423883482119807\n"
     ]
    }
   ],
   "source": [
    "final_model = study.best_trial.user_attrs['model']\n",
    "final_model.fit(x_train,y_train)\n",
    "y_pred = final_model.predict(x_test)\n",
    "\n",
    "y_pred = np.expm1(y_pred)\n",
    "\n",
    "\n",
    "print(f\"Test_r2_score:{r2_score(np.expm1(y_test), y_pred)}\")\n",
    "print(f\"Test_mse_score:{mean_squared_error(np.expm1(y_test), y_pred)}\")\n",
    "\n",
    "print(f\"Test_mae_score:{mean_absolute_error(np.expm1(y_test), y_pred)}\")\n"
   ]
  },
  {
   "cell_type": "code",
   "execution_count": 93,
   "id": "87e2ba90",
   "metadata": {},
   "outputs": [
    {
     "data": {
      "application/vnd.plotly.v1+json": {
       "config": {
        "plotlyServerURL": "https://plot.ly"
       },
       "data": [
        {
         "mode": "markers",
         "name": "Objective Value",
         "type": "scatter",
         "x": [
          0,
          1,
          2,
          3,
          4,
          5,
          6,
          7,
          8,
          9,
          10,
          11,
          12,
          13,
          14,
          15,
          16,
          17,
          18,
          19,
          20,
          21,
          22,
          23,
          24,
          25,
          26,
          27,
          28,
          29,
          30,
          31,
          32,
          33,
          34,
          35,
          36,
          37,
          38,
          39,
          40,
          41,
          42,
          43,
          44,
          45,
          46,
          47,
          48,
          49
         ],
         "y": [
          0.7729263758710296,
          0.7937056099895359,
          0.8742325465198603,
          0.8703630519511154,
          0.7958493175382817,
          0.7746682041957743,
          0.8763816629963175,
          0.7980720152378438,
          0.8017000786232147,
          0.7997428676326106,
          0.8051127542881288,
          0.7736146143599238,
          0.7900911793262269,
          0.8134062699180538,
          0.7839279130577747,
          0.7852761789074714,
          0.7832903107497505,
          0.8576562374472214,
          0.8266504747212118,
          0.8318456957136556,
          0.7757154363852947,
          0.8716137917443462,
          0.8678780028647191,
          0.8776824200201657,
          0.8734423236646947,
          0.8763205875260776,
          0.8527080569664782,
          0.8810512376496767,
          0.8416627616361069,
          0.834865987815331,
          0.8220363243031447,
          0.8223487551709748,
          0.834915705243651,
          0.8341368088376668,
          0.8205068690550608,
          0.8195603816463326,
          0.819002001588987,
          0.820229215530125,
          0.8188662570131908,
          0.8133658350709745,
          0.8113873013749064,
          0.8694809523796456,
          0.8668961028266974,
          0.7673733084172657,
          0.7668077457155321,
          0.8805145980249021,
          0.7667702768305344,
          0.8813979550995381,
          0.8781088703329203,
          0.8773188811973999
         ]
        },
        {
         "mode": "lines",
         "name": "Best Value",
         "type": "scatter",
         "x": [
          0,
          1,
          2,
          3,
          4,
          5,
          6,
          7,
          8,
          9,
          10,
          11,
          12,
          13,
          14,
          15,
          16,
          17,
          18,
          19,
          20,
          21,
          22,
          23,
          24,
          25,
          26,
          27,
          28,
          29,
          30,
          31,
          32,
          33,
          34,
          35,
          36,
          37,
          38,
          39,
          40,
          41,
          42,
          43,
          44,
          45,
          46,
          47,
          48,
          49
         ],
         "y": [
          0.7729263758710296,
          0.7937056099895359,
          0.8742325465198603,
          0.8742325465198603,
          0.8742325465198603,
          0.8742325465198603,
          0.8763816629963175,
          0.8763816629963175,
          0.8763816629963175,
          0.8763816629963175,
          0.8763816629963175,
          0.8763816629963175,
          0.8763816629963175,
          0.8763816629963175,
          0.8763816629963175,
          0.8763816629963175,
          0.8763816629963175,
          0.8763816629963175,
          0.8763816629963175,
          0.8763816629963175,
          0.8763816629963175,
          0.8763816629963175,
          0.8763816629963175,
          0.8776824200201657,
          0.8776824200201657,
          0.8776824200201657,
          0.8776824200201657,
          0.8810512376496767,
          0.8810512376496767,
          0.8810512376496767,
          0.8810512376496767,
          0.8810512376496767,
          0.8810512376496767,
          0.8810512376496767,
          0.8810512376496767,
          0.8810512376496767,
          0.8810512376496767,
          0.8810512376496767,
          0.8810512376496767,
          0.8810512376496767,
          0.8810512376496767,
          0.8810512376496767,
          0.8810512376496767,
          0.8810512376496767,
          0.8810512376496767,
          0.8810512376496767,
          0.8810512376496767,
          0.8813979550995381,
          0.8813979550995381,
          0.8813979550995381
         ]
        },
        {
         "marker": {
          "color": "#cccccc"
         },
         "mode": "markers",
         "name": "Infeasible Trial",
         "showlegend": false,
         "type": "scatter",
         "x": [],
         "y": []
        }
       ],
       "layout": {
        "template": {
         "data": {
          "bar": [
           {
            "error_x": {
             "color": "#2a3f5f"
            },
            "error_y": {
             "color": "#2a3f5f"
            },
            "marker": {
             "line": {
              "color": "#E5ECF6",
              "width": 0.5
             },
             "pattern": {
              "fillmode": "overlay",
              "size": 10,
              "solidity": 0.2
             }
            },
            "type": "bar"
           }
          ],
          "barpolar": [
           {
            "marker": {
             "line": {
              "color": "#E5ECF6",
              "width": 0.5
             },
             "pattern": {
              "fillmode": "overlay",
              "size": 10,
              "solidity": 0.2
             }
            },
            "type": "barpolar"
           }
          ],
          "carpet": [
           {
            "aaxis": {
             "endlinecolor": "#2a3f5f",
             "gridcolor": "white",
             "linecolor": "white",
             "minorgridcolor": "white",
             "startlinecolor": "#2a3f5f"
            },
            "baxis": {
             "endlinecolor": "#2a3f5f",
             "gridcolor": "white",
             "linecolor": "white",
             "minorgridcolor": "white",
             "startlinecolor": "#2a3f5f"
            },
            "type": "carpet"
           }
          ],
          "choropleth": [
           {
            "colorbar": {
             "outlinewidth": 0,
             "ticks": ""
            },
            "type": "choropleth"
           }
          ],
          "contour": [
           {
            "colorbar": {
             "outlinewidth": 0,
             "ticks": ""
            },
            "colorscale": [
             [
              0,
              "#0d0887"
             ],
             [
              0.1111111111111111,
              "#46039f"
             ],
             [
              0.2222222222222222,
              "#7201a8"
             ],
             [
              0.3333333333333333,
              "#9c179e"
             ],
             [
              0.4444444444444444,
              "#bd3786"
             ],
             [
              0.5555555555555556,
              "#d8576b"
             ],
             [
              0.6666666666666666,
              "#ed7953"
             ],
             [
              0.7777777777777778,
              "#fb9f3a"
             ],
             [
              0.8888888888888888,
              "#fdca26"
             ],
             [
              1,
              "#f0f921"
             ]
            ],
            "type": "contour"
           }
          ],
          "contourcarpet": [
           {
            "colorbar": {
             "outlinewidth": 0,
             "ticks": ""
            },
            "type": "contourcarpet"
           }
          ],
          "heatmap": [
           {
            "colorbar": {
             "outlinewidth": 0,
             "ticks": ""
            },
            "colorscale": [
             [
              0,
              "#0d0887"
             ],
             [
              0.1111111111111111,
              "#46039f"
             ],
             [
              0.2222222222222222,
              "#7201a8"
             ],
             [
              0.3333333333333333,
              "#9c179e"
             ],
             [
              0.4444444444444444,
              "#bd3786"
             ],
             [
              0.5555555555555556,
              "#d8576b"
             ],
             [
              0.6666666666666666,
              "#ed7953"
             ],
             [
              0.7777777777777778,
              "#fb9f3a"
             ],
             [
              0.8888888888888888,
              "#fdca26"
             ],
             [
              1,
              "#f0f921"
             ]
            ],
            "type": "heatmap"
           }
          ],
          "histogram": [
           {
            "marker": {
             "pattern": {
              "fillmode": "overlay",
              "size": 10,
              "solidity": 0.2
             }
            },
            "type": "histogram"
           }
          ],
          "histogram2d": [
           {
            "colorbar": {
             "outlinewidth": 0,
             "ticks": ""
            },
            "colorscale": [
             [
              0,
              "#0d0887"
             ],
             [
              0.1111111111111111,
              "#46039f"
             ],
             [
              0.2222222222222222,
              "#7201a8"
             ],
             [
              0.3333333333333333,
              "#9c179e"
             ],
             [
              0.4444444444444444,
              "#bd3786"
             ],
             [
              0.5555555555555556,
              "#d8576b"
             ],
             [
              0.6666666666666666,
              "#ed7953"
             ],
             [
              0.7777777777777778,
              "#fb9f3a"
             ],
             [
              0.8888888888888888,
              "#fdca26"
             ],
             [
              1,
              "#f0f921"
             ]
            ],
            "type": "histogram2d"
           }
          ],
          "histogram2dcontour": [
           {
            "colorbar": {
             "outlinewidth": 0,
             "ticks": ""
            },
            "colorscale": [
             [
              0,
              "#0d0887"
             ],
             [
              0.1111111111111111,
              "#46039f"
             ],
             [
              0.2222222222222222,
              "#7201a8"
             ],
             [
              0.3333333333333333,
              "#9c179e"
             ],
             [
              0.4444444444444444,
              "#bd3786"
             ],
             [
              0.5555555555555556,
              "#d8576b"
             ],
             [
              0.6666666666666666,
              "#ed7953"
             ],
             [
              0.7777777777777778,
              "#fb9f3a"
             ],
             [
              0.8888888888888888,
              "#fdca26"
             ],
             [
              1,
              "#f0f921"
             ]
            ],
            "type": "histogram2dcontour"
           }
          ],
          "mesh3d": [
           {
            "colorbar": {
             "outlinewidth": 0,
             "ticks": ""
            },
            "type": "mesh3d"
           }
          ],
          "parcoords": [
           {
            "line": {
             "colorbar": {
              "outlinewidth": 0,
              "ticks": ""
             }
            },
            "type": "parcoords"
           }
          ],
          "pie": [
           {
            "automargin": true,
            "type": "pie"
           }
          ],
          "scatter": [
           {
            "fillpattern": {
             "fillmode": "overlay",
             "size": 10,
             "solidity": 0.2
            },
            "type": "scatter"
           }
          ],
          "scatter3d": [
           {
            "line": {
             "colorbar": {
              "outlinewidth": 0,
              "ticks": ""
             }
            },
            "marker": {
             "colorbar": {
              "outlinewidth": 0,
              "ticks": ""
             }
            },
            "type": "scatter3d"
           }
          ],
          "scattercarpet": [
           {
            "marker": {
             "colorbar": {
              "outlinewidth": 0,
              "ticks": ""
             }
            },
            "type": "scattercarpet"
           }
          ],
          "scattergeo": [
           {
            "marker": {
             "colorbar": {
              "outlinewidth": 0,
              "ticks": ""
             }
            },
            "type": "scattergeo"
           }
          ],
          "scattergl": [
           {
            "marker": {
             "colorbar": {
              "outlinewidth": 0,
              "ticks": ""
             }
            },
            "type": "scattergl"
           }
          ],
          "scattermap": [
           {
            "marker": {
             "colorbar": {
              "outlinewidth": 0,
              "ticks": ""
             }
            },
            "type": "scattermap"
           }
          ],
          "scattermapbox": [
           {
            "marker": {
             "colorbar": {
              "outlinewidth": 0,
              "ticks": ""
             }
            },
            "type": "scattermapbox"
           }
          ],
          "scatterpolar": [
           {
            "marker": {
             "colorbar": {
              "outlinewidth": 0,
              "ticks": ""
             }
            },
            "type": "scatterpolar"
           }
          ],
          "scatterpolargl": [
           {
            "marker": {
             "colorbar": {
              "outlinewidth": 0,
              "ticks": ""
             }
            },
            "type": "scatterpolargl"
           }
          ],
          "scatterternary": [
           {
            "marker": {
             "colorbar": {
              "outlinewidth": 0,
              "ticks": ""
             }
            },
            "type": "scatterternary"
           }
          ],
          "surface": [
           {
            "colorbar": {
             "outlinewidth": 0,
             "ticks": ""
            },
            "colorscale": [
             [
              0,
              "#0d0887"
             ],
             [
              0.1111111111111111,
              "#46039f"
             ],
             [
              0.2222222222222222,
              "#7201a8"
             ],
             [
              0.3333333333333333,
              "#9c179e"
             ],
             [
              0.4444444444444444,
              "#bd3786"
             ],
             [
              0.5555555555555556,
              "#d8576b"
             ],
             [
              0.6666666666666666,
              "#ed7953"
             ],
             [
              0.7777777777777778,
              "#fb9f3a"
             ],
             [
              0.8888888888888888,
              "#fdca26"
             ],
             [
              1,
              "#f0f921"
             ]
            ],
            "type": "surface"
           }
          ],
          "table": [
           {
            "cells": {
             "fill": {
              "color": "#EBF0F8"
             },
             "line": {
              "color": "white"
             }
            },
            "header": {
             "fill": {
              "color": "#C8D4E3"
             },
             "line": {
              "color": "white"
             }
            },
            "type": "table"
           }
          ]
         },
         "layout": {
          "annotationdefaults": {
           "arrowcolor": "#2a3f5f",
           "arrowhead": 0,
           "arrowwidth": 1
          },
          "autotypenumbers": "strict",
          "coloraxis": {
           "colorbar": {
            "outlinewidth": 0,
            "ticks": ""
           }
          },
          "colorscale": {
           "diverging": [
            [
             0,
             "#8e0152"
            ],
            [
             0.1,
             "#c51b7d"
            ],
            [
             0.2,
             "#de77ae"
            ],
            [
             0.3,
             "#f1b6da"
            ],
            [
             0.4,
             "#fde0ef"
            ],
            [
             0.5,
             "#f7f7f7"
            ],
            [
             0.6,
             "#e6f5d0"
            ],
            [
             0.7,
             "#b8e186"
            ],
            [
             0.8,
             "#7fbc41"
            ],
            [
             0.9,
             "#4d9221"
            ],
            [
             1,
             "#276419"
            ]
           ],
           "sequential": [
            [
             0,
             "#0d0887"
            ],
            [
             0.1111111111111111,
             "#46039f"
            ],
            [
             0.2222222222222222,
             "#7201a8"
            ],
            [
             0.3333333333333333,
             "#9c179e"
            ],
            [
             0.4444444444444444,
             "#bd3786"
            ],
            [
             0.5555555555555556,
             "#d8576b"
            ],
            [
             0.6666666666666666,
             "#ed7953"
            ],
            [
             0.7777777777777778,
             "#fb9f3a"
            ],
            [
             0.8888888888888888,
             "#fdca26"
            ],
            [
             1,
             "#f0f921"
            ]
           ],
           "sequentialminus": [
            [
             0,
             "#0d0887"
            ],
            [
             0.1111111111111111,
             "#46039f"
            ],
            [
             0.2222222222222222,
             "#7201a8"
            ],
            [
             0.3333333333333333,
             "#9c179e"
            ],
            [
             0.4444444444444444,
             "#bd3786"
            ],
            [
             0.5555555555555556,
             "#d8576b"
            ],
            [
             0.6666666666666666,
             "#ed7953"
            ],
            [
             0.7777777777777778,
             "#fb9f3a"
            ],
            [
             0.8888888888888888,
             "#fdca26"
            ],
            [
             1,
             "#f0f921"
            ]
           ]
          },
          "colorway": [
           "#636efa",
           "#EF553B",
           "#00cc96",
           "#ab63fa",
           "#FFA15A",
           "#19d3f3",
           "#FF6692",
           "#B6E880",
           "#FF97FF",
           "#FECB52"
          ],
          "font": {
           "color": "#2a3f5f"
          },
          "geo": {
           "bgcolor": "white",
           "lakecolor": "white",
           "landcolor": "#E5ECF6",
           "showlakes": true,
           "showland": true,
           "subunitcolor": "white"
          },
          "hoverlabel": {
           "align": "left"
          },
          "hovermode": "closest",
          "mapbox": {
           "style": "light"
          },
          "paper_bgcolor": "white",
          "plot_bgcolor": "#E5ECF6",
          "polar": {
           "angularaxis": {
            "gridcolor": "white",
            "linecolor": "white",
            "ticks": ""
           },
           "bgcolor": "#E5ECF6",
           "radialaxis": {
            "gridcolor": "white",
            "linecolor": "white",
            "ticks": ""
           }
          },
          "scene": {
           "xaxis": {
            "backgroundcolor": "#E5ECF6",
            "gridcolor": "white",
            "gridwidth": 2,
            "linecolor": "white",
            "showbackground": true,
            "ticks": "",
            "zerolinecolor": "white"
           },
           "yaxis": {
            "backgroundcolor": "#E5ECF6",
            "gridcolor": "white",
            "gridwidth": 2,
            "linecolor": "white",
            "showbackground": true,
            "ticks": "",
            "zerolinecolor": "white"
           },
           "zaxis": {
            "backgroundcolor": "#E5ECF6",
            "gridcolor": "white",
            "gridwidth": 2,
            "linecolor": "white",
            "showbackground": true,
            "ticks": "",
            "zerolinecolor": "white"
           }
          },
          "shapedefaults": {
           "line": {
            "color": "#2a3f5f"
           }
          },
          "ternary": {
           "aaxis": {
            "gridcolor": "white",
            "linecolor": "white",
            "ticks": ""
           },
           "baxis": {
            "gridcolor": "white",
            "linecolor": "white",
            "ticks": ""
           },
           "bgcolor": "#E5ECF6",
           "caxis": {
            "gridcolor": "white",
            "linecolor": "white",
            "ticks": ""
           }
          },
          "title": {
           "x": 0.05
          },
          "xaxis": {
           "automargin": true,
           "gridcolor": "white",
           "linecolor": "white",
           "ticks": "",
           "title": {
            "standoff": 15
           },
           "zerolinecolor": "white",
           "zerolinewidth": 2
          },
          "yaxis": {
           "automargin": true,
           "gridcolor": "white",
           "linecolor": "white",
           "ticks": "",
           "title": {
            "standoff": 15
           },
           "zerolinecolor": "white",
           "zerolinewidth": 2
          }
         }
        },
        "title": {
         "text": "Optimization History Plot"
        },
        "xaxis": {
         "title": {
          "text": "Trial"
         }
        },
        "yaxis": {
         "title": {
          "text": "Objective Value"
         }
        }
       }
      }
     },
     "metadata": {},
     "output_type": "display_data"
    },
    {
     "data": {
      "application/vnd.plotly.v1+json": {
       "config": {
        "plotlyServerURL": "https://plot.ly"
       },
       "data": [
        {
         "cliponaxis": false,
         "hovertemplate": [
          "model__tree_method (CategoricalDistribution): 0.0<extra></extra>",
          "regressor (CategoricalDistribution): 0.0<extra></extra>",
          "model__max_depth (IntDistribution): 0.0005530211764582109<extra></extra>",
          "model__reg_lambda (FloatDistribution): 0.000724614134812845<extra></extra>",
          "model__min_child_weight (IntDistribution): 0.0011940071371140696<extra></extra>",
          "model__eta (FloatDistribution): 0.0018043341050596527<extra></extra>",
          "model__colsample_bynode (FloatDistribution): 0.0019828180857521197<extra></extra>",
          "model__subsample (FloatDistribution): 0.0030000460899055237<extra></extra>",
          "model__max_bin (IntDistribution): 0.004294267679620901<extra></extra>",
          "model__n_estimators (IntDistribution): 0.004494436269514785<extra></extra>",
          "model__gamma (IntDistribution): 0.9819524553217619<extra></extra>"
         ],
         "name": "Objective Value",
         "orientation": "h",
         "text": [
          "<0.01",
          "<0.01",
          "<0.01",
          "<0.01",
          "<0.01",
          "<0.01",
          "<0.01",
          "<0.01",
          "<0.01",
          "<0.01",
          "0.98"
         ],
         "textposition": "outside",
         "type": "bar",
         "x": [
          0,
          0,
          0.0005530211764582109,
          0.000724614134812845,
          0.0011940071371140696,
          0.0018043341050596527,
          0.0019828180857521197,
          0.0030000460899055237,
          0.004294267679620901,
          0.004494436269514785,
          0.9819524553217619
         ],
         "y": [
          "model__tree_method",
          "regressor",
          "model__max_depth",
          "model__reg_lambda",
          "model__min_child_weight",
          "model__eta",
          "model__colsample_bynode",
          "model__subsample",
          "model__max_bin",
          "model__n_estimators",
          "model__gamma"
         ]
        }
       ],
       "layout": {
        "template": {
         "data": {
          "bar": [
           {
            "error_x": {
             "color": "#2a3f5f"
            },
            "error_y": {
             "color": "#2a3f5f"
            },
            "marker": {
             "line": {
              "color": "#E5ECF6",
              "width": 0.5
             },
             "pattern": {
              "fillmode": "overlay",
              "size": 10,
              "solidity": 0.2
             }
            },
            "type": "bar"
           }
          ],
          "barpolar": [
           {
            "marker": {
             "line": {
              "color": "#E5ECF6",
              "width": 0.5
             },
             "pattern": {
              "fillmode": "overlay",
              "size": 10,
              "solidity": 0.2
             }
            },
            "type": "barpolar"
           }
          ],
          "carpet": [
           {
            "aaxis": {
             "endlinecolor": "#2a3f5f",
             "gridcolor": "white",
             "linecolor": "white",
             "minorgridcolor": "white",
             "startlinecolor": "#2a3f5f"
            },
            "baxis": {
             "endlinecolor": "#2a3f5f",
             "gridcolor": "white",
             "linecolor": "white",
             "minorgridcolor": "white",
             "startlinecolor": "#2a3f5f"
            },
            "type": "carpet"
           }
          ],
          "choropleth": [
           {
            "colorbar": {
             "outlinewidth": 0,
             "ticks": ""
            },
            "type": "choropleth"
           }
          ],
          "contour": [
           {
            "colorbar": {
             "outlinewidth": 0,
             "ticks": ""
            },
            "colorscale": [
             [
              0,
              "#0d0887"
             ],
             [
              0.1111111111111111,
              "#46039f"
             ],
             [
              0.2222222222222222,
              "#7201a8"
             ],
             [
              0.3333333333333333,
              "#9c179e"
             ],
             [
              0.4444444444444444,
              "#bd3786"
             ],
             [
              0.5555555555555556,
              "#d8576b"
             ],
             [
              0.6666666666666666,
              "#ed7953"
             ],
             [
              0.7777777777777778,
              "#fb9f3a"
             ],
             [
              0.8888888888888888,
              "#fdca26"
             ],
             [
              1,
              "#f0f921"
             ]
            ],
            "type": "contour"
           }
          ],
          "contourcarpet": [
           {
            "colorbar": {
             "outlinewidth": 0,
             "ticks": ""
            },
            "type": "contourcarpet"
           }
          ],
          "heatmap": [
           {
            "colorbar": {
             "outlinewidth": 0,
             "ticks": ""
            },
            "colorscale": [
             [
              0,
              "#0d0887"
             ],
             [
              0.1111111111111111,
              "#46039f"
             ],
             [
              0.2222222222222222,
              "#7201a8"
             ],
             [
              0.3333333333333333,
              "#9c179e"
             ],
             [
              0.4444444444444444,
              "#bd3786"
             ],
             [
              0.5555555555555556,
              "#d8576b"
             ],
             [
              0.6666666666666666,
              "#ed7953"
             ],
             [
              0.7777777777777778,
              "#fb9f3a"
             ],
             [
              0.8888888888888888,
              "#fdca26"
             ],
             [
              1,
              "#f0f921"
             ]
            ],
            "type": "heatmap"
           }
          ],
          "histogram": [
           {
            "marker": {
             "pattern": {
              "fillmode": "overlay",
              "size": 10,
              "solidity": 0.2
             }
            },
            "type": "histogram"
           }
          ],
          "histogram2d": [
           {
            "colorbar": {
             "outlinewidth": 0,
             "ticks": ""
            },
            "colorscale": [
             [
              0,
              "#0d0887"
             ],
             [
              0.1111111111111111,
              "#46039f"
             ],
             [
              0.2222222222222222,
              "#7201a8"
             ],
             [
              0.3333333333333333,
              "#9c179e"
             ],
             [
              0.4444444444444444,
              "#bd3786"
             ],
             [
              0.5555555555555556,
              "#d8576b"
             ],
             [
              0.6666666666666666,
              "#ed7953"
             ],
             [
              0.7777777777777778,
              "#fb9f3a"
             ],
             [
              0.8888888888888888,
              "#fdca26"
             ],
             [
              1,
              "#f0f921"
             ]
            ],
            "type": "histogram2d"
           }
          ],
          "histogram2dcontour": [
           {
            "colorbar": {
             "outlinewidth": 0,
             "ticks": ""
            },
            "colorscale": [
             [
              0,
              "#0d0887"
             ],
             [
              0.1111111111111111,
              "#46039f"
             ],
             [
              0.2222222222222222,
              "#7201a8"
             ],
             [
              0.3333333333333333,
              "#9c179e"
             ],
             [
              0.4444444444444444,
              "#bd3786"
             ],
             [
              0.5555555555555556,
              "#d8576b"
             ],
             [
              0.6666666666666666,
              "#ed7953"
             ],
             [
              0.7777777777777778,
              "#fb9f3a"
             ],
             [
              0.8888888888888888,
              "#fdca26"
             ],
             [
              1,
              "#f0f921"
             ]
            ],
            "type": "histogram2dcontour"
           }
          ],
          "mesh3d": [
           {
            "colorbar": {
             "outlinewidth": 0,
             "ticks": ""
            },
            "type": "mesh3d"
           }
          ],
          "parcoords": [
           {
            "line": {
             "colorbar": {
              "outlinewidth": 0,
              "ticks": ""
             }
            },
            "type": "parcoords"
           }
          ],
          "pie": [
           {
            "automargin": true,
            "type": "pie"
           }
          ],
          "scatter": [
           {
            "fillpattern": {
             "fillmode": "overlay",
             "size": 10,
             "solidity": 0.2
            },
            "type": "scatter"
           }
          ],
          "scatter3d": [
           {
            "line": {
             "colorbar": {
              "outlinewidth": 0,
              "ticks": ""
             }
            },
            "marker": {
             "colorbar": {
              "outlinewidth": 0,
              "ticks": ""
             }
            },
            "type": "scatter3d"
           }
          ],
          "scattercarpet": [
           {
            "marker": {
             "colorbar": {
              "outlinewidth": 0,
              "ticks": ""
             }
            },
            "type": "scattercarpet"
           }
          ],
          "scattergeo": [
           {
            "marker": {
             "colorbar": {
              "outlinewidth": 0,
              "ticks": ""
             }
            },
            "type": "scattergeo"
           }
          ],
          "scattergl": [
           {
            "marker": {
             "colorbar": {
              "outlinewidth": 0,
              "ticks": ""
             }
            },
            "type": "scattergl"
           }
          ],
          "scattermap": [
           {
            "marker": {
             "colorbar": {
              "outlinewidth": 0,
              "ticks": ""
             }
            },
            "type": "scattermap"
           }
          ],
          "scattermapbox": [
           {
            "marker": {
             "colorbar": {
              "outlinewidth": 0,
              "ticks": ""
             }
            },
            "type": "scattermapbox"
           }
          ],
          "scatterpolar": [
           {
            "marker": {
             "colorbar": {
              "outlinewidth": 0,
              "ticks": ""
             }
            },
            "type": "scatterpolar"
           }
          ],
          "scatterpolargl": [
           {
            "marker": {
             "colorbar": {
              "outlinewidth": 0,
              "ticks": ""
             }
            },
            "type": "scatterpolargl"
           }
          ],
          "scatterternary": [
           {
            "marker": {
             "colorbar": {
              "outlinewidth": 0,
              "ticks": ""
             }
            },
            "type": "scatterternary"
           }
          ],
          "surface": [
           {
            "colorbar": {
             "outlinewidth": 0,
             "ticks": ""
            },
            "colorscale": [
             [
              0,
              "#0d0887"
             ],
             [
              0.1111111111111111,
              "#46039f"
             ],
             [
              0.2222222222222222,
              "#7201a8"
             ],
             [
              0.3333333333333333,
              "#9c179e"
             ],
             [
              0.4444444444444444,
              "#bd3786"
             ],
             [
              0.5555555555555556,
              "#d8576b"
             ],
             [
              0.6666666666666666,
              "#ed7953"
             ],
             [
              0.7777777777777778,
              "#fb9f3a"
             ],
             [
              0.8888888888888888,
              "#fdca26"
             ],
             [
              1,
              "#f0f921"
             ]
            ],
            "type": "surface"
           }
          ],
          "table": [
           {
            "cells": {
             "fill": {
              "color": "#EBF0F8"
             },
             "line": {
              "color": "white"
             }
            },
            "header": {
             "fill": {
              "color": "#C8D4E3"
             },
             "line": {
              "color": "white"
             }
            },
            "type": "table"
           }
          ]
         },
         "layout": {
          "annotationdefaults": {
           "arrowcolor": "#2a3f5f",
           "arrowhead": 0,
           "arrowwidth": 1
          },
          "autotypenumbers": "strict",
          "coloraxis": {
           "colorbar": {
            "outlinewidth": 0,
            "ticks": ""
           }
          },
          "colorscale": {
           "diverging": [
            [
             0,
             "#8e0152"
            ],
            [
             0.1,
             "#c51b7d"
            ],
            [
             0.2,
             "#de77ae"
            ],
            [
             0.3,
             "#f1b6da"
            ],
            [
             0.4,
             "#fde0ef"
            ],
            [
             0.5,
             "#f7f7f7"
            ],
            [
             0.6,
             "#e6f5d0"
            ],
            [
             0.7,
             "#b8e186"
            ],
            [
             0.8,
             "#7fbc41"
            ],
            [
             0.9,
             "#4d9221"
            ],
            [
             1,
             "#276419"
            ]
           ],
           "sequential": [
            [
             0,
             "#0d0887"
            ],
            [
             0.1111111111111111,
             "#46039f"
            ],
            [
             0.2222222222222222,
             "#7201a8"
            ],
            [
             0.3333333333333333,
             "#9c179e"
            ],
            [
             0.4444444444444444,
             "#bd3786"
            ],
            [
             0.5555555555555556,
             "#d8576b"
            ],
            [
             0.6666666666666666,
             "#ed7953"
            ],
            [
             0.7777777777777778,
             "#fb9f3a"
            ],
            [
             0.8888888888888888,
             "#fdca26"
            ],
            [
             1,
             "#f0f921"
            ]
           ],
           "sequentialminus": [
            [
             0,
             "#0d0887"
            ],
            [
             0.1111111111111111,
             "#46039f"
            ],
            [
             0.2222222222222222,
             "#7201a8"
            ],
            [
             0.3333333333333333,
             "#9c179e"
            ],
            [
             0.4444444444444444,
             "#bd3786"
            ],
            [
             0.5555555555555556,
             "#d8576b"
            ],
            [
             0.6666666666666666,
             "#ed7953"
            ],
            [
             0.7777777777777778,
             "#fb9f3a"
            ],
            [
             0.8888888888888888,
             "#fdca26"
            ],
            [
             1,
             "#f0f921"
            ]
           ]
          },
          "colorway": [
           "#636efa",
           "#EF553B",
           "#00cc96",
           "#ab63fa",
           "#FFA15A",
           "#19d3f3",
           "#FF6692",
           "#B6E880",
           "#FF97FF",
           "#FECB52"
          ],
          "font": {
           "color": "#2a3f5f"
          },
          "geo": {
           "bgcolor": "white",
           "lakecolor": "white",
           "landcolor": "#E5ECF6",
           "showlakes": true,
           "showland": true,
           "subunitcolor": "white"
          },
          "hoverlabel": {
           "align": "left"
          },
          "hovermode": "closest",
          "mapbox": {
           "style": "light"
          },
          "paper_bgcolor": "white",
          "plot_bgcolor": "#E5ECF6",
          "polar": {
           "angularaxis": {
            "gridcolor": "white",
            "linecolor": "white",
            "ticks": ""
           },
           "bgcolor": "#E5ECF6",
           "radialaxis": {
            "gridcolor": "white",
            "linecolor": "white",
            "ticks": ""
           }
          },
          "scene": {
           "xaxis": {
            "backgroundcolor": "#E5ECF6",
            "gridcolor": "white",
            "gridwidth": 2,
            "linecolor": "white",
            "showbackground": true,
            "ticks": "",
            "zerolinecolor": "white"
           },
           "yaxis": {
            "backgroundcolor": "#E5ECF6",
            "gridcolor": "white",
            "gridwidth": 2,
            "linecolor": "white",
            "showbackground": true,
            "ticks": "",
            "zerolinecolor": "white"
           },
           "zaxis": {
            "backgroundcolor": "#E5ECF6",
            "gridcolor": "white",
            "gridwidth": 2,
            "linecolor": "white",
            "showbackground": true,
            "ticks": "",
            "zerolinecolor": "white"
           }
          },
          "shapedefaults": {
           "line": {
            "color": "#2a3f5f"
           }
          },
          "ternary": {
           "aaxis": {
            "gridcolor": "white",
            "linecolor": "white",
            "ticks": ""
           },
           "baxis": {
            "gridcolor": "white",
            "linecolor": "white",
            "ticks": ""
           },
           "bgcolor": "#E5ECF6",
           "caxis": {
            "gridcolor": "white",
            "linecolor": "white",
            "ticks": ""
           }
          },
          "title": {
           "x": 0.05
          },
          "xaxis": {
           "automargin": true,
           "gridcolor": "white",
           "linecolor": "white",
           "ticks": "",
           "title": {
            "standoff": 15
           },
           "zerolinecolor": "white",
           "zerolinewidth": 2
          },
          "yaxis": {
           "automargin": true,
           "gridcolor": "white",
           "linecolor": "white",
           "ticks": "",
           "title": {
            "standoff": 15
           },
           "zerolinecolor": "white",
           "zerolinewidth": 2
          }
         }
        },
        "title": {
         "text": "Hyperparameter Importances"
        },
        "xaxis": {
         "title": {
          "text": "Hyperparameter Importance"
         }
        },
        "yaxis": {
         "title": {
          "text": "Hyperparameter"
         }
        }
       }
      }
     },
     "metadata": {},
     "output_type": "display_data"
    }
   ],
   "source": [
    "fig1 = optuna.visualization.plot_optimization_history(study)\n",
    "fig2 = optuna.visualization.plot_param_importances(study)\n",
    "show(fig1)\n",
    "show(fig2)"
   ]
  },
  {
   "cell_type": "markdown",
   "id": "48a99a11",
   "metadata": {},
   "source": [
    "# Importing Model"
   ]
  },
  {
   "cell_type": "code",
   "execution_count": 94,
   "id": "792645f3",
   "metadata": {},
   "outputs": [],
   "source": [
    "import pickle\n",
    "\n",
    "with open('final_model.pkl', 'wb') as file:\n",
    "    pickle.dump(final_model, file)"
   ]
  },
  {
   "cell_type": "code",
   "execution_count": 96,
   "id": "872b3a42",
   "metadata": {},
   "outputs": [
    {
     "name": "stdout",
     "output_type": "stream",
     "text": [
      "Pipeline(steps=[('preprocessor',\n",
      "                 ColumnTransformer(remainder='passthrough',\n",
      "                                   transformers=[('missing_pipe_cat_age',\n",
      "                                                  Pipeline(steps=[('Missing_Cat',\n",
      "                                                                   SimpleImputer(strategy='most_frequent')),\n",
      "                                                                  ('Onehot',\n",
      "                                                                   OneHotEncoder(drop='first',\n",
      "                                                                                 handle_unknown='ignore'))]),\n",
      "                                                  ['agePossession']),\n",
      "                                                 ('missing_pipe_cat_floor',\n",
      "                                                  Pipeline(steps=[('Missing_Cat',\n",
      "                                                                   SimpleImputer(strategy='m...\n",
      "                              eval_metric=None, feature_types=None,\n",
      "                              feature_weights=None, gamma=0, grow_policy=None,\n",
      "                              importance_type=None,\n",
      "                              interaction_constraints=None, learning_rate=None,\n",
      "                              max_bin=170, max_cat_threshold=None,\n",
      "                              max_cat_to_onehot=None, max_delta_step=None,\n",
      "                              max_depth=4, max_leaves=None, min_child_weight=18,\n",
      "                              missing=nan, monotone_constraints=None,\n",
      "                              multi_strategy=None, n_estimators=381,\n",
      "                              n_jobs=None, ...))])\n"
     ]
    }
   ],
   "source": [
    "# Open and read the pickle file\n",
    "with open('final_model.pkl', 'rb') as file:  # 'rb' means read binary\n",
    "    data = pickle.load(file)\n",
    "\n",
    "print(data)"
   ]
  },
  {
   "cell_type": "markdown",
   "id": "ea9721f7",
   "metadata": {},
   "source": [
    "# Predicting (same format as the training df)"
   ]
  },
  {
   "cell_type": "code",
   "execution_count": 97,
   "id": "1e786ee7",
   "metadata": {},
   "outputs": [
    {
     "data": {
      "text/html": [
       "<div>\n",
       "<style scoped>\n",
       "    .dataframe tbody tr th:only-of-type {\n",
       "        vertical-align: middle;\n",
       "    }\n",
       "\n",
       "    .dataframe tbody tr th {\n",
       "        vertical-align: top;\n",
       "    }\n",
       "\n",
       "    .dataframe thead th {\n",
       "        text-align: right;\n",
       "    }\n",
       "</style>\n",
       "<table border=\"1\" class=\"dataframe\">\n",
       "  <thead>\n",
       "    <tr style=\"text-align: right;\">\n",
       "      <th></th>\n",
       "      <th>property_type</th>\n",
       "      <th>sector</th>\n",
       "      <th>bedRoom</th>\n",
       "      <th>bathroom</th>\n",
       "      <th>balcony</th>\n",
       "      <th>agePossession</th>\n",
       "      <th>super_built_up_area</th>\n",
       "      <th>built_up_area</th>\n",
       "      <th>carpet_area</th>\n",
       "      <th>study room</th>\n",
       "      <th>servant room</th>\n",
       "      <th>furnishing_type</th>\n",
       "      <th>luxury_cat</th>\n",
       "      <th>floorNum_cat</th>\n",
       "    </tr>\n",
       "  </thead>\n",
       "  <tbody>\n",
       "    <tr>\n",
       "      <th>0</th>\n",
       "      <td>flat</td>\n",
       "      <td>sector 36</td>\n",
       "      <td>3</td>\n",
       "      <td>2</td>\n",
       "      <td>2</td>\n",
       "      <td>New Property</td>\n",
       "      <td>1081.0</td>\n",
       "      <td>NaN</td>\n",
       "      <td>650.0</td>\n",
       "      <td>0</td>\n",
       "      <td>0</td>\n",
       "      <td>unfurnished</td>\n",
       "      <td>low</td>\n",
       "      <td>low</td>\n",
       "    </tr>\n",
       "    <tr>\n",
       "      <th>1</th>\n",
       "      <td>flat</td>\n",
       "      <td>sector 89</td>\n",
       "      <td>2</td>\n",
       "      <td>2</td>\n",
       "      <td>2</td>\n",
       "      <td>New Property</td>\n",
       "      <td>NaN</td>\n",
       "      <td>NaN</td>\n",
       "      <td>1103.0</td>\n",
       "      <td>1</td>\n",
       "      <td>1</td>\n",
       "      <td>unfurnished</td>\n",
       "      <td>low</td>\n",
       "      <td>medium</td>\n",
       "    </tr>\n",
       "    <tr>\n",
       "      <th>2</th>\n",
       "      <td>flat</td>\n",
       "      <td>sohna road</td>\n",
       "      <td>2</td>\n",
       "      <td>2</td>\n",
       "      <td>1</td>\n",
       "      <td>New Property</td>\n",
       "      <td>NaN</td>\n",
       "      <td>1000.0</td>\n",
       "      <td>585.0</td>\n",
       "      <td>0</td>\n",
       "      <td>0</td>\n",
       "      <td>unfurnished</td>\n",
       "      <td>low</td>\n",
       "      <td>high</td>\n",
       "    </tr>\n",
       "    <tr>\n",
       "      <th>3</th>\n",
       "      <td>flat</td>\n",
       "      <td>sector 92</td>\n",
       "      <td>3</td>\n",
       "      <td>4</td>\n",
       "      <td>3+</td>\n",
       "      <td>Relatively New</td>\n",
       "      <td>1995.0</td>\n",
       "      <td>1615.0</td>\n",
       "      <td>1476.0</td>\n",
       "      <td>0</td>\n",
       "      <td>1</td>\n",
       "      <td>semi_furnished</td>\n",
       "      <td>high</td>\n",
       "      <td>medium</td>\n",
       "    </tr>\n",
       "    <tr>\n",
       "      <th>4</th>\n",
       "      <td>flat</td>\n",
       "      <td>sector 102</td>\n",
       "      <td>2</td>\n",
       "      <td>2</td>\n",
       "      <td>1</td>\n",
       "      <td>Relatively New</td>\n",
       "      <td>632.0</td>\n",
       "      <td>NaN</td>\n",
       "      <td>532.0</td>\n",
       "      <td>0</td>\n",
       "      <td>0</td>\n",
       "      <td>unfurnished</td>\n",
       "      <td>high</td>\n",
       "      <td>medium</td>\n",
       "    </tr>\n",
       "    <tr>\n",
       "      <th>...</th>\n",
       "      <td>...</td>\n",
       "      <td>...</td>\n",
       "      <td>...</td>\n",
       "      <td>...</td>\n",
       "      <td>...</td>\n",
       "      <td>...</td>\n",
       "      <td>...</td>\n",
       "      <td>...</td>\n",
       "      <td>...</td>\n",
       "      <td>...</td>\n",
       "      <td>...</td>\n",
       "      <td>...</td>\n",
       "      <td>...</td>\n",
       "      <td>...</td>\n",
       "    </tr>\n",
       "    <tr>\n",
       "      <th>3644</th>\n",
       "      <td>flat</td>\n",
       "      <td>sector 84</td>\n",
       "      <td>2</td>\n",
       "      <td>2</td>\n",
       "      <td>1</td>\n",
       "      <td>Relatively New</td>\n",
       "      <td>583.0</td>\n",
       "      <td>NaN</td>\n",
       "      <td>483.0</td>\n",
       "      <td>0</td>\n",
       "      <td>0</td>\n",
       "      <td>unfurnished</td>\n",
       "      <td>medium</td>\n",
       "      <td>medium</td>\n",
       "    </tr>\n",
       "    <tr>\n",
       "      <th>3645</th>\n",
       "      <td>house</td>\n",
       "      <td>sector 109</td>\n",
       "      <td>5</td>\n",
       "      <td>5</td>\n",
       "      <td>3+</td>\n",
       "      <td>Relatively New</td>\n",
       "      <td>NaN</td>\n",
       "      <td>6228.0</td>\n",
       "      <td>NaN</td>\n",
       "      <td>1</td>\n",
       "      <td>1</td>\n",
       "      <td>unfurnished</td>\n",
       "      <td>high</td>\n",
       "      <td>low</td>\n",
       "    </tr>\n",
       "    <tr>\n",
       "      <th>3646</th>\n",
       "      <td>flat</td>\n",
       "      <td>sector 2</td>\n",
       "      <td>1</td>\n",
       "      <td>1</td>\n",
       "      <td>1</td>\n",
       "      <td>Moderately Old</td>\n",
       "      <td>735.0</td>\n",
       "      <td>NaN</td>\n",
       "      <td>NaN</td>\n",
       "      <td>0</td>\n",
       "      <td>0</td>\n",
       "      <td>semi_furnished</td>\n",
       "      <td>medium</td>\n",
       "      <td>medium</td>\n",
       "    </tr>\n",
       "    <tr>\n",
       "      <th>3647</th>\n",
       "      <td>house</td>\n",
       "      <td>sector 43</td>\n",
       "      <td>5</td>\n",
       "      <td>6</td>\n",
       "      <td>3</td>\n",
       "      <td>Moderately Old</td>\n",
       "      <td>NaN</td>\n",
       "      <td>5490.0</td>\n",
       "      <td>NaN</td>\n",
       "      <td>1</td>\n",
       "      <td>1</td>\n",
       "      <td>unfurnished</td>\n",
       "      <td>medium</td>\n",
       "      <td>low</td>\n",
       "    </tr>\n",
       "    <tr>\n",
       "      <th>3648</th>\n",
       "      <td>flat</td>\n",
       "      <td>sector 68</td>\n",
       "      <td>3</td>\n",
       "      <td>3</td>\n",
       "      <td>3+</td>\n",
       "      <td>Relatively New</td>\n",
       "      <td>1950.0</td>\n",
       "      <td>1845.0</td>\n",
       "      <td>1530.0</td>\n",
       "      <td>0</td>\n",
       "      <td>0</td>\n",
       "      <td>semi_furnished</td>\n",
       "      <td>medium</td>\n",
       "      <td>high</td>\n",
       "    </tr>\n",
       "  </tbody>\n",
       "</table>\n",
       "<p>3649 rows × 14 columns</p>\n",
       "</div>"
      ],
      "text/plain": [
       "     property_type      sector  bedRoom  bathroom balcony   agePossession  \\\n",
       "0             flat   sector 36        3         2       2    New Property   \n",
       "1             flat   sector 89        2         2       2    New Property   \n",
       "2             flat  sohna road        2         2       1    New Property   \n",
       "3             flat   sector 92        3         4      3+  Relatively New   \n",
       "4             flat  sector 102        2         2       1  Relatively New   \n",
       "...            ...         ...      ...       ...     ...             ...   \n",
       "3644          flat   sector 84        2         2       1  Relatively New   \n",
       "3645         house  sector 109        5         5      3+  Relatively New   \n",
       "3646          flat    sector 2        1         1       1  Moderately Old   \n",
       "3647         house   sector 43        5         6       3  Moderately Old   \n",
       "3648          flat   sector 68        3         3      3+  Relatively New   \n",
       "\n",
       "      super_built_up_area  built_up_area  carpet_area  study room  \\\n",
       "0                  1081.0            NaN        650.0           0   \n",
       "1                     NaN            NaN       1103.0           1   \n",
       "2                     NaN         1000.0        585.0           0   \n",
       "3                  1995.0         1615.0       1476.0           0   \n",
       "4                   632.0            NaN        532.0           0   \n",
       "...                   ...            ...          ...         ...   \n",
       "3644                583.0            NaN        483.0           0   \n",
       "3645                  NaN         6228.0          NaN           1   \n",
       "3646                735.0            NaN          NaN           0   \n",
       "3647                  NaN         5490.0          NaN           1   \n",
       "3648               1950.0         1845.0       1530.0           0   \n",
       "\n",
       "      servant room furnishing_type luxury_cat floorNum_cat  \n",
       "0                0     unfurnished        low          low  \n",
       "1                1     unfurnished        low       medium  \n",
       "2                0     unfurnished        low         high  \n",
       "3                1  semi_furnished       high       medium  \n",
       "4                0     unfurnished       high       medium  \n",
       "...            ...             ...        ...          ...  \n",
       "3644             0     unfurnished     medium       medium  \n",
       "3645             1     unfurnished       high          low  \n",
       "3646             0  semi_furnished     medium       medium  \n",
       "3647             1     unfurnished     medium          low  \n",
       "3648             0  semi_furnished     medium         high  \n",
       "\n",
       "[3649 rows x 14 columns]"
      ]
     },
     "execution_count": 97,
     "metadata": {},
     "output_type": "execute_result"
    }
   ],
   "source": [
    "x"
   ]
  },
  {
   "cell_type": "code",
   "execution_count": 98,
   "id": "0c08a24e",
   "metadata": {},
   "outputs": [],
   "source": [
    "columns = ['property_type', 'sector','bedRoom', 'bathroom', 'balcony',\n",
    "       'agePossession', 'super_built_up_area', 'built_up_area', 'carpet_area',\n",
    "       'study room', 'servant room', 'furnishing_type', 'luxury_cat',\n",
    "       'floorNum_cat']"
   ]
  },
  {
   "cell_type": "code",
   "execution_count": 105,
   "id": "bd238b5c",
   "metadata": {},
   "outputs": [
    {
     "data": {
      "text/plain": [
       "property_type                  flat\n",
       "sector                    sector 89\n",
       "bedRoom                           2\n",
       "bathroom                          2\n",
       "balcony                           2\n",
       "agePossession          New Property\n",
       "super_built_up_area             NaN\n",
       "built_up_area                   NaN\n",
       "carpet_area                  1103.0\n",
       "study room                        1\n",
       "servant room                      1\n",
       "furnishing_type         unfurnished\n",
       "luxury_cat                      low\n",
       "floorNum_cat                 medium\n",
       "Name: 1, dtype: object"
      ]
     },
     "execution_count": 105,
     "metadata": {},
     "output_type": "execute_result"
    }
   ],
   "source": [
    "x.iloc[1]"
   ]
  },
  {
   "cell_type": "code",
   "execution_count": 100,
   "id": "7114c90f",
   "metadata": {},
   "outputs": [
    {
     "data": {
      "text/html": [
       "<div>\n",
       "<style scoped>\n",
       "    .dataframe tbody tr th:only-of-type {\n",
       "        vertical-align: middle;\n",
       "    }\n",
       "\n",
       "    .dataframe tbody tr th {\n",
       "        vertical-align: top;\n",
       "    }\n",
       "\n",
       "    .dataframe thead th {\n",
       "        text-align: right;\n",
       "    }\n",
       "</style>\n",
       "<table border=\"1\" class=\"dataframe\">\n",
       "  <thead>\n",
       "    <tr style=\"text-align: right;\">\n",
       "      <th></th>\n",
       "      <th>property_type</th>\n",
       "      <th>sector</th>\n",
       "      <th>bedRoom</th>\n",
       "      <th>bathroom</th>\n",
       "      <th>balcony</th>\n",
       "      <th>agePossession</th>\n",
       "      <th>super_built_up_area</th>\n",
       "      <th>built_up_area</th>\n",
       "      <th>carpet_area</th>\n",
       "      <th>study room</th>\n",
       "      <th>servant room</th>\n",
       "      <th>furnishing_type</th>\n",
       "      <th>luxury_cat</th>\n",
       "      <th>floorNum_cat</th>\n",
       "    </tr>\n",
       "  </thead>\n",
       "  <tbody>\n",
       "    <tr>\n",
       "      <th>0</th>\n",
       "      <td>house</td>\n",
       "      <td>sector 102</td>\n",
       "      <td>4</td>\n",
       "      <td>3</td>\n",
       "      <td>3+</td>\n",
       "      <td>New Property</td>\n",
       "      <td>3000</td>\n",
       "      <td>2750</td>\n",
       "      <td>2500</td>\n",
       "      <td>0</td>\n",
       "      <td>0</td>\n",
       "      <td>unfurnished</td>\n",
       "      <td>low</td>\n",
       "      <td>low</td>\n",
       "    </tr>\n",
       "  </tbody>\n",
       "</table>\n",
       "</div>"
      ],
      "text/plain": [
       "  property_type      sector  bedRoom  bathroom balcony agePossession  \\\n",
       "0         house  sector 102        4         3      3+  New Property   \n",
       "\n",
       "   super_built_up_area  built_up_area  carpet_area  study room  servant room  \\\n",
       "0                 3000           2750         2500           0             0   \n",
       "\n",
       "  furnishing_type luxury_cat floorNum_cat  \n",
       "0     unfurnished        low          low  "
      ]
     },
     "execution_count": 100,
     "metadata": {},
     "output_type": "execute_result"
    }
   ],
   "source": [
    "data = [['house', 'sector 102', 4, 3, '3+', 'New Property',3000, 2750,2500, 0, 0, 'unfurnished', 'low', 'low']]\n",
    "\n",
    "data = pd.DataFrame(data,columns=columns)\n",
    "data"
   ]
  },
  {
   "cell_type": "code",
   "execution_count": 101,
   "id": "eab46a3b",
   "metadata": {},
   "outputs": [],
   "source": [
    "data['property_type'] = data['property_type'].astype('category')\n",
    "data['sector'] = data['sector'].astype('category')\n",
    "data['balcony'] = data['balcony'].astype('category')\n",
    "data['agePossession'] = data['agePossession'].astype('category')\n",
    "data['furnishing_type'] = data['furnishing_type'].astype('category')"
   ]
  },
  {
   "cell_type": "code",
   "execution_count": 102,
   "id": "99782509",
   "metadata": {},
   "outputs": [
    {
     "data": {
      "text/plain": [
       "array([3.8489723], dtype=float32)"
      ]
     },
     "execution_count": 102,
     "metadata": {},
     "output_type": "execute_result"
    }
   ],
   "source": [
    "np.expm1(final_model.predict(data))"
   ]
  }
 ],
 "metadata": {
  "kernelspec": {
   "display_name": "Python 3",
   "language": "python",
   "name": "python3"
  },
  "language_info": {
   "codemirror_mode": {
    "name": "ipython",
    "version": 3
   },
   "file_extension": ".py",
   "mimetype": "text/x-python",
   "name": "python",
   "nbconvert_exporter": "python",
   "pygments_lexer": "ipython3",
   "version": "3.13.1"
  }
 },
 "nbformat": 4,
 "nbformat_minor": 5
}
