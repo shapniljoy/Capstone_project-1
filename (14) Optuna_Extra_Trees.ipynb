{
 "cells": [
  {
   "cell_type": "code",
   "execution_count": 51,
   "id": "5885f5f7",
   "metadata": {},
   "outputs": [],
   "source": [
    "import pandas as pd\n",
    "import numpy as np\n",
    "import matplotlib.pyplot as plt\n",
    "import seaborn as sns\n",
    "\n",
    "import category_encoders as ce\n",
    "from sklearn.pipeline import Pipeline\n",
    "from sklearn.preprocessing import OneHotEncoder,StandardScaler,OrdinalEncoder,TargetEncoder\n",
    "from sklearn.compose import ColumnTransformer\n",
    "from sklearn.impute import SimpleImputer\n",
    "from sklearn.linear_model import LinearRegression\n",
    "from sklearn.model_selection import train_test_split,GridSearchCV,cross_val_score,KFold,RandomizedSearchCV\n",
    "from lightgbm import LGBMRegressor\n",
    "from sklearn.linear_model import LinearRegression, Ridge, Lasso\n",
    "from sklearn.svm import SVR\n",
    "from sklearn.tree import DecisionTreeRegressor\n",
    "from sklearn.ensemble import RandomForestRegressor, ExtraTreesRegressor, GradientBoostingRegressor, AdaBoostRegressor\n",
    "from sklearn.neural_network import MLPRegressor\n",
    "from xgboost import XGBRegressor\n",
    "import xgboost as xgb\n",
    "from sklearn.metrics import mean_squared_error,mean_absolute_error,r2_score\n",
    "import optuna\n",
    "from plotly.io import show\n",
    "\n",
    "pd.set_option('display.max_columns', None)"
   ]
  },
  {
   "cell_type": "code",
   "execution_count": 52,
   "id": "f511b8d3",
   "metadata": {},
   "outputs": [],
   "source": [
    "df = pd.read_csv('final_df.csv')"
   ]
  },
  {
   "cell_type": "code",
   "execution_count": 53,
   "id": "a37432de",
   "metadata": {},
   "outputs": [],
   "source": [
    "x = df.drop('price',axis=1)\n",
    "y = df['price']\n",
    "y = np.log1p(y)"
   ]
  },
  {
   "cell_type": "code",
   "execution_count": 54,
   "id": "af59308d",
   "metadata": {},
   "outputs": [],
   "source": [
    "x_train,x_test,y_train,y_test = train_test_split(x,y,test_size=0.2,random_state=42)"
   ]
  },
  {
   "cell_type": "code",
   "execution_count": 55,
   "id": "47e5318d",
   "metadata": {},
   "outputs": [],
   "source": [
    "\n",
    "missing_pipe_cat_age = Pipeline([\n",
    "    ('Missing_Cat', SimpleImputer(strategy='most_frequent')),\n",
    "    ('Onehot',OneHotEncoder(drop='first',handle_unknown='ignore',sparse_output=False))\n",
    "    ])\n",
    "\n",
    "missing_pipe_cat_floor = Pipeline([\n",
    "    ('Missing_Cat', SimpleImputer(strategy='most_frequent')),\n",
    "    ('ordinal',OrdinalEncoder(handle_unknown='use_encoded_value',unknown_value=-1))\n",
    "    ])\n",
    "\n",
    "missing_pipe_num = Pipeline([\n",
    "    ('Missing_Num', SimpleImputer(strategy='median')),\n",
    "    ('scaling',StandardScaler())\n",
    "     ])\n",
    "\n",
    "\n",
    "Target_preprocessor = ColumnTransformer([\n",
    "    ('missing_pipe_cat_age',missing_pipe_cat_age,['agePossession']),\n",
    "    ('missing_pipe_cat_floor',missing_pipe_cat_floor,['floorNum_cat']),\n",
    "    ('missing_pipe_num',missing_pipe_num,[ 'super_built_up_area','built_up_area', 'carpet_area']),\n",
    "    ('ordinal',OrdinalEncoder(),['balcony','luxury_cat']),\n",
    "    ('onehot',OneHotEncoder(drop='first', handle_unknown='ignore'), ['furnishing_type','property_type']),\n",
    "    # ('target',ce.TargetEncoder(),['sector']),\n",
    "    ('scaling',StandardScaler(),['bedRoom', 'bathroom', 'study room', 'servant room'])\n",
    "    ],remainder='passthrough')\n",
    "\n"
   ]
  },
  {
   "cell_type": "code",
   "execution_count": 56,
   "id": "78771847",
   "metadata": {},
   "outputs": [],
   "source": [
    "def objective(trial,preprocessor):\n",
    "\n",
    "    regressor_name = trial.suggest_categorical('regressor',['Extra_Tree'])\n",
    "\n",
    "    if regressor_name == 'Extra_Tree':\n",
    "\n",
    "       n_estimators = trial.suggest_int('model__n_estimators',30, 500)\n",
    "       max_depth = trial.suggest_int('model__max_depth',5, 50)\n",
    "       min_samples_split = trial.suggest_int('model__min_samples_split',2, 20)\n",
    "       min_samples_leaf = trial.suggest_int('model__min_samples_leaf',1, 10)\n",
    "       max_features = trial.suggest_categorical('model__max_features', ['sqrt', 'log2',0.3, 0.5, 0.7, 0.9])\n",
    "       bootstrap = trial.suggest_categorical('model__bootstrap', [True, False])\n",
    "\n",
    "\n",
    "       model_pipe = Pipeline([\n",
    "       ('target',ce.TargetEncoder(cols=['sector'])),\n",
    "       ('preprocessor',preprocessor),\n",
    "       ('model',ExtraTreesRegressor(random_state=0,n_estimators=n_estimators,max_depth=max_depth,\n",
    "                                    min_samples_split=min_samples_split,min_samples_leaf=min_samples_leaf,\n",
    "                                    n_jobs=-1,max_features=max_features,bootstrap=bootstrap))\n",
    "       ])\n",
    "\n",
    "    \n",
    "       trial.set_user_attr('model',model_pipe)\n",
    "    \n",
    "    cv_score = cross_val_score(model_pipe,x_train,y_train,cv = KFold(n_splits=5,shuffle=True,random_state=0),scoring='r2',n_jobs=1)\n",
    "    \n",
    "    return cv_score.mean()\n",
    "       "
   ]
  },
  {
   "cell_type": "code",
   "execution_count": 57,
   "id": "79d8b02b",
   "metadata": {},
   "outputs": [
    {
     "name": "stderr",
     "output_type": "stream",
     "text": [
      "[I 2025-08-29 10:04:56,732] A new study created in memory with name: no-name-c94ad7ba-6486-4bc3-b8da-4c723c7ea24b\n",
      "[I 2025-08-29 10:04:58,483] Trial 0 finished with value: 0.8316059040180843 and parameters: {'regressor': 'Extra_Tree', 'model__n_estimators': 288, 'model__max_depth': 37, 'model__min_samples_split': 13, 'model__min_samples_leaf': 6, 'model__max_features': 0.7, 'model__bootstrap': True}. Best is trial 0 with value: 0.8316059040180843.\n",
      "[I 2025-08-29 10:05:00,135] Trial 1 finished with value: 0.8699139736316523 and parameters: {'regressor': 'Extra_Tree', 'model__n_estimators': 297, 'model__max_depth': 47, 'model__min_samples_split': 3, 'model__min_samples_leaf': 1, 'model__max_features': 0.7, 'model__bootstrap': False}. Best is trial 1 with value: 0.8699139736316523.\n",
      "[I 2025-08-29 10:05:00,725] Trial 2 finished with value: 0.8182471720727941 and parameters: {'regressor': 'Extra_Tree', 'model__n_estimators': 85, 'model__max_depth': 34, 'model__min_samples_split': 4, 'model__min_samples_leaf': 10, 'model__max_features': 0.5, 'model__bootstrap': False}. Best is trial 1 with value: 0.8699139736316523.\n",
      "[I 2025-08-29 10:05:02,547] Trial 3 finished with value: 0.7850994799611092 and parameters: {'regressor': 'Extra_Tree', 'model__n_estimators': 318, 'model__max_depth': 33, 'model__min_samples_split': 19, 'model__min_samples_leaf': 7, 'model__max_features': 0.3, 'model__bootstrap': True}. Best is trial 1 with value: 0.8699139736316523.\n",
      "[I 2025-08-29 10:05:03,676] Trial 4 finished with value: 0.7836876568322214 and parameters: {'regressor': 'Extra_Tree', 'model__n_estimators': 178, 'model__max_depth': 21, 'model__min_samples_split': 12, 'model__min_samples_leaf': 5, 'model__max_features': 'sqrt', 'model__bootstrap': True}. Best is trial 1 with value: 0.8699139736316523.\n",
      "[I 2025-08-29 10:05:04,480] Trial 5 finished with value: 0.8378882714757536 and parameters: {'regressor': 'Extra_Tree', 'model__n_estimators': 104, 'model__max_depth': 10, 'model__min_samples_split': 14, 'model__min_samples_leaf': 2, 'model__max_features': 0.7, 'model__bootstrap': True}. Best is trial 1 with value: 0.8699139736316523.\n",
      "[I 2025-08-29 10:05:06,666] Trial 6 finished with value: 0.8617694221389923 and parameters: {'regressor': 'Extra_Tree', 'model__n_estimators': 490, 'model__max_depth': 32, 'model__min_samples_split': 16, 'model__min_samples_leaf': 1, 'model__max_features': 0.9, 'model__bootstrap': False}. Best is trial 1 with value: 0.8699139736316523.\n",
      "[I 2025-08-29 10:05:08,397] Trial 7 finished with value: 0.8198813697082856 and parameters: {'regressor': 'Extra_Tree', 'model__n_estimators': 296, 'model__max_depth': 17, 'model__min_samples_split': 11, 'model__min_samples_leaf': 1, 'model__max_features': 'log2', 'model__bootstrap': True}. Best is trial 1 with value: 0.8699139736316523.\n",
      "[I 2025-08-29 10:05:10,150] Trial 8 finished with value: 0.7684489565448352 and parameters: {'regressor': 'Extra_Tree', 'model__n_estimators': 306, 'model__max_depth': 5, 'model__min_samples_split': 17, 'model__min_samples_leaf': 1, 'model__max_features': 0.5, 'model__bootstrap': True}. Best is trial 1 with value: 0.8699139736316523.\n",
      "[I 2025-08-29 10:05:11,067] Trial 9 finished with value: 0.8196965585777555 and parameters: {'regressor': 'Extra_Tree', 'model__n_estimators': 135, 'model__max_depth': 48, 'model__min_samples_split': 10, 'model__min_samples_leaf': 9, 'model__max_features': 0.7, 'model__bootstrap': True}. Best is trial 1 with value: 0.8699139736316523.\n",
      "[I 2025-08-29 10:05:12,851] Trial 10 finished with value: 0.8210450050484848 and parameters: {'regressor': 'Extra_Tree', 'model__n_estimators': 463, 'model__max_depth': 50, 'model__min_samples_split': 2, 'model__min_samples_leaf': 4, 'model__max_features': 0.3, 'model__bootstrap': False}. Best is trial 1 with value: 0.8699139736316523.\n",
      "[I 2025-08-29 10:05:14,994] Trial 11 finished with value: 0.8601793235258975 and parameters: {'regressor': 'Extra_Tree', 'model__n_estimators': 466, 'model__max_depth': 41, 'model__min_samples_split': 6, 'model__min_samples_leaf': 3, 'model__max_features': 0.9, 'model__bootstrap': False}. Best is trial 1 with value: 0.8699139736316523.\n",
      "[I 2025-08-29 10:05:16,916] Trial 12 finished with value: 0.8602339466869239 and parameters: {'regressor': 'Extra_Tree', 'model__n_estimators': 408, 'model__max_depth': 26, 'model__min_samples_split': 7, 'model__min_samples_leaf': 3, 'model__max_features': 0.9, 'model__bootstrap': False}. Best is trial 1 with value: 0.8699139736316523.\n",
      "[I 2025-08-29 10:05:18,746] Trial 13 finished with value: 0.8616040160076149 and parameters: {'regressor': 'Extra_Tree', 'model__n_estimators': 389, 'model__max_depth': 43, 'model__min_samples_split': 16, 'model__min_samples_leaf': 1, 'model__max_features': 0.9, 'model__bootstrap': False}. Best is trial 1 with value: 0.8699139736316523.\n",
      "[I 2025-08-29 10:05:19,728] Trial 14 finished with value: 0.8046115295467144 and parameters: {'regressor': 'Extra_Tree', 'model__n_estimators': 206, 'model__max_depth': 28, 'model__min_samples_split': 20, 'model__min_samples_leaf': 3, 'model__max_features': 'sqrt', 'model__bootstrap': False}. Best is trial 1 with value: 0.8699139736316523.\n",
      "[I 2025-08-29 10:05:20,157] Trial 15 finished with value: 0.7829458778013415 and parameters: {'regressor': 'Extra_Tree', 'model__n_estimators': 38, 'model__max_depth': 43, 'model__min_samples_split': 8, 'model__min_samples_leaf': 7, 'model__max_features': 'log2', 'model__bootstrap': False}. Best is trial 1 with value: 0.8699139736316523.\n",
      "[I 2025-08-29 10:05:21,824] Trial 16 finished with value: 0.854045397266753 and parameters: {'regressor': 'Extra_Tree', 'model__n_estimators': 381, 'model__max_depth': 28, 'model__min_samples_split': 16, 'model__min_samples_leaf': 2, 'model__max_features': 0.7, 'model__bootstrap': False}. Best is trial 1 with value: 0.8699139736316523.\n",
      "[I 2025-08-29 10:05:22,969] Trial 17 finished with value: 0.854391974523957 and parameters: {'regressor': 'Extra_Tree', 'model__n_estimators': 217, 'model__max_depth': 38, 'model__min_samples_split': 2, 'model__min_samples_leaf': 4, 'model__max_features': 0.9, 'model__bootstrap': False}. Best is trial 1 with value: 0.8699139736316523.\n",
      "[I 2025-08-29 10:05:25,239] Trial 18 finished with value: 0.8621992912078023 and parameters: {'regressor': 'Extra_Tree', 'model__n_estimators': 498, 'model__max_depth': 19, 'model__min_samples_split': 9, 'model__min_samples_leaf': 2, 'model__max_features': 0.9, 'model__bootstrap': False}. Best is trial 1 with value: 0.8699139736316523.\n",
      "[I 2025-08-29 10:05:26,883] Trial 19 finished with value: 0.8632005480189544 and parameters: {'regressor': 'Extra_Tree', 'model__n_estimators': 351, 'model__max_depth': 17, 'model__min_samples_split': 5, 'model__min_samples_leaf': 2, 'model__max_features': 0.7, 'model__bootstrap': False}. Best is trial 1 with value: 0.8699139736316523.\n",
      "[I 2025-08-29 10:05:28,002] Trial 20 finished with value: 0.8444069654665032 and parameters: {'regressor': 'Extra_Tree', 'model__n_estimators': 233, 'model__max_depth': 13, 'model__min_samples_split': 5, 'model__min_samples_leaf': 5, 'model__max_features': 0.7, 'model__bootstrap': False}. Best is trial 1 with value: 0.8699139736316523.\n",
      "[I 2025-08-29 10:05:29,598] Trial 21 finished with value: 0.8600817359375261 and parameters: {'regressor': 'Extra_Tree', 'model__n_estimators': 350, 'model__max_depth': 20, 'model__min_samples_split': 9, 'model__min_samples_leaf': 2, 'model__max_features': 0.7, 'model__bootstrap': False}. Best is trial 1 with value: 0.8699139736316523.\n",
      "[I 2025-08-29 10:05:31,604] Trial 22 finished with value: 0.8644443795921882 and parameters: {'regressor': 'Extra_Tree', 'model__n_estimators': 427, 'model__max_depth': 23, 'model__min_samples_split': 4, 'model__min_samples_leaf': 2, 'model__max_features': 0.7, 'model__bootstrap': False}. Best is trial 1 with value: 0.8699139736316523.\n",
      "[I 2025-08-29 10:05:33,421] Trial 23 finished with value: 0.8517019801914513 and parameters: {'regressor': 'Extra_Tree', 'model__n_estimators': 417, 'model__max_depth': 23, 'model__min_samples_split': 4, 'model__min_samples_leaf': 4, 'model__max_features': 0.7, 'model__bootstrap': False}. Best is trial 1 with value: 0.8699139736316523.\n",
      "[I 2025-08-29 10:05:35,001] Trial 24 finished with value: 0.855175132339775 and parameters: {'regressor': 'Extra_Tree', 'model__n_estimators': 340, 'model__max_depth': 14, 'model__min_samples_split': 3, 'model__min_samples_leaf': 3, 'model__max_features': 0.7, 'model__bootstrap': False}. Best is trial 1 with value: 0.8699139736316523.\n",
      "[I 2025-08-29 10:05:36,742] Trial 25 finished with value: 0.835069001807297 and parameters: {'regressor': 'Extra_Tree', 'model__n_estimators': 432, 'model__max_depth': 8, 'model__min_samples_split': 6, 'model__min_samples_leaf': 2, 'model__max_features': 0.7, 'model__bootstrap': False}. Best is trial 1 with value: 0.8699139736316523.\n",
      "[I 2025-08-29 10:05:38,194] Trial 26 finished with value: 0.8700567687702818 and parameters: {'regressor': 'Extra_Tree', 'model__n_estimators': 262, 'model__max_depth': 25, 'model__min_samples_split': 4, 'model__min_samples_leaf': 1, 'model__max_features': 0.7, 'model__bootstrap': False}. Best is trial 26 with value: 0.8700567687702818.\n",
      "[I 2025-08-29 10:05:39,619] Trial 27 finished with value: 0.8701468690449927 and parameters: {'regressor': 'Extra_Tree', 'model__n_estimators': 263, 'model__max_depth': 24, 'model__min_samples_split': 3, 'model__min_samples_leaf': 1, 'model__max_features': 0.7, 'model__bootstrap': False}. Best is trial 27 with value: 0.8701468690449927.\n",
      "[I 2025-08-29 10:05:40,908] Trial 28 finished with value: 0.8575994096766342 and parameters: {'regressor': 'Extra_Tree', 'model__n_estimators': 253, 'model__max_depth': 30, 'model__min_samples_split': 2, 'model__min_samples_leaf': 1, 'model__max_features': 0.3, 'model__bootstrap': False}. Best is trial 27 with value: 0.8701468690449927.\n",
      "[I 2025-08-29 10:05:42,142] Trial 29 finished with value: 0.841647702538614 and parameters: {'regressor': 'Extra_Tree', 'model__n_estimators': 265, 'model__max_depth': 37, 'model__min_samples_split': 7, 'model__min_samples_leaf': 6, 'model__max_features': 0.7, 'model__bootstrap': False}. Best is trial 27 with value: 0.8701468690449927.\n",
      "[I 2025-08-29 10:05:43,101] Trial 30 finished with value: 0.8498419478472353 and parameters: {'regressor': 'Extra_Tree', 'model__n_estimators': 186, 'model__max_depth': 25, 'model__min_samples_split': 3, 'model__min_samples_leaf': 1, 'model__max_features': 'log2', 'model__bootstrap': False}. Best is trial 27 with value: 0.8701468690449927.\n",
      "[I 2025-08-29 10:05:44,627] Trial 31 finished with value: 0.8696645678780583 and parameters: {'regressor': 'Extra_Tree', 'model__n_estimators': 287, 'model__max_depth': 24, 'model__min_samples_split': 4, 'model__min_samples_leaf': 1, 'model__max_features': 0.7, 'model__bootstrap': False}. Best is trial 27 with value: 0.8701468690449927.\n",
      "[I 2025-08-29 10:05:45,963] Trial 32 finished with value: 0.8650351580663116 and parameters: {'regressor': 'Extra_Tree', 'model__n_estimators': 269, 'model__max_depth': 24, 'model__min_samples_split': 5, 'model__min_samples_leaf': 1, 'model__max_features': 0.5, 'model__bootstrap': False}. Best is trial 27 with value: 0.8701468690449927.\n",
      "[I 2025-08-29 10:05:47,251] Trial 33 finished with value: 0.8320539953462124 and parameters: {'regressor': 'Extra_Tree', 'model__n_estimators': 282, 'model__max_depth': 31, 'model__min_samples_split': 3, 'model__min_samples_leaf': 9, 'model__max_features': 0.7, 'model__bootstrap': False}. Best is trial 27 with value: 0.8701468690449927.\n",
      "[I 2025-08-29 10:05:48,344] Trial 34 finished with value: 0.8161657350289859 and parameters: {'regressor': 'Extra_Tree', 'model__n_estimators': 243, 'model__max_depth': 29, 'model__min_samples_split': 4, 'model__min_samples_leaf': 3, 'model__max_features': 'sqrt', 'model__bootstrap': False}. Best is trial 27 with value: 0.8701468690449927.\n",
      "[I 2025-08-29 10:05:50,322] Trial 35 finished with value: 0.8605036754717403 and parameters: {'regressor': 'Extra_Tree', 'model__n_estimators': 325, 'model__max_depth': 36, 'model__min_samples_split': 6, 'model__min_samples_leaf': 1, 'model__max_features': 0.7, 'model__bootstrap': True}. Best is trial 27 with value: 0.8701468690449927.\n",
      "[I 2025-08-29 10:05:51,262] Trial 36 finished with value: 0.8639929719185446 and parameters: {'regressor': 'Extra_Tree', 'model__n_estimators': 160, 'model__max_depth': 34, 'model__min_samples_split': 3, 'model__min_samples_leaf': 2, 'model__max_features': 0.7, 'model__bootstrap': False}. Best is trial 27 with value: 0.8701468690449927.\n",
      "[I 2025-08-29 10:05:53,010] Trial 37 finished with value: 0.8457306095237082 and parameters: {'regressor': 'Extra_Tree', 'model__n_estimators': 300, 'model__max_depth': 21, 'model__min_samples_split': 13, 'model__min_samples_leaf': 1, 'model__max_features': 0.5, 'model__bootstrap': True}. Best is trial 27 with value: 0.8701468690449927.\n",
      "[I 2025-08-29 10:05:54,075] Trial 38 finished with value: 0.8370080672443212 and parameters: {'regressor': 'Extra_Tree', 'model__n_estimators': 215, 'model__max_depth': 17, 'model__min_samples_split': 7, 'model__min_samples_leaf': 7, 'model__max_features': 0.7, 'model__bootstrap': False}. Best is trial 27 with value: 0.8701468690449927.\n",
      "[I 2025-08-29 10:05:55,732] Trial 39 finished with value: 0.842265189437531 and parameters: {'regressor': 'Extra_Tree', 'model__n_estimators': 281, 'model__max_depth': 32, 'model__min_samples_split': 5, 'model__min_samples_leaf': 1, 'model__max_features': 0.3, 'model__bootstrap': True}. Best is trial 27 with value: 0.8701468690449927.\n",
      "[I 2025-08-29 10:05:57,058] Trial 40 finished with value: 0.8082039241934813 and parameters: {'regressor': 'Extra_Tree', 'model__n_estimators': 319, 'model__max_depth': 26, 'model__min_samples_split': 2, 'model__min_samples_leaf': 4, 'model__max_features': 'sqrt', 'model__bootstrap': False}. Best is trial 27 with value: 0.8701468690449927.\n",
      "[I 2025-08-29 10:05:58,364] Trial 41 finished with value: 0.8648113204382879 and parameters: {'regressor': 'Extra_Tree', 'model__n_estimators': 272, 'model__max_depth': 23, 'model__min_samples_split': 5, 'model__min_samples_leaf': 1, 'model__max_features': 0.5, 'model__bootstrap': False}. Best is trial 27 with value: 0.8701468690449927.\n",
      "[I 2025-08-29 10:05:59,591] Trial 42 finished with value: 0.8663173410408573 and parameters: {'regressor': 'Extra_Tree', 'model__n_estimators': 239, 'model__max_depth': 24, 'model__min_samples_split': 4, 'model__min_samples_leaf': 1, 'model__max_features': 0.5, 'model__bootstrap': False}. Best is trial 27 with value: 0.8701468690449927.\n",
      "[I 2025-08-29 10:06:00,766] Trial 43 finished with value: 0.8587191430954147 and parameters: {'regressor': 'Extra_Tree', 'model__n_estimators': 234, 'model__max_depth': 19, 'model__min_samples_split': 3, 'model__min_samples_leaf': 2, 'model__max_features': 0.5, 'model__bootstrap': False}. Best is trial 27 with value: 0.8701468690449927.\n",
      "[I 2025-08-29 10:06:01,615] Trial 44 finished with value: 0.8664103829881661 and parameters: {'regressor': 'Extra_Tree', 'model__n_estimators': 137, 'model__max_depth': 26, 'model__min_samples_split': 4, 'model__min_samples_leaf': 1, 'model__max_features': 0.5, 'model__bootstrap': False}. Best is trial 27 with value: 0.8701468690449927.\n",
      "[I 2025-08-29 10:06:02,460] Trial 45 finished with value: 0.8177203538936546 and parameters: {'regressor': 'Extra_Tree', 'model__n_estimators': 111, 'model__max_depth': 27, 'model__min_samples_split': 6, 'model__min_samples_leaf': 10, 'model__max_features': 0.7, 'model__bootstrap': True}. Best is trial 27 with value: 0.8701468690449927.\n",
      "[I 2025-08-29 10:06:02,942] Trial 46 finished with value: 0.8162303159126895 and parameters: {'regressor': 'Extra_Tree', 'model__n_estimators': 59, 'model__max_depth': 21, 'model__min_samples_split': 2, 'model__min_samples_leaf': 3, 'model__max_features': 'log2', 'model__bootstrap': False}. Best is trial 27 with value: 0.8701468690449927.\n",
      "[I 2025-08-29 10:06:03,773] Trial 47 finished with value: 0.8519095386228941 and parameters: {'regressor': 'Extra_Tree', 'model__n_estimators': 154, 'model__max_depth': 48, 'model__min_samples_split': 11, 'model__min_samples_leaf': 2, 'model__max_features': 0.5, 'model__bootstrap': False}. Best is trial 27 with value: 0.8701468690449927.\n",
      "[I 2025-08-29 10:06:04,851] Trial 48 finished with value: 0.8664385056146241 and parameters: {'regressor': 'Extra_Tree', 'model__n_estimators': 192, 'model__max_depth': 30, 'model__min_samples_split': 8, 'model__min_samples_leaf': 1, 'model__max_features': 0.7, 'model__bootstrap': False}. Best is trial 27 with value: 0.8701468690449927.\n",
      "[I 2025-08-29 10:06:06,343] Trial 49 finished with value: 0.8613001908504485 and parameters: {'regressor': 'Extra_Tree', 'model__n_estimators': 306, 'model__max_depth': 34, 'model__min_samples_split': 8, 'model__min_samples_leaf': 2, 'model__max_features': 0.7, 'model__bootstrap': False}. Best is trial 27 with value: 0.8701468690449927.\n",
      "[I 2025-08-29 10:06:07,632] Trial 50 finished with value: 0.8582934347127665 and parameters: {'regressor': 'Extra_Tree', 'model__n_estimators': 195, 'model__max_depth': 45, 'model__min_samples_split': 8, 'model__min_samples_leaf': 1, 'model__max_features': 0.7, 'model__bootstrap': True}. Best is trial 27 with value: 0.8701468690449927.\n",
      "[I 2025-08-29 10:06:08,422] Trial 51 finished with value: 0.868905241049027 and parameters: {'regressor': 'Extra_Tree', 'model__n_estimators': 114, 'model__max_depth': 39, 'model__min_samples_split': 4, 'model__min_samples_leaf': 1, 'model__max_features': 0.7, 'model__bootstrap': False}. Best is trial 27 with value: 0.8701468690449927.\n",
      "[I 2025-08-29 10:06:09,267] Trial 52 finished with value: 0.8695253659988623 and parameters: {'regressor': 'Extra_Tree', 'model__n_estimators': 117, 'model__max_depth': 39, 'model__min_samples_split': 3, 'model__min_samples_leaf': 1, 'model__max_features': 0.7, 'model__bootstrap': False}. Best is trial 27 with value: 0.8701468690449927.\n",
      "[I 2025-08-29 10:06:10,078] Trial 53 finished with value: 0.8691552220643869 and parameters: {'regressor': 'Extra_Tree', 'model__n_estimators': 111, 'model__max_depth': 40, 'model__min_samples_split': 3, 'model__min_samples_leaf': 1, 'model__max_features': 0.7, 'model__bootstrap': False}. Best is trial 27 with value: 0.8701468690449927.\n",
      "[I 2025-08-29 10:06:10,677] Trial 54 finished with value: 0.8637280732606376 and parameters: {'regressor': 'Extra_Tree', 'model__n_estimators': 80, 'model__max_depth': 46, 'model__min_samples_split': 2, 'model__min_samples_leaf': 2, 'model__max_features': 0.7, 'model__bootstrap': False}. Best is trial 27 with value: 0.8701468690449927.\n",
      "[I 2025-08-29 10:06:11,257] Trial 55 finished with value: 0.8581019253525397 and parameters: {'regressor': 'Extra_Tree', 'model__n_estimators': 81, 'model__max_depth': 42, 'model__min_samples_split': 3, 'model__min_samples_leaf': 3, 'model__max_features': 0.7, 'model__bootstrap': False}. Best is trial 27 with value: 0.8701468690449927.\n",
      "[I 2025-08-29 10:06:12,100] Trial 56 finished with value: 0.8346859537104226 and parameters: {'regressor': 'Extra_Tree', 'model__n_estimators': 165, 'model__max_depth': 40, 'model__min_samples_split': 3, 'model__min_samples_leaf': 8, 'model__max_features': 0.7, 'model__bootstrap': False}. Best is trial 27 with value: 0.8701468690449927.\n",
      "[I 2025-08-29 10:06:13,664] Trial 57 finished with value: 0.8417153694721933 and parameters: {'regressor': 'Extra_Tree', 'model__n_estimators': 370, 'model__max_depth': 50, 'model__min_samples_split': 2, 'model__min_samples_leaf': 2, 'model__max_features': 0.3, 'model__bootstrap': False}. Best is trial 27 with value: 0.8701468690449927.\n",
      "[I 2025-08-29 10:06:14,441] Trial 58 finished with value: 0.8570344798841756 and parameters: {'regressor': 'Extra_Tree', 'model__n_estimators': 129, 'model__max_depth': 45, 'model__min_samples_split': 18, 'model__min_samples_leaf': 1, 'model__max_features': 0.7, 'model__bootstrap': False}. Best is trial 27 with value: 0.8701468690449927.\n",
      "[I 2025-08-29 10:06:14,872] Trial 59 finished with value: 0.8601551309920218 and parameters: {'regressor': 'Extra_Tree', 'model__n_estimators': 37, 'model__max_depth': 48, 'model__min_samples_split': 6, 'model__min_samples_leaf': 2, 'model__max_features': 0.7, 'model__bootstrap': False}. Best is trial 27 with value: 0.8701468690449927.\n",
      "[I 2025-08-29 10:06:16,270] Trial 60 finished with value: 0.7906238424471101 and parameters: {'regressor': 'Extra_Tree', 'model__n_estimators': 338, 'model__max_depth': 35, 'model__min_samples_split': 15, 'model__min_samples_leaf': 6, 'model__max_features': 'sqrt', 'model__bootstrap': False}. Best is trial 27 with value: 0.8701468690449927.\n",
      "[I 2025-08-29 10:06:17,052] Trial 61 finished with value: 0.8689582722675514 and parameters: {'regressor': 'Extra_Tree', 'model__n_estimators': 109, 'model__max_depth': 39, 'model__min_samples_split': 4, 'model__min_samples_leaf': 1, 'model__max_features': 0.7, 'model__bootstrap': False}. Best is trial 27 with value: 0.8701468690449927.\n",
      "[I 2025-08-29 10:06:17,735] Trial 62 finished with value: 0.8668092037781256 and parameters: {'regressor': 'Extra_Tree', 'model__n_estimators': 89, 'model__max_depth': 41, 'model__min_samples_split': 5, 'model__min_samples_leaf': 1, 'model__max_features': 0.7, 'model__bootstrap': False}. Best is trial 27 with value: 0.8701468690449927.\n",
      "[I 2025-08-29 10:06:18,306] Trial 63 finished with value: 0.8679858178818177 and parameters: {'regressor': 'Extra_Tree', 'model__n_estimators': 68, 'model__max_depth': 38, 'model__min_samples_split': 4, 'model__min_samples_leaf': 1, 'model__max_features': 0.7, 'model__bootstrap': False}. Best is trial 27 with value: 0.8701468690449927.\n",
      "[I 2025-08-29 10:06:19,791] Trial 64 finished with value: 0.8642022609367315 and parameters: {'regressor': 'Extra_Tree', 'model__n_estimators': 292, 'model__max_depth': 28, 'model__min_samples_split': 3, 'model__min_samples_leaf': 2, 'model__max_features': 0.7, 'model__bootstrap': False}. Best is trial 27 with value: 0.8701468690449927.\n",
      "[I 2025-08-29 10:06:20,340] Trial 65 finished with value: 0.8659187100936903 and parameters: {'regressor': 'Extra_Tree', 'model__n_estimators': 53, 'model__max_depth': 44, 'model__min_samples_split': 5, 'model__min_samples_leaf': 1, 'model__max_features': 0.9, 'model__bootstrap': False}. Best is trial 27 with value: 0.8701468690449927.\n",
      "[I 2025-08-29 10:06:21,482] Trial 66 finished with value: 0.832685796170135 and parameters: {'regressor': 'Extra_Tree', 'model__n_estimators': 255, 'model__max_depth': 47, 'model__min_samples_split': 2, 'model__min_samples_leaf': 2, 'model__max_features': 'log2', 'model__bootstrap': False}. Best is trial 27 with value: 0.8701468690449927.\n",
      "[I 2025-08-29 10:06:22,339] Trial 67 finished with value: 0.8695218058476778 and parameters: {'regressor': 'Extra_Tree', 'model__n_estimators': 126, 'model__max_depth': 42, 'model__min_samples_split': 3, 'model__min_samples_leaf': 1, 'model__max_features': 0.7, 'model__bootstrap': False}. Best is trial 27 with value: 0.8701468690449927.\n",
      "[I 2025-08-29 10:06:23,211] Trial 68 finished with value: 0.863957098159769 and parameters: {'regressor': 'Extra_Tree', 'model__n_estimators': 140, 'model__max_depth': 42, 'model__min_samples_split': 3, 'model__min_samples_leaf': 2, 'model__max_features': 0.7, 'model__bootstrap': False}. Best is trial 27 with value: 0.8701468690449927.\n",
      "[I 2025-08-29 10:06:24,351] Trial 69 finished with value: 0.8696617997257394 and parameters: {'regressor': 'Extra_Tree', 'model__n_estimators': 176, 'model__max_depth': 43, 'model__min_samples_split': 2, 'model__min_samples_leaf': 1, 'model__max_features': 0.7, 'model__bootstrap': False}. Best is trial 27 with value: 0.8701468690449927.\n",
      "[I 2025-08-29 10:06:25,719] Trial 70 finished with value: 0.8355975407517404 and parameters: {'regressor': 'Extra_Tree', 'model__n_estimators': 217, 'model__max_depth': 47, 'model__min_samples_split': 2, 'model__min_samples_leaf': 5, 'model__max_features': 0.7, 'model__bootstrap': True}. Best is trial 27 with value: 0.8701468690449927.\n",
      "[I 2025-08-29 10:06:26,722] Trial 71 finished with value: 0.8696289812279773 and parameters: {'regressor': 'Extra_Tree', 'model__n_estimators': 161, 'model__max_depth': 43, 'model__min_samples_split': 3, 'model__min_samples_leaf': 1, 'model__max_features': 0.7, 'model__bootstrap': False}. Best is trial 27 with value: 0.8701468690449927.\n",
      "[I 2025-08-29 10:06:27,732] Trial 72 finished with value: 0.8697135219468146 and parameters: {'regressor': 'Extra_Tree', 'model__n_estimators': 169, 'model__max_depth': 43, 'model__min_samples_split': 4, 'model__min_samples_leaf': 1, 'model__max_features': 0.7, 'model__bootstrap': False}. Best is trial 27 with value: 0.8701468690449927.\n",
      "[I 2025-08-29 10:06:28,810] Trial 73 finished with value: 0.8695736184393006 and parameters: {'regressor': 'Extra_Tree', 'model__n_estimators': 181, 'model__max_depth': 43, 'model__min_samples_split': 4, 'model__min_samples_leaf': 1, 'model__max_features': 0.7, 'model__bootstrap': False}. Best is trial 27 with value: 0.8701468690449927.\n",
      "[I 2025-08-29 10:06:29,719] Trial 74 finished with value: 0.8612847230326466 and parameters: {'regressor': 'Extra_Tree', 'model__n_estimators': 165, 'model__max_depth': 49, 'model__min_samples_split': 7, 'model__min_samples_leaf': 2, 'model__max_features': 0.7, 'model__bootstrap': False}. Best is trial 27 with value: 0.8701468690449927.\n",
      "[I 2025-08-29 10:06:30,670] Trial 75 finished with value: 0.8543312995016314 and parameters: {'regressor': 'Extra_Tree', 'model__n_estimators': 176, 'model__max_depth': 44, 'model__min_samples_split': 4, 'model__min_samples_leaf': 1, 'model__max_features': 0.3, 'model__bootstrap': False}. Best is trial 27 with value: 0.8701468690449927.\n",
      "[I 2025-08-29 10:06:31,939] Trial 76 finished with value: 0.8696931555449318 and parameters: {'regressor': 'Extra_Tree', 'model__n_estimators': 209, 'model__max_depth': 43, 'model__min_samples_split': 5, 'model__min_samples_leaf': 1, 'model__max_features': 0.9, 'model__bootstrap': False}. Best is trial 27 with value: 0.8701468690449927.\n",
      "[I 2025-08-29 10:06:33,205] Trial 77 finished with value: 0.8651915679685912 and parameters: {'regressor': 'Extra_Tree', 'model__n_estimators': 206, 'model__max_depth': 25, 'model__min_samples_split': 5, 'model__min_samples_leaf': 2, 'model__max_features': 0.9, 'model__bootstrap': False}. Best is trial 27 with value: 0.8701468690449927.\n",
      "[I 2025-08-29 10:06:34,474] Trial 78 finished with value: 0.8694864446948841 and parameters: {'regressor': 'Extra_Tree', 'model__n_estimators': 221, 'model__max_depth': 46, 'model__min_samples_split': 6, 'model__min_samples_leaf': 1, 'model__max_features': 0.9, 'model__bootstrap': False}. Best is trial 27 with value: 0.8701468690449927.\n",
      "[I 2025-08-29 10:06:35,820] Trial 79 finished with value: 0.8595729586804826 and parameters: {'regressor': 'Extra_Tree', 'model__n_estimators': 253, 'model__max_depth': 18, 'model__min_samples_split': 2, 'model__min_samples_leaf': 3, 'model__max_features': 0.9, 'model__bootstrap': False}. Best is trial 27 with value: 0.8701468690449927.\n",
      "[I 2025-08-29 10:06:37,546] Trial 80 finished with value: 0.8638735347077363 and parameters: {'regressor': 'Extra_Tree', 'model__n_estimators': 275, 'model__max_depth': 23, 'model__min_samples_split': 5, 'model__min_samples_leaf': 1, 'model__max_features': 0.9, 'model__bootstrap': True}. Best is trial 27 with value: 0.8701468690449927.\n",
      "[I 2025-08-29 10:06:38,737] Trial 81 finished with value: 0.8697760905977923 and parameters: {'regressor': 'Extra_Tree', 'model__n_estimators': 203, 'model__max_depth': 44, 'model__min_samples_split': 4, 'model__min_samples_leaf': 1, 'model__max_features': 0.7, 'model__bootstrap': False}. Best is trial 27 with value: 0.8701468690449927.\n",
      "[I 2025-08-29 10:06:39,643] Trial 82 finished with value: 0.869443878974482 and parameters: {'regressor': 'Extra_Tree', 'model__n_estimators': 145, 'model__max_depth': 44, 'model__min_samples_split': 4, 'model__min_samples_leaf': 1, 'model__max_features': 0.7, 'model__bootstrap': False}. Best is trial 27 with value: 0.8701468690449927.\n",
      "[I 2025-08-29 10:06:40,736] Trial 83 finished with value: 0.8472675340267267 and parameters: {'regressor': 'Extra_Tree', 'model__n_estimators': 227, 'model__max_depth': 22, 'model__min_samples_split': 4, 'model__min_samples_leaf': 1, 'model__max_features': 'sqrt', 'model__bootstrap': False}. Best is trial 27 with value: 0.8701468690449927.\n",
      "[I 2025-08-29 10:06:41,738] Trial 84 finished with value: 0.820632949800617 and parameters: {'regressor': 'Extra_Tree', 'model__n_estimators': 203, 'model__max_depth': 46, 'model__min_samples_split': 12, 'model__min_samples_leaf': 2, 'model__max_features': 'log2', 'model__bootstrap': False}. Best is trial 27 with value: 0.8701468690449927.\n",
      "[I 2025-08-29 10:06:43,560] Trial 85 finished with value: 0.8695881090840398 and parameters: {'regressor': 'Extra_Tree', 'model__n_estimators': 312, 'model__max_depth': 45, 'model__min_samples_split': 2, 'model__min_samples_leaf': 1, 'model__max_features': 0.7, 'model__bootstrap': False}. Best is trial 27 with value: 0.8701468690449927.\n",
      "[I 2025-08-29 10:06:45,026] Trial 86 finished with value: 0.8641400655468969 and parameters: {'regressor': 'Extra_Tree', 'model__n_estimators': 246, 'model__max_depth': 41, 'model__min_samples_split': 3, 'model__min_samples_leaf': 2, 'model__max_features': 0.7, 'model__bootstrap': False}. Best is trial 27 with value: 0.8701468690449927.\n",
      "[I 2025-08-29 10:06:46,361] Trial 87 finished with value: 0.8682005383110682 and parameters: {'regressor': 'Extra_Tree', 'model__n_estimators': 262, 'model__max_depth': 49, 'model__min_samples_split': 6, 'model__min_samples_leaf': 1, 'model__max_features': 0.7, 'model__bootstrap': False}. Best is trial 27 with value: 0.8701468690449927.\n",
      "[I 2025-08-29 10:06:47,901] Trial 88 finished with value: 0.8651945252292176 and parameters: {'regressor': 'Extra_Tree', 'model__n_estimators': 288, 'model__max_depth': 43, 'model__min_samples_split': 5, 'model__min_samples_leaf': 2, 'model__max_features': 0.9, 'model__bootstrap': False}. Best is trial 27 with value: 0.8701468690449927.\n",
      "[I 2025-08-29 10:06:48,919] Trial 89 finished with value: 0.8695348629448146 and parameters: {'regressor': 'Extra_Tree', 'model__n_estimators': 176, 'model__max_depth': 27, 'model__min_samples_split': 4, 'model__min_samples_leaf': 1, 'model__max_features': 0.7, 'model__bootstrap': False}. Best is trial 27 with value: 0.8701468690449927.\n",
      "[I 2025-08-29 10:06:49,984] Trial 90 finished with value: 0.8651841849348563 and parameters: {'regressor': 'Extra_Tree', 'model__n_estimators': 195, 'model__max_depth': 25, 'model__min_samples_split': 10, 'model__min_samples_leaf': 1, 'model__max_features': 0.7, 'model__bootstrap': False}. Best is trial 27 with value: 0.8701468690449927.\n",
      "[I 2025-08-29 10:06:51,884] Trial 91 finished with value: 0.8695427851900052 and parameters: {'regressor': 'Extra_Tree', 'model__n_estimators': 313, 'model__max_depth': 45, 'model__min_samples_split': 2, 'model__min_samples_leaf': 1, 'model__max_features': 0.7, 'model__bootstrap': False}. Best is trial 27 with value: 0.8701468690449927.\n",
      "[I 2025-08-29 10:06:53,758] Trial 92 finished with value: 0.8695478917763673 and parameters: {'regressor': 'Extra_Tree', 'model__n_estimators': 324, 'model__max_depth': 47, 'model__min_samples_split': 2, 'model__min_samples_leaf': 1, 'model__max_features': 0.7, 'model__bootstrap': False}. Best is trial 27 with value: 0.8701468690449927.\n",
      "[I 2025-08-29 10:06:55,383] Trial 93 finished with value: 0.8698946083092306 and parameters: {'regressor': 'Extra_Tree', 'model__n_estimators': 298, 'model__max_depth': 44, 'model__min_samples_split': 3, 'model__min_samples_leaf': 1, 'model__max_features': 0.7, 'model__bootstrap': False}. Best is trial 27 with value: 0.8701468690449927.\n",
      "[I 2025-08-29 10:06:56,289] Trial 94 finished with value: 0.8640421316828304 and parameters: {'regressor': 'Extra_Tree', 'model__n_estimators': 149, 'model__max_depth': 37, 'model__min_samples_split': 3, 'model__min_samples_leaf': 2, 'model__max_features': 0.7, 'model__bootstrap': False}. Best is trial 27 with value: 0.8701468690449927.\n",
      "[I 2025-08-29 10:06:57,918] Trial 95 finished with value: 0.8699255624073914 and parameters: {'regressor': 'Extra_Tree', 'model__n_estimators': 296, 'model__max_depth': 43, 'model__min_samples_split': 3, 'model__min_samples_leaf': 1, 'model__max_features': 0.7, 'model__bootstrap': False}. Best is trial 27 with value: 0.8701468690449927.\n",
      "[I 2025-08-29 10:06:59,389] Trial 96 finished with value: 0.8541242094887513 and parameters: {'regressor': 'Extra_Tree', 'model__n_estimators': 332, 'model__max_depth': 20, 'model__min_samples_split': 4, 'model__min_samples_leaf': 1, 'model__max_features': 0.3, 'model__bootstrap': False}. Best is trial 27 with value: 0.8701468690449927.\n",
      "[I 2025-08-29 10:07:00,897] Trial 97 finished with value: 0.8632400665595569 and parameters: {'regressor': 'Extra_Tree', 'model__n_estimators': 302, 'model__max_depth': 41, 'model__min_samples_split': 5, 'model__min_samples_leaf': 2, 'model__max_features': 0.7, 'model__bootstrap': False}. Best is trial 27 with value: 0.8701468690449927.\n",
      "[I 2025-08-29 10:07:02,589] Trial 98 finished with value: 0.8633247238719213 and parameters: {'regressor': 'Extra_Tree', 'model__n_estimators': 273, 'model__max_depth': 49, 'model__min_samples_split': 4, 'model__min_samples_leaf': 1, 'model__max_features': 0.7, 'model__bootstrap': True}. Best is trial 27 with value: 0.8701468690449927.\n",
      "[I 2025-08-29 10:07:04,031] Trial 99 finished with value: 0.8166684438763493 and parameters: {'regressor': 'Extra_Tree', 'model__n_estimators': 351, 'model__max_depth': 15, 'model__min_samples_split': 20, 'model__min_samples_leaf': 1, 'model__max_features': 'sqrt', 'model__bootstrap': False}. Best is trial 27 with value: 0.8701468690449927.\n"
     ]
    }
   ],
   "source": [
    "study = optuna.create_study(direction='maximize',sampler=optuna.samplers.TPESampler(seed=0))\n",
    "study.optimize(lambda trial : objective(trial,Target_preprocessor),n_trials=100,n_jobs=1)"
   ]
  },
  {
   "cell_type": "code",
   "execution_count": 58,
   "id": "a78c996c",
   "metadata": {},
   "outputs": [
    {
     "data": {
      "text/plain": [
       "{'regressor': 'Extra_Tree',\n",
       " 'model__n_estimators': 263,\n",
       " 'model__max_depth': 24,\n",
       " 'model__min_samples_split': 3,\n",
       " 'model__min_samples_leaf': 1,\n",
       " 'model__max_features': 0.7,\n",
       " 'model__bootstrap': False}"
      ]
     },
     "execution_count": 58,
     "metadata": {},
     "output_type": "execute_result"
    }
   ],
   "source": [
    "study.best_params"
   ]
  },
  {
   "cell_type": "code",
   "execution_count": 59,
   "id": "63e3b516",
   "metadata": {},
   "outputs": [
    {
     "data": {
      "text/plain": [
       "0.8701468690449927"
      ]
     },
     "execution_count": 59,
     "metadata": {},
     "output_type": "execute_result"
    }
   ],
   "source": [
    "study.best_value"
   ]
  },
  {
   "cell_type": "code",
   "execution_count": 60,
   "id": "f2d77649",
   "metadata": {},
   "outputs": [
    {
     "name": "stdout",
     "output_type": "stream",
     "text": [
      "Test_MSE:1.496080557287415\n",
      "Test_MAE:0.4840356889392869\n",
      "Test_R2:0.7993252671947587\n"
     ]
    }
   ],
   "source": [
    "final_model = study.best_trial.user_attrs['model']\n",
    "final_model.fit(x_train,y_train)\n",
    "y_pred = final_model.predict(x_test)\n",
    "\n",
    "y_pred = np.expm1(y_pred)\n",
    "y_test = np.expm1(y_test)\n",
    "\n",
    "print(f\"Test_MSE:{mean_squared_error(y_test,y_pred)}\")\n",
    "print(f\"Test_MAE:{mean_absolute_error(y_test,y_pred)}\")\n",
    "print(f\"Test_R2:{r2_score(y_test,y_pred)}\")"
   ]
  },
  {
   "cell_type": "code",
   "execution_count": 61,
   "id": "8fdf9b96",
   "metadata": {},
   "outputs": [
    {
     "data": {
      "application/vnd.plotly.v1+json": {
       "config": {
        "plotlyServerURL": "https://plot.ly"
       },
       "data": [
        {
         "mode": "markers",
         "name": "Objective Value",
         "type": "scatter",
         "x": [
          0,
          1,
          2,
          3,
          4,
          5,
          6,
          7,
          8,
          9,
          10,
          11,
          12,
          13,
          14,
          15,
          16,
          17,
          18,
          19,
          20,
          21,
          22,
          23,
          24,
          25,
          26,
          27,
          28,
          29,
          30,
          31,
          32,
          33,
          34,
          35,
          36,
          37,
          38,
          39,
          40,
          41,
          42,
          43,
          44,
          45,
          46,
          47,
          48,
          49,
          50,
          51,
          52,
          53,
          54,
          55,
          56,
          57,
          58,
          59,
          60,
          61,
          62,
          63,
          64,
          65,
          66,
          67,
          68,
          69,
          70,
          71,
          72,
          73,
          74,
          75,
          76,
          77,
          78,
          79,
          80,
          81,
          82,
          83,
          84,
          85,
          86,
          87,
          88,
          89,
          90,
          91,
          92,
          93,
          94,
          95,
          96,
          97,
          98,
          99
         ],
         "y": [
          0.8316059040180843,
          0.8699139736316523,
          0.8182471720727941,
          0.7850994799611092,
          0.7836876568322214,
          0.8378882714757536,
          0.8617694221389923,
          0.8198813697082856,
          0.7684489565448352,
          0.8196965585777555,
          0.8210450050484848,
          0.8601793235258975,
          0.8602339466869239,
          0.8616040160076149,
          0.8046115295467144,
          0.7829458778013415,
          0.854045397266753,
          0.854391974523957,
          0.8621992912078023,
          0.8632005480189544,
          0.8444069654665032,
          0.8600817359375261,
          0.8644443795921882,
          0.8517019801914513,
          0.855175132339775,
          0.835069001807297,
          0.8700567687702818,
          0.8701468690449927,
          0.8575994096766342,
          0.841647702538614,
          0.8498419478472353,
          0.8696645678780583,
          0.8650351580663116,
          0.8320539953462124,
          0.8161657350289859,
          0.8605036754717403,
          0.8639929719185446,
          0.8457306095237082,
          0.8370080672443212,
          0.842265189437531,
          0.8082039241934813,
          0.8648113204382879,
          0.8663173410408573,
          0.8587191430954147,
          0.8664103829881661,
          0.8177203538936546,
          0.8162303159126895,
          0.8519095386228941,
          0.8664385056146241,
          0.8613001908504485,
          0.8582934347127665,
          0.868905241049027,
          0.8695253659988623,
          0.8691552220643869,
          0.8637280732606376,
          0.8581019253525397,
          0.8346859537104226,
          0.8417153694721933,
          0.8570344798841756,
          0.8601551309920218,
          0.7906238424471101,
          0.8689582722675514,
          0.8668092037781256,
          0.8679858178818177,
          0.8642022609367315,
          0.8659187100936903,
          0.832685796170135,
          0.8695218058476778,
          0.863957098159769,
          0.8696617997257394,
          0.8355975407517404,
          0.8696289812279773,
          0.8697135219468146,
          0.8695736184393006,
          0.8612847230326466,
          0.8543312995016314,
          0.8696931555449318,
          0.8651915679685912,
          0.8694864446948841,
          0.8595729586804826,
          0.8638735347077363,
          0.8697760905977923,
          0.869443878974482,
          0.8472675340267267,
          0.820632949800617,
          0.8695881090840398,
          0.8641400655468969,
          0.8682005383110682,
          0.8651945252292176,
          0.8695348629448146,
          0.8651841849348563,
          0.8695427851900052,
          0.8695478917763673,
          0.8698946083092306,
          0.8640421316828304,
          0.8699255624073914,
          0.8541242094887513,
          0.8632400665595569,
          0.8633247238719213,
          0.8166684438763493
         ]
        },
        {
         "mode": "lines",
         "name": "Best Value",
         "type": "scatter",
         "x": [
          0,
          1,
          2,
          3,
          4,
          5,
          6,
          7,
          8,
          9,
          10,
          11,
          12,
          13,
          14,
          15,
          16,
          17,
          18,
          19,
          20,
          21,
          22,
          23,
          24,
          25,
          26,
          27,
          28,
          29,
          30,
          31,
          32,
          33,
          34,
          35,
          36,
          37,
          38,
          39,
          40,
          41,
          42,
          43,
          44,
          45,
          46,
          47,
          48,
          49,
          50,
          51,
          52,
          53,
          54,
          55,
          56,
          57,
          58,
          59,
          60,
          61,
          62,
          63,
          64,
          65,
          66,
          67,
          68,
          69,
          70,
          71,
          72,
          73,
          74,
          75,
          76,
          77,
          78,
          79,
          80,
          81,
          82,
          83,
          84,
          85,
          86,
          87,
          88,
          89,
          90,
          91,
          92,
          93,
          94,
          95,
          96,
          97,
          98,
          99
         ],
         "y": [
          0.8316059040180843,
          0.8699139736316523,
          0.8699139736316523,
          0.8699139736316523,
          0.8699139736316523,
          0.8699139736316523,
          0.8699139736316523,
          0.8699139736316523,
          0.8699139736316523,
          0.8699139736316523,
          0.8699139736316523,
          0.8699139736316523,
          0.8699139736316523,
          0.8699139736316523,
          0.8699139736316523,
          0.8699139736316523,
          0.8699139736316523,
          0.8699139736316523,
          0.8699139736316523,
          0.8699139736316523,
          0.8699139736316523,
          0.8699139736316523,
          0.8699139736316523,
          0.8699139736316523,
          0.8699139736316523,
          0.8699139736316523,
          0.8700567687702818,
          0.8701468690449927,
          0.8701468690449927,
          0.8701468690449927,
          0.8701468690449927,
          0.8701468690449927,
          0.8701468690449927,
          0.8701468690449927,
          0.8701468690449927,
          0.8701468690449927,
          0.8701468690449927,
          0.8701468690449927,
          0.8701468690449927,
          0.8701468690449927,
          0.8701468690449927,
          0.8701468690449927,
          0.8701468690449927,
          0.8701468690449927,
          0.8701468690449927,
          0.8701468690449927,
          0.8701468690449927,
          0.8701468690449927,
          0.8701468690449927,
          0.8701468690449927,
          0.8701468690449927,
          0.8701468690449927,
          0.8701468690449927,
          0.8701468690449927,
          0.8701468690449927,
          0.8701468690449927,
          0.8701468690449927,
          0.8701468690449927,
          0.8701468690449927,
          0.8701468690449927,
          0.8701468690449927,
          0.8701468690449927,
          0.8701468690449927,
          0.8701468690449927,
          0.8701468690449927,
          0.8701468690449927,
          0.8701468690449927,
          0.8701468690449927,
          0.8701468690449927,
          0.8701468690449927,
          0.8701468690449927,
          0.8701468690449927,
          0.8701468690449927,
          0.8701468690449927,
          0.8701468690449927,
          0.8701468690449927,
          0.8701468690449927,
          0.8701468690449927,
          0.8701468690449927,
          0.8701468690449927,
          0.8701468690449927,
          0.8701468690449927,
          0.8701468690449927,
          0.8701468690449927,
          0.8701468690449927,
          0.8701468690449927,
          0.8701468690449927,
          0.8701468690449927,
          0.8701468690449927,
          0.8701468690449927,
          0.8701468690449927,
          0.8701468690449927,
          0.8701468690449927,
          0.8701468690449927,
          0.8701468690449927,
          0.8701468690449927,
          0.8701468690449927,
          0.8701468690449927,
          0.8701468690449927,
          0.8701468690449927
         ]
        },
        {
         "marker": {
          "color": "#cccccc"
         },
         "mode": "markers",
         "name": "Infeasible Trial",
         "showlegend": false,
         "type": "scatter",
         "x": [],
         "y": []
        }
       ],
       "layout": {
        "template": {
         "data": {
          "bar": [
           {
            "error_x": {
             "color": "#2a3f5f"
            },
            "error_y": {
             "color": "#2a3f5f"
            },
            "marker": {
             "line": {
              "color": "#E5ECF6",
              "width": 0.5
             },
             "pattern": {
              "fillmode": "overlay",
              "size": 10,
              "solidity": 0.2
             }
            },
            "type": "bar"
           }
          ],
          "barpolar": [
           {
            "marker": {
             "line": {
              "color": "#E5ECF6",
              "width": 0.5
             },
             "pattern": {
              "fillmode": "overlay",
              "size": 10,
              "solidity": 0.2
             }
            },
            "type": "barpolar"
           }
          ],
          "carpet": [
           {
            "aaxis": {
             "endlinecolor": "#2a3f5f",
             "gridcolor": "white",
             "linecolor": "white",
             "minorgridcolor": "white",
             "startlinecolor": "#2a3f5f"
            },
            "baxis": {
             "endlinecolor": "#2a3f5f",
             "gridcolor": "white",
             "linecolor": "white",
             "minorgridcolor": "white",
             "startlinecolor": "#2a3f5f"
            },
            "type": "carpet"
           }
          ],
          "choropleth": [
           {
            "colorbar": {
             "outlinewidth": 0,
             "ticks": ""
            },
            "type": "choropleth"
           }
          ],
          "contour": [
           {
            "colorbar": {
             "outlinewidth": 0,
             "ticks": ""
            },
            "colorscale": [
             [
              0,
              "#0d0887"
             ],
             [
              0.1111111111111111,
              "#46039f"
             ],
             [
              0.2222222222222222,
              "#7201a8"
             ],
             [
              0.3333333333333333,
              "#9c179e"
             ],
             [
              0.4444444444444444,
              "#bd3786"
             ],
             [
              0.5555555555555556,
              "#d8576b"
             ],
             [
              0.6666666666666666,
              "#ed7953"
             ],
             [
              0.7777777777777778,
              "#fb9f3a"
             ],
             [
              0.8888888888888888,
              "#fdca26"
             ],
             [
              1,
              "#f0f921"
             ]
            ],
            "type": "contour"
           }
          ],
          "contourcarpet": [
           {
            "colorbar": {
             "outlinewidth": 0,
             "ticks": ""
            },
            "type": "contourcarpet"
           }
          ],
          "heatmap": [
           {
            "colorbar": {
             "outlinewidth": 0,
             "ticks": ""
            },
            "colorscale": [
             [
              0,
              "#0d0887"
             ],
             [
              0.1111111111111111,
              "#46039f"
             ],
             [
              0.2222222222222222,
              "#7201a8"
             ],
             [
              0.3333333333333333,
              "#9c179e"
             ],
             [
              0.4444444444444444,
              "#bd3786"
             ],
             [
              0.5555555555555556,
              "#d8576b"
             ],
             [
              0.6666666666666666,
              "#ed7953"
             ],
             [
              0.7777777777777778,
              "#fb9f3a"
             ],
             [
              0.8888888888888888,
              "#fdca26"
             ],
             [
              1,
              "#f0f921"
             ]
            ],
            "type": "heatmap"
           }
          ],
          "histogram": [
           {
            "marker": {
             "pattern": {
              "fillmode": "overlay",
              "size": 10,
              "solidity": 0.2
             }
            },
            "type": "histogram"
           }
          ],
          "histogram2d": [
           {
            "colorbar": {
             "outlinewidth": 0,
             "ticks": ""
            },
            "colorscale": [
             [
              0,
              "#0d0887"
             ],
             [
              0.1111111111111111,
              "#46039f"
             ],
             [
              0.2222222222222222,
              "#7201a8"
             ],
             [
              0.3333333333333333,
              "#9c179e"
             ],
             [
              0.4444444444444444,
              "#bd3786"
             ],
             [
              0.5555555555555556,
              "#d8576b"
             ],
             [
              0.6666666666666666,
              "#ed7953"
             ],
             [
              0.7777777777777778,
              "#fb9f3a"
             ],
             [
              0.8888888888888888,
              "#fdca26"
             ],
             [
              1,
              "#f0f921"
             ]
            ],
            "type": "histogram2d"
           }
          ],
          "histogram2dcontour": [
           {
            "colorbar": {
             "outlinewidth": 0,
             "ticks": ""
            },
            "colorscale": [
             [
              0,
              "#0d0887"
             ],
             [
              0.1111111111111111,
              "#46039f"
             ],
             [
              0.2222222222222222,
              "#7201a8"
             ],
             [
              0.3333333333333333,
              "#9c179e"
             ],
             [
              0.4444444444444444,
              "#bd3786"
             ],
             [
              0.5555555555555556,
              "#d8576b"
             ],
             [
              0.6666666666666666,
              "#ed7953"
             ],
             [
              0.7777777777777778,
              "#fb9f3a"
             ],
             [
              0.8888888888888888,
              "#fdca26"
             ],
             [
              1,
              "#f0f921"
             ]
            ],
            "type": "histogram2dcontour"
           }
          ],
          "mesh3d": [
           {
            "colorbar": {
             "outlinewidth": 0,
             "ticks": ""
            },
            "type": "mesh3d"
           }
          ],
          "parcoords": [
           {
            "line": {
             "colorbar": {
              "outlinewidth": 0,
              "ticks": ""
             }
            },
            "type": "parcoords"
           }
          ],
          "pie": [
           {
            "automargin": true,
            "type": "pie"
           }
          ],
          "scatter": [
           {
            "fillpattern": {
             "fillmode": "overlay",
             "size": 10,
             "solidity": 0.2
            },
            "type": "scatter"
           }
          ],
          "scatter3d": [
           {
            "line": {
             "colorbar": {
              "outlinewidth": 0,
              "ticks": ""
             }
            },
            "marker": {
             "colorbar": {
              "outlinewidth": 0,
              "ticks": ""
             }
            },
            "type": "scatter3d"
           }
          ],
          "scattercarpet": [
           {
            "marker": {
             "colorbar": {
              "outlinewidth": 0,
              "ticks": ""
             }
            },
            "type": "scattercarpet"
           }
          ],
          "scattergeo": [
           {
            "marker": {
             "colorbar": {
              "outlinewidth": 0,
              "ticks": ""
             }
            },
            "type": "scattergeo"
           }
          ],
          "scattergl": [
           {
            "marker": {
             "colorbar": {
              "outlinewidth": 0,
              "ticks": ""
             }
            },
            "type": "scattergl"
           }
          ],
          "scattermap": [
           {
            "marker": {
             "colorbar": {
              "outlinewidth": 0,
              "ticks": ""
             }
            },
            "type": "scattermap"
           }
          ],
          "scattermapbox": [
           {
            "marker": {
             "colorbar": {
              "outlinewidth": 0,
              "ticks": ""
             }
            },
            "type": "scattermapbox"
           }
          ],
          "scatterpolar": [
           {
            "marker": {
             "colorbar": {
              "outlinewidth": 0,
              "ticks": ""
             }
            },
            "type": "scatterpolar"
           }
          ],
          "scatterpolargl": [
           {
            "marker": {
             "colorbar": {
              "outlinewidth": 0,
              "ticks": ""
             }
            },
            "type": "scatterpolargl"
           }
          ],
          "scatterternary": [
           {
            "marker": {
             "colorbar": {
              "outlinewidth": 0,
              "ticks": ""
             }
            },
            "type": "scatterternary"
           }
          ],
          "surface": [
           {
            "colorbar": {
             "outlinewidth": 0,
             "ticks": ""
            },
            "colorscale": [
             [
              0,
              "#0d0887"
             ],
             [
              0.1111111111111111,
              "#46039f"
             ],
             [
              0.2222222222222222,
              "#7201a8"
             ],
             [
              0.3333333333333333,
              "#9c179e"
             ],
             [
              0.4444444444444444,
              "#bd3786"
             ],
             [
              0.5555555555555556,
              "#d8576b"
             ],
             [
              0.6666666666666666,
              "#ed7953"
             ],
             [
              0.7777777777777778,
              "#fb9f3a"
             ],
             [
              0.8888888888888888,
              "#fdca26"
             ],
             [
              1,
              "#f0f921"
             ]
            ],
            "type": "surface"
           }
          ],
          "table": [
           {
            "cells": {
             "fill": {
              "color": "#EBF0F8"
             },
             "line": {
              "color": "white"
             }
            },
            "header": {
             "fill": {
              "color": "#C8D4E3"
             },
             "line": {
              "color": "white"
             }
            },
            "type": "table"
           }
          ]
         },
         "layout": {
          "annotationdefaults": {
           "arrowcolor": "#2a3f5f",
           "arrowhead": 0,
           "arrowwidth": 1
          },
          "autotypenumbers": "strict",
          "coloraxis": {
           "colorbar": {
            "outlinewidth": 0,
            "ticks": ""
           }
          },
          "colorscale": {
           "diverging": [
            [
             0,
             "#8e0152"
            ],
            [
             0.1,
             "#c51b7d"
            ],
            [
             0.2,
             "#de77ae"
            ],
            [
             0.3,
             "#f1b6da"
            ],
            [
             0.4,
             "#fde0ef"
            ],
            [
             0.5,
             "#f7f7f7"
            ],
            [
             0.6,
             "#e6f5d0"
            ],
            [
             0.7,
             "#b8e186"
            ],
            [
             0.8,
             "#7fbc41"
            ],
            [
             0.9,
             "#4d9221"
            ],
            [
             1,
             "#276419"
            ]
           ],
           "sequential": [
            [
             0,
             "#0d0887"
            ],
            [
             0.1111111111111111,
             "#46039f"
            ],
            [
             0.2222222222222222,
             "#7201a8"
            ],
            [
             0.3333333333333333,
             "#9c179e"
            ],
            [
             0.4444444444444444,
             "#bd3786"
            ],
            [
             0.5555555555555556,
             "#d8576b"
            ],
            [
             0.6666666666666666,
             "#ed7953"
            ],
            [
             0.7777777777777778,
             "#fb9f3a"
            ],
            [
             0.8888888888888888,
             "#fdca26"
            ],
            [
             1,
             "#f0f921"
            ]
           ],
           "sequentialminus": [
            [
             0,
             "#0d0887"
            ],
            [
             0.1111111111111111,
             "#46039f"
            ],
            [
             0.2222222222222222,
             "#7201a8"
            ],
            [
             0.3333333333333333,
             "#9c179e"
            ],
            [
             0.4444444444444444,
             "#bd3786"
            ],
            [
             0.5555555555555556,
             "#d8576b"
            ],
            [
             0.6666666666666666,
             "#ed7953"
            ],
            [
             0.7777777777777778,
             "#fb9f3a"
            ],
            [
             0.8888888888888888,
             "#fdca26"
            ],
            [
             1,
             "#f0f921"
            ]
           ]
          },
          "colorway": [
           "#636efa",
           "#EF553B",
           "#00cc96",
           "#ab63fa",
           "#FFA15A",
           "#19d3f3",
           "#FF6692",
           "#B6E880",
           "#FF97FF",
           "#FECB52"
          ],
          "font": {
           "color": "#2a3f5f"
          },
          "geo": {
           "bgcolor": "white",
           "lakecolor": "white",
           "landcolor": "#E5ECF6",
           "showlakes": true,
           "showland": true,
           "subunitcolor": "white"
          },
          "hoverlabel": {
           "align": "left"
          },
          "hovermode": "closest",
          "mapbox": {
           "style": "light"
          },
          "paper_bgcolor": "white",
          "plot_bgcolor": "#E5ECF6",
          "polar": {
           "angularaxis": {
            "gridcolor": "white",
            "linecolor": "white",
            "ticks": ""
           },
           "bgcolor": "#E5ECF6",
           "radialaxis": {
            "gridcolor": "white",
            "linecolor": "white",
            "ticks": ""
           }
          },
          "scene": {
           "xaxis": {
            "backgroundcolor": "#E5ECF6",
            "gridcolor": "white",
            "gridwidth": 2,
            "linecolor": "white",
            "showbackground": true,
            "ticks": "",
            "zerolinecolor": "white"
           },
           "yaxis": {
            "backgroundcolor": "#E5ECF6",
            "gridcolor": "white",
            "gridwidth": 2,
            "linecolor": "white",
            "showbackground": true,
            "ticks": "",
            "zerolinecolor": "white"
           },
           "zaxis": {
            "backgroundcolor": "#E5ECF6",
            "gridcolor": "white",
            "gridwidth": 2,
            "linecolor": "white",
            "showbackground": true,
            "ticks": "",
            "zerolinecolor": "white"
           }
          },
          "shapedefaults": {
           "line": {
            "color": "#2a3f5f"
           }
          },
          "ternary": {
           "aaxis": {
            "gridcolor": "white",
            "linecolor": "white",
            "ticks": ""
           },
           "baxis": {
            "gridcolor": "white",
            "linecolor": "white",
            "ticks": ""
           },
           "bgcolor": "#E5ECF6",
           "caxis": {
            "gridcolor": "white",
            "linecolor": "white",
            "ticks": ""
           }
          },
          "title": {
           "x": 0.05
          },
          "xaxis": {
           "automargin": true,
           "gridcolor": "white",
           "linecolor": "white",
           "ticks": "",
           "title": {
            "standoff": 15
           },
           "zerolinecolor": "white",
           "zerolinewidth": 2
          },
          "yaxis": {
           "automargin": true,
           "gridcolor": "white",
           "linecolor": "white",
           "ticks": "",
           "title": {
            "standoff": 15
           },
           "zerolinecolor": "white",
           "zerolinewidth": 2
          }
         }
        },
        "title": {
         "text": "Optimization History Plot"
        },
        "xaxis": {
         "title": {
          "text": "Trial"
         }
        },
        "yaxis": {
         "title": {
          "text": "Objective Value"
         }
        }
       }
      }
     },
     "metadata": {},
     "output_type": "display_data"
    }
   ],
   "source": [
    "fig1 = optuna.visualization.plot_optimization_history(study)\n",
    "show(fig1)"
   ]
  },
  {
   "cell_type": "code",
   "execution_count": 62,
   "id": "1465e0fa",
   "metadata": {},
   "outputs": [
    {
     "data": {
      "application/vnd.plotly.v1+json": {
       "config": {
        "plotlyServerURL": "https://plot.ly"
       },
       "data": [
        {
         "cliponaxis": false,
         "hovertemplate": [
          "regressor (CategoricalDistribution): 0.0<extra></extra>",
          "model__bootstrap (CategoricalDistribution): 0.02158787629374032<extra></extra>",
          "model__n_estimators (IntDistribution): 0.047759146734869466<extra></extra>",
          "model__max_depth (IntDistribution): 0.06857221053906648<extra></extra>",
          "model__min_samples_leaf (IntDistribution): 0.16972147569235327<extra></extra>",
          "model__min_samples_split (IntDistribution): 0.25661091074310116<extra></extra>",
          "model__max_features (CategoricalDistribution): 0.4357483799968693<extra></extra>"
         ],
         "name": "Objective Value",
         "orientation": "h",
         "text": [
          "<0.01",
          "0.02",
          "0.05",
          "0.07",
          "0.17",
          "0.26",
          "0.44"
         ],
         "textposition": "outside",
         "type": "bar",
         "x": [
          0,
          0.02158787629374032,
          0.047759146734869466,
          0.06857221053906648,
          0.16972147569235327,
          0.25661091074310116,
          0.4357483799968693
         ],
         "y": [
          "regressor",
          "model__bootstrap",
          "model__n_estimators",
          "model__max_depth",
          "model__min_samples_leaf",
          "model__min_samples_split",
          "model__max_features"
         ]
        }
       ],
       "layout": {
        "template": {
         "data": {
          "bar": [
           {
            "error_x": {
             "color": "#2a3f5f"
            },
            "error_y": {
             "color": "#2a3f5f"
            },
            "marker": {
             "line": {
              "color": "#E5ECF6",
              "width": 0.5
             },
             "pattern": {
              "fillmode": "overlay",
              "size": 10,
              "solidity": 0.2
             }
            },
            "type": "bar"
           }
          ],
          "barpolar": [
           {
            "marker": {
             "line": {
              "color": "#E5ECF6",
              "width": 0.5
             },
             "pattern": {
              "fillmode": "overlay",
              "size": 10,
              "solidity": 0.2
             }
            },
            "type": "barpolar"
           }
          ],
          "carpet": [
           {
            "aaxis": {
             "endlinecolor": "#2a3f5f",
             "gridcolor": "white",
             "linecolor": "white",
             "minorgridcolor": "white",
             "startlinecolor": "#2a3f5f"
            },
            "baxis": {
             "endlinecolor": "#2a3f5f",
             "gridcolor": "white",
             "linecolor": "white",
             "minorgridcolor": "white",
             "startlinecolor": "#2a3f5f"
            },
            "type": "carpet"
           }
          ],
          "choropleth": [
           {
            "colorbar": {
             "outlinewidth": 0,
             "ticks": ""
            },
            "type": "choropleth"
           }
          ],
          "contour": [
           {
            "colorbar": {
             "outlinewidth": 0,
             "ticks": ""
            },
            "colorscale": [
             [
              0,
              "#0d0887"
             ],
             [
              0.1111111111111111,
              "#46039f"
             ],
             [
              0.2222222222222222,
              "#7201a8"
             ],
             [
              0.3333333333333333,
              "#9c179e"
             ],
             [
              0.4444444444444444,
              "#bd3786"
             ],
             [
              0.5555555555555556,
              "#d8576b"
             ],
             [
              0.6666666666666666,
              "#ed7953"
             ],
             [
              0.7777777777777778,
              "#fb9f3a"
             ],
             [
              0.8888888888888888,
              "#fdca26"
             ],
             [
              1,
              "#f0f921"
             ]
            ],
            "type": "contour"
           }
          ],
          "contourcarpet": [
           {
            "colorbar": {
             "outlinewidth": 0,
             "ticks": ""
            },
            "type": "contourcarpet"
           }
          ],
          "heatmap": [
           {
            "colorbar": {
             "outlinewidth": 0,
             "ticks": ""
            },
            "colorscale": [
             [
              0,
              "#0d0887"
             ],
             [
              0.1111111111111111,
              "#46039f"
             ],
             [
              0.2222222222222222,
              "#7201a8"
             ],
             [
              0.3333333333333333,
              "#9c179e"
             ],
             [
              0.4444444444444444,
              "#bd3786"
             ],
             [
              0.5555555555555556,
              "#d8576b"
             ],
             [
              0.6666666666666666,
              "#ed7953"
             ],
             [
              0.7777777777777778,
              "#fb9f3a"
             ],
             [
              0.8888888888888888,
              "#fdca26"
             ],
             [
              1,
              "#f0f921"
             ]
            ],
            "type": "heatmap"
           }
          ],
          "histogram": [
           {
            "marker": {
             "pattern": {
              "fillmode": "overlay",
              "size": 10,
              "solidity": 0.2
             }
            },
            "type": "histogram"
           }
          ],
          "histogram2d": [
           {
            "colorbar": {
             "outlinewidth": 0,
             "ticks": ""
            },
            "colorscale": [
             [
              0,
              "#0d0887"
             ],
             [
              0.1111111111111111,
              "#46039f"
             ],
             [
              0.2222222222222222,
              "#7201a8"
             ],
             [
              0.3333333333333333,
              "#9c179e"
             ],
             [
              0.4444444444444444,
              "#bd3786"
             ],
             [
              0.5555555555555556,
              "#d8576b"
             ],
             [
              0.6666666666666666,
              "#ed7953"
             ],
             [
              0.7777777777777778,
              "#fb9f3a"
             ],
             [
              0.8888888888888888,
              "#fdca26"
             ],
             [
              1,
              "#f0f921"
             ]
            ],
            "type": "histogram2d"
           }
          ],
          "histogram2dcontour": [
           {
            "colorbar": {
             "outlinewidth": 0,
             "ticks": ""
            },
            "colorscale": [
             [
              0,
              "#0d0887"
             ],
             [
              0.1111111111111111,
              "#46039f"
             ],
             [
              0.2222222222222222,
              "#7201a8"
             ],
             [
              0.3333333333333333,
              "#9c179e"
             ],
             [
              0.4444444444444444,
              "#bd3786"
             ],
             [
              0.5555555555555556,
              "#d8576b"
             ],
             [
              0.6666666666666666,
              "#ed7953"
             ],
             [
              0.7777777777777778,
              "#fb9f3a"
             ],
             [
              0.8888888888888888,
              "#fdca26"
             ],
             [
              1,
              "#f0f921"
             ]
            ],
            "type": "histogram2dcontour"
           }
          ],
          "mesh3d": [
           {
            "colorbar": {
             "outlinewidth": 0,
             "ticks": ""
            },
            "type": "mesh3d"
           }
          ],
          "parcoords": [
           {
            "line": {
             "colorbar": {
              "outlinewidth": 0,
              "ticks": ""
             }
            },
            "type": "parcoords"
           }
          ],
          "pie": [
           {
            "automargin": true,
            "type": "pie"
           }
          ],
          "scatter": [
           {
            "fillpattern": {
             "fillmode": "overlay",
             "size": 10,
             "solidity": 0.2
            },
            "type": "scatter"
           }
          ],
          "scatter3d": [
           {
            "line": {
             "colorbar": {
              "outlinewidth": 0,
              "ticks": ""
             }
            },
            "marker": {
             "colorbar": {
              "outlinewidth": 0,
              "ticks": ""
             }
            },
            "type": "scatter3d"
           }
          ],
          "scattercarpet": [
           {
            "marker": {
             "colorbar": {
              "outlinewidth": 0,
              "ticks": ""
             }
            },
            "type": "scattercarpet"
           }
          ],
          "scattergeo": [
           {
            "marker": {
             "colorbar": {
              "outlinewidth": 0,
              "ticks": ""
             }
            },
            "type": "scattergeo"
           }
          ],
          "scattergl": [
           {
            "marker": {
             "colorbar": {
              "outlinewidth": 0,
              "ticks": ""
             }
            },
            "type": "scattergl"
           }
          ],
          "scattermap": [
           {
            "marker": {
             "colorbar": {
              "outlinewidth": 0,
              "ticks": ""
             }
            },
            "type": "scattermap"
           }
          ],
          "scattermapbox": [
           {
            "marker": {
             "colorbar": {
              "outlinewidth": 0,
              "ticks": ""
             }
            },
            "type": "scattermapbox"
           }
          ],
          "scatterpolar": [
           {
            "marker": {
             "colorbar": {
              "outlinewidth": 0,
              "ticks": ""
             }
            },
            "type": "scatterpolar"
           }
          ],
          "scatterpolargl": [
           {
            "marker": {
             "colorbar": {
              "outlinewidth": 0,
              "ticks": ""
             }
            },
            "type": "scatterpolargl"
           }
          ],
          "scatterternary": [
           {
            "marker": {
             "colorbar": {
              "outlinewidth": 0,
              "ticks": ""
             }
            },
            "type": "scatterternary"
           }
          ],
          "surface": [
           {
            "colorbar": {
             "outlinewidth": 0,
             "ticks": ""
            },
            "colorscale": [
             [
              0,
              "#0d0887"
             ],
             [
              0.1111111111111111,
              "#46039f"
             ],
             [
              0.2222222222222222,
              "#7201a8"
             ],
             [
              0.3333333333333333,
              "#9c179e"
             ],
             [
              0.4444444444444444,
              "#bd3786"
             ],
             [
              0.5555555555555556,
              "#d8576b"
             ],
             [
              0.6666666666666666,
              "#ed7953"
             ],
             [
              0.7777777777777778,
              "#fb9f3a"
             ],
             [
              0.8888888888888888,
              "#fdca26"
             ],
             [
              1,
              "#f0f921"
             ]
            ],
            "type": "surface"
           }
          ],
          "table": [
           {
            "cells": {
             "fill": {
              "color": "#EBF0F8"
             },
             "line": {
              "color": "white"
             }
            },
            "header": {
             "fill": {
              "color": "#C8D4E3"
             },
             "line": {
              "color": "white"
             }
            },
            "type": "table"
           }
          ]
         },
         "layout": {
          "annotationdefaults": {
           "arrowcolor": "#2a3f5f",
           "arrowhead": 0,
           "arrowwidth": 1
          },
          "autotypenumbers": "strict",
          "coloraxis": {
           "colorbar": {
            "outlinewidth": 0,
            "ticks": ""
           }
          },
          "colorscale": {
           "diverging": [
            [
             0,
             "#8e0152"
            ],
            [
             0.1,
             "#c51b7d"
            ],
            [
             0.2,
             "#de77ae"
            ],
            [
             0.3,
             "#f1b6da"
            ],
            [
             0.4,
             "#fde0ef"
            ],
            [
             0.5,
             "#f7f7f7"
            ],
            [
             0.6,
             "#e6f5d0"
            ],
            [
             0.7,
             "#b8e186"
            ],
            [
             0.8,
             "#7fbc41"
            ],
            [
             0.9,
             "#4d9221"
            ],
            [
             1,
             "#276419"
            ]
           ],
           "sequential": [
            [
             0,
             "#0d0887"
            ],
            [
             0.1111111111111111,
             "#46039f"
            ],
            [
             0.2222222222222222,
             "#7201a8"
            ],
            [
             0.3333333333333333,
             "#9c179e"
            ],
            [
             0.4444444444444444,
             "#bd3786"
            ],
            [
             0.5555555555555556,
             "#d8576b"
            ],
            [
             0.6666666666666666,
             "#ed7953"
            ],
            [
             0.7777777777777778,
             "#fb9f3a"
            ],
            [
             0.8888888888888888,
             "#fdca26"
            ],
            [
             1,
             "#f0f921"
            ]
           ],
           "sequentialminus": [
            [
             0,
             "#0d0887"
            ],
            [
             0.1111111111111111,
             "#46039f"
            ],
            [
             0.2222222222222222,
             "#7201a8"
            ],
            [
             0.3333333333333333,
             "#9c179e"
            ],
            [
             0.4444444444444444,
             "#bd3786"
            ],
            [
             0.5555555555555556,
             "#d8576b"
            ],
            [
             0.6666666666666666,
             "#ed7953"
            ],
            [
             0.7777777777777778,
             "#fb9f3a"
            ],
            [
             0.8888888888888888,
             "#fdca26"
            ],
            [
             1,
             "#f0f921"
            ]
           ]
          },
          "colorway": [
           "#636efa",
           "#EF553B",
           "#00cc96",
           "#ab63fa",
           "#FFA15A",
           "#19d3f3",
           "#FF6692",
           "#B6E880",
           "#FF97FF",
           "#FECB52"
          ],
          "font": {
           "color": "#2a3f5f"
          },
          "geo": {
           "bgcolor": "white",
           "lakecolor": "white",
           "landcolor": "#E5ECF6",
           "showlakes": true,
           "showland": true,
           "subunitcolor": "white"
          },
          "hoverlabel": {
           "align": "left"
          },
          "hovermode": "closest",
          "mapbox": {
           "style": "light"
          },
          "paper_bgcolor": "white",
          "plot_bgcolor": "#E5ECF6",
          "polar": {
           "angularaxis": {
            "gridcolor": "white",
            "linecolor": "white",
            "ticks": ""
           },
           "bgcolor": "#E5ECF6",
           "radialaxis": {
            "gridcolor": "white",
            "linecolor": "white",
            "ticks": ""
           }
          },
          "scene": {
           "xaxis": {
            "backgroundcolor": "#E5ECF6",
            "gridcolor": "white",
            "gridwidth": 2,
            "linecolor": "white",
            "showbackground": true,
            "ticks": "",
            "zerolinecolor": "white"
           },
           "yaxis": {
            "backgroundcolor": "#E5ECF6",
            "gridcolor": "white",
            "gridwidth": 2,
            "linecolor": "white",
            "showbackground": true,
            "ticks": "",
            "zerolinecolor": "white"
           },
           "zaxis": {
            "backgroundcolor": "#E5ECF6",
            "gridcolor": "white",
            "gridwidth": 2,
            "linecolor": "white",
            "showbackground": true,
            "ticks": "",
            "zerolinecolor": "white"
           }
          },
          "shapedefaults": {
           "line": {
            "color": "#2a3f5f"
           }
          },
          "ternary": {
           "aaxis": {
            "gridcolor": "white",
            "linecolor": "white",
            "ticks": ""
           },
           "baxis": {
            "gridcolor": "white",
            "linecolor": "white",
            "ticks": ""
           },
           "bgcolor": "#E5ECF6",
           "caxis": {
            "gridcolor": "white",
            "linecolor": "white",
            "ticks": ""
           }
          },
          "title": {
           "x": 0.05
          },
          "xaxis": {
           "automargin": true,
           "gridcolor": "white",
           "linecolor": "white",
           "ticks": "",
           "title": {
            "standoff": 15
           },
           "zerolinecolor": "white",
           "zerolinewidth": 2
          },
          "yaxis": {
           "automargin": true,
           "gridcolor": "white",
           "linecolor": "white",
           "ticks": "",
           "title": {
            "standoff": 15
           },
           "zerolinecolor": "white",
           "zerolinewidth": 2
          }
         }
        },
        "title": {
         "text": "Hyperparameter Importances"
        },
        "xaxis": {
         "title": {
          "text": "Hyperparameter Importance"
         }
        },
        "yaxis": {
         "title": {
          "text": "Hyperparameter"
         }
        }
       }
      }
     },
     "metadata": {},
     "output_type": "display_data"
    }
   ],
   "source": [
    "fig2 = optuna.visualization.plot_param_importances(study)\n",
    "show(fig2)"
   ]
  }
 ],
 "metadata": {
  "kernelspec": {
   "display_name": "Python 3",
   "language": "python",
   "name": "python3"
  },
  "language_info": {
   "codemirror_mode": {
    "name": "ipython",
    "version": 3
   },
   "file_extension": ".py",
   "mimetype": "text/x-python",
   "name": "python",
   "nbconvert_exporter": "python",
   "pygments_lexer": "ipython3",
   "version": "3.13.1"
  }
 },
 "nbformat": 4,
 "nbformat_minor": 5
}
