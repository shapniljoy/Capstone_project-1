{
 "cells": [
  {
   "cell_type": "code",
   "execution_count": 112,
   "id": "37d7bbd0",
   "metadata": {},
   "outputs": [],
   "source": [
    "import pandas as pd\n",
    "import numpy as np\n",
    "import matplotlib.pyplot as plt\n",
    "import seaborn as sns\n",
    "pd.set_option('display.max_columns', None)"
   ]
  },
  {
   "cell_type": "code",
   "execution_count": 113,
   "id": "c461eda7",
   "metadata": {},
   "outputs": [],
   "source": [
    "df = pd.read_csv('final_cleaned_v2.csv')"
   ]
  },
  {
   "cell_type": "markdown",
   "id": "a1aa0564",
   "metadata": {},
   "source": [
    "# Isolation Forest (uses ensemble method of Randsom forest)"
   ]
  },
  {
   "cell_type": "code",
   "execution_count": 114,
   "id": "d3268f9f",
   "metadata": {},
   "outputs": [
    {
     "data": {
      "text/plain": [
       "(843, 24)"
      ]
     },
     "execution_count": 114,
     "metadata": {},
     "output_type": "execute_result"
    }
   ],
   "source": [
    "num_cols = df.select_dtypes(include=[int, float])\n",
    "x = num_cols.drop(columns=['price'])\n",
    "from sklearn.ensemble import IsolationForest\n",
    "labels = IsolationForest(contamination='auto',n_estimators=100,random_state=0,bootstrap=True).fit_predict(x)\n",
    "df['outliers'] = labels\n",
    "df[df['outliers'] == -1].shape"
   ]
  },
  {
   "cell_type": "code",
   "execution_count": 115,
   "id": "fee03164",
   "metadata": {},
   "outputs": [],
   "source": [
    "# df[df['outliers'] == -1].head()"
   ]
  },
  {
   "cell_type": "markdown",
   "id": "08f3fbe6",
   "metadata": {},
   "source": [
    "# We will perform outlier detection only on Numerical columns"
   ]
  },
  {
   "cell_type": "code",
   "execution_count": 116,
   "id": "89cf4390",
   "metadata": {},
   "outputs": [
    {
     "data": {
      "text/plain": [
       "Index(['property_type', 'society', 'sector', 'price', 'price_per_sqft', 'area',\n",
       "       'areaWithType', 'bedRoom', 'bathroom', 'balcony', 'floorNum', 'facing',\n",
       "       'agePossession', 'super_built_up_area', 'built_up_area', 'carpet_area',\n",
       "       'study room', 'servant room', 'store room', 'pooja room', 'others',\n",
       "       'furnishing_type', 'luxury_score', 'outliers'],\n",
       "      dtype='object')"
      ]
     },
     "execution_count": 116,
     "metadata": {},
     "output_type": "execute_result"
    }
   ],
   "source": [
    "df.columns"
   ]
  },
  {
   "cell_type": "markdown",
   "id": "62234654",
   "metadata": {},
   "source": [
    "# price (target)"
   ]
  },
  {
   "cell_type": "code",
   "execution_count": 117,
   "id": "3ca6e489",
   "metadata": {},
   "outputs": [
    {
     "data": {
      "text/plain": [
       "np.float64(3.3113346542178137)"
      ]
     },
     "execution_count": 117,
     "metadata": {},
     "output_type": "execute_result"
    },
    {
     "data": {
      "image/png": "[encoded data removed]",
      "text/plain": [
       "<Figure size 640x480 with 1 Axes>"
      ]
     },
     "metadata": {},
     "output_type": "display_data"
    }
   ],
   "source": [
    "sns.histplot(df['price'], bins=50,kde=True)\n",
    "df['price'].skew()"
   ]
  },
  {
   "cell_type": "markdown",
   "id": "be66fa69",
   "metadata": {},
   "source": [
    "Distribution is not normal , so we will perform IQR Boxplot method"
   ]
  },
  {
   "cell_type": "code",
   "execution_count": 118,
   "id": "f3a90194",
   "metadata": {},
   "outputs": [
    {
     "data": {
      "text/plain": [
       "<Axes: xlabel='price'>"
      ]
     },
     "execution_count": 118,
     "metadata": {},
     "output_type": "execute_result"
    },
    {
     "data": {
      "image/png": "[encoded data removed]",
      "text/plain": [
       "<Figure size 640x480 with 1 Axes>"
      ]
     },
     "metadata": {},
     "output_type": "display_data"
    }
   ],
   "source": [
    "sns.boxplot(x=df['price'])"
   ]
  },
  {
   "cell_type": "code",
   "execution_count": 119,
   "id": "5f1cb3aa",
   "metadata": {},
   "outputs": [
    {
     "data": {
      "text/plain": [
       "(432, 24)"
      ]
     },
     "execution_count": 119,
     "metadata": {},
     "output_type": "execute_result"
    }
   ],
   "source": [
    "q1 = df['price'].quantile(0.25)\n",
    "q3 = df['price'].quantile(0.75)\n",
    "\n",
    "IQR = q3 - q1\n",
    "\n",
    "lower_bound = q1 - (1.5*IQR)\n",
    "upper_bound = q3 + (1.5*IQR)\n",
    "\n",
    "price_outliers = df[(df['price'] < lower_bound) | (df['price'] > upper_bound)]\n",
    "price_outliers.shape"
   ]
  },
  {
   "cell_type": "code",
   "execution_count": 120,
   "id": "711fbca4",
   "metadata": {},
   "outputs": [
    {
     "data": {
      "text/html": [
       "<div>\n",
       "<style scoped>\n",
       "    .dataframe tbody tr th:only-of-type {\n",
       "        vertical-align: middle;\n",
       "    }\n",
       "\n",
       "    .dataframe tbody tr th {\n",
       "        vertical-align: top;\n",
       "    }\n",
       "\n",
       "    .dataframe thead th {\n",
       "        text-align: right;\n",
       "    }\n",
       "</style>\n",
       "<table border=\"1\" class=\"dataframe\">\n",
       "  <thead>\n",
       "    <tr style=\"text-align: right;\">\n",
       "      <th></th>\n",
       "      <th>property_type</th>\n",
       "      <th>society</th>\n",
       "      <th>sector</th>\n",
       "      <th>price</th>\n",
       "      <th>price_per_sqft</th>\n",
       "      <th>area</th>\n",
       "      <th>areaWithType</th>\n",
       "      <th>bedRoom</th>\n",
       "      <th>bathroom</th>\n",
       "      <th>balcony</th>\n",
       "      <th>floorNum</th>\n",
       "      <th>facing</th>\n",
       "      <th>agePossession</th>\n",
       "      <th>super_built_up_area</th>\n",
       "      <th>built_up_area</th>\n",
       "      <th>carpet_area</th>\n",
       "      <th>study room</th>\n",
       "      <th>servant room</th>\n",
       "      <th>store room</th>\n",
       "      <th>pooja room</th>\n",
       "      <th>others</th>\n",
       "      <th>furnishing_type</th>\n",
       "      <th>luxury_score</th>\n",
       "      <th>outliers</th>\n",
       "    </tr>\n",
       "  </thead>\n",
       "  <tbody>\n",
       "    <tr>\n",
       "      <th>821</th>\n",
       "      <td>house</td>\n",
       "      <td>arjun marg/ sector- 26 phase- 1/ golf course road</td>\n",
       "      <td>sector 26</td>\n",
       "      <td>31.5</td>\n",
       "      <td>35000.0</td>\n",
       "      <td>9000.0</td>\n",
       "      <td>Plot area 1000(836.13 sq.m.)</td>\n",
       "      <td>7</td>\n",
       "      <td>9</td>\n",
       "      <td>3+</td>\n",
       "      <td>3.0</td>\n",
       "      <td>North-East</td>\n",
       "      <td>Moderately Old</td>\n",
       "      <td>NaN</td>\n",
       "      <td>9000.0</td>\n",
       "      <td>NaN</td>\n",
       "      <td>1</td>\n",
       "      <td>1</td>\n",
       "      <td>1</td>\n",
       "      <td>1</td>\n",
       "      <td>0</td>\n",
       "      <td>2</td>\n",
       "      <td>74</td>\n",
       "      <td>-1</td>\n",
       "    </tr>\n",
       "    <tr>\n",
       "      <th>2834</th>\n",
       "      <td>house</td>\n",
       "      <td>independent</td>\n",
       "      <td>sector 43</td>\n",
       "      <td>27.5</td>\n",
       "      <td>24366.0</td>\n",
       "      <td>11286.0</td>\n",
       "      <td>Plot area 1254(1048.5 sq.m.)</td>\n",
       "      <td>6</td>\n",
       "      <td>7</td>\n",
       "      <td>3+</td>\n",
       "      <td>3.0</td>\n",
       "      <td>North-East</td>\n",
       "      <td>Relatively New</td>\n",
       "      <td>NaN</td>\n",
       "      <td>11286.0</td>\n",
       "      <td>NaN</td>\n",
       "      <td>1</td>\n",
       "      <td>1</td>\n",
       "      <td>0</td>\n",
       "      <td>1</td>\n",
       "      <td>1</td>\n",
       "      <td>1</td>\n",
       "      <td>42</td>\n",
       "      <td>-1</td>\n",
       "    </tr>\n",
       "    <tr>\n",
       "      <th>2211</th>\n",
       "      <td>house</td>\n",
       "      <td>independent</td>\n",
       "      <td>sector 26</td>\n",
       "      <td>26.0</td>\n",
       "      <td>82540.0</td>\n",
       "      <td>3150.0</td>\n",
       "      <td>Plot area 402(336.12 sq.m.)Built Up area: 400 ...</td>\n",
       "      <td>16</td>\n",
       "      <td>16</td>\n",
       "      <td>3+</td>\n",
       "      <td>4.0</td>\n",
       "      <td>North-West</td>\n",
       "      <td>New Property</td>\n",
       "      <td>NaN</td>\n",
       "      <td>400.0</td>\n",
       "      <td>350.0</td>\n",
       "      <td>1</td>\n",
       "      <td>1</td>\n",
       "      <td>1</td>\n",
       "      <td>1</td>\n",
       "      <td>0</td>\n",
       "      <td>2</td>\n",
       "      <td>72</td>\n",
       "      <td>-1</td>\n",
       "    </tr>\n",
       "    <tr>\n",
       "      <th>2488</th>\n",
       "      <td>house</td>\n",
       "      <td>dlf city plots</td>\n",
       "      <td>sector 26</td>\n",
       "      <td>26.0</td>\n",
       "      <td>57206.0</td>\n",
       "      <td>4545.0</td>\n",
       "      <td>Plot area 505(422.24 sq.m.)</td>\n",
       "      <td>6</td>\n",
       "      <td>7</td>\n",
       "      <td>3+</td>\n",
       "      <td>2.0</td>\n",
       "      <td>North-East</td>\n",
       "      <td>New Property</td>\n",
       "      <td>NaN</td>\n",
       "      <td>4545.0</td>\n",
       "      <td>NaN</td>\n",
       "      <td>1</td>\n",
       "      <td>1</td>\n",
       "      <td>0</td>\n",
       "      <td>1</td>\n",
       "      <td>1</td>\n",
       "      <td>1</td>\n",
       "      <td>138</td>\n",
       "      <td>-1</td>\n",
       "    </tr>\n",
       "    <tr>\n",
       "      <th>1686</th>\n",
       "      <td>house</td>\n",
       "      <td>suncity township</td>\n",
       "      <td>sector 54</td>\n",
       "      <td>25.0</td>\n",
       "      <td>31111.0</td>\n",
       "      <td>8036.0</td>\n",
       "      <td>Plot area 1000(836.13 sq.m.)</td>\n",
       "      <td>4</td>\n",
       "      <td>4</td>\n",
       "      <td>3+</td>\n",
       "      <td>2.0</td>\n",
       "      <td>North</td>\n",
       "      <td>Moderately Old</td>\n",
       "      <td>NaN</td>\n",
       "      <td>1000.0</td>\n",
       "      <td>NaN</td>\n",
       "      <td>1</td>\n",
       "      <td>1</td>\n",
       "      <td>1</td>\n",
       "      <td>1</td>\n",
       "      <td>0</td>\n",
       "      <td>0</td>\n",
       "      <td>0</td>\n",
       "      <td>-1</td>\n",
       "    </tr>\n",
       "    <tr>\n",
       "      <th>3046</th>\n",
       "      <td>house</td>\n",
       "      <td>emaar the palm springs</td>\n",
       "      <td>sector 54</td>\n",
       "      <td>24.0</td>\n",
       "      <td>600000.0</td>\n",
       "      <td>400.0</td>\n",
       "      <td>Plot area 400(37.16 sq.m.)</td>\n",
       "      <td>5</td>\n",
       "      <td>5</td>\n",
       "      <td>2</td>\n",
       "      <td>1.0</td>\n",
       "      <td>North-East</td>\n",
       "      <td>Old Property</td>\n",
       "      <td>NaN</td>\n",
       "      <td>400.0</td>\n",
       "      <td>NaN</td>\n",
       "      <td>1</td>\n",
       "      <td>1</td>\n",
       "      <td>0</td>\n",
       "      <td>1</td>\n",
       "      <td>0</td>\n",
       "      <td>1</td>\n",
       "      <td>122</td>\n",
       "      <td>-1</td>\n",
       "    </tr>\n",
       "    <tr>\n",
       "      <th>2765</th>\n",
       "      <td>house</td>\n",
       "      <td>independent</td>\n",
       "      <td>sector 26</td>\n",
       "      <td>23.0</td>\n",
       "      <td>25556.0</td>\n",
       "      <td>9000.0</td>\n",
       "      <td>Plot area 1000(836.13 sq.m.)</td>\n",
       "      <td>4</td>\n",
       "      <td>4</td>\n",
       "      <td>3+</td>\n",
       "      <td>2.0</td>\n",
       "      <td>South-West</td>\n",
       "      <td>Relatively New</td>\n",
       "      <td>NaN</td>\n",
       "      <td>9000.0</td>\n",
       "      <td>NaN</td>\n",
       "      <td>1</td>\n",
       "      <td>1</td>\n",
       "      <td>1</td>\n",
       "      <td>1</td>\n",
       "      <td>0</td>\n",
       "      <td>1</td>\n",
       "      <td>145</td>\n",
       "      <td>-1</td>\n",
       "    </tr>\n",
       "    <tr>\n",
       "      <th>2667</th>\n",
       "      <td>house</td>\n",
       "      <td>vipul tatvam villa</td>\n",
       "      <td>sector 48</td>\n",
       "      <td>22.0</td>\n",
       "      <td>26667.0</td>\n",
       "      <td>8250.0</td>\n",
       "      <td>Plot area 1000(836.13 sq.m.)</td>\n",
       "      <td>5</td>\n",
       "      <td>6</td>\n",
       "      <td>3</td>\n",
       "      <td>3.0</td>\n",
       "      <td>NaN</td>\n",
       "      <td>Moderately Old</td>\n",
       "      <td>NaN</td>\n",
       "      <td>1000.0</td>\n",
       "      <td>NaN</td>\n",
       "      <td>0</td>\n",
       "      <td>1</td>\n",
       "      <td>0</td>\n",
       "      <td>0</td>\n",
       "      <td>0</td>\n",
       "      <td>0</td>\n",
       "      <td>54</td>\n",
       "      <td>-1</td>\n",
       "    </tr>\n",
       "    <tr>\n",
       "      <th>2096</th>\n",
       "      <td>house</td>\n",
       "      <td>luxury dlf city floors</td>\n",
       "      <td>sector 26</td>\n",
       "      <td>20.0</td>\n",
       "      <td>48889.0</td>\n",
       "      <td>4091.0</td>\n",
       "      <td>Plot area 500(418.06 sq.m.)</td>\n",
       "      <td>16</td>\n",
       "      <td>16</td>\n",
       "      <td>3+</td>\n",
       "      <td>4.0</td>\n",
       "      <td>NaN</td>\n",
       "      <td>New Property</td>\n",
       "      <td>NaN</td>\n",
       "      <td>500.0</td>\n",
       "      <td>NaN</td>\n",
       "      <td>0</td>\n",
       "      <td>1</td>\n",
       "      <td>0</td>\n",
       "      <td>0</td>\n",
       "      <td>0</td>\n",
       "      <td>1</td>\n",
       "      <td>31</td>\n",
       "      <td>-1</td>\n",
       "    </tr>\n",
       "    <tr>\n",
       "      <th>874</th>\n",
       "      <td>house</td>\n",
       "      <td>dlf city plots</td>\n",
       "      <td>sector 26</td>\n",
       "      <td>20.0</td>\n",
       "      <td>44265.0</td>\n",
       "      <td>4518.0</td>\n",
       "      <td>Plot area 502(419.74 sq.m.)</td>\n",
       "      <td>16</td>\n",
       "      <td>20</td>\n",
       "      <td>3+</td>\n",
       "      <td>4.0</td>\n",
       "      <td>North-East</td>\n",
       "      <td>New Property</td>\n",
       "      <td>NaN</td>\n",
       "      <td>4518.0</td>\n",
       "      <td>NaN</td>\n",
       "      <td>1</td>\n",
       "      <td>1</td>\n",
       "      <td>1</td>\n",
       "      <td>1</td>\n",
       "      <td>0</td>\n",
       "      <td>1</td>\n",
       "      <td>153</td>\n",
       "      <td>-1</td>\n",
       "    </tr>\n",
       "  </tbody>\n",
       "</table>\n",
       "</div>"
      ],
      "text/plain": [
       "     property_type                                            society  \\\n",
       "821          house  arjun marg/ sector- 26 phase- 1/ golf course road   \n",
       "2834         house                                        independent   \n",
       "2211         house                                        independent   \n",
       "2488         house                                     dlf city plots   \n",
       "1686         house                                   suncity township   \n",
       "3046         house                             emaar the palm springs   \n",
       "2765         house                                        independent   \n",
       "2667         house                                 vipul tatvam villa   \n",
       "2096         house                             luxury dlf city floors   \n",
       "874          house                                     dlf city plots   \n",
       "\n",
       "         sector  price  price_per_sqft     area  \\\n",
       "821   sector 26   31.5         35000.0   9000.0   \n",
       "2834  sector 43   27.5         24366.0  11286.0   \n",
       "2211  sector 26   26.0         82540.0   3150.0   \n",
       "2488  sector 26   26.0         57206.0   4545.0   \n",
       "1686  sector 54   25.0         31111.0   8036.0   \n",
       "3046  sector 54   24.0        600000.0    400.0   \n",
       "2765  sector 26   23.0         25556.0   9000.0   \n",
       "2667  sector 48   22.0         26667.0   8250.0   \n",
       "2096  sector 26   20.0         48889.0   4091.0   \n",
       "874   sector 26   20.0         44265.0   4518.0   \n",
       "\n",
       "                                           areaWithType  bedRoom  bathroom  \\\n",
       "821                        Plot area 1000(836.13 sq.m.)        7         9   \n",
       "2834                       Plot area 1254(1048.5 sq.m.)        6         7   \n",
       "2211  Plot area 402(336.12 sq.m.)Built Up area: 400 ...       16        16   \n",
       "2488                        Plot area 505(422.24 sq.m.)        6         7   \n",
       "1686                       Plot area 1000(836.13 sq.m.)        4         4   \n",
       "3046                         Plot area 400(37.16 sq.m.)        5         5   \n",
       "2765                       Plot area 1000(836.13 sq.m.)        4         4   \n",
       "2667                       Plot area 1000(836.13 sq.m.)        5         6   \n",
       "2096                        Plot area 500(418.06 sq.m.)       16        16   \n",
       "874                         Plot area 502(419.74 sq.m.)       16        20   \n",
       "\n",
       "     balcony  floorNum      facing   agePossession  super_built_up_area  \\\n",
       "821       3+       3.0  North-East  Moderately Old                  NaN   \n",
       "2834      3+       3.0  North-East  Relatively New                  NaN   \n",
       "2211      3+       4.0  North-West    New Property                  NaN   \n",
       "2488      3+       2.0  North-East    New Property                  NaN   \n",
       "1686      3+       2.0       North  Moderately Old                  NaN   \n",
       "3046       2       1.0  North-East    Old Property                  NaN   \n",
       "2765      3+       2.0  South-West  Relatively New                  NaN   \n",
       "2667       3       3.0         NaN  Moderately Old                  NaN   \n",
       "2096      3+       4.0         NaN    New Property                  NaN   \n",
       "874       3+       4.0  North-East    New Property                  NaN   \n",
       "\n",
       "      built_up_area  carpet_area  study room  servant room  store room  \\\n",
       "821          9000.0          NaN           1             1           1   \n",
       "2834        11286.0          NaN           1             1           0   \n",
       "2211          400.0        350.0           1             1           1   \n",
       "2488         4545.0          NaN           1             1           0   \n",
       "1686         1000.0          NaN           1             1           1   \n",
       "3046          400.0          NaN           1             1           0   \n",
       "2765         9000.0          NaN           1             1           1   \n",
       "2667         1000.0          NaN           0             1           0   \n",
       "2096          500.0          NaN           0             1           0   \n",
       "874          4518.0          NaN           1             1           1   \n",
       "\n",
       "      pooja room  others  furnishing_type  luxury_score  outliers  \n",
       "821            1       0                2            74        -1  \n",
       "2834           1       1                1            42        -1  \n",
       "2211           1       0                2            72        -1  \n",
       "2488           1       1                1           138        -1  \n",
       "1686           1       0                0             0        -1  \n",
       "3046           1       0                1           122        -1  \n",
       "2765           1       0                1           145        -1  \n",
       "2667           0       0                0            54        -1  \n",
       "2096           0       0                1            31        -1  \n",
       "874            1       0                1           153        -1  "
      ]
     },
     "execution_count": 120,
     "metadata": {},
     "output_type": "execute_result"
    }
   ],
   "source": [
    "price_outliers.sort_values(by='price', ascending=False).head(10)"
   ]
  },
  {
   "cell_type": "markdown",
   "id": "abe6ad93",
   "metadata": {},
   "source": [
    "# price_per_sqft"
   ]
  },
  {
   "cell_type": "code",
   "execution_count": 121,
   "id": "ff0ada37",
   "metadata": {},
   "outputs": [
    {
     "data": {
      "text/plain": [
       "<Axes: xlabel='price_per_sqft', ylabel='Count'>"
      ]
     },
     "execution_count": 121,
     "metadata": {},
     "output_type": "execute_result"
    },
    {
     "data": {
      "image/png": "[encoded data removed]",
      "text/plain": [
       "<Figure size 640x480 with 1 Axes>"
      ]
     },
     "metadata": {},
     "output_type": "display_data"
    }
   ],
   "source": [
    "sns.histplot(df['price_per_sqft'], bins=50,kde=True)"
   ]
  },
  {
   "cell_type": "code",
   "execution_count": 122,
   "id": "3a9aaec1",
   "metadata": {},
   "outputs": [
    {
     "data": {
      "text/plain": [
       "<Axes: xlabel='price_per_sqft'>"
      ]
     },
     "execution_count": 122,
     "metadata": {},
     "output_type": "execute_result"
    },
    {
     "data": {
      "image/png": "[encoded data removed]",
      "text/plain": [
       "<Figure size 640x480 with 1 Axes>"
      ]
     },
     "metadata": {},
     "output_type": "display_data"
    }
   ],
   "source": [
    "sns.boxplot(x=df['price_per_sqft'])"
   ]
  },
  {
   "cell_type": "code",
   "execution_count": 123,
   "id": "7d266605",
   "metadata": {},
   "outputs": [
    {
     "data": {
      "text/plain": [
       "(367, 24)"
      ]
     },
     "execution_count": 123,
     "metadata": {},
     "output_type": "execute_result"
    }
   ],
   "source": [
    "q1 = df['price_per_sqft'].quantile(0.25)\n",
    "q3 = df['price_per_sqft'].quantile(0.75)\n",
    "\n",
    "IQR = q3 - q1\n",
    "\n",
    "lower_bound = q1 - (1.5*IQR)\n",
    "upper_bound = q3 + (1.5*IQR)\n",
    "\n",
    "price_per_sqft_outliers = df[(df['price_per_sqft'] < lower_bound) | (df['price_per_sqft'] > upper_bound)]\n",
    "price_per_sqft_outliers.shape"
   ]
  },
  {
   "cell_type": "code",
   "execution_count": 124,
   "id": "5f42fb63",
   "metadata": {},
   "outputs": [
    {
     "data": {
      "text/html": [
       "<div>\n",
       "<style scoped>\n",
       "    .dataframe tbody tr th:only-of-type {\n",
       "        vertical-align: middle;\n",
       "    }\n",
       "\n",
       "    .dataframe tbody tr th {\n",
       "        vertical-align: top;\n",
       "    }\n",
       "\n",
       "    .dataframe thead th {\n",
       "        text-align: right;\n",
       "    }\n",
       "</style>\n",
       "<table border=\"1\" class=\"dataframe\">\n",
       "  <thead>\n",
       "    <tr style=\"text-align: right;\">\n",
       "      <th></th>\n",
       "      <th>property_type</th>\n",
       "      <th>society</th>\n",
       "      <th>sector</th>\n",
       "      <th>price</th>\n",
       "      <th>price_per_sqft</th>\n",
       "      <th>area</th>\n",
       "      <th>areaWithType</th>\n",
       "      <th>bedRoom</th>\n",
       "      <th>bathroom</th>\n",
       "      <th>balcony</th>\n",
       "      <th>floorNum</th>\n",
       "      <th>facing</th>\n",
       "      <th>agePossession</th>\n",
       "      <th>super_built_up_area</th>\n",
       "      <th>built_up_area</th>\n",
       "      <th>carpet_area</th>\n",
       "      <th>study room</th>\n",
       "      <th>servant room</th>\n",
       "      <th>store room</th>\n",
       "      <th>pooja room</th>\n",
       "      <th>others</th>\n",
       "      <th>furnishing_type</th>\n",
       "      <th>luxury_score</th>\n",
       "      <th>outliers</th>\n",
       "    </tr>\n",
       "  </thead>\n",
       "  <tbody>\n",
       "    <tr>\n",
       "      <th>3046</th>\n",
       "      <td>house</td>\n",
       "      <td>emaar the palm springs</td>\n",
       "      <td>sector 54</td>\n",
       "      <td>24.00</td>\n",
       "      <td>600000.0</td>\n",
       "      <td>400.0</td>\n",
       "      <td>Plot area 400(37.16 sq.m.)</td>\n",
       "      <td>5</td>\n",
       "      <td>5</td>\n",
       "      <td>2</td>\n",
       "      <td>1.0</td>\n",
       "      <td>North-East</td>\n",
       "      <td>Old Property</td>\n",
       "      <td>NaN</td>\n",
       "      <td>400.0</td>\n",
       "      <td>NaN</td>\n",
       "      <td>1</td>\n",
       "      <td>1</td>\n",
       "      <td>0</td>\n",
       "      <td>1</td>\n",
       "      <td>0</td>\n",
       "      <td>1</td>\n",
       "      <td>122</td>\n",
       "      <td>-1</td>\n",
       "    </tr>\n",
       "    <tr>\n",
       "      <th>2850</th>\n",
       "      <td>house</td>\n",
       "      <td>dlf city plots phase 2</td>\n",
       "      <td>sector 25</td>\n",
       "      <td>10.00</td>\n",
       "      <td>400000.0</td>\n",
       "      <td>250.0</td>\n",
       "      <td>Plot area 250(23.23 sq.m.)</td>\n",
       "      <td>12</td>\n",
       "      <td>12</td>\n",
       "      <td>3+</td>\n",
       "      <td>4.0</td>\n",
       "      <td>North</td>\n",
       "      <td>Relatively New</td>\n",
       "      <td>NaN</td>\n",
       "      <td>250.0</td>\n",
       "      <td>NaN</td>\n",
       "      <td>1</td>\n",
       "      <td>1</td>\n",
       "      <td>0</td>\n",
       "      <td>0</td>\n",
       "      <td>0</td>\n",
       "      <td>1</td>\n",
       "      <td>114</td>\n",
       "      <td>-1</td>\n",
       "    </tr>\n",
       "    <tr>\n",
       "      <th>2461</th>\n",
       "      <td>house</td>\n",
       "      <td>independent</td>\n",
       "      <td>sector 12</td>\n",
       "      <td>6.00</td>\n",
       "      <td>315789.0</td>\n",
       "      <td>190.0</td>\n",
       "      <td>Plot area 190(17.65 sq.m.)Carpet area: 1600 sq...</td>\n",
       "      <td>9</td>\n",
       "      <td>6</td>\n",
       "      <td>2</td>\n",
       "      <td>2.0</td>\n",
       "      <td>North-East</td>\n",
       "      <td>Old Property</td>\n",
       "      <td>NaN</td>\n",
       "      <td>NaN</td>\n",
       "      <td>1600.0</td>\n",
       "      <td>0</td>\n",
       "      <td>0</td>\n",
       "      <td>0</td>\n",
       "      <td>0</td>\n",
       "      <td>0</td>\n",
       "      <td>0</td>\n",
       "      <td>0</td>\n",
       "      <td>-1</td>\n",
       "    </tr>\n",
       "    <tr>\n",
       "      <th>2047</th>\n",
       "      <td>house</td>\n",
       "      <td>ansal</td>\n",
       "      <td>sector 43</td>\n",
       "      <td>1.85</td>\n",
       "      <td>308333.0</td>\n",
       "      <td>60.0</td>\n",
       "      <td>Plot area 60(5.57 sq.m.)</td>\n",
       "      <td>8</td>\n",
       "      <td>8</td>\n",
       "      <td>3+</td>\n",
       "      <td>5.0</td>\n",
       "      <td>North-West</td>\n",
       "      <td>Relatively New</td>\n",
       "      <td>NaN</td>\n",
       "      <td>60.0</td>\n",
       "      <td>NaN</td>\n",
       "      <td>0</td>\n",
       "      <td>0</td>\n",
       "      <td>0</td>\n",
       "      <td>0</td>\n",
       "      <td>0</td>\n",
       "      <td>0</td>\n",
       "      <td>53</td>\n",
       "      <td>-1</td>\n",
       "    </tr>\n",
       "    <tr>\n",
       "      <th>975</th>\n",
       "      <td>house</td>\n",
       "      <td>uppal southend</td>\n",
       "      <td>sector 49</td>\n",
       "      <td>6.75</td>\n",
       "      <td>290948.0</td>\n",
       "      <td>232.0</td>\n",
       "      <td>Plot area 232(21.55 sq.m.)</td>\n",
       "      <td>12</td>\n",
       "      <td>12</td>\n",
       "      <td>3+</td>\n",
       "      <td>NaN</td>\n",
       "      <td>West</td>\n",
       "      <td>Moderately Old</td>\n",
       "      <td>NaN</td>\n",
       "      <td>232.0</td>\n",
       "      <td>NaN</td>\n",
       "      <td>1</td>\n",
       "      <td>1</td>\n",
       "      <td>0</td>\n",
       "      <td>1</td>\n",
       "      <td>1</td>\n",
       "      <td>1</td>\n",
       "      <td>49</td>\n",
       "      <td>-1</td>\n",
       "    </tr>\n",
       "    <tr>\n",
       "      <th>342</th>\n",
       "      <td>house</td>\n",
       "      <td>unitech nirvana birch court</td>\n",
       "      <td>sector 50</td>\n",
       "      <td>7.10</td>\n",
       "      <td>283333.0</td>\n",
       "      <td>251.0</td>\n",
       "      <td>Plot area 240(22.3 sq.m.)</td>\n",
       "      <td>3</td>\n",
       "      <td>3</td>\n",
       "      <td>3</td>\n",
       "      <td>1.0</td>\n",
       "      <td>East</td>\n",
       "      <td>Moderately Old</td>\n",
       "      <td>NaN</td>\n",
       "      <td>240.0</td>\n",
       "      <td>NaN</td>\n",
       "      <td>0</td>\n",
       "      <td>1</td>\n",
       "      <td>0</td>\n",
       "      <td>0</td>\n",
       "      <td>0</td>\n",
       "      <td>0</td>\n",
       "      <td>49</td>\n",
       "      <td>-1</td>\n",
       "    </tr>\n",
       "    <tr>\n",
       "      <th>3449</th>\n",
       "      <td>house</td>\n",
       "      <td>independent</td>\n",
       "      <td>sector 57</td>\n",
       "      <td>8.00</td>\n",
       "      <td>266666.0</td>\n",
       "      <td>300.0</td>\n",
       "      <td>Plot area 300(27.87 sq.m.)</td>\n",
       "      <td>5</td>\n",
       "      <td>4</td>\n",
       "      <td>3</td>\n",
       "      <td>2.0</td>\n",
       "      <td>North</td>\n",
       "      <td>Relatively New</td>\n",
       "      <td>NaN</td>\n",
       "      <td>300.0</td>\n",
       "      <td>NaN</td>\n",
       "      <td>1</td>\n",
       "      <td>1</td>\n",
       "      <td>0</td>\n",
       "      <td>1</td>\n",
       "      <td>0</td>\n",
       "      <td>0</td>\n",
       "      <td>21</td>\n",
       "      <td>-1</td>\n",
       "    </tr>\n",
       "    <tr>\n",
       "      <th>2161</th>\n",
       "      <td>house</td>\n",
       "      <td>dlf city plots phase 2</td>\n",
       "      <td>sector 25</td>\n",
       "      <td>10.50</td>\n",
       "      <td>261194.0</td>\n",
       "      <td>402.0</td>\n",
       "      <td>Plot area 402(37.35 sq.m.)</td>\n",
       "      <td>4</td>\n",
       "      <td>4</td>\n",
       "      <td>2</td>\n",
       "      <td>2.0</td>\n",
       "      <td>East</td>\n",
       "      <td>Old Property</td>\n",
       "      <td>NaN</td>\n",
       "      <td>402.0</td>\n",
       "      <td>NaN</td>\n",
       "      <td>0</td>\n",
       "      <td>1</td>\n",
       "      <td>0</td>\n",
       "      <td>1</td>\n",
       "      <td>0</td>\n",
       "      <td>1</td>\n",
       "      <td>91</td>\n",
       "      <td>-1</td>\n",
       "    </tr>\n",
       "    <tr>\n",
       "      <th>3519</th>\n",
       "      <td>house</td>\n",
       "      <td>huda plot sector 38</td>\n",
       "      <td>sector 38</td>\n",
       "      <td>4.30</td>\n",
       "      <td>245398.0</td>\n",
       "      <td>175.0</td>\n",
       "      <td>Plot area 163(15.14 sq.m.)Built Up area: 145 s...</td>\n",
       "      <td>13</td>\n",
       "      <td>13</td>\n",
       "      <td>3+</td>\n",
       "      <td>5.0</td>\n",
       "      <td>North-West</td>\n",
       "      <td>Relatively New</td>\n",
       "      <td>NaN</td>\n",
       "      <td>145.0</td>\n",
       "      <td>NaN</td>\n",
       "      <td>0</td>\n",
       "      <td>0</td>\n",
       "      <td>0</td>\n",
       "      <td>0</td>\n",
       "      <td>0</td>\n",
       "      <td>2</td>\n",
       "      <td>7</td>\n",
       "      <td>-1</td>\n",
       "    </tr>\n",
       "    <tr>\n",
       "      <th>2277</th>\n",
       "      <td>house</td>\n",
       "      <td>independent</td>\n",
       "      <td>sector 55</td>\n",
       "      <td>1.45</td>\n",
       "      <td>241666.0</td>\n",
       "      <td>60.0</td>\n",
       "      <td>Plot area 60(5.57 sq.m.)</td>\n",
       "      <td>4</td>\n",
       "      <td>4</td>\n",
       "      <td>3+</td>\n",
       "      <td>4.0</td>\n",
       "      <td>East</td>\n",
       "      <td>Relatively New</td>\n",
       "      <td>NaN</td>\n",
       "      <td>60.0</td>\n",
       "      <td>NaN</td>\n",
       "      <td>0</td>\n",
       "      <td>0</td>\n",
       "      <td>1</td>\n",
       "      <td>0</td>\n",
       "      <td>0</td>\n",
       "      <td>0</td>\n",
       "      <td>70</td>\n",
       "      <td>-1</td>\n",
       "    </tr>\n",
       "  </tbody>\n",
       "</table>\n",
       "</div>"
      ],
      "text/plain": [
       "     property_type                      society     sector  price  \\\n",
       "3046         house       emaar the palm springs  sector 54  24.00   \n",
       "2850         house       dlf city plots phase 2  sector 25  10.00   \n",
       "2461         house                  independent  sector 12   6.00   \n",
       "2047         house                        ansal  sector 43   1.85   \n",
       "975          house               uppal southend  sector 49   6.75   \n",
       "342          house  unitech nirvana birch court  sector 50   7.10   \n",
       "3449         house                  independent  sector 57   8.00   \n",
       "2161         house       dlf city plots phase 2  sector 25  10.50   \n",
       "3519         house          huda plot sector 38  sector 38   4.30   \n",
       "2277         house                  independent  sector 55   1.45   \n",
       "\n",
       "      price_per_sqft   area  \\\n",
       "3046        600000.0  400.0   \n",
       "2850        400000.0  250.0   \n",
       "2461        315789.0  190.0   \n",
       "2047        308333.0   60.0   \n",
       "975         290948.0  232.0   \n",
       "342         283333.0  251.0   \n",
       "3449        266666.0  300.0   \n",
       "2161        261194.0  402.0   \n",
       "3519        245398.0  175.0   \n",
       "2277        241666.0   60.0   \n",
       "\n",
       "                                           areaWithType  bedRoom  bathroom  \\\n",
       "3046                         Plot area 400(37.16 sq.m.)        5         5   \n",
       "2850                         Plot area 250(23.23 sq.m.)       12        12   \n",
       "2461  Plot area 190(17.65 sq.m.)Carpet area: 1600 sq...        9         6   \n",
       "2047                           Plot area 60(5.57 sq.m.)        8         8   \n",
       "975                          Plot area 232(21.55 sq.m.)       12        12   \n",
       "342                           Plot area 240(22.3 sq.m.)        3         3   \n",
       "3449                         Plot area 300(27.87 sq.m.)        5         4   \n",
       "2161                         Plot area 402(37.35 sq.m.)        4         4   \n",
       "3519  Plot area 163(15.14 sq.m.)Built Up area: 145 s...       13        13   \n",
       "2277                           Plot area 60(5.57 sq.m.)        4         4   \n",
       "\n",
       "     balcony  floorNum      facing   agePossession  super_built_up_area  \\\n",
       "3046       2       1.0  North-East    Old Property                  NaN   \n",
       "2850      3+       4.0       North  Relatively New                  NaN   \n",
       "2461       2       2.0  North-East    Old Property                  NaN   \n",
       "2047      3+       5.0  North-West  Relatively New                  NaN   \n",
       "975       3+       NaN        West  Moderately Old                  NaN   \n",
       "342        3       1.0        East  Moderately Old                  NaN   \n",
       "3449       3       2.0       North  Relatively New                  NaN   \n",
       "2161       2       2.0        East    Old Property                  NaN   \n",
       "3519      3+       5.0  North-West  Relatively New                  NaN   \n",
       "2277      3+       4.0        East  Relatively New                  NaN   \n",
       "\n",
       "      built_up_area  carpet_area  study room  servant room  store room  \\\n",
       "3046          400.0          NaN           1             1           0   \n",
       "2850          250.0          NaN           1             1           0   \n",
       "2461            NaN       1600.0           0             0           0   \n",
       "2047           60.0          NaN           0             0           0   \n",
       "975           232.0          NaN           1             1           0   \n",
       "342           240.0          NaN           0             1           0   \n",
       "3449          300.0          NaN           1             1           0   \n",
       "2161          402.0          NaN           0             1           0   \n",
       "3519          145.0          NaN           0             0           0   \n",
       "2277           60.0          NaN           0             0           1   \n",
       "\n",
       "      pooja room  others  furnishing_type  luxury_score  outliers  \n",
       "3046           1       0                1           122        -1  \n",
       "2850           0       0                1           114        -1  \n",
       "2461           0       0                0             0        -1  \n",
       "2047           0       0                0            53        -1  \n",
       "975            1       1                1            49        -1  \n",
       "342            0       0                0            49        -1  \n",
       "3449           1       0                0            21        -1  \n",
       "2161           1       0                1            91        -1  \n",
       "3519           0       0                2             7        -1  \n",
       "2277           0       0                0            70        -1  "
      ]
     },
     "execution_count": 124,
     "metadata": {},
     "output_type": "execute_result"
    }
   ],
   "source": [
    "price_per_sqft_outliers.sort_values(by='price_per_sqft', ascending=False).head(10)"
   ]
  },
  {
   "cell_type": "code",
   "execution_count": 125,
   "id": "75158326",
   "metadata": {},
   "outputs": [
    {
     "name": "stderr",
     "output_type": "stream",
     "text": [
      "C:\\Users\\User\\AppData\\Local\\Temp\\ipykernel_2932\\12973363.py:1: SettingWithCopyWarning: \n",
      "A value is trying to be set on a copy of a slice from a DataFrame.\n",
      "Try using .loc[row_indexer,col_indexer] = value instead\n",
      "\n",
      "See the caveats in the documentation: https://pandas.pydata.org/pandas-docs/stable/user_guide/indexing.html#returning-a-view-versus-a-copy\n",
      "  price_per_sqft_outliers['area'] = price_per_sqft_outliers['area'].apply(lambda x: x*9 if x< 1000 else x)\n"
     ]
    }
   ],
   "source": [
    "price_per_sqft_outliers['area'] = price_per_sqft_outliers['area'].apply(lambda x: x*9 if x< 1000 else x)"
   ]
  },
  {
   "cell_type": "code",
   "execution_count": 126,
   "id": "ca10e336",
   "metadata": {},
   "outputs": [
    {
     "name": "stderr",
     "output_type": "stream",
     "text": [
      "C:\\Users\\User\\AppData\\Local\\Temp\\ipykernel_2932\\2529082133.py:1: SettingWithCopyWarning: \n",
      "A value is trying to be set on a copy of a slice from a DataFrame.\n",
      "Try using .loc[row_indexer,col_indexer] = value instead\n",
      "\n",
      "See the caveats in the documentation: https://pandas.pydata.org/pandas-docs/stable/user_guide/indexing.html#returning-a-view-versus-a-copy\n",
      "  price_per_sqft_outliers['price_per_sqft'] = ((price_per_sqft_outliers['price']*10000000)/price_per_sqft_outliers['area']).round(2)\n"
     ]
    }
   ],
   "source": [
    "price_per_sqft_outliers['price_per_sqft'] = ((price_per_sqft_outliers['price']*10000000)/price_per_sqft_outliers['area']).round(2)"
   ]
  },
  {
   "cell_type": "code",
   "execution_count": 127,
   "id": "1de333ae",
   "metadata": {},
   "outputs": [
    {
     "data": {
      "text/html": [
       "<div>\n",
       "<style scoped>\n",
       "    .dataframe tbody tr th:only-of-type {\n",
       "        vertical-align: middle;\n",
       "    }\n",
       "\n",
       "    .dataframe tbody tr th {\n",
       "        vertical-align: top;\n",
       "    }\n",
       "\n",
       "    .dataframe thead th {\n",
       "        text-align: right;\n",
       "    }\n",
       "</style>\n",
       "<table border=\"1\" class=\"dataframe\">\n",
       "  <thead>\n",
       "    <tr style=\"text-align: right;\">\n",
       "      <th></th>\n",
       "      <th>property_type</th>\n",
       "      <th>society</th>\n",
       "      <th>sector</th>\n",
       "      <th>price</th>\n",
       "      <th>price_per_sqft</th>\n",
       "      <th>area</th>\n",
       "      <th>areaWithType</th>\n",
       "      <th>bedRoom</th>\n",
       "      <th>bathroom</th>\n",
       "      <th>balcony</th>\n",
       "      <th>floorNum</th>\n",
       "      <th>facing</th>\n",
       "      <th>agePossession</th>\n",
       "      <th>super_built_up_area</th>\n",
       "      <th>built_up_area</th>\n",
       "      <th>carpet_area</th>\n",
       "      <th>study room</th>\n",
       "      <th>servant room</th>\n",
       "      <th>store room</th>\n",
       "      <th>pooja room</th>\n",
       "      <th>others</th>\n",
       "      <th>furnishing_type</th>\n",
       "      <th>luxury_score</th>\n",
       "      <th>outliers</th>\n",
       "    </tr>\n",
       "  </thead>\n",
       "  <tbody>\n",
       "    <tr>\n",
       "      <th>2211</th>\n",
       "      <td>house</td>\n",
       "      <td>independent</td>\n",
       "      <td>sector 26</td>\n",
       "      <td>26.0</td>\n",
       "      <td>82539.68</td>\n",
       "      <td>3150.0</td>\n",
       "      <td>Plot area 402(336.12 sq.m.)Built Up area: 400 ...</td>\n",
       "      <td>16</td>\n",
       "      <td>16</td>\n",
       "      <td>3+</td>\n",
       "      <td>4.0</td>\n",
       "      <td>North-West</td>\n",
       "      <td>New Property</td>\n",
       "      <td>NaN</td>\n",
       "      <td>400.0</td>\n",
       "      <td>350.0</td>\n",
       "      <td>1</td>\n",
       "      <td>1</td>\n",
       "      <td>1</td>\n",
       "      <td>1</td>\n",
       "      <td>0</td>\n",
       "      <td>2</td>\n",
       "      <td>72</td>\n",
       "      <td>-1</td>\n",
       "    </tr>\n",
       "    <tr>\n",
       "      <th>3046</th>\n",
       "      <td>house</td>\n",
       "      <td>emaar the palm springs</td>\n",
       "      <td>sector 54</td>\n",
       "      <td>24.0</td>\n",
       "      <td>66666.67</td>\n",
       "      <td>3600.0</td>\n",
       "      <td>Plot area 400(37.16 sq.m.)</td>\n",
       "      <td>5</td>\n",
       "      <td>5</td>\n",
       "      <td>2</td>\n",
       "      <td>1.0</td>\n",
       "      <td>North-East</td>\n",
       "      <td>Old Property</td>\n",
       "      <td>NaN</td>\n",
       "      <td>400.0</td>\n",
       "      <td>NaN</td>\n",
       "      <td>1</td>\n",
       "      <td>1</td>\n",
       "      <td>0</td>\n",
       "      <td>1</td>\n",
       "      <td>0</td>\n",
       "      <td>1</td>\n",
       "      <td>122</td>\n",
       "      <td>-1</td>\n",
       "    </tr>\n",
       "    <tr>\n",
       "      <th>1425</th>\n",
       "      <td>house</td>\n",
       "      <td>project housing board colony</td>\n",
       "      <td>sector 31</td>\n",
       "      <td>8.0</td>\n",
       "      <td>63492.06</td>\n",
       "      <td>1260.0</td>\n",
       "      <td>Built Up area: 140 (117.06 sq.m.)</td>\n",
       "      <td>2</td>\n",
       "      <td>1</td>\n",
       "      <td>0</td>\n",
       "      <td>1.0</td>\n",
       "      <td>NaN</td>\n",
       "      <td>Undefined</td>\n",
       "      <td>NaN</td>\n",
       "      <td>140.0</td>\n",
       "      <td>NaN</td>\n",
       "      <td>0</td>\n",
       "      <td>0</td>\n",
       "      <td>0</td>\n",
       "      <td>0</td>\n",
       "      <td>0</td>\n",
       "      <td>0</td>\n",
       "      <td>0</td>\n",
       "      <td>1</td>\n",
       "    </tr>\n",
       "    <tr>\n",
       "      <th>1640</th>\n",
       "      <td>house</td>\n",
       "      <td>emaar the palm springs</td>\n",
       "      <td>sector 54</td>\n",
       "      <td>14.0</td>\n",
       "      <td>62222.22</td>\n",
       "      <td>2250.0</td>\n",
       "      <td>Plot area 250(209.03 sq.m.)</td>\n",
       "      <td>4</td>\n",
       "      <td>5</td>\n",
       "      <td>3+</td>\n",
       "      <td>2.0</td>\n",
       "      <td>North</td>\n",
       "      <td>Old Property</td>\n",
       "      <td>NaN</td>\n",
       "      <td>2250.0</td>\n",
       "      <td>NaN</td>\n",
       "      <td>1</td>\n",
       "      <td>1</td>\n",
       "      <td>0</td>\n",
       "      <td>0</td>\n",
       "      <td>0</td>\n",
       "      <td>1</td>\n",
       "      <td>160</td>\n",
       "      <td>-1</td>\n",
       "    </tr>\n",
       "    <tr>\n",
       "      <th>1839</th>\n",
       "      <td>house</td>\n",
       "      <td>unitech escape</td>\n",
       "      <td>sector 50</td>\n",
       "      <td>10.8</td>\n",
       "      <td>60000.00</td>\n",
       "      <td>1800.0</td>\n",
       "      <td>Plot area 290(242.48 sq.m.)Built Up area: 250 ...</td>\n",
       "      <td>4</td>\n",
       "      <td>4</td>\n",
       "      <td>3</td>\n",
       "      <td>2.0</td>\n",
       "      <td>North</td>\n",
       "      <td>Relatively New</td>\n",
       "      <td>NaN</td>\n",
       "      <td>250.0</td>\n",
       "      <td>200.0</td>\n",
       "      <td>1</td>\n",
       "      <td>1</td>\n",
       "      <td>1</td>\n",
       "      <td>1</td>\n",
       "      <td>0</td>\n",
       "      <td>1</td>\n",
       "      <td>103</td>\n",
       "      <td>-1</td>\n",
       "    </tr>\n",
       "    <tr>\n",
       "      <th>1261</th>\n",
       "      <td>house</td>\n",
       "      <td>independent</td>\n",
       "      <td>sector 25</td>\n",
       "      <td>16.0</td>\n",
       "      <td>59259.26</td>\n",
       "      <td>2700.0</td>\n",
       "      <td>Plot area 350(292.64 sq.m.)Built Up area: 325 ...</td>\n",
       "      <td>16</td>\n",
       "      <td>16</td>\n",
       "      <td>3+</td>\n",
       "      <td>4.0</td>\n",
       "      <td>West</td>\n",
       "      <td>New Property</td>\n",
       "      <td>NaN</td>\n",
       "      <td>325.0</td>\n",
       "      <td>300.0</td>\n",
       "      <td>1</td>\n",
       "      <td>1</td>\n",
       "      <td>1</td>\n",
       "      <td>1</td>\n",
       "      <td>0</td>\n",
       "      <td>2</td>\n",
       "      <td>72</td>\n",
       "      <td>-1</td>\n",
       "    </tr>\n",
       "    <tr>\n",
       "      <th>1349</th>\n",
       "      <td>flat</td>\n",
       "      <td>unitech vistas</td>\n",
       "      <td>sector 70</td>\n",
       "      <td>9.0</td>\n",
       "      <td>57507.99</td>\n",
       "      <td>1565.0</td>\n",
       "      <td>Built Up area: 1565 (145.39 sq.m.)</td>\n",
       "      <td>3</td>\n",
       "      <td>3</td>\n",
       "      <td>0</td>\n",
       "      <td>7.0</td>\n",
       "      <td>NaN</td>\n",
       "      <td>Undefined</td>\n",
       "      <td>NaN</td>\n",
       "      <td>1565.0</td>\n",
       "      <td>NaN</td>\n",
       "      <td>0</td>\n",
       "      <td>0</td>\n",
       "      <td>0</td>\n",
       "      <td>0</td>\n",
       "      <td>0</td>\n",
       "      <td>0</td>\n",
       "      <td>0</td>\n",
       "      <td>1</td>\n",
       "    </tr>\n",
       "    <tr>\n",
       "      <th>2488</th>\n",
       "      <td>house</td>\n",
       "      <td>dlf city plots</td>\n",
       "      <td>sector 26</td>\n",
       "      <td>26.0</td>\n",
       "      <td>57205.72</td>\n",
       "      <td>4545.0</td>\n",
       "      <td>Plot area 505(422.24 sq.m.)</td>\n",
       "      <td>6</td>\n",
       "      <td>7</td>\n",
       "      <td>3+</td>\n",
       "      <td>2.0</td>\n",
       "      <td>North-East</td>\n",
       "      <td>New Property</td>\n",
       "      <td>NaN</td>\n",
       "      <td>4545.0</td>\n",
       "      <td>NaN</td>\n",
       "      <td>1</td>\n",
       "      <td>1</td>\n",
       "      <td>0</td>\n",
       "      <td>1</td>\n",
       "      <td>1</td>\n",
       "      <td>1</td>\n",
       "      <td>138</td>\n",
       "      <td>-1</td>\n",
       "    </tr>\n",
       "    <tr>\n",
       "      <th>671</th>\n",
       "      <td>house</td>\n",
       "      <td>emaar mgf marbella</td>\n",
       "      <td>sector 66</td>\n",
       "      <td>18.0</td>\n",
       "      <td>55555.56</td>\n",
       "      <td>3240.0</td>\n",
       "      <td>Plot area 360(301.01 sq.m.)</td>\n",
       "      <td>4</td>\n",
       "      <td>4</td>\n",
       "      <td>3+</td>\n",
       "      <td>3.0</td>\n",
       "      <td>East</td>\n",
       "      <td>Moderately Old</td>\n",
       "      <td>NaN</td>\n",
       "      <td>3240.0</td>\n",
       "      <td>NaN</td>\n",
       "      <td>1</td>\n",
       "      <td>1</td>\n",
       "      <td>0</td>\n",
       "      <td>1</td>\n",
       "      <td>0</td>\n",
       "      <td>2</td>\n",
       "      <td>75</td>\n",
       "      <td>-1</td>\n",
       "    </tr>\n",
       "    <tr>\n",
       "      <th>386</th>\n",
       "      <td>house</td>\n",
       "      <td>cloudnine cottages</td>\n",
       "      <td>sohna road</td>\n",
       "      <td>5.5</td>\n",
       "      <td>55000.00</td>\n",
       "      <td>1000.0</td>\n",
       "      <td>Plot area 1000(92.9 sq.m.)</td>\n",
       "      <td>3</td>\n",
       "      <td>3</td>\n",
       "      <td>0</td>\n",
       "      <td>1.0</td>\n",
       "      <td>NaN</td>\n",
       "      <td>Moderately Old</td>\n",
       "      <td>NaN</td>\n",
       "      <td>1000.0</td>\n",
       "      <td>NaN</td>\n",
       "      <td>0</td>\n",
       "      <td>0</td>\n",
       "      <td>0</td>\n",
       "      <td>0</td>\n",
       "      <td>0</td>\n",
       "      <td>0</td>\n",
       "      <td>0</td>\n",
       "      <td>1</td>\n",
       "    </tr>\n",
       "  </tbody>\n",
       "</table>\n",
       "</div>"
      ],
      "text/plain": [
       "     property_type                       society      sector  price  \\\n",
       "2211         house                   independent   sector 26   26.0   \n",
       "3046         house        emaar the palm springs   sector 54   24.0   \n",
       "1425         house  project housing board colony   sector 31    8.0   \n",
       "1640         house        emaar the palm springs   sector 54   14.0   \n",
       "1839         house                unitech escape   sector 50   10.8   \n",
       "1261         house                   independent   sector 25   16.0   \n",
       "1349          flat                unitech vistas   sector 70    9.0   \n",
       "2488         house                dlf city plots   sector 26   26.0   \n",
       "671          house            emaar mgf marbella   sector 66   18.0   \n",
       "386          house            cloudnine cottages  sohna road    5.5   \n",
       "\n",
       "      price_per_sqft    area  \\\n",
       "2211        82539.68  3150.0   \n",
       "3046        66666.67  3600.0   \n",
       "1425        63492.06  1260.0   \n",
       "1640        62222.22  2250.0   \n",
       "1839        60000.00  1800.0   \n",
       "1261        59259.26  2700.0   \n",
       "1349        57507.99  1565.0   \n",
       "2488        57205.72  4545.0   \n",
       "671         55555.56  3240.0   \n",
       "386         55000.00  1000.0   \n",
       "\n",
       "                                           areaWithType  bedRoom  bathroom  \\\n",
       "2211  Plot area 402(336.12 sq.m.)Built Up area: 400 ...       16        16   \n",
       "3046                         Plot area 400(37.16 sq.m.)        5         5   \n",
       "1425                  Built Up area: 140 (117.06 sq.m.)        2         1   \n",
       "1640                        Plot area 250(209.03 sq.m.)        4         5   \n",
       "1839  Plot area 290(242.48 sq.m.)Built Up area: 250 ...        4         4   \n",
       "1261  Plot area 350(292.64 sq.m.)Built Up area: 325 ...       16        16   \n",
       "1349                 Built Up area: 1565 (145.39 sq.m.)        3         3   \n",
       "2488                        Plot area 505(422.24 sq.m.)        6         7   \n",
       "671                         Plot area 360(301.01 sq.m.)        4         4   \n",
       "386                          Plot area 1000(92.9 sq.m.)        3         3   \n",
       "\n",
       "     balcony  floorNum      facing   agePossession  super_built_up_area  \\\n",
       "2211      3+       4.0  North-West    New Property                  NaN   \n",
       "3046       2       1.0  North-East    Old Property                  NaN   \n",
       "1425       0       1.0         NaN       Undefined                  NaN   \n",
       "1640      3+       2.0       North    Old Property                  NaN   \n",
       "1839       3       2.0       North  Relatively New                  NaN   \n",
       "1261      3+       4.0        West    New Property                  NaN   \n",
       "1349       0       7.0         NaN       Undefined                  NaN   \n",
       "2488      3+       2.0  North-East    New Property                  NaN   \n",
       "671       3+       3.0        East  Moderately Old                  NaN   \n",
       "386        0       1.0         NaN  Moderately Old                  NaN   \n",
       "\n",
       "      built_up_area  carpet_area  study room  servant room  store room  \\\n",
       "2211          400.0        350.0           1             1           1   \n",
       "3046          400.0          NaN           1             1           0   \n",
       "1425          140.0          NaN           0             0           0   \n",
       "1640         2250.0          NaN           1             1           0   \n",
       "1839          250.0        200.0           1             1           1   \n",
       "1261          325.0        300.0           1             1           1   \n",
       "1349         1565.0          NaN           0             0           0   \n",
       "2488         4545.0          NaN           1             1           0   \n",
       "671          3240.0          NaN           1             1           0   \n",
       "386          1000.0          NaN           0             0           0   \n",
       "\n",
       "      pooja room  others  furnishing_type  luxury_score  outliers  \n",
       "2211           1       0                2            72        -1  \n",
       "3046           1       0                1           122        -1  \n",
       "1425           0       0                0             0         1  \n",
       "1640           0       0                1           160        -1  \n",
       "1839           1       0                1           103        -1  \n",
       "1261           1       0                2            72        -1  \n",
       "1349           0       0                0             0         1  \n",
       "2488           1       1                1           138        -1  \n",
       "671            1       0                2            75        -1  \n",
       "386            0       0                0             0         1  "
      ]
     },
     "execution_count": 127,
     "metadata": {},
     "output_type": "execute_result"
    }
   ],
   "source": [
    "price_per_sqft_outliers.sort_values(by='price_per_sqft', ascending=False).head(10)"
   ]
  },
  {
   "cell_type": "code",
   "execution_count": 128,
   "id": "263627e3",
   "metadata": {},
   "outputs": [],
   "source": [
    "df.update(price_per_sqft_outliers)"
   ]
  },
  {
   "cell_type": "code",
   "execution_count": 129,
   "id": "45dec4bf",
   "metadata": {},
   "outputs": [
    {
     "data": {
      "text/plain": [
       "<Axes: xlabel='price_per_sqft'>"
      ]
     },
     "execution_count": 129,
     "metadata": {},
     "output_type": "execute_result"
    },
    {
     "data": {
      "image/png": "[encoded data removed]",
      "text/plain": [
       "<Figure size 640x480 with 1 Axes>"
      ]
     },
     "metadata": {},
     "output_type": "display_data"
    }
   ],
   "source": [
    "sns.boxplot(x=df['price_per_sqft'])"
   ]
  },
  {
   "cell_type": "code",
   "execution_count": 130,
   "id": "1d728f82",
   "metadata": {},
   "outputs": [
    {
     "data": {
      "text/plain": [
       "(13, 24)"
      ]
     },
     "execution_count": 130,
     "metadata": {},
     "output_type": "execute_result"
    }
   ],
   "source": [
    "df[df['price_per_sqft']>50000].shape"
   ]
  },
  {
   "cell_type": "code",
   "execution_count": 131,
   "id": "53430a41",
   "metadata": {},
   "outputs": [],
   "source": [
    "df = df[df['price_per_sqft']<=50000]"
   ]
  },
  {
   "cell_type": "code",
   "execution_count": 132,
   "id": "eea39620",
   "metadata": {},
   "outputs": [
    {
     "data": {
      "text/plain": [
       "<Axes: xlabel='price_per_sqft'>"
      ]
     },
     "execution_count": 132,
     "metadata": {},
     "output_type": "execute_result"
    },
    {
     "data": {
      "image/png": "[encoded data removed]",
      "text/plain": [
       "<Figure size 640x480 with 1 Axes>"
      ]
     },
     "metadata": {},
     "output_type": "display_data"
    }
   ],
   "source": [
    "sns.boxplot(x=df['price_per_sqft'])"
   ]
  },
  {
   "cell_type": "markdown",
   "id": "bbe8b242",
   "metadata": {},
   "source": [
    "# Area"
   ]
  },
  {
   "cell_type": "code",
   "execution_count": 133,
   "id": "024a0a85",
   "metadata": {},
   "outputs": [
    {
     "data": {
      "text/plain": [
       "<Axes: xlabel='area', ylabel='Count'>"
      ]
     },
     "execution_count": 133,
     "metadata": {},
     "output_type": "execute_result"
    },
    {
     "data": {
      "image/png": "[encoded data removed]",
      "text/plain": [
       "<Figure size 640x480 with 1 Axes>"
      ]
     },
     "metadata": {},
     "output_type": "display_data"
    }
   ],
   "source": [
    "sns.histplot(df['area'], bins=50,kde=True)"
   ]
  },
  {
   "cell_type": "code",
   "execution_count": 134,
   "id": "f3b564b0",
   "metadata": {},
   "outputs": [
    {
     "data": {
      "text/plain": [
       "<Axes: xlabel='area'>"
      ]
     },
     "execution_count": 134,
     "metadata": {},
     "output_type": "execute_result"
    },
    {
     "data": {
      "image/png": "[encoded data removed]",
      "text/plain": [
       "<Figure size 640x480 with 1 Axes>"
      ]
     },
     "metadata": {},
     "output_type": "display_data"
    }
   ],
   "source": [
    "sns.boxplot(x=df['area'])"
   ]
  },
  {
   "cell_type": "code",
   "execution_count": 135,
   "id": "d4a84dd2",
   "metadata": {},
   "outputs": [
    {
     "data": {
      "text/plain": [
       "(25, 24)"
      ]
     },
     "execution_count": 135,
     "metadata": {},
     "output_type": "execute_result"
    }
   ],
   "source": [
    "df[df['area'] > 10000].shape\n"
   ]
  },
  {
   "cell_type": "code",
   "execution_count": 136,
   "id": "5a21f2b3",
   "metadata": {},
   "outputs": [
    {
     "data": {
      "text/html": [
       "<div>\n",
       "<style scoped>\n",
       "    .dataframe tbody tr th:only-of-type {\n",
       "        vertical-align: middle;\n",
       "    }\n",
       "\n",
       "    .dataframe tbody tr th {\n",
       "        vertical-align: top;\n",
       "    }\n",
       "\n",
       "    .dataframe thead th {\n",
       "        text-align: right;\n",
       "    }\n",
       "</style>\n",
       "<table border=\"1\" class=\"dataframe\">\n",
       "  <thead>\n",
       "    <tr style=\"text-align: right;\">\n",
       "      <th></th>\n",
       "      <th>property_type</th>\n",
       "      <th>society</th>\n",
       "      <th>sector</th>\n",
       "      <th>price</th>\n",
       "      <th>price_per_sqft</th>\n",
       "      <th>area</th>\n",
       "      <th>areaWithType</th>\n",
       "      <th>bedRoom</th>\n",
       "      <th>bathroom</th>\n",
       "      <th>balcony</th>\n",
       "      <th>floorNum</th>\n",
       "      <th>facing</th>\n",
       "      <th>agePossession</th>\n",
       "      <th>super_built_up_area</th>\n",
       "      <th>built_up_area</th>\n",
       "      <th>carpet_area</th>\n",
       "      <th>study room</th>\n",
       "      <th>servant room</th>\n",
       "      <th>store room</th>\n",
       "      <th>pooja room</th>\n",
       "      <th>others</th>\n",
       "      <th>furnishing_type</th>\n",
       "      <th>luxury_score</th>\n",
       "      <th>outliers</th>\n",
       "    </tr>\n",
       "  </thead>\n",
       "  <tbody>\n",
       "    <tr>\n",
       "      <th>1648</th>\n",
       "      <td>flat</td>\n",
       "      <td>hcbs sports ville</td>\n",
       "      <td>sohna road</td>\n",
       "      <td>0.35</td>\n",
       "      <td>4.0</td>\n",
       "      <td>875000.0</td>\n",
       "      <td>Built Up area: 737147 (68483.2 sq.m.)</td>\n",
       "      <td>2</td>\n",
       "      <td>2</td>\n",
       "      <td>2</td>\n",
       "      <td>8.0</td>\n",
       "      <td>NaN</td>\n",
       "      <td>Relatively New</td>\n",
       "      <td>NaN</td>\n",
       "      <td>737147.0</td>\n",
       "      <td>NaN</td>\n",
       "      <td>0</td>\n",
       "      <td>0</td>\n",
       "      <td>0</td>\n",
       "      <td>0</td>\n",
       "      <td>0</td>\n",
       "      <td>2</td>\n",
       "      <td>44</td>\n",
       "      <td>-1</td>\n",
       "    </tr>\n",
       "    <tr>\n",
       "      <th>2111</th>\n",
       "      <td>flat</td>\n",
       "      <td>signature the roselia</td>\n",
       "      <td>sector 95</td>\n",
       "      <td>0.45</td>\n",
       "      <td>7.0</td>\n",
       "      <td>642857.0</td>\n",
       "      <td>Carpet area: 569243 (52884.41 sq.m.)</td>\n",
       "      <td>2</td>\n",
       "      <td>2</td>\n",
       "      <td>2</td>\n",
       "      <td>2.0</td>\n",
       "      <td>South-West</td>\n",
       "      <td>New Property</td>\n",
       "      <td>NaN</td>\n",
       "      <td>NaN</td>\n",
       "      <td>569243.0</td>\n",
       "      <td>0</td>\n",
       "      <td>0</td>\n",
       "      <td>0</td>\n",
       "      <td>0</td>\n",
       "      <td>0</td>\n",
       "      <td>0</td>\n",
       "      <td>76</td>\n",
       "      <td>-1</td>\n",
       "    </tr>\n",
       "    <tr>\n",
       "      <th>2651</th>\n",
       "      <td>flat</td>\n",
       "      <td>ramsons kshitij</td>\n",
       "      <td>sector 95</td>\n",
       "      <td>0.31</td>\n",
       "      <td>5.0</td>\n",
       "      <td>620000.0</td>\n",
       "      <td>Carpet area: 607936 (56479.1 sq.m.)</td>\n",
       "      <td>2</td>\n",
       "      <td>2</td>\n",
       "      <td>1</td>\n",
       "      <td>1.0</td>\n",
       "      <td>North-East</td>\n",
       "      <td>Relatively New</td>\n",
       "      <td>NaN</td>\n",
       "      <td>NaN</td>\n",
       "      <td>607936.0</td>\n",
       "      <td>1</td>\n",
       "      <td>0</td>\n",
       "      <td>0</td>\n",
       "      <td>0</td>\n",
       "      <td>1</td>\n",
       "      <td>0</td>\n",
       "      <td>65</td>\n",
       "      <td>-1</td>\n",
       "    </tr>\n",
       "    <tr>\n",
       "      <th>1638</th>\n",
       "      <td>flat</td>\n",
       "      <td>signature global solera 2</td>\n",
       "      <td>sector 107</td>\n",
       "      <td>0.51</td>\n",
       "      <td>9.0</td>\n",
       "      <td>566667.0</td>\n",
       "      <td>Carpet area: 514396 (47788.95 sq.m.)</td>\n",
       "      <td>2</td>\n",
       "      <td>2</td>\n",
       "      <td>1</td>\n",
       "      <td>3.0</td>\n",
       "      <td>North</td>\n",
       "      <td>New Property</td>\n",
       "      <td>NaN</td>\n",
       "      <td>NaN</td>\n",
       "      <td>514396.0</td>\n",
       "      <td>0</td>\n",
       "      <td>0</td>\n",
       "      <td>0</td>\n",
       "      <td>0</td>\n",
       "      <td>0</td>\n",
       "      <td>0</td>\n",
       "      <td>44</td>\n",
       "      <td>-1</td>\n",
       "    </tr>\n",
       "    <tr>\n",
       "      <th>3021</th>\n",
       "      <td>house</td>\n",
       "      <td>independent</td>\n",
       "      <td>sector 50</td>\n",
       "      <td>5.00</td>\n",
       "      <td>232.0</td>\n",
       "      <td>215517.0</td>\n",
       "      <td>Plot area 2(1011.71 sq.m.)</td>\n",
       "      <td>6</td>\n",
       "      <td>5</td>\n",
       "      <td>3+</td>\n",
       "      <td>2.0</td>\n",
       "      <td>NaN</td>\n",
       "      <td>New Property</td>\n",
       "      <td>NaN</td>\n",
       "      <td>2.0</td>\n",
       "      <td>NaN</td>\n",
       "      <td>1</td>\n",
       "      <td>1</td>\n",
       "      <td>0</td>\n",
       "      <td>1</td>\n",
       "      <td>1</td>\n",
       "      <td>1</td>\n",
       "      <td>0</td>\n",
       "      <td>-1</td>\n",
       "    </tr>\n",
       "  </tbody>\n",
       "</table>\n",
       "</div>"
      ],
      "text/plain": [
       "     property_type                    society      sector  price  \\\n",
       "1648          flat          hcbs sports ville  sohna road   0.35   \n",
       "2111          flat      signature the roselia   sector 95   0.45   \n",
       "2651          flat            ramsons kshitij   sector 95   0.31   \n",
       "1638          flat  signature global solera 2  sector 107   0.51   \n",
       "3021         house                independent   sector 50   5.00   \n",
       "\n",
       "      price_per_sqft      area                           areaWithType  \\\n",
       "1648             4.0  875000.0  Built Up area: 737147 (68483.2 sq.m.)   \n",
       "2111             7.0  642857.0   Carpet area: 569243 (52884.41 sq.m.)   \n",
       "2651             5.0  620000.0    Carpet area: 607936 (56479.1 sq.m.)   \n",
       "1638             9.0  566667.0   Carpet area: 514396 (47788.95 sq.m.)   \n",
       "3021           232.0  215517.0             Plot area 2(1011.71 sq.m.)   \n",
       "\n",
       "      bedRoom  bathroom balcony  floorNum      facing   agePossession  \\\n",
       "1648        2         2       2       8.0         NaN  Relatively New   \n",
       "2111        2         2       2       2.0  South-West    New Property   \n",
       "2651        2         2       1       1.0  North-East  Relatively New   \n",
       "1638        2         2       1       3.0       North    New Property   \n",
       "3021        6         5      3+       2.0         NaN    New Property   \n",
       "\n",
       "      super_built_up_area  built_up_area  carpet_area  study room  \\\n",
       "1648                  NaN       737147.0          NaN           0   \n",
       "2111                  NaN            NaN     569243.0           0   \n",
       "2651                  NaN            NaN     607936.0           1   \n",
       "1638                  NaN            NaN     514396.0           0   \n",
       "3021                  NaN            2.0          NaN           1   \n",
       "\n",
       "      servant room  store room  pooja room  others  furnishing_type  \\\n",
       "1648             0           0           0       0                2   \n",
       "2111             0           0           0       0                0   \n",
       "2651             0           0           0       1                0   \n",
       "1638             0           0           0       0                0   \n",
       "3021             1           0           1       1                1   \n",
       "\n",
       "      luxury_score  outliers  \n",
       "1648            44        -1  \n",
       "2111            76        -1  \n",
       "2651            65        -1  \n",
       "1638            44        -1  \n",
       "3021             0        -1  "
      ]
     },
     "execution_count": 136,
     "metadata": {},
     "output_type": "execute_result"
    }
   ],
   "source": [
    "df[df['area']>100000].sort_values(by='area', ascending=False)"
   ]
  },
  {
   "cell_type": "markdown",
   "id": "9f649b9c",
   "metadata": {},
   "source": [
    "High area and low prices , so we can remove them."
   ]
  },
  {
   "cell_type": "code",
   "execution_count": 137,
   "id": "2062293e",
   "metadata": {},
   "outputs": [],
   "source": [
    "df = df[df['area']<100000]"
   ]
  },
  {
   "cell_type": "code",
   "execution_count": 138,
   "id": "9a7eb271",
   "metadata": {},
   "outputs": [
    {
     "data": {
      "text/plain": [
       "<Axes: xlabel='area'>"
      ]
     },
     "execution_count": 138,
     "metadata": {},
     "output_type": "execute_result"
    },
    {
     "data": {
      "image/png": "[encoded data removed]",
      "text/plain": [
       "<Figure size 640x480 with 1 Axes>"
      ]
     },
     "metadata": {},
     "output_type": "display_data"
    }
   ],
   "source": [
    "sns.boxplot(x=df['area'])"
   ]
  },
  {
   "cell_type": "code",
   "execution_count": 139,
   "id": "b56259fa",
   "metadata": {},
   "outputs": [
    {
     "data": {
      "text/plain": [
       "<Axes: xlabel='area', ylabel='Count'>"
      ]
     },
     "execution_count": 139,
     "metadata": {},
     "output_type": "execute_result"
    },
    {
     "data": {
      "image/png": "[encoded data removed]",
      "text/plain": [
       "<Figure size 640x480 with 1 Axes>"
      ]
     },
     "metadata": {},
     "output_type": "display_data"
    }
   ],
   "source": [
    "sns.histplot(df['area'], bins=50,kde=True)"
   ]
  },
  {
   "cell_type": "code",
   "execution_count": 140,
   "id": "f0d076bb",
   "metadata": {},
   "outputs": [
    {
     "data": {
      "text/plain": [
       "(20, 24)"
      ]
     },
     "execution_count": 140,
     "metadata": {},
     "output_type": "execute_result"
    }
   ],
   "source": [
    "df[df['area']>10000].shape"
   ]
  },
  {
   "cell_type": "code",
   "execution_count": 141,
   "id": "0bab236b",
   "metadata": {},
   "outputs": [],
   "source": [
    "df = df[df['area']<10000]"
   ]
  },
  {
   "cell_type": "code",
   "execution_count": 142,
   "id": "99663eb7",
   "metadata": {},
   "outputs": [
    {
     "data": {
      "text/plain": [
       "<Axes: xlabel='area'>"
      ]
     },
     "execution_count": 142,
     "metadata": {},
     "output_type": "execute_result"
    },
    {
     "data": {
      "image/png": "[encoded data removed]",
      "text/plain": [
       "<Figure size 640x480 with 1 Axes>"
      ]
     },
     "metadata": {},
     "output_type": "display_data"
    }
   ],
   "source": [
    "sns.boxplot(x=df['area'])"
   ]
  },
  {
   "cell_type": "code",
   "execution_count": 143,
   "id": "9cf27456",
   "metadata": {},
   "outputs": [
    {
     "data": {
      "text/plain": [
       "np.float64(2.0811323971562783)"
      ]
     },
     "execution_count": 143,
     "metadata": {},
     "output_type": "execute_result"
    },
    {
     "data": {
      "image/png": "[encoded data removed]",
      "text/plain": [
       "<Figure size 640x480 with 1 Axes>"
      ]
     },
     "metadata": {},
     "output_type": "display_data"
    }
   ],
   "source": [
    "sns.histplot(df['area'], bins=50,kde=True)\n",
    "df['area'].skew()"
   ]
  },
  {
   "cell_type": "markdown",
   "id": "ef04c202",
   "metadata": {},
   "source": [
    "# Bedrooms"
   ]
  },
  {
   "cell_type": "code",
   "execution_count": 144,
   "id": "f0de2fd5",
   "metadata": {},
   "outputs": [
    {
     "data": {
      "text/plain": [
       "np.float64(3.522878765832131)"
      ]
     },
     "execution_count": 144,
     "metadata": {},
     "output_type": "execute_result"
    },
    {
     "data": {
      "image/png": "[encoded data removed]",
      "text/plain": [
       "<Figure size 640x480 with 1 Axes>"
      ]
     },
     "metadata": {},
     "output_type": "display_data"
    }
   ],
   "source": [
    "sns.histplot(df['bedRoom'], kde=True,bins=50)\n",
    "df['bedRoom'].skew()"
   ]
  },
  {
   "cell_type": "code",
   "execution_count": 145,
   "id": "96f994d4",
   "metadata": {},
   "outputs": [
    {
     "data": {
      "text/plain": [
       "<Axes: xlabel='bedRoom'>"
      ]
     },
     "execution_count": 145,
     "metadata": {},
     "output_type": "execute_result"
    },
    {
     "data": {
      "image/png": "[encoded data removed]",
      "text/plain": [
       "<Figure size 640x480 with 1 Axes>"
      ]
     },
     "metadata": {},
     "output_type": "display_data"
    }
   ],
   "source": [
    "sns.boxplot(x=df['bedRoom'])"
   ]
  },
  {
   "cell_type": "code",
   "execution_count": 146,
   "id": "33d08eef",
   "metadata": {},
   "outputs": [
    {
     "data": {
      "text/plain": [
       "(130, 24)"
      ]
     },
     "execution_count": 146,
     "metadata": {},
     "output_type": "execute_result"
    }
   ],
   "source": [
    "q1 = df['bedRoom'].quantile(0.25)\n",
    "q3 = df['bedRoom'].quantile(0.75)\n",
    "\n",
    "IQR = q3 - q1\n",
    "\n",
    "lower_bound = q1 - (1.5*IQR)\n",
    "upper_bound = q3 + (1.5*IQR)\n",
    "\n",
    "bedroom_outliers = df[(df['bedRoom'] < lower_bound) | (df['bedRoom'] > upper_bound)]\n",
    "bedroom_outliers.shape"
   ]
  },
  {
   "cell_type": "code",
   "execution_count": 147,
   "id": "32b7baf4",
   "metadata": {},
   "outputs": [
    {
     "data": {
      "text/plain": [
       "np.float64(7.0)"
      ]
     },
     "execution_count": 147,
     "metadata": {},
     "output_type": "execute_result"
    }
   ],
   "source": [
    "upper_bound"
   ]
  },
  {
   "cell_type": "code",
   "execution_count": 148,
   "id": "c0a6bacd",
   "metadata": {},
   "outputs": [
    {
     "data": {
      "text/html": [
       "<div>\n",
       "<style scoped>\n",
       "    .dataframe tbody tr th:only-of-type {\n",
       "        vertical-align: middle;\n",
       "    }\n",
       "\n",
       "    .dataframe tbody tr th {\n",
       "        vertical-align: top;\n",
       "    }\n",
       "\n",
       "    .dataframe thead th {\n",
       "        text-align: right;\n",
       "    }\n",
       "</style>\n",
       "<table border=\"1\" class=\"dataframe\">\n",
       "  <thead>\n",
       "    <tr style=\"text-align: right;\">\n",
       "      <th></th>\n",
       "      <th>property_type</th>\n",
       "      <th>society</th>\n",
       "      <th>sector</th>\n",
       "      <th>price</th>\n",
       "      <th>price_per_sqft</th>\n",
       "      <th>area</th>\n",
       "      <th>areaWithType</th>\n",
       "      <th>bedRoom</th>\n",
       "      <th>bathroom</th>\n",
       "      <th>balcony</th>\n",
       "      <th>floorNum</th>\n",
       "      <th>facing</th>\n",
       "      <th>agePossession</th>\n",
       "      <th>super_built_up_area</th>\n",
       "      <th>built_up_area</th>\n",
       "      <th>carpet_area</th>\n",
       "      <th>study room</th>\n",
       "      <th>servant room</th>\n",
       "      <th>store room</th>\n",
       "      <th>pooja room</th>\n",
       "      <th>others</th>\n",
       "      <th>furnishing_type</th>\n",
       "      <th>luxury_score</th>\n",
       "      <th>outliers</th>\n",
       "    </tr>\n",
       "  </thead>\n",
       "  <tbody>\n",
       "    <tr>\n",
       "      <th>3618</th>\n",
       "      <td>house</td>\n",
       "      <td>independent</td>\n",
       "      <td>sector 54</td>\n",
       "      <td>5.00</td>\n",
       "      <td>43066.32</td>\n",
       "      <td>1161.0</td>\n",
       "      <td>Plot area 129(107.86 sq.m.)</td>\n",
       "      <td>21</td>\n",
       "      <td>21</td>\n",
       "      <td>3+</td>\n",
       "      <td>5.0</td>\n",
       "      <td>North</td>\n",
       "      <td>Relatively New</td>\n",
       "      <td>NaN</td>\n",
       "      <td>1161.0</td>\n",
       "      <td>NaN</td>\n",
       "      <td>0</td>\n",
       "      <td>1</td>\n",
       "      <td>0</td>\n",
       "      <td>0</td>\n",
       "      <td>0</td>\n",
       "      <td>2</td>\n",
       "      <td>49</td>\n",
       "      <td>-1</td>\n",
       "    </tr>\n",
       "    <tr>\n",
       "      <th>2611</th>\n",
       "      <td>house</td>\n",
       "      <td>independent</td>\n",
       "      <td>sector 43</td>\n",
       "      <td>4.50</td>\n",
       "      <td>39062.50</td>\n",
       "      <td>1152.0</td>\n",
       "      <td>Plot area 128(107.02 sq.m.)</td>\n",
       "      <td>20</td>\n",
       "      <td>20</td>\n",
       "      <td>3+</td>\n",
       "      <td>4.0</td>\n",
       "      <td>East</td>\n",
       "      <td>Relatively New</td>\n",
       "      <td>NaN</td>\n",
       "      <td>1152.0</td>\n",
       "      <td>NaN</td>\n",
       "      <td>0</td>\n",
       "      <td>1</td>\n",
       "      <td>0</td>\n",
       "      <td>0</td>\n",
       "      <td>0</td>\n",
       "      <td>2</td>\n",
       "      <td>22</td>\n",
       "      <td>-1</td>\n",
       "    </tr>\n",
       "    <tr>\n",
       "      <th>78</th>\n",
       "      <td>house</td>\n",
       "      <td>independent</td>\n",
       "      <td>sector 17</td>\n",
       "      <td>3.87</td>\n",
       "      <td>5160.00</td>\n",
       "      <td>7500.0</td>\n",
       "      <td>Plot area 1623(150.78 sq.m.)Built Up area: 750...</td>\n",
       "      <td>19</td>\n",
       "      <td>17</td>\n",
       "      <td>3+</td>\n",
       "      <td>5.0</td>\n",
       "      <td>North-West</td>\n",
       "      <td>Relatively New</td>\n",
       "      <td>NaN</td>\n",
       "      <td>7500.0</td>\n",
       "      <td>NaN</td>\n",
       "      <td>1</td>\n",
       "      <td>0</td>\n",
       "      <td>1</td>\n",
       "      <td>0</td>\n",
       "      <td>0</td>\n",
       "      <td>0</td>\n",
       "      <td>68</td>\n",
       "      <td>-1</td>\n",
       "    </tr>\n",
       "    <tr>\n",
       "      <th>1493</th>\n",
       "      <td>house</td>\n",
       "      <td>independent</td>\n",
       "      <td>sector 17</td>\n",
       "      <td>3.93</td>\n",
       "      <td>24214.42</td>\n",
       "      <td>1623.0</td>\n",
       "      <td>Plot area 1623(150.78 sq.m.)Built Up area: 162...</td>\n",
       "      <td>19</td>\n",
       "      <td>17</td>\n",
       "      <td>3</td>\n",
       "      <td>4.0</td>\n",
       "      <td>North-West</td>\n",
       "      <td>Relatively New</td>\n",
       "      <td>NaN</td>\n",
       "      <td>1622.0</td>\n",
       "      <td>NaN</td>\n",
       "      <td>1</td>\n",
       "      <td>1</td>\n",
       "      <td>1</td>\n",
       "      <td>1</td>\n",
       "      <td>0</td>\n",
       "      <td>0</td>\n",
       "      <td>74</td>\n",
       "      <td>-1</td>\n",
       "    </tr>\n",
       "    <tr>\n",
       "      <th>1381</th>\n",
       "      <td>house</td>\n",
       "      <td>private house</td>\n",
       "      <td>sector 55</td>\n",
       "      <td>7.05</td>\n",
       "      <td>46906.19</td>\n",
       "      <td>1503.0</td>\n",
       "      <td>Plot area 167(139.63 sq.m.)</td>\n",
       "      <td>18</td>\n",
       "      <td>18</td>\n",
       "      <td>3+</td>\n",
       "      <td>4.0</td>\n",
       "      <td>North-East</td>\n",
       "      <td>Relatively New</td>\n",
       "      <td>NaN</td>\n",
       "      <td>1503.0</td>\n",
       "      <td>NaN</td>\n",
       "      <td>0</td>\n",
       "      <td>0</td>\n",
       "      <td>0</td>\n",
       "      <td>0</td>\n",
       "      <td>1</td>\n",
       "      <td>2</td>\n",
       "      <td>57</td>\n",
       "      <td>-1</td>\n",
       "    </tr>\n",
       "  </tbody>\n",
       "</table>\n",
       "</div>"
      ],
      "text/plain": [
       "     property_type        society     sector  price  price_per_sqft    area  \\\n",
       "3618         house    independent  sector 54   5.00        43066.32  1161.0   \n",
       "2611         house    independent  sector 43   4.50        39062.50  1152.0   \n",
       "78           house    independent  sector 17   3.87         5160.00  7500.0   \n",
       "1493         house    independent  sector 17   3.93        24214.42  1623.0   \n",
       "1381         house  private house  sector 55   7.05        46906.19  1503.0   \n",
       "\n",
       "                                           areaWithType  bedRoom  bathroom  \\\n",
       "3618                        Plot area 129(107.86 sq.m.)       21        21   \n",
       "2611                        Plot area 128(107.02 sq.m.)       20        20   \n",
       "78    Plot area 1623(150.78 sq.m.)Built Up area: 750...       19        17   \n",
       "1493  Plot area 1623(150.78 sq.m.)Built Up area: 162...       19        17   \n",
       "1381                        Plot area 167(139.63 sq.m.)       18        18   \n",
       "\n",
       "     balcony  floorNum      facing   agePossession  super_built_up_area  \\\n",
       "3618      3+       5.0       North  Relatively New                  NaN   \n",
       "2611      3+       4.0        East  Relatively New                  NaN   \n",
       "78        3+       5.0  North-West  Relatively New                  NaN   \n",
       "1493       3       4.0  North-West  Relatively New                  NaN   \n",
       "1381      3+       4.0  North-East  Relatively New                  NaN   \n",
       "\n",
       "      built_up_area  carpet_area  study room  servant room  store room  \\\n",
       "3618         1161.0          NaN           0             1           0   \n",
       "2611         1152.0          NaN           0             1           0   \n",
       "78           7500.0          NaN           1             0           1   \n",
       "1493         1622.0          NaN           1             1           1   \n",
       "1381         1503.0          NaN           0             0           0   \n",
       "\n",
       "      pooja room  others  furnishing_type  luxury_score  outliers  \n",
       "3618           0       0                2            49        -1  \n",
       "2611           0       0                2            22        -1  \n",
       "78             0       0                0            68        -1  \n",
       "1493           1       0                0            74        -1  \n",
       "1381           0       1                2            57        -1  "
      ]
     },
     "execution_count": 148,
     "metadata": {},
     "output_type": "execute_result"
    }
   ],
   "source": [
    "bedroom_outliers.sort_values(by='bedRoom', ascending=False).head(5)"
   ]
  },
  {
   "cell_type": "code",
   "execution_count": 149,
   "id": "46874ac3",
   "metadata": {},
   "outputs": [],
   "source": [
    "df = df[df['bedRoom']<10]"
   ]
  },
  {
   "cell_type": "code",
   "execution_count": 150,
   "id": "84d7931e",
   "metadata": {},
   "outputs": [
    {
     "data": {
      "text/plain": [
       "<Axes: xlabel='bedRoom'>"
      ]
     },
     "execution_count": 150,
     "metadata": {},
     "output_type": "execute_result"
    },
    {
     "data": {
      "image/png": "[encoded data removed]",
      "text/plain": [
       "<Figure size 640x480 with 1 Axes>"
      ]
     },
     "metadata": {},
     "output_type": "display_data"
    }
   ],
   "source": [
    "sns.boxplot(x=df['bedRoom'])"
   ]
  },
  {
   "cell_type": "code",
   "execution_count": 151,
   "id": "ea7f3b9e",
   "metadata": {},
   "outputs": [
    {
     "data": {
      "text/plain": [
       "np.float64(1.6960336901172313)"
      ]
     },
     "execution_count": 151,
     "metadata": {},
     "output_type": "execute_result"
    },
    {
     "data": {
      "image/png": "[encoded data removed]",
      "text/plain": [
       "<Figure size 640x480 with 1 Axes>"
      ]
     },
     "metadata": {},
     "output_type": "display_data"
    }
   ],
   "source": [
    "sns.histplot(df['bedRoom'], kde=True,bins=50)\n",
    "df['bedRoom'].skew()"
   ]
  },
  {
   "cell_type": "markdown",
   "id": "a66423e8",
   "metadata": {},
   "source": [
    "# Bathroom"
   ]
  },
  {
   "cell_type": "code",
   "execution_count": 152,
   "id": "321a6470",
   "metadata": {},
   "outputs": [
    {
     "data": {
      "text/plain": [
       "np.float64(1.3217376400563896)"
      ]
     },
     "execution_count": 152,
     "metadata": {},
     "output_type": "execute_result"
    },
    {
     "data": {
      "image/png": "[encoded data removed]",
      "text/plain": [
       "<Figure size 640x480 with 1 Axes>"
      ]
     },
     "metadata": {},
     "output_type": "display_data"
    }
   ],
   "source": [
    "sns.histplot(df['bathroom'],bins=50,kde=True)\n",
    "df['bathroom'].skew()"
   ]
  },
  {
   "cell_type": "code",
   "execution_count": 153,
   "id": "603339f5",
   "metadata": {},
   "outputs": [
    {
     "data": {
      "text/plain": [
       "<Axes: xlabel='bathroom'>"
      ]
     },
     "execution_count": 153,
     "metadata": {},
     "output_type": "execute_result"
    },
    {
     "data": {
      "image/png": "[encoded data removed]",
      "text/plain": [
       "<Figure size 640x480 with 1 Axes>"
      ]
     },
     "metadata": {},
     "output_type": "display_data"
    }
   ],
   "source": [
    "sns.boxplot(x=df['bathroom'])"
   ]
  },
  {
   "cell_type": "code",
   "execution_count": 154,
   "id": "e54ac575",
   "metadata": {},
   "outputs": [
    {
     "data": {
      "text/html": [
       "<div>\n",
       "<style scoped>\n",
       "    .dataframe tbody tr th:only-of-type {\n",
       "        vertical-align: middle;\n",
       "    }\n",
       "\n",
       "    .dataframe tbody tr th {\n",
       "        vertical-align: top;\n",
       "    }\n",
       "\n",
       "    .dataframe thead th {\n",
       "        text-align: right;\n",
       "    }\n",
       "</style>\n",
       "<table border=\"1\" class=\"dataframe\">\n",
       "  <thead>\n",
       "    <tr style=\"text-align: right;\">\n",
       "      <th></th>\n",
       "      <th>property_type</th>\n",
       "      <th>society</th>\n",
       "      <th>sector</th>\n",
       "      <th>price</th>\n",
       "      <th>price_per_sqft</th>\n",
       "      <th>area</th>\n",
       "      <th>areaWithType</th>\n",
       "      <th>bedRoom</th>\n",
       "      <th>bathroom</th>\n",
       "      <th>balcony</th>\n",
       "      <th>floorNum</th>\n",
       "      <th>facing</th>\n",
       "      <th>agePossession</th>\n",
       "      <th>super_built_up_area</th>\n",
       "      <th>built_up_area</th>\n",
       "      <th>carpet_area</th>\n",
       "      <th>study room</th>\n",
       "      <th>servant room</th>\n",
       "      <th>store room</th>\n",
       "      <th>pooja room</th>\n",
       "      <th>others</th>\n",
       "      <th>furnishing_type</th>\n",
       "      <th>luxury_score</th>\n",
       "      <th>outliers</th>\n",
       "    </tr>\n",
       "  </thead>\n",
       "  <tbody>\n",
       "    <tr>\n",
       "      <th>545</th>\n",
       "      <td>house</td>\n",
       "      <td>independent</td>\n",
       "      <td>sector 24</td>\n",
       "      <td>10.00</td>\n",
       "      <td>25542.78</td>\n",
       "      <td>3915.0</td>\n",
       "      <td>Carpet area: 435 (40.41 sq.m.)</td>\n",
       "      <td>8</td>\n",
       "      <td>10</td>\n",
       "      <td>3+</td>\n",
       "      <td>1.0</td>\n",
       "      <td>West</td>\n",
       "      <td>Undefined</td>\n",
       "      <td>NaN</td>\n",
       "      <td>NaN</td>\n",
       "      <td>435.0</td>\n",
       "      <td>0</td>\n",
       "      <td>0</td>\n",
       "      <td>0</td>\n",
       "      <td>0</td>\n",
       "      <td>0</td>\n",
       "      <td>0</td>\n",
       "      <td>0</td>\n",
       "      <td>-1</td>\n",
       "    </tr>\n",
       "    <tr>\n",
       "      <th>2816</th>\n",
       "      <td>house</td>\n",
       "      <td>independent</td>\n",
       "      <td>sector 24</td>\n",
       "      <td>11.00</td>\n",
       "      <td>28901.73</td>\n",
       "      <td>3806.0</td>\n",
       "      <td>Plot area 3806.45(353.63 sq.m.)Built Up area: ...</td>\n",
       "      <td>8</td>\n",
       "      <td>11</td>\n",
       "      <td>3+</td>\n",
       "      <td>3.0</td>\n",
       "      <td>East</td>\n",
       "      <td>Old Property</td>\n",
       "      <td>NaN</td>\n",
       "      <td>5000.0</td>\n",
       "      <td>NaN</td>\n",
       "      <td>1</td>\n",
       "      <td>1</td>\n",
       "      <td>0</td>\n",
       "      <td>1</td>\n",
       "      <td>1</td>\n",
       "      <td>1</td>\n",
       "      <td>39</td>\n",
       "      <td>-1</td>\n",
       "    </tr>\n",
       "    <tr>\n",
       "      <th>3267</th>\n",
       "      <td>house</td>\n",
       "      <td>adani brahma samsara</td>\n",
       "      <td>sector 60</td>\n",
       "      <td>18.02</td>\n",
       "      <td>28200.31</td>\n",
       "      <td>6390.0</td>\n",
       "      <td>Built Up area: 6390 (593.65 sq.m.)</td>\n",
       "      <td>9</td>\n",
       "      <td>12</td>\n",
       "      <td>3+</td>\n",
       "      <td>3.0</td>\n",
       "      <td>North-East</td>\n",
       "      <td>Relatively New</td>\n",
       "      <td>NaN</td>\n",
       "      <td>6390.0</td>\n",
       "      <td>NaN</td>\n",
       "      <td>0</td>\n",
       "      <td>1</td>\n",
       "      <td>0</td>\n",
       "      <td>0</td>\n",
       "      <td>0</td>\n",
       "      <td>1</td>\n",
       "      <td>146</td>\n",
       "      <td>-1</td>\n",
       "    </tr>\n",
       "  </tbody>\n",
       "</table>\n",
       "</div>"
      ],
      "text/plain": [
       "     property_type               society     sector  price  price_per_sqft  \\\n",
       "545          house           independent  sector 24  10.00        25542.78   \n",
       "2816         house           independent  sector 24  11.00        28901.73   \n",
       "3267         house  adani brahma samsara  sector 60  18.02        28200.31   \n",
       "\n",
       "        area                                       areaWithType  bedRoom  \\\n",
       "545   3915.0                     Carpet area: 435 (40.41 sq.m.)        8   \n",
       "2816  3806.0  Plot area 3806.45(353.63 sq.m.)Built Up area: ...        8   \n",
       "3267  6390.0                 Built Up area: 6390 (593.65 sq.m.)        9   \n",
       "\n",
       "      bathroom balcony  floorNum      facing   agePossession  \\\n",
       "545         10      3+       1.0        West       Undefined   \n",
       "2816        11      3+       3.0        East    Old Property   \n",
       "3267        12      3+       3.0  North-East  Relatively New   \n",
       "\n",
       "      super_built_up_area  built_up_area  carpet_area  study room  \\\n",
       "545                   NaN            NaN        435.0           0   \n",
       "2816                  NaN         5000.0          NaN           1   \n",
       "3267                  NaN         6390.0          NaN           0   \n",
       "\n",
       "      servant room  store room  pooja room  others  furnishing_type  \\\n",
       "545              0           0           0       0                0   \n",
       "2816             1           0           1       1                1   \n",
       "3267             1           0           0       0                1   \n",
       "\n",
       "      luxury_score  outliers  \n",
       "545              0        -1  \n",
       "2816            39        -1  \n",
       "3267           146        -1  "
      ]
     },
     "execution_count": 154,
     "metadata": {},
     "output_type": "execute_result"
    }
   ],
   "source": [
    "df[df['bathroom']>=10]"
   ]
  },
  {
   "cell_type": "markdown",
   "id": "a7b6a43a",
   "metadata": {},
   "source": [
    "# Super Builtup Area"
   ]
  },
  {
   "cell_type": "code",
   "execution_count": 155,
   "id": "a6710699",
   "metadata": {},
   "outputs": [
    {
     "data": {
      "text/plain": [
       "<Axes: xlabel='super_built_up_area'>"
      ]
     },
     "execution_count": 155,
     "metadata": {},
     "output_type": "execute_result"
    },
    {
     "data": {
      "image/png": "[encoded data removed]",
      "text/plain": [
       "<Figure size 640x480 with 1 Axes>"
      ]
     },
     "metadata": {},
     "output_type": "display_data"
    }
   ],
   "source": [
    "sns.boxplot(x=df['super_built_up_area'])"
   ]
  },
  {
   "cell_type": "code",
   "execution_count": 156,
   "id": "0d10e17c",
   "metadata": {},
   "outputs": [
    {
     "data": {
      "text/plain": [
       "np.float64(1.3428282845456485)"
      ]
     },
     "execution_count": 156,
     "metadata": {},
     "output_type": "execute_result"
    },
    {
     "data": {
      "image/png": "[encoded data removed]",
      "text/plain": [
       "<Figure size 640x480 with 1 Axes>"
      ]
     },
     "metadata": {},
     "output_type": "display_data"
    }
   ],
   "source": [
    "sns.histplot(df['super_built_up_area'], bins=50, kde=True)\n",
    "df['super_built_up_area'].skew()"
   ]
  },
  {
   "cell_type": "code",
   "execution_count": 157,
   "id": "f360977c",
   "metadata": {},
   "outputs": [
    {
     "data": {
      "text/html": [
       "<div>\n",
       "<style scoped>\n",
       "    .dataframe tbody tr th:only-of-type {\n",
       "        vertical-align: middle;\n",
       "    }\n",
       "\n",
       "    .dataframe tbody tr th {\n",
       "        vertical-align: top;\n",
       "    }\n",
       "\n",
       "    .dataframe thead th {\n",
       "        text-align: right;\n",
       "    }\n",
       "</style>\n",
       "<table border=\"1\" class=\"dataframe\">\n",
       "  <thead>\n",
       "    <tr style=\"text-align: right;\">\n",
       "      <th></th>\n",
       "      <th>property_type</th>\n",
       "      <th>society</th>\n",
       "      <th>sector</th>\n",
       "      <th>price</th>\n",
       "      <th>price_per_sqft</th>\n",
       "      <th>area</th>\n",
       "      <th>areaWithType</th>\n",
       "      <th>bedRoom</th>\n",
       "      <th>bathroom</th>\n",
       "      <th>balcony</th>\n",
       "      <th>floorNum</th>\n",
       "      <th>facing</th>\n",
       "      <th>agePossession</th>\n",
       "      <th>super_built_up_area</th>\n",
       "      <th>built_up_area</th>\n",
       "      <th>carpet_area</th>\n",
       "      <th>study room</th>\n",
       "      <th>servant room</th>\n",
       "      <th>store room</th>\n",
       "      <th>pooja room</th>\n",
       "      <th>others</th>\n",
       "      <th>furnishing_type</th>\n",
       "      <th>luxury_score</th>\n",
       "      <th>outliers</th>\n",
       "    </tr>\n",
       "  </thead>\n",
       "  <tbody>\n",
       "    <tr>\n",
       "      <th>1323</th>\n",
       "      <td>flat</td>\n",
       "      <td>bestech park view grand spa</td>\n",
       "      <td>sector 81</td>\n",
       "      <td>4.7</td>\n",
       "      <td>6786.0</td>\n",
       "      <td>6926.0</td>\n",
       "      <td>Super Built up area 6926(643.45 sq.m.)</td>\n",
       "      <td>4</td>\n",
       "      <td>4</td>\n",
       "      <td>3+</td>\n",
       "      <td>19.0</td>\n",
       "      <td>North</td>\n",
       "      <td>Relatively New</td>\n",
       "      <td>6926.0</td>\n",
       "      <td>NaN</td>\n",
       "      <td>NaN</td>\n",
       "      <td>0</td>\n",
       "      <td>1</td>\n",
       "      <td>0</td>\n",
       "      <td>0</td>\n",
       "      <td>0</td>\n",
       "      <td>1</td>\n",
       "      <td>140</td>\n",
       "      <td>-1</td>\n",
       "    </tr>\n",
       "  </tbody>\n",
       "</table>\n",
       "</div>"
      ],
      "text/plain": [
       "     property_type                      society     sector  price  \\\n",
       "1323          flat  bestech park view grand spa  sector 81    4.7   \n",
       "\n",
       "      price_per_sqft    area                            areaWithType  bedRoom  \\\n",
       "1323          6786.0  6926.0  Super Built up area 6926(643.45 sq.m.)        4   \n",
       "\n",
       "      bathroom balcony  floorNum facing   agePossession  super_built_up_area  \\\n",
       "1323         4      3+      19.0  North  Relatively New               6926.0   \n",
       "\n",
       "      built_up_area  carpet_area  study room  servant room  store room  \\\n",
       "1323            NaN          NaN           0             1           0   \n",
       "\n",
       "      pooja room  others  furnishing_type  luxury_score  outliers  \n",
       "1323           0       0                1           140        -1  "
      ]
     },
     "execution_count": 157,
     "metadata": {},
     "output_type": "execute_result"
    }
   ],
   "source": [
    "df[df['super_built_up_area']>6000]"
   ]
  },
  {
   "cell_type": "markdown",
   "id": "af497144",
   "metadata": {},
   "source": [
    "# Builtup area"
   ]
  },
  {
   "cell_type": "code",
   "execution_count": 158,
   "id": "3cfa4806",
   "metadata": {},
   "outputs": [
    {
     "data": {
      "text/plain": [
       "<Axes: xlabel='built_up_area'>"
      ]
     },
     "execution_count": 158,
     "metadata": {},
     "output_type": "execute_result"
    },
    {
     "data": {
      "image/png": "[encoded data removed]",
      "text/plain": [
       "<Figure size 640x480 with 1 Axes>"
      ]
     },
     "metadata": {},
     "output_type": "display_data"
    }
   ],
   "source": [
    "sns.boxplot(x=df['built_up_area'])"
   ]
  },
  {
   "cell_type": "code",
   "execution_count": 159,
   "id": "ae6f03c7",
   "metadata": {},
   "outputs": [
    {
     "data": {
      "text/plain": [
       "np.float64(1.861093039976854)"
      ]
     },
     "execution_count": 159,
     "metadata": {},
     "output_type": "execute_result"
    },
    {
     "data": {
      "image/png": "[encoded data removed]",
      "text/plain": [
       "<Figure size 640x480 with 1 Axes>"
      ]
     },
     "metadata": {},
     "output_type": "display_data"
    }
   ],
   "source": [
    "sns.histplot(df['built_up_area'], bins=50, kde=True)\n",
    "df['built_up_area'].skew()"
   ]
  },
  {
   "cell_type": "code",
   "execution_count": 160,
   "id": "aca218c1",
   "metadata": {},
   "outputs": [
    {
     "data": {
      "text/plain": [
       "(30, 24)"
      ]
     },
     "execution_count": 160,
     "metadata": {},
     "output_type": "execute_result"
    }
   ],
   "source": [
    "df[df['built_up_area'] >6000].shape"
   ]
  },
  {
   "cell_type": "code",
   "execution_count": 161,
   "id": "ddabebfd",
   "metadata": {},
   "outputs": [
    {
     "data": {
      "text/html": [
       "<div>\n",
       "<style scoped>\n",
       "    .dataframe tbody tr th:only-of-type {\n",
       "        vertical-align: middle;\n",
       "    }\n",
       "\n",
       "    .dataframe tbody tr th {\n",
       "        vertical-align: top;\n",
       "    }\n",
       "\n",
       "    .dataframe thead th {\n",
       "        text-align: right;\n",
       "    }\n",
       "</style>\n",
       "<table border=\"1\" class=\"dataframe\">\n",
       "  <thead>\n",
       "    <tr style=\"text-align: right;\">\n",
       "      <th></th>\n",
       "      <th>property_type</th>\n",
       "      <th>society</th>\n",
       "      <th>sector</th>\n",
       "      <th>price</th>\n",
       "      <th>price_per_sqft</th>\n",
       "      <th>area</th>\n",
       "      <th>areaWithType</th>\n",
       "      <th>bedRoom</th>\n",
       "      <th>bathroom</th>\n",
       "      <th>balcony</th>\n",
       "      <th>floorNum</th>\n",
       "      <th>facing</th>\n",
       "      <th>agePossession</th>\n",
       "      <th>super_built_up_area</th>\n",
       "      <th>built_up_area</th>\n",
       "      <th>carpet_area</th>\n",
       "      <th>study room</th>\n",
       "      <th>servant room</th>\n",
       "      <th>store room</th>\n",
       "      <th>pooja room</th>\n",
       "      <th>others</th>\n",
       "      <th>furnishing_type</th>\n",
       "      <th>luxury_score</th>\n",
       "      <th>outliers</th>\n",
       "    </tr>\n",
       "  </thead>\n",
       "  <tbody>\n",
       "    <tr>\n",
       "      <th>114</th>\n",
       "      <td>house</td>\n",
       "      <td>independent</td>\n",
       "      <td>sector 25</td>\n",
       "      <td>10.0</td>\n",
       "      <td>37037.04</td>\n",
       "      <td>2700.0</td>\n",
       "      <td>Plot area 2700(250.84 sq.m.)Built Up area: 950...</td>\n",
       "      <td>5</td>\n",
       "      <td>5</td>\n",
       "      <td>3+</td>\n",
       "      <td>3.0</td>\n",
       "      <td>East</td>\n",
       "      <td>Moderately Old</td>\n",
       "      <td>NaN</td>\n",
       "      <td>9500.0</td>\n",
       "      <td>9000.0</td>\n",
       "      <td>0</td>\n",
       "      <td>1</td>\n",
       "      <td>0</td>\n",
       "      <td>1</td>\n",
       "      <td>0</td>\n",
       "      <td>2</td>\n",
       "      <td>29</td>\n",
       "      <td>-1</td>\n",
       "    </tr>\n",
       "    <tr>\n",
       "      <th>323</th>\n",
       "      <td>house</td>\n",
       "      <td>anamika enclave</td>\n",
       "      <td>sector 12</td>\n",
       "      <td>6.0</td>\n",
       "      <td>14492.00</td>\n",
       "      <td>4140.0</td>\n",
       "      <td>Plot area 4140(384.62 sq.m.)Built Up area: 900...</td>\n",
       "      <td>9</td>\n",
       "      <td>9</td>\n",
       "      <td>3+</td>\n",
       "      <td>3.0</td>\n",
       "      <td>North-West</td>\n",
       "      <td>Old Property</td>\n",
       "      <td>NaN</td>\n",
       "      <td>9000.0</td>\n",
       "      <td>NaN</td>\n",
       "      <td>0</td>\n",
       "      <td>0</td>\n",
       "      <td>0</td>\n",
       "      <td>0</td>\n",
       "      <td>0</td>\n",
       "      <td>0</td>\n",
       "      <td>9</td>\n",
       "      <td>-1</td>\n",
       "    </tr>\n",
       "    <tr>\n",
       "      <th>821</th>\n",
       "      <td>house</td>\n",
       "      <td>arjun marg/ sector- 26 phase- 1/ golf course road</td>\n",
       "      <td>sector 26</td>\n",
       "      <td>31.5</td>\n",
       "      <td>35000.00</td>\n",
       "      <td>9000.0</td>\n",
       "      <td>Plot area 1000(836.13 sq.m.)</td>\n",
       "      <td>7</td>\n",
       "      <td>9</td>\n",
       "      <td>3+</td>\n",
       "      <td>3.0</td>\n",
       "      <td>North-East</td>\n",
       "      <td>Moderately Old</td>\n",
       "      <td>NaN</td>\n",
       "      <td>9000.0</td>\n",
       "      <td>NaN</td>\n",
       "      <td>1</td>\n",
       "      <td>1</td>\n",
       "      <td>1</td>\n",
       "      <td>1</td>\n",
       "      <td>0</td>\n",
       "      <td>2</td>\n",
       "      <td>74</td>\n",
       "      <td>-1</td>\n",
       "    </tr>\n",
       "    <tr>\n",
       "      <th>1325</th>\n",
       "      <td>house</td>\n",
       "      <td>ansal sushant lok plots</td>\n",
       "      <td>sector 43</td>\n",
       "      <td>11.5</td>\n",
       "      <td>17692.00</td>\n",
       "      <td>6500.0</td>\n",
       "      <td>Plot area 3762(349.5 sq.m.)Built Up area: 9000...</td>\n",
       "      <td>7</td>\n",
       "      <td>8</td>\n",
       "      <td>3+</td>\n",
       "      <td>3.0</td>\n",
       "      <td>NaN</td>\n",
       "      <td>Old Property</td>\n",
       "      <td>NaN</td>\n",
       "      <td>9000.0</td>\n",
       "      <td>6500.0</td>\n",
       "      <td>0</td>\n",
       "      <td>1</td>\n",
       "      <td>1</td>\n",
       "      <td>1</td>\n",
       "      <td>0</td>\n",
       "      <td>1</td>\n",
       "      <td>31</td>\n",
       "      <td>-1</td>\n",
       "    </tr>\n",
       "    <tr>\n",
       "      <th>2765</th>\n",
       "      <td>house</td>\n",
       "      <td>independent</td>\n",
       "      <td>sector 26</td>\n",
       "      <td>23.0</td>\n",
       "      <td>25555.56</td>\n",
       "      <td>9000.0</td>\n",
       "      <td>Plot area 1000(836.13 sq.m.)</td>\n",
       "      <td>4</td>\n",
       "      <td>4</td>\n",
       "      <td>3+</td>\n",
       "      <td>2.0</td>\n",
       "      <td>South-West</td>\n",
       "      <td>Relatively New</td>\n",
       "      <td>NaN</td>\n",
       "      <td>9000.0</td>\n",
       "      <td>NaN</td>\n",
       "      <td>1</td>\n",
       "      <td>1</td>\n",
       "      <td>1</td>\n",
       "      <td>1</td>\n",
       "      <td>0</td>\n",
       "      <td>1</td>\n",
       "      <td>145</td>\n",
       "      <td>-1</td>\n",
       "    </tr>\n",
       "  </tbody>\n",
       "</table>\n",
       "</div>"
      ],
      "text/plain": [
       "     property_type                                            society  \\\n",
       "114          house                                        independent   \n",
       "323          house                                    anamika enclave   \n",
       "821          house  arjun marg/ sector- 26 phase- 1/ golf course road   \n",
       "1325         house                            ansal sushant lok plots   \n",
       "2765         house                                        independent   \n",
       "\n",
       "         sector  price  price_per_sqft    area  \\\n",
       "114   sector 25   10.0        37037.04  2700.0   \n",
       "323   sector 12    6.0        14492.00  4140.0   \n",
       "821   sector 26   31.5        35000.00  9000.0   \n",
       "1325  sector 43   11.5        17692.00  6500.0   \n",
       "2765  sector 26   23.0        25555.56  9000.0   \n",
       "\n",
       "                                           areaWithType  bedRoom  bathroom  \\\n",
       "114   Plot area 2700(250.84 sq.m.)Built Up area: 950...        5         5   \n",
       "323   Plot area 4140(384.62 sq.m.)Built Up area: 900...        9         9   \n",
       "821                        Plot area 1000(836.13 sq.m.)        7         9   \n",
       "1325  Plot area 3762(349.5 sq.m.)Built Up area: 9000...        7         8   \n",
       "2765                       Plot area 1000(836.13 sq.m.)        4         4   \n",
       "\n",
       "     balcony  floorNum      facing   agePossession  super_built_up_area  \\\n",
       "114       3+       3.0        East  Moderately Old                  NaN   \n",
       "323       3+       3.0  North-West    Old Property                  NaN   \n",
       "821       3+       3.0  North-East  Moderately Old                  NaN   \n",
       "1325      3+       3.0         NaN    Old Property                  NaN   \n",
       "2765      3+       2.0  South-West  Relatively New                  NaN   \n",
       "\n",
       "      built_up_area  carpet_area  study room  servant room  store room  \\\n",
       "114          9500.0       9000.0           0             1           0   \n",
       "323          9000.0          NaN           0             0           0   \n",
       "821          9000.0          NaN           1             1           1   \n",
       "1325         9000.0       6500.0           0             1           1   \n",
       "2765         9000.0          NaN           1             1           1   \n",
       "\n",
       "      pooja room  others  furnishing_type  luxury_score  outliers  \n",
       "114            1       0                2            29        -1  \n",
       "323            0       0                0             9        -1  \n",
       "821            1       0                2            74        -1  \n",
       "1325           1       0                1            31        -1  \n",
       "2765           1       0                1           145        -1  "
      ]
     },
     "execution_count": 161,
     "metadata": {},
     "output_type": "execute_result"
    }
   ],
   "source": [
    "df[df['built_up_area'] >6000].sort_values(by='built_up_area', ascending=False).head(5)"
   ]
  },
  {
   "cell_type": "markdown",
   "id": "bdc7dc19",
   "metadata": {},
   "source": [
    "# area_room_ratio"
   ]
  },
  {
   "cell_type": "code",
   "execution_count": 162,
   "id": "e0dbb46b",
   "metadata": {},
   "outputs": [
    {
     "data": {
      "text/plain": [
       "np.float64(259.5)"
      ]
     },
     "execution_count": 162,
     "metadata": {},
     "output_type": "execute_result"
    }
   ],
   "source": [
    "x = df[df['price_per_sqft']<=20000]\n",
    "(x['area']/x['bedRoom']).quantile(.05) \n",
    "\n",
    "# 5th percentile represents the lower bound of the ratio , which is problematic"
   ]
  },
  {
   "cell_type": "code",
   "execution_count": 163,
   "id": "855df5dd",
   "metadata": {},
   "outputs": [],
   "source": [
    "df['area_room_ratio'] = df['area']/df['bedRoom']"
   ]
  },
  {
   "cell_type": "code",
   "execution_count": 164,
   "id": "e70a26c2",
   "metadata": {},
   "outputs": [
    {
     "data": {
      "text/plain": [
       "(20, 25)"
      ]
     },
     "execution_count": 164,
     "metadata": {},
     "output_type": "execute_result"
    }
   ],
   "source": [
    "df[df['area_room_ratio']<100].sort_values(by='area_room_ratio', ascending=True).shape"
   ]
  },
  {
   "cell_type": "code",
   "execution_count": 165,
   "id": "1a1932a2",
   "metadata": {},
   "outputs": [],
   "source": [
    "df = df[df['area_room_ratio']>100]"
   ]
  },
  {
   "cell_type": "code",
   "execution_count": 166,
   "id": "81031296",
   "metadata": {},
   "outputs": [
    {
     "data": {
      "text/html": [
       "<div>\n",
       "<style scoped>\n",
       "    .dataframe tbody tr th:only-of-type {\n",
       "        vertical-align: middle;\n",
       "    }\n",
       "\n",
       "    .dataframe tbody tr th {\n",
       "        vertical-align: top;\n",
       "    }\n",
       "\n",
       "    .dataframe thead th {\n",
       "        text-align: right;\n",
       "    }\n",
       "</style>\n",
       "<table border=\"1\" class=\"dataframe\">\n",
       "  <thead>\n",
       "    <tr style=\"text-align: right;\">\n",
       "      <th></th>\n",
       "      <th>property_type</th>\n",
       "      <th>society</th>\n",
       "      <th>sector</th>\n",
       "      <th>price</th>\n",
       "      <th>price_per_sqft</th>\n",
       "      <th>area</th>\n",
       "      <th>areaWithType</th>\n",
       "      <th>bedRoom</th>\n",
       "      <th>bathroom</th>\n",
       "      <th>balcony</th>\n",
       "      <th>floorNum</th>\n",
       "      <th>facing</th>\n",
       "      <th>agePossession</th>\n",
       "      <th>super_built_up_area</th>\n",
       "      <th>built_up_area</th>\n",
       "      <th>carpet_area</th>\n",
       "      <th>study room</th>\n",
       "      <th>servant room</th>\n",
       "      <th>store room</th>\n",
       "      <th>pooja room</th>\n",
       "      <th>others</th>\n",
       "      <th>furnishing_type</th>\n",
       "      <th>luxury_score</th>\n",
       "      <th>outliers</th>\n",
       "      <th>area_room_ratio</th>\n",
       "    </tr>\n",
       "  </thead>\n",
       "  <tbody>\n",
       "    <tr>\n",
       "      <th>3309</th>\n",
       "      <td>house</td>\n",
       "      <td>independent</td>\n",
       "      <td>sector 4</td>\n",
       "      <td>0.50</td>\n",
       "      <td>9259.0</td>\n",
       "      <td>540.0</td>\n",
       "      <td>Plot area 540(50.17 sq.m.)</td>\n",
       "      <td>5</td>\n",
       "      <td>3</td>\n",
       "      <td>2</td>\n",
       "      <td>3.0</td>\n",
       "      <td>West</td>\n",
       "      <td>Old Property</td>\n",
       "      <td>NaN</td>\n",
       "      <td>540.0</td>\n",
       "      <td>NaN</td>\n",
       "      <td>0</td>\n",
       "      <td>0</td>\n",
       "      <td>0</td>\n",
       "      <td>0</td>\n",
       "      <td>0</td>\n",
       "      <td>0</td>\n",
       "      <td>0</td>\n",
       "      <td>1</td>\n",
       "      <td>108.000000</td>\n",
       "    </tr>\n",
       "    <tr>\n",
       "      <th>2173</th>\n",
       "      <td>house</td>\n",
       "      <td>housing board colony</td>\n",
       "      <td>sector 28</td>\n",
       "      <td>2.10</td>\n",
       "      <td>23333.0</td>\n",
       "      <td>900.0</td>\n",
       "      <td>Plot area 100(83.61 sq.m.)</td>\n",
       "      <td>8</td>\n",
       "      <td>8</td>\n",
       "      <td>3+</td>\n",
       "      <td>4.0</td>\n",
       "      <td>South-East</td>\n",
       "      <td>Moderately Old</td>\n",
       "      <td>NaN</td>\n",
       "      <td>900.0</td>\n",
       "      <td>NaN</td>\n",
       "      <td>0</td>\n",
       "      <td>0</td>\n",
       "      <td>0</td>\n",
       "      <td>0</td>\n",
       "      <td>1</td>\n",
       "      <td>1</td>\n",
       "      <td>38</td>\n",
       "      <td>-1</td>\n",
       "      <td>112.500000</td>\n",
       "    </tr>\n",
       "    <tr>\n",
       "      <th>3069</th>\n",
       "      <td>house</td>\n",
       "      <td>independent</td>\n",
       "      <td>sector 7</td>\n",
       "      <td>0.27</td>\n",
       "      <td>12000.0</td>\n",
       "      <td>225.0</td>\n",
       "      <td>Plot area 225(20.9 sq.m.)</td>\n",
       "      <td>2</td>\n",
       "      <td>2</td>\n",
       "      <td>1</td>\n",
       "      <td>2.0</td>\n",
       "      <td>North-East</td>\n",
       "      <td>Moderately Old</td>\n",
       "      <td>NaN</td>\n",
       "      <td>225.0</td>\n",
       "      <td>NaN</td>\n",
       "      <td>0</td>\n",
       "      <td>0</td>\n",
       "      <td>0</td>\n",
       "      <td>0</td>\n",
       "      <td>0</td>\n",
       "      <td>0</td>\n",
       "      <td>12</td>\n",
       "      <td>1</td>\n",
       "      <td>112.500000</td>\n",
       "    </tr>\n",
       "    <tr>\n",
       "      <th>3633</th>\n",
       "      <td>house</td>\n",
       "      <td>independent</td>\n",
       "      <td>sector 17</td>\n",
       "      <td>0.32</td>\n",
       "      <td>5664.0</td>\n",
       "      <td>565.0</td>\n",
       "      <td>Built Up area: 565 (52.49 sq.m.)</td>\n",
       "      <td>5</td>\n",
       "      <td>1</td>\n",
       "      <td>0</td>\n",
       "      <td>1.0</td>\n",
       "      <td>NaN</td>\n",
       "      <td>Undefined</td>\n",
       "      <td>NaN</td>\n",
       "      <td>565.0</td>\n",
       "      <td>NaN</td>\n",
       "      <td>0</td>\n",
       "      <td>0</td>\n",
       "      <td>0</td>\n",
       "      <td>0</td>\n",
       "      <td>0</td>\n",
       "      <td>0</td>\n",
       "      <td>0</td>\n",
       "      <td>1</td>\n",
       "      <td>113.000000</td>\n",
       "    </tr>\n",
       "    <tr>\n",
       "      <th>1224</th>\n",
       "      <td>house</td>\n",
       "      <td>independent</td>\n",
       "      <td>sector 6</td>\n",
       "      <td>0.75</td>\n",
       "      <td>10518.0</td>\n",
       "      <td>713.0</td>\n",
       "      <td>Plot area 713(66.24 sq.m.)</td>\n",
       "      <td>6</td>\n",
       "      <td>4</td>\n",
       "      <td>1</td>\n",
       "      <td>3.0</td>\n",
       "      <td>NaN</td>\n",
       "      <td>Moderately Old</td>\n",
       "      <td>NaN</td>\n",
       "      <td>713.0</td>\n",
       "      <td>NaN</td>\n",
       "      <td>0</td>\n",
       "      <td>0</td>\n",
       "      <td>0</td>\n",
       "      <td>0</td>\n",
       "      <td>0</td>\n",
       "      <td>0</td>\n",
       "      <td>62</td>\n",
       "      <td>1</td>\n",
       "      <td>118.833333</td>\n",
       "    </tr>\n",
       "  </tbody>\n",
       "</table>\n",
       "</div>"
      ],
      "text/plain": [
       "     property_type               society     sector  price  price_per_sqft  \\\n",
       "3309         house           independent   sector 4   0.50          9259.0   \n",
       "2173         house  housing board colony  sector 28   2.10         23333.0   \n",
       "3069         house           independent   sector 7   0.27         12000.0   \n",
       "3633         house           independent  sector 17   0.32          5664.0   \n",
       "1224         house           independent   sector 6   0.75         10518.0   \n",
       "\n",
       "       area                      areaWithType  bedRoom  bathroom balcony  \\\n",
       "3309  540.0        Plot area 540(50.17 sq.m.)        5         3       2   \n",
       "2173  900.0        Plot area 100(83.61 sq.m.)        8         8      3+   \n",
       "3069  225.0         Plot area 225(20.9 sq.m.)        2         2       1   \n",
       "3633  565.0  Built Up area: 565 (52.49 sq.m.)        5         1       0   \n",
       "1224  713.0        Plot area 713(66.24 sq.m.)        6         4       1   \n",
       "\n",
       "      floorNum      facing   agePossession  super_built_up_area  \\\n",
       "3309       3.0        West    Old Property                  NaN   \n",
       "2173       4.0  South-East  Moderately Old                  NaN   \n",
       "3069       2.0  North-East  Moderately Old                  NaN   \n",
       "3633       1.0         NaN       Undefined                  NaN   \n",
       "1224       3.0         NaN  Moderately Old                  NaN   \n",
       "\n",
       "      built_up_area  carpet_area  study room  servant room  store room  \\\n",
       "3309          540.0          NaN           0             0           0   \n",
       "2173          900.0          NaN           0             0           0   \n",
       "3069          225.0          NaN           0             0           0   \n",
       "3633          565.0          NaN           0             0           0   \n",
       "1224          713.0          NaN           0             0           0   \n",
       "\n",
       "      pooja room  others  furnishing_type  luxury_score  outliers  \\\n",
       "3309           0       0                0             0         1   \n",
       "2173           0       1                1            38        -1   \n",
       "3069           0       0                0            12         1   \n",
       "3633           0       0                0             0         1   \n",
       "1224           0       0                0            62         1   \n",
       "\n",
       "      area_room_ratio  \n",
       "3309       108.000000  \n",
       "2173       112.500000  \n",
       "3069       112.500000  \n",
       "3633       113.000000  \n",
       "1224       118.833333  "
      ]
     },
     "execution_count": 166,
     "metadata": {},
     "output_type": "execute_result"
    }
   ],
   "source": [
    "df.sort_values(by='area_room_ratio', ascending=True).head()"
   ]
  },
  {
   "cell_type": "code",
   "execution_count": 167,
   "id": "efd85994",
   "metadata": {},
   "outputs": [],
   "source": [
    "outlier_df =df[(df['area_room_ratio']<250) & (df['bedRoom']>3)]"
   ]
  },
  {
   "cell_type": "code",
   "execution_count": 168,
   "id": "dc2e7f40",
   "metadata": {},
   "outputs": [
    {
     "name": "stderr",
     "output_type": "stream",
     "text": [
      "C:\\Users\\User\\AppData\\Local\\Temp\\ipykernel_2932\\2194356770.py:1: SettingWithCopyWarning: \n",
      "A value is trying to be set on a copy of a slice from a DataFrame.\n",
      "Try using .loc[row_indexer,col_indexer] = value instead\n",
      "\n",
      "See the caveats in the documentation: https://pandas.pydata.org/pandas-docs/stable/user_guide/indexing.html#returning-a-view-versus-a-copy\n",
      "  outlier_df['bedRoom'] = (outlier_df['bedRoom']/outlier_df['floorNum']).round()\n"
     ]
    }
   ],
   "source": [
    "outlier_df['bedRoom'] = (outlier_df['bedRoom']/outlier_df['floorNum']).round()"
   ]
  },
  {
   "cell_type": "code",
   "execution_count": 169,
   "id": "76d18ae0",
   "metadata": {},
   "outputs": [
    {
     "data": {
      "text/plain": [
       "bedRoom\n",
       "2.0    37\n",
       "3.0    17\n",
       "4.0     7\n",
       "1.0     5\n",
       "5.0     5\n",
       "6.0     2\n",
       "9.0     2\n",
       "8.0     2\n",
       "Name: count, dtype: int64"
      ]
     },
     "execution_count": 169,
     "metadata": {},
     "output_type": "execute_result"
    }
   ],
   "source": [
    "outlier_df['bedRoom'].value_counts()"
   ]
  },
  {
   "cell_type": "code",
   "execution_count": 170,
   "id": "db6fbee9",
   "metadata": {},
   "outputs": [],
   "source": [
    "df.update(outlier_df)"
   ]
  },
  {
   "cell_type": "code",
   "execution_count": 171,
   "id": "910aec25",
   "metadata": {},
   "outputs": [],
   "source": [
    "df['area_room_ratio'] = df['area']/df['bedRoom']"
   ]
  },
  {
   "cell_type": "code",
   "execution_count": 172,
   "id": "54bd47d7",
   "metadata": {},
   "outputs": [],
   "source": [
    "# df.sort_values(by='bedRoom', ascending=False).head()"
   ]
  },
  {
   "cell_type": "code",
   "execution_count": 173,
   "id": "c3c4449f",
   "metadata": {},
   "outputs": [
    {
     "data": {
      "text/plain": [
       "(11, 25)"
      ]
     },
     "execution_count": 173,
     "metadata": {},
     "output_type": "execute_result"
    }
   ],
   "source": [
    "df[(df['area_room_ratio']<250) & (df['bedRoom']>4)].shape"
   ]
  },
  {
   "cell_type": "code",
   "execution_count": 176,
   "id": "661239d4",
   "metadata": {},
   "outputs": [],
   "source": [
    "df = df[~((df['area_room_ratio']<250) & (df['bedRoom']>4))]"
   ]
  },
  {
   "cell_type": "code",
   "execution_count": 177,
   "id": "5f8891ba",
   "metadata": {},
   "outputs": [
    {
     "data": {
      "text/plain": [
       "(0, 25)"
      ]
     },
     "execution_count": 177,
     "metadata": {},
     "output_type": "execute_result"
    }
   ],
   "source": [
    "df[(df['area_room_ratio']<250) & (df['bedRoom']>4)].shape"
   ]
  },
  {
   "cell_type": "code",
   "execution_count": 179,
   "id": "e6d54ecf",
   "metadata": {},
   "outputs": [
    {
     "data": {
      "text/plain": [
       "(3649, 25)"
      ]
     },
     "execution_count": 179,
     "metadata": {},
     "output_type": "execute_result"
    }
   ],
   "source": [
    "df.shape"
   ]
  },
  {
   "cell_type": "code",
   "execution_count": 180,
   "id": "a2d747ff",
   "metadata": {},
   "outputs": [
    {
     "data": {
      "text/plain": [
       "(954, 25)"
      ]
     },
     "execution_count": 180,
     "metadata": {},
     "output_type": "execute_result"
    }
   ],
   "source": [
    "num_cols = df.select_dtypes(include=[int, float])\n",
    "x = num_cols.drop(columns=['price'])\n",
    "from sklearn.ensemble import IsolationForest\n",
    "labels = IsolationForest(contamination='auto',n_estimators=100,random_state=0,bootstrap=True).fit_predict(x)\n",
    "df['outliers'] = labels\n",
    "df[df['outliers'] == -1].shape"
   ]
  },
  {
   "cell_type": "code",
   "execution_count": 182,
   "id": "189ba429",
   "metadata": {},
   "outputs": [],
   "source": [
    "df.to_csv('outliers_treated.csv')"
   ]
  },
  {
   "cell_type": "code",
   "execution_count": null,
   "id": "4ce9aace",
   "metadata": {},
   "outputs": [],
   "source": []
  },
  {
   "cell_type": "code",
   "execution_count": null,
   "id": "9dfb9a53",
   "metadata": {},
   "outputs": [],
   "source": []
  }
 ],
 "metadata": {
  "kernelspec": {
   "display_name": "Python 3",
   "language": "python",
   "name": "python3"
  },
  "language_info": {
   "codemirror_mode": {
    "name": "ipython",
    "version": 3
   },
   "file_extension": ".py",
   "mimetype": "text/x-python",
   "name": "python",
   "nbconvert_exporter": "python",
   "pygments_lexer": "ipython3",
   "version": "3.13.1"
  }
 },
 "nbformat": 4,
 "nbformat_minor": 5
}
