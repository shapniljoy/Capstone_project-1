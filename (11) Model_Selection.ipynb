{
 "cells": [
  {
   "cell_type": "code",
   "execution_count": 3,
   "id": "22728231",
   "metadata": {},
   "outputs": [],
   "source": [
    "import pandas as pd\n",
    "import numpy as np\n",
    "import matplotlib.pyplot as plt\n",
    "import seaborn as sns\n",
    "import shap\n",
    "\n",
    "pd.set_option('display.max_columns', None)"
   ]
  },
  {
   "cell_type": "code",
   "execution_count": 4,
   "id": "0eafdcae",
   "metadata": {},
   "outputs": [],
   "source": [
    "df = pd.read_csv('outliers_treated.csv')"
   ]
  },
  {
   "cell_type": "code",
   "execution_count": 5,
   "id": "9aa9ab01",
   "metadata": {},
   "outputs": [],
   "source": [
    "df.drop(columns=['Unnamed: 0','price_per_sqft','areaWithType','outliers','area_room_ratio','store room','pooja room','others'],inplace=True)"
   ]
  },
  {
   "cell_type": "code",
   "execution_count": 6,
   "id": "dd76a78c",
   "metadata": {},
   "outputs": [
    {
     "data": {
      "text/html": [
       "<div>\n",
       "<style scoped>\n",
       "    .dataframe tbody tr th:only-of-type {\n",
       "        vertical-align: middle;\n",
       "    }\n",
       "\n",
       "    .dataframe tbody tr th {\n",
       "        vertical-align: top;\n",
       "    }\n",
       "\n",
       "    .dataframe thead th {\n",
       "        text-align: right;\n",
       "    }\n",
       "</style>\n",
       "<table border=\"1\" class=\"dataframe\">\n",
       "  <thead>\n",
       "    <tr style=\"text-align: right;\">\n",
       "      <th></th>\n",
       "      <th>property_type</th>\n",
       "      <th>society</th>\n",
       "      <th>sector</th>\n",
       "      <th>price</th>\n",
       "      <th>area</th>\n",
       "      <th>bedRoom</th>\n",
       "      <th>bathroom</th>\n",
       "      <th>balcony</th>\n",
       "      <th>floorNum</th>\n",
       "      <th>facing</th>\n",
       "      <th>agePossession</th>\n",
       "      <th>super_built_up_area</th>\n",
       "      <th>built_up_area</th>\n",
       "      <th>carpet_area</th>\n",
       "      <th>study room</th>\n",
       "      <th>servant room</th>\n",
       "      <th>furnishing_type</th>\n",
       "      <th>luxury_score</th>\n",
       "    </tr>\n",
       "  </thead>\n",
       "  <tbody>\n",
       "    <tr>\n",
       "      <th>0</th>\n",
       "      <td>flat</td>\n",
       "      <td>signature global park 4</td>\n",
       "      <td>sector 36</td>\n",
       "      <td>0.82</td>\n",
       "      <td>1081.0</td>\n",
       "      <td>3</td>\n",
       "      <td>2</td>\n",
       "      <td>2</td>\n",
       "      <td>2.0</td>\n",
       "      <td>NaN</td>\n",
       "      <td>New Property</td>\n",
       "      <td>1081.0</td>\n",
       "      <td>NaN</td>\n",
       "      <td>650.0</td>\n",
       "      <td>0</td>\n",
       "      <td>0</td>\n",
       "      <td>0</td>\n",
       "      <td>8</td>\n",
       "    </tr>\n",
       "    <tr>\n",
       "      <th>1</th>\n",
       "      <td>flat</td>\n",
       "      <td>smart world gems</td>\n",
       "      <td>sector 89</td>\n",
       "      <td>0.95</td>\n",
       "      <td>1105.0</td>\n",
       "      <td>2</td>\n",
       "      <td>2</td>\n",
       "      <td>2</td>\n",
       "      <td>4.0</td>\n",
       "      <td>NaN</td>\n",
       "      <td>New Property</td>\n",
       "      <td>NaN</td>\n",
       "      <td>NaN</td>\n",
       "      <td>1103.0</td>\n",
       "      <td>1</td>\n",
       "      <td>1</td>\n",
       "      <td>0</td>\n",
       "      <td>38</td>\n",
       "    </tr>\n",
       "    <tr>\n",
       "      <th>2</th>\n",
       "      <td>flat</td>\n",
       "      <td>breez global hill view</td>\n",
       "      <td>sohna road</td>\n",
       "      <td>0.32</td>\n",
       "      <td>585.0</td>\n",
       "      <td>2</td>\n",
       "      <td>2</td>\n",
       "      <td>1</td>\n",
       "      <td>17.0</td>\n",
       "      <td>NaN</td>\n",
       "      <td>New Property</td>\n",
       "      <td>NaN</td>\n",
       "      <td>1000.0</td>\n",
       "      <td>585.0</td>\n",
       "      <td>0</td>\n",
       "      <td>0</td>\n",
       "      <td>0</td>\n",
       "      <td>49</td>\n",
       "    </tr>\n",
       "    <tr>\n",
       "      <th>3</th>\n",
       "      <td>flat</td>\n",
       "      <td>bestech park view sanskruti</td>\n",
       "      <td>sector 92</td>\n",
       "      <td>1.60</td>\n",
       "      <td>1995.0</td>\n",
       "      <td>3</td>\n",
       "      <td>4</td>\n",
       "      <td>3+</td>\n",
       "      <td>10.0</td>\n",
       "      <td>North-West</td>\n",
       "      <td>Relatively New</td>\n",
       "      <td>1995.0</td>\n",
       "      <td>1615.0</td>\n",
       "      <td>1476.0</td>\n",
       "      <td>0</td>\n",
       "      <td>1</td>\n",
       "      <td>1</td>\n",
       "      <td>174</td>\n",
       "    </tr>\n",
       "    <tr>\n",
       "      <th>4</th>\n",
       "      <td>flat</td>\n",
       "      <td>suncity avenue</td>\n",
       "      <td>sector 102</td>\n",
       "      <td>0.48</td>\n",
       "      <td>532.0</td>\n",
       "      <td>2</td>\n",
       "      <td>2</td>\n",
       "      <td>1</td>\n",
       "      <td>5.0</td>\n",
       "      <td>North-East</td>\n",
       "      <td>Relatively New</td>\n",
       "      <td>632.0</td>\n",
       "      <td>NaN</td>\n",
       "      <td>532.0</td>\n",
       "      <td>0</td>\n",
       "      <td>0</td>\n",
       "      <td>0</td>\n",
       "      <td>159</td>\n",
       "    </tr>\n",
       "  </tbody>\n",
       "</table>\n",
       "</div>"
      ],
      "text/plain": [
       "  property_type                      society      sector  price    area  \\\n",
       "0          flat      signature global park 4   sector 36   0.82  1081.0   \n",
       "1          flat             smart world gems   sector 89   0.95  1105.0   \n",
       "2          flat       breez global hill view  sohna road   0.32   585.0   \n",
       "3          flat  bestech park view sanskruti   sector 92   1.60  1995.0   \n",
       "4          flat               suncity avenue  sector 102   0.48   532.0   \n",
       "\n",
       "   bedRoom  bathroom balcony  floorNum      facing   agePossession  \\\n",
       "0        3         2       2       2.0         NaN    New Property   \n",
       "1        2         2       2       4.0         NaN    New Property   \n",
       "2        2         2       1      17.0         NaN    New Property   \n",
       "3        3         4      3+      10.0  North-West  Relatively New   \n",
       "4        2         2       1       5.0  North-East  Relatively New   \n",
       "\n",
       "   super_built_up_area  built_up_area  carpet_area  study room  servant room  \\\n",
       "0               1081.0            NaN        650.0           0             0   \n",
       "1                  NaN            NaN       1103.0           1             1   \n",
       "2                  NaN         1000.0        585.0           0             0   \n",
       "3               1995.0         1615.0       1476.0           0             1   \n",
       "4                632.0            NaN        532.0           0             0   \n",
       "\n",
       "   furnishing_type  luxury_score  \n",
       "0                0             8  \n",
       "1                0            38  \n",
       "2                0            49  \n",
       "3                1           174  \n",
       "4                0           159  "
      ]
     },
     "execution_count": 6,
     "metadata": {},
     "output_type": "execute_result"
    }
   ],
   "source": [
    "df.head()"
   ]
  },
  {
   "cell_type": "code",
   "execution_count": 7,
   "id": "8775ea89",
   "metadata": {},
   "outputs": [],
   "source": [
    "df['luxury_cat'] = pd.cut(df['luxury_score'],bins=[-1,50,150,175],labels=['low','medium','high'])\n",
    "df['floorNum_cat'] = pd.cut(df['floorNum'],bins=[-1,3,10,51],labels=['low','medium','high'])"
   ]
  },
  {
   "cell_type": "code",
   "execution_count": 8,
   "id": "c3e4a308",
   "metadata": {},
   "outputs": [],
   "source": [
    "df.drop(columns=['luxury_score','facing','floorNum','society'],inplace=True)"
   ]
  },
  {
   "cell_type": "code",
   "execution_count": 9,
   "id": "3855e0be",
   "metadata": {},
   "outputs": [],
   "source": [
    "df.loc[df['agePossession'] == 'Undefined','agePossession'] = np.nan"
   ]
  },
  {
   "cell_type": "code",
   "execution_count": 10,
   "id": "f4a3f899",
   "metadata": {},
   "outputs": [
    {
     "name": "stdout",
     "output_type": "stream",
     "text": [
      "<class 'pandas.core.frame.DataFrame'>\n",
      "RangeIndex: 3649 entries, 0 to 3648\n",
      "Data columns (total 16 columns):\n",
      " #   Column               Non-Null Count  Dtype   \n",
      "---  ------               --------------  -----   \n",
      " 0   property_type        3649 non-null   object  \n",
      " 1   sector               3649 non-null   object  \n",
      " 2   price                3649 non-null   float64 \n",
      " 3   area                 3649 non-null   float64 \n",
      " 4   bedRoom              3649 non-null   int64   \n",
      " 5   bathroom             3649 non-null   int64   \n",
      " 6   balcony              3649 non-null   object  \n",
      " 7   agePossession        3334 non-null   object  \n",
      " 8   super_built_up_area  1914 non-null   float64 \n",
      " 9   built_up_area        1607 non-null   float64 \n",
      " 10  carpet_area          1897 non-null   float64 \n",
      " 11  study room           3649 non-null   int64   \n",
      " 12  servant room         3649 non-null   int64   \n",
      " 13  furnishing_type      3649 non-null   int64   \n",
      " 14  luxury_cat           3649 non-null   category\n",
      " 15  floorNum_cat         3632 non-null   category\n",
      "dtypes: category(2), float64(5), int64(5), object(4)\n",
      "memory usage: 406.6+ KB\n"
     ]
    }
   ],
   "source": [
    "df.info()"
   ]
  },
  {
   "cell_type": "markdown",
   "id": "36b30c8b",
   "metadata": {},
   "source": [
    "0 = Unfurnished  \n",
    "1 = Semi furnished  \n",
    "2 = furnished  "
   ]
  },
  {
   "cell_type": "code",
   "execution_count": 11,
   "id": "c33bb405",
   "metadata": {},
   "outputs": [],
   "source": [
    "df['furnishing_type'] = df['furnishing_type'].replace({0:'unfurnished',1:'semi_furnished',2:'furnished'})"
   ]
  },
  {
   "cell_type": "code",
   "execution_count": 12,
   "id": "d27dac35",
   "metadata": {},
   "outputs": [
    {
     "data": {
      "text/plain": [
       "furnishing_type\n",
       "unfurnished       2430\n",
       "semi_furnished    1026\n",
       "furnished          193\n",
       "Name: count, dtype: int64"
      ]
     },
     "execution_count": 12,
     "metadata": {},
     "output_type": "execute_result"
    }
   ],
   "source": [
    "df['furnishing_type'].value_counts()"
   ]
  },
  {
   "cell_type": "code",
   "execution_count": 13,
   "id": "a18f24e0",
   "metadata": {},
   "outputs": [],
   "source": [
    "x = df.drop(columns=['price'])\n",
    "y = df['price']"
   ]
  },
  {
   "cell_type": "code",
   "execution_count": 14,
   "id": "a57aa0d7",
   "metadata": {},
   "outputs": [
    {
     "data": {
      "text/plain": [
       "np.float64(3.3035665005156436)"
      ]
     },
     "execution_count": 14,
     "metadata": {},
     "output_type": "execute_result"
    },
    {
     "data": {
      "image/png": "[encoded data removed]",
      "text/plain": [
       "<Figure size 640x480 with 1 Axes>"
      ]
     },
     "metadata": {},
     "output_type": "display_data"
    }
   ],
   "source": [
    "sns.histplot(df['price'], bins=30, kde=True)\n",
    "df['price'].skew()"
   ]
  },
  {
   "cell_type": "code",
   "execution_count": 15,
   "id": "0dcf26fd",
   "metadata": {},
   "outputs": [
    {
     "data": {
      "text/plain": [
       "<Axes: xlabel='price', ylabel='Count'>"
      ]
     },
     "execution_count": 15,
     "metadata": {},
     "output_type": "execute_result"
    },
    {
     "data": {
      "image/png": "[encoded data removed]",
      "text/plain": [
       "<Figure size 640x480 with 1 Axes>"
      ]
     },
     "metadata": {},
     "output_type": "display_data"
    }
   ],
   "source": [
    "y = np.log1p(y)\n",
    "sns.histplot(y, bins=30, kde=True)"
   ]
  },
  {
   "cell_type": "code",
   "execution_count": 16,
   "id": "4e56fb21",
   "metadata": {},
   "outputs": [],
   "source": [
    "cat_cols = ['property_type', 'sector', 'balcony', 'agePossession','furnishing_type', 'luxury_cat', 'floorNum_cat']"
   ]
  },
  {
   "cell_type": "code",
   "execution_count": 17,
   "id": "77be73ed",
   "metadata": {},
   "outputs": [],
   "source": [
    "num_cols =['area', 'bedRoom', 'bathroom', 'super_built_up_area',\n",
    "       'built_up_area', 'carpet_area', 'study room', 'servant room']"
   ]
  },
  {
   "cell_type": "code",
   "execution_count": 18,
   "id": "9c081cb8",
   "metadata": {},
   "outputs": [
    {
     "data": {
      "text/plain": [
       "property_type             0\n",
       "sector                    0\n",
       "area                      0\n",
       "bedRoom                   0\n",
       "bathroom                  0\n",
       "balcony                   0\n",
       "agePossession           315\n",
       "super_built_up_area    1735\n",
       "built_up_area          2042\n",
       "carpet_area            1752\n",
       "study room                0\n",
       "servant room              0\n",
       "furnishing_type           0\n",
       "luxury_cat                0\n",
       "floorNum_cat             17\n",
       "dtype: int64"
      ]
     },
     "execution_count": 18,
     "metadata": {},
     "output_type": "execute_result"
    }
   ],
   "source": [
    "x.isnull().sum()"
   ]
  },
  {
   "cell_type": "markdown",
   "id": "c08fa7e3",
   "metadata": {},
   "source": [
    "# Ordinal Encoding"
   ]
  },
  {
   "cell_type": "code",
   "execution_count": null,
   "id": "8e2bd852",
   "metadata": {},
   "outputs": [],
   "source": [
    "from sklearn.pipeline import Pipeline\n",
    "from sklearn.preprocessing import OneHotEncoder,StandardScaler,OrdinalEncoder,TargetEncoder\n",
    "from sklearn.compose import ColumnTransformer\n",
    "from sklearn.impute import SimpleImputer\n",
    "from sklearn.linear_model import LinearRegression\n",
    "from sklearn.model_selection import train_test_split,GridSearchCV,cross_val_score\n",
    "from lightgbm import LGBMRegressor\n",
    "from sklearn.linear_model import LinearRegression, Ridge, Lasso\n",
    "from sklearn.svm import SVR\n",
    "from sklearn.tree import DecisionTreeRegressor\n",
    "from sklearn.ensemble import RandomForestRegressor, ExtraTreesRegressor, GradientBoostingRegressor, AdaBoostRegressor\n",
    "from sklearn.neural_network import MLPRegressor\n",
    "from xgboost import XGBRegressor\n",
    "from sklearn.model_selection import KFold"
   ]
  },
  {
   "cell_type": "code",
   "execution_count": 20,
   "id": "21601cdd",
   "metadata": {},
   "outputs": [],
   "source": [
    "\n",
    "missing_pipe_cat = Pipeline([\n",
    "    ('Missing_Cat', SimpleImputer(strategy='most_frequent')),\n",
    "   ('ordinal',OrdinalEncoder())\n",
    "])\n",
    "\n",
    "missing_pipe_num = Pipeline([\n",
    "    ('Missing_Num', SimpleImputer(strategy='median')),\n",
    "    ('scaling',StandardScaler())\n",
    "])\n",
    "\n",
    "\n",
    "Ordinal_preprocessor = ColumnTransformer([\n",
    "    ('missing_pipe_cat',missing_pipe_cat,['agePossession','floorNum_cat']),\n",
    "    ('missing_pipe_num',missing_pipe_num,[ 'super_built_up_area','built_up_area', 'carpet_area']),\n",
    "    ('ordinal',OrdinalEncoder(),['property_type','sector','balcony','furnishing_type','luxury_cat']),\n",
    "    ('scaling',StandardScaler(),['area', 'bedRoom', 'bathroom', 'study room', 'servant room'])\n",
    "],remainder='passthrough')\n",
    "\n",
    "\n",
    "model_pipe = Pipeline([\n",
    "\n",
    "    ('preprocessor',Ordinal_preprocessor),\n",
    "    ('model',LinearRegression())    \n",
    "\n",
    "])\n",
    "\n",
    "\n"
   ]
  },
  {
   "cell_type": "code",
   "execution_count": null,
   "id": "acdbf710",
   "metadata": {},
   "outputs": [
    {
     "data": {
      "text/plain": [
       "np.float64(0.7227998739158495)"
      ]
     },
     "execution_count": 21,
     "metadata": {},
     "output_type": "execute_result"
    }
   ],
   "source": [
    "from sklearn.model_selection import KFold\n",
    "kfold = KFold(n_splits=5, shuffle=True, random_state=42)\n",
    "score = cross_val_score(model_pipe, x, y, cv=kfold, scoring='r2')\n",
    "score.mean()"
   ]
  },
  {
   "cell_type": "code",
   "execution_count": 22,
   "id": "e91e88ae",
   "metadata": {},
   "outputs": [
    {
     "data": {
      "text/plain": [
       "(2.8633441551688064, 0.8592283494689955)"
      ]
     },
     "execution_count": 22,
     "metadata": {},
     "output_type": "execute_result"
    }
   ],
   "source": [
    "from sklearn.model_selection import train_test_split\n",
    "x_train, x_test, y_train, y_test = train_test_split(x, y, test_size=0.2, random_state=42)\n",
    "\n",
    "model_pipe.fit(x_train, y_train)\n",
    "y_pred = model_pipe.predict(x_test)\n",
    "\n",
    "y_pred = np.expm1(y_pred)\n",
    "y_test = np.expm1(y_test)\n",
    "\n",
    "from sklearn.metrics import mean_absolute_error, mean_squared_error, r2_score\n",
    "mse = mean_squared_error(y_test,y_pred)\n",
    "mae = mean_absolute_error(y_test,y_pred)\n",
    "mse, mae"
   ]
  },
  {
   "cell_type": "code",
   "execution_count": 23,
   "id": "97ffd167",
   "metadata": {},
   "outputs": [],
   "source": [
    "def scorer1(model_name,model):\n",
    "\n",
    "    output = []\n",
    "\n",
    "    output.append(model_name)\n",
    "\n",
    "    model_pipe = Pipeline([\n",
    "        ('preprocessor',Ordinal_preprocessor),\n",
    "        ('regressor',model)\n",
    "    ])\n",
    "\n",
    "\n",
    "    kfold = KFold(n_splits=10,shuffle=True, random_state=0)\n",
    "    score = cross_val_score(model_pipe,x,y,cv=kfold,scoring='r2')\n",
    "\n",
    "    output.append(score.mean())\n",
    "\n",
    "    x_train, x_test, y_train, y_test = train_test_split(x,y,test_size=0.2, random_state=0)\n",
    "\n",
    "    model_pipe.fit(x_train,y_train)\n",
    "    y_pred = model_pipe.predict(x_test)\n",
    "\n",
    "    y_pred = np.expm1(y_pred)\n",
    "    y_test = np.expm1(y_test)\n",
    "\n",
    "    mse =mean_squared_error(y_test,y_pred)\n",
    "    mae = mean_absolute_error(y_test,y_pred)\n",
    "\n",
    "    output.append(mse)\n",
    "    output.append(mae)\n",
    "\n",
    "    return output"
   ]
  },
  {
   "cell_type": "code",
   "execution_count": 24,
   "id": "46215ae1",
   "metadata": {},
   "outputs": [],
   "source": [
    "from sklearn.linear_model import LinearRegression, Ridge, Lasso\n",
    "from sklearn.svm import SVR\n",
    "from sklearn.tree import DecisionTreeRegressor\n",
    "from sklearn.ensemble import RandomForestRegressor, ExtraTreesRegressor, GradientBoostingRegressor, AdaBoostRegressor\n",
    "from sklearn.neural_network import MLPRegressor\n",
    "from xgboost import XGBRegressor\n",
    "\n",
    "\n",
    "model_dict = {\n",
    "    'linear_reg': LinearRegression(),\n",
    "    'svr': SVR(),\n",
    "    'ridge': Ridge(),\n",
    "    'lasso': Lasso(), \n",
    "    'decision_tree': DecisionTreeRegressor(),\n",
    "    'random_forest': RandomForestRegressor(),\n",
    "    'extra_trees': ExtraTreesRegressor(),\n",
    "    'gradient_boosting': GradientBoostingRegressor(),\n",
    "    'adaboost': AdaBoostRegressor(),\n",
    "    'mlp': MLPRegressor(),\n",
    "    'xgboost': XGBRegressor(),\n",
    "    'lightgbm':LGBMRegressor()\n",
    "}"
   ]
  },
  {
   "cell_type": "code",
   "execution_count": 25,
   "id": "4a9092f2",
   "metadata": {},
   "outputs": [
    {
     "name": "stderr",
     "output_type": "stream",
     "text": [
      "c:\\Users\\User\\AppData\\Local\\Programs\\Python\\Python313\\Lib\\site-packages\\sklearn\\neural_network\\_multilayer_perceptron.py:691: ConvergenceWarning: Stochastic Optimizer: Maximum iterations (200) reached and the optimization hasn't converged yet.\n",
      "  warnings.warn(\n"
     ]
    },
    {
     "name": "stdout",
     "output_type": "stream",
     "text": [
      "[LightGBM] [Info] Auto-choosing row-wise multi-threading, the overhead of testing was 0.000940 seconds.\n",
      "You can set `force_row_wise=true` to remove the overhead.\n",
      "And if memory is not enough, you can set `force_col_wise=true`.\n",
      "[LightGBM] [Info] Total Bins 1169\n",
      "[LightGBM] [Info] Number of data points in the train set: 3284, number of used features: 15\n",
      "[LightGBM] [Info] Start training from score 1.034527\n",
      "[LightGBM] [Info] Auto-choosing row-wise multi-threading, the overhead of testing was 0.000101 seconds.\n",
      "You can set `force_row_wise=true` to remove the overhead.\n",
      "And if memory is not enough, you can set `force_col_wise=true`.\n",
      "[LightGBM] [Info] Total Bins 1168\n",
      "[LightGBM] [Info] Number of data points in the train set: 3284, number of used features: 15\n",
      "[LightGBM] [Info] Start training from score 1.034588\n",
      "[LightGBM] [Info] Auto-choosing col-wise multi-threading, the overhead of testing was 0.000149 seconds.\n",
      "You can set `force_col_wise=true` to remove the overhead.\n",
      "[LightGBM] [Info] Total Bins 1168\n",
      "[LightGBM] [Info] Number of data points in the train set: 3284, number of used features: 15\n",
      "[LightGBM] [Info] Start training from score 1.035591\n"
     ]
    },
    {
     "name": "stderr",
     "output_type": "stream",
     "text": [
      "c:\\Users\\User\\AppData\\Local\\Programs\\Python\\Python313\\Lib\\site-packages\\sklearn\\utils\\validation.py:2739: UserWarning: X does not have valid feature names, but LGBMRegressor was fitted with feature names\n",
      "  warnings.warn(\n",
      "c:\\Users\\User\\AppData\\Local\\Programs\\Python\\Python313\\Lib\\site-packages\\sklearn\\utils\\validation.py:2739: UserWarning: X does not have valid feature names, but LGBMRegressor was fitted with feature names\n",
      "  warnings.warn(\n",
      "c:\\Users\\User\\AppData\\Local\\Programs\\Python\\Python313\\Lib\\site-packages\\sklearn\\utils\\validation.py:2739: UserWarning: X does not have valid feature names, but LGBMRegressor was fitted with feature names\n",
      "  warnings.warn(\n"
     ]
    },
    {
     "name": "stdout",
     "output_type": "stream",
     "text": [
      "[LightGBM] [Info] Auto-choosing row-wise multi-threading, the overhead of testing was 0.000112 seconds.\n",
      "You can set `force_row_wise=true` to remove the overhead.\n",
      "And if memory is not enough, you can set `force_col_wise=true`.\n",
      "[LightGBM] [Info] Total Bins 1168\n",
      "[LightGBM] [Info] Number of data points in the train set: 3284, number of used features: 15\n",
      "[LightGBM] [Info] Start training from score 1.034913\n",
      "[LightGBM] [Info] Auto-choosing col-wise multi-threading, the overhead of testing was 0.000179 seconds.\n",
      "You can set `force_col_wise=true` to remove the overhead.\n",
      "[LightGBM] [Info] Total Bins 1169\n",
      "[LightGBM] [Info] Number of data points in the train set: 3284, number of used features: 15\n",
      "[LightGBM] [Info] Start training from score 1.035330\n",
      "[LightGBM] [Info] Auto-choosing row-wise multi-threading, the overhead of testing was 0.000111 seconds.\n",
      "You can set `force_row_wise=true` to remove the overhead.\n",
      "And if memory is not enough, you can set `force_col_wise=true`.\n",
      "[LightGBM] [Info] Total Bins 1169\n",
      "[LightGBM] [Info] Number of data points in the train set: 3284, number of used features: 15\n",
      "[LightGBM] [Info] Start training from score 1.033161\n"
     ]
    },
    {
     "name": "stderr",
     "output_type": "stream",
     "text": [
      "c:\\Users\\User\\AppData\\Local\\Programs\\Python\\Python313\\Lib\\site-packages\\sklearn\\utils\\validation.py:2739: UserWarning: X does not have valid feature names, but LGBMRegressor was fitted with feature names\n",
      "  warnings.warn(\n",
      "c:\\Users\\User\\AppData\\Local\\Programs\\Python\\Python313\\Lib\\site-packages\\sklearn\\utils\\validation.py:2739: UserWarning: X does not have valid feature names, but LGBMRegressor was fitted with feature names\n",
      "  warnings.warn(\n",
      "c:\\Users\\User\\AppData\\Local\\Programs\\Python\\Python313\\Lib\\site-packages\\sklearn\\utils\\validation.py:2739: UserWarning: X does not have valid feature names, but LGBMRegressor was fitted with feature names\n",
      "  warnings.warn(\n"
     ]
    },
    {
     "name": "stdout",
     "output_type": "stream",
     "text": [
      "[LightGBM] [Info] Auto-choosing row-wise multi-threading, the overhead of testing was 0.000121 seconds.\n",
      "You can set `force_row_wise=true` to remove the overhead.\n",
      "And if memory is not enough, you can set `force_col_wise=true`.\n",
      "[LightGBM] [Info] Total Bins 1170\n",
      "[LightGBM] [Info] Number of data points in the train set: 3284, number of used features: 15\n",
      "[LightGBM] [Info] Start training from score 1.029744\n",
      "[LightGBM] [Info] Auto-choosing row-wise multi-threading, the overhead of testing was 0.000107 seconds.\n",
      "You can set `force_row_wise=true` to remove the overhead.\n",
      "And if memory is not enough, you can set `force_col_wise=true`.\n",
      "[LightGBM] [Info] Total Bins 1169\n",
      "[LightGBM] [Info] Number of data points in the train set: 3284, number of used features: 15\n",
      "[LightGBM] [Info] Start training from score 1.033340\n",
      "[LightGBM] [Info] Auto-choosing row-wise multi-threading, the overhead of testing was 0.000101 seconds.\n",
      "You can set `force_row_wise=true` to remove the overhead.\n",
      "And if memory is not enough, you can set `force_col_wise=true`.\n",
      "[LightGBM] [Info] Total Bins 1168\n",
      "[LightGBM] [Info] Number of data points in the train set: 3284, number of used features: 15\n",
      "[LightGBM] [Info] Start training from score 1.035447\n"
     ]
    },
    {
     "name": "stderr",
     "output_type": "stream",
     "text": [
      "c:\\Users\\User\\AppData\\Local\\Programs\\Python\\Python313\\Lib\\site-packages\\sklearn\\utils\\validation.py:2739: UserWarning: X does not have valid feature names, but LGBMRegressor was fitted with feature names\n",
      "  warnings.warn(\n",
      "c:\\Users\\User\\AppData\\Local\\Programs\\Python\\Python313\\Lib\\site-packages\\sklearn\\utils\\validation.py:2739: UserWarning: X does not have valid feature names, but LGBMRegressor was fitted with feature names\n",
      "  warnings.warn(\n",
      "c:\\Users\\User\\AppData\\Local\\Programs\\Python\\Python313\\Lib\\site-packages\\sklearn\\utils\\validation.py:2739: UserWarning: X does not have valid feature names, but LGBMRegressor was fitted with feature names\n",
      "  warnings.warn(\n"
     ]
    },
    {
     "name": "stdout",
     "output_type": "stream",
     "text": [
      "[LightGBM] [Info] Auto-choosing col-wise multi-threading, the overhead of testing was 0.000167 seconds.\n",
      "You can set `force_col_wise=true` to remove the overhead.\n",
      "[LightGBM] [Info] Total Bins 1169\n",
      "[LightGBM] [Info] Number of data points in the train set: 3285, number of used features: 15\n",
      "[LightGBM] [Info] Start training from score 1.033572\n",
      "[LightGBM] [Info] Auto-choosing col-wise multi-threading, the overhead of testing was 0.000184 seconds.\n",
      "You can set `force_col_wise=true` to remove the overhead.\n",
      "[LightGBM] [Info] Total Bins 1168\n",
      "[LightGBM] [Info] Number of data points in the train set: 2919, number of used features: 15\n",
      "[LightGBM] [Info] Start training from score 1.035228\n"
     ]
    },
    {
     "name": "stderr",
     "output_type": "stream",
     "text": [
      "c:\\Users\\User\\AppData\\Local\\Programs\\Python\\Python313\\Lib\\site-packages\\sklearn\\utils\\validation.py:2739: UserWarning: X does not have valid feature names, but LGBMRegressor was fitted with feature names\n",
      "  warnings.warn(\n",
      "c:\\Users\\User\\AppData\\Local\\Programs\\Python\\Python313\\Lib\\site-packages\\sklearn\\utils\\validation.py:2739: UserWarning: X does not have valid feature names, but LGBMRegressor was fitted with feature names\n",
      "  warnings.warn(\n"
     ]
    }
   ],
   "source": [
    "model_output = []\n",
    "\n",
    "for model_name,model in model_dict.items():\n",
    "    model_output.append(scorer1(model_name=model_name, model=model))"
   ]
  },
  {
   "cell_type": "code",
   "execution_count": 26,
   "id": "18f0d5de",
   "metadata": {},
   "outputs": [],
   "source": [
    "model_output = pd.DataFrame(model_output, columns=['model_name','r2_score','mse','mae']).sort_values(by='mse', ascending=True)"
   ]
  },
  {
   "cell_type": "code",
   "execution_count": 27,
   "id": "b2eed392",
   "metadata": {},
   "outputs": [
    {
     "data": {
      "text/html": [
       "<div>\n",
       "<style scoped>\n",
       "    .dataframe tbody tr th:only-of-type {\n",
       "        vertical-align: middle;\n",
       "    }\n",
       "\n",
       "    .dataframe tbody tr th {\n",
       "        vertical-align: top;\n",
       "    }\n",
       "\n",
       "    .dataframe thead th {\n",
       "        text-align: right;\n",
       "    }\n",
       "</style>\n",
       "<table border=\"1\" class=\"dataframe\">\n",
       "  <thead>\n",
       "    <tr style=\"text-align: right;\">\n",
       "      <th></th>\n",
       "      <th>model_name</th>\n",
       "      <th>r2_score</th>\n",
       "      <th>mse</th>\n",
       "      <th>mae</th>\n",
       "    </tr>\n",
       "  </thead>\n",
       "  <tbody>\n",
       "    <tr>\n",
       "      <th>10</th>\n",
       "      <td>xgboost</td>\n",
       "      <td>0.896189</td>\n",
       "      <td>1.053062</td>\n",
       "      <td>0.465643</td>\n",
       "    </tr>\n",
       "    <tr>\n",
       "      <th>11</th>\n",
       "      <td>lightgbm</td>\n",
       "      <td>0.890643</td>\n",
       "      <td>1.148702</td>\n",
       "      <td>0.497829</td>\n",
       "    </tr>\n",
       "    <tr>\n",
       "      <th>5</th>\n",
       "      <td>random_forest</td>\n",
       "      <td>0.886646</td>\n",
       "      <td>1.253480</td>\n",
       "      <td>0.495775</td>\n",
       "    </tr>\n",
       "    <tr>\n",
       "      <th>6</th>\n",
       "      <td>extra_trees</td>\n",
       "      <td>0.882616</td>\n",
       "      <td>1.260250</td>\n",
       "      <td>0.510840</td>\n",
       "    </tr>\n",
       "    <tr>\n",
       "      <th>7</th>\n",
       "      <td>gradient_boosting</td>\n",
       "      <td>0.868465</td>\n",
       "      <td>1.263679</td>\n",
       "      <td>0.566611</td>\n",
       "    </tr>\n",
       "    <tr>\n",
       "      <th>9</th>\n",
       "      <td>mlp</td>\n",
       "      <td>0.802174</td>\n",
       "      <td>1.916060</td>\n",
       "      <td>0.802672</td>\n",
       "    </tr>\n",
       "    <tr>\n",
       "      <th>4</th>\n",
       "      <td>decision_tree</td>\n",
       "      <td>0.794030</td>\n",
       "      <td>2.262457</td>\n",
       "      <td>0.690122</td>\n",
       "    </tr>\n",
       "    <tr>\n",
       "      <th>8</th>\n",
       "      <td>adaboost</td>\n",
       "      <td>0.724097</td>\n",
       "      <td>2.319923</td>\n",
       "      <td>0.885448</td>\n",
       "    </tr>\n",
       "    <tr>\n",
       "      <th>1</th>\n",
       "      <td>svr</td>\n",
       "      <td>0.757169</td>\n",
       "      <td>2.609702</td>\n",
       "      <td>0.826330</td>\n",
       "    </tr>\n",
       "    <tr>\n",
       "      <th>0</th>\n",
       "      <td>linear_reg</td>\n",
       "      <td>0.724689</td>\n",
       "      <td>2.618305</td>\n",
       "      <td>0.863220</td>\n",
       "    </tr>\n",
       "    <tr>\n",
       "      <th>2</th>\n",
       "      <td>ridge</td>\n",
       "      <td>0.724695</td>\n",
       "      <td>2.618653</td>\n",
       "      <td>0.863320</td>\n",
       "    </tr>\n",
       "    <tr>\n",
       "      <th>3</th>\n",
       "      <td>lasso</td>\n",
       "      <td>0.062048</td>\n",
       "      <td>6.514899</td>\n",
       "      <td>1.421017</td>\n",
       "    </tr>\n",
       "  </tbody>\n",
       "</table>\n",
       "</div>"
      ],
      "text/plain": [
       "           model_name  r2_score       mse       mae\n",
       "10            xgboost  0.896189  1.053062  0.465643\n",
       "11           lightgbm  0.890643  1.148702  0.497829\n",
       "5       random_forest  0.886646  1.253480  0.495775\n",
       "6         extra_trees  0.882616  1.260250  0.510840\n",
       "7   gradient_boosting  0.868465  1.263679  0.566611\n",
       "9                 mlp  0.802174  1.916060  0.802672\n",
       "4       decision_tree  0.794030  2.262457  0.690122\n",
       "8            adaboost  0.724097  2.319923  0.885448\n",
       "1                 svr  0.757169  2.609702  0.826330\n",
       "0          linear_reg  0.724689  2.618305  0.863220\n",
       "2               ridge  0.724695  2.618653  0.863320\n",
       "3               lasso  0.062048  6.514899  1.421017"
      ]
     },
     "execution_count": 27,
     "metadata": {},
     "output_type": "execute_result"
    }
   ],
   "source": [
    "model_output"
   ]
  },
  {
   "cell_type": "markdown",
   "id": "0704fbdf",
   "metadata": {},
   "source": [
    "# One Hot Encoding"
   ]
  },
  {
   "cell_type": "code",
   "execution_count": 28,
   "id": "981cf375",
   "metadata": {},
   "outputs": [],
   "source": [
    "missing_pipe_cat_age = Pipeline([\n",
    "    ('Missing_Cat', SimpleImputer(strategy='most_frequent')),\n",
    "   ('Onehot',OneHotEncoder(drop='first',handle_unknown='ignore'))\n",
    "])\n",
    "\n",
    "missing_pipe_cat_floor = Pipeline([\n",
    "    ('Missing_Cat', SimpleImputer(strategy='most_frequent')),\n",
    "   ('ordinal',OrdinalEncoder())\n",
    "])\n",
    "\n",
    "missing_pipe_num = Pipeline([\n",
    "    ('Missing_Num', SimpleImputer(strategy='median')),\n",
    "    ('scaling',StandardScaler())\n",
    "])\n",
    "\n",
    "\n",
    "Onehot_preprocessor = ColumnTransformer([\n",
    "    ('missing_pipe_cat_age',missing_pipe_cat_age,['agePossession']),\n",
    "    ('missing_pipe_cat_floor',missing_pipe_cat_floor,['floorNum_cat']),\n",
    "    ('missing_pipe_num',missing_pipe_num,[ 'super_built_up_area','built_up_area', 'carpet_area']),\n",
    "    ('ordinal',OrdinalEncoder(),['balcony','luxury_cat']),\n",
    "    ('onehot',OneHotEncoder(drop='first', handle_unknown='ignore'), ['sector','furnishing_type','property_type']),\n",
    "    ('scaling',StandardScaler(),['area', 'bedRoom', 'bathroom', 'study room', 'servant room'])\n",
    "],remainder='passthrough')\n",
    "\n",
    "\n",
    "model_pipe = Pipeline([\n",
    "\n",
    "    ('preprocessor',Onehot_preprocessor),\n",
    "    ('model',LinearRegression())    \n",
    "\n",
    "])"
   ]
  },
  {
   "cell_type": "code",
   "execution_count": 29,
   "id": "86a59512",
   "metadata": {},
   "outputs": [
    {
     "data": {
      "text/plain": [
       "np.float64(0.8490091772686654)"
      ]
     },
     "execution_count": 29,
     "metadata": {},
     "output_type": "execute_result"
    }
   ],
   "source": [
    "kfold = KFold(n_splits=10,shuffle=True,random_state=0)\n",
    "score = cross_val_score(model_pipe,x,y,cv=kfold,scoring='r2')\n",
    "score.mean()"
   ]
  },
  {
   "cell_type": "code",
   "execution_count": 30,
   "id": "3adc0ac9",
   "metadata": {},
   "outputs": [
    {
     "data": {
      "text/plain": [
       "(1.4371413448631003, 0.6066978539662372)"
      ]
     },
     "execution_count": 30,
     "metadata": {},
     "output_type": "execute_result"
    }
   ],
   "source": [
    "x_train, x_test, y_train, y_test = train_test_split(x, y, test_size=0.2, random_state=0)\n",
    "\n",
    "model_pipe.fit(x_train, y_train)\n",
    "y_pred = model_pipe.predict(x_test)\n",
    "\n",
    "y_pred = np.expm1(y_pred)\n",
    "y_test = np.expm1(y_test)\n",
    "\n",
    "mse = mean_squared_error(y_test, y_pred)\n",
    "mae = mean_absolute_error(y_test, y_pred)\n",
    "mse, mae"
   ]
  },
  {
   "cell_type": "code",
   "execution_count": 31,
   "id": "71bd749f",
   "metadata": {},
   "outputs": [],
   "source": [
    "def scorer2(model_name,model):\n",
    "\n",
    "    output = []\n",
    "\n",
    "    output.append(model_name)\n",
    "\n",
    "    model_pipe = Pipeline([\n",
    "        ('preprocessor',Onehot_preprocessor),\n",
    "        ('regressor',model)\n",
    "    ])\n",
    "\n",
    "    kfold = KFold(n_splits=10,shuffle=True, random_state=0)\n",
    "    score = cross_val_score(model_pipe,x,y,cv=kfold,scoring='r2')\n",
    "\n",
    "    output.append(score.mean())\n",
    "\n",
    "    x_train, x_test, y_train, y_test = train_test_split(x,y,test_size=0.2, random_state=0)\n",
    "\n",
    "    model_pipe.fit(x_train,y_train)\n",
    "    y_pred = model_pipe.predict(x_test)\n",
    "\n",
    "    y_pred = np.expm1(y_pred)\n",
    "    y_test = np.expm1(y_test)\n",
    "\n",
    "    mse =mean_squared_error(y_test,y_pred)\n",
    "    mae = mean_absolute_error(y_test,y_pred)\n",
    "\n",
    "    output.append(mse)\n",
    "    output.append(mae)\n",
    "\n",
    "    return output"
   ]
  },
  {
   "cell_type": "code",
   "execution_count": 32,
   "id": "55f5bd90",
   "metadata": {},
   "outputs": [
    {
     "name": "stdout",
     "output_type": "stream",
     "text": [
      "[LightGBM] [Info] Auto-choosing row-wise multi-threading, the overhead of testing was 0.000099 seconds.\n",
      "You can set `force_row_wise=true` to remove the overhead.\n",
      "And if memory is not enough, you can set `force_col_wise=true`.\n",
      "[LightGBM] [Info] Total Bins 1188\n",
      "[LightGBM] [Info] Number of data points in the train set: 3284, number of used features: 77\n",
      "[LightGBM] [Info] Start training from score 1.034527\n",
      "[LightGBM] [Info] Auto-choosing col-wise multi-threading, the overhead of testing was 0.000192 seconds.\n",
      "You can set `force_col_wise=true` to remove the overhead.\n",
      "[LightGBM] [Info] Total Bins 1187\n",
      "[LightGBM] [Info] Number of data points in the train set: 3284, number of used features: 76\n",
      "[LightGBM] [Info] Start training from score 1.034588\n",
      "[LightGBM] [Info] Auto-choosing row-wise multi-threading, the overhead of testing was 0.000105 seconds.\n",
      "You can set `force_row_wise=true` to remove the overhead.\n",
      "And if memory is not enough, you can set `force_col_wise=true`.\n",
      "[LightGBM] [Info] Total Bins 1182\n",
      "[LightGBM] [Info] Number of data points in the train set: 3284, number of used features: 74\n",
      "[LightGBM] [Info] Start training from score 1.035591\n"
     ]
    },
    {
     "name": "stderr",
     "output_type": "stream",
     "text": [
      "c:\\Users\\User\\AppData\\Local\\Programs\\Python\\Python313\\Lib\\site-packages\\sklearn\\utils\\validation.py:2739: UserWarning: X does not have valid feature names, but LGBMRegressor was fitted with feature names\n",
      "  warnings.warn(\n",
      "c:\\Users\\User\\AppData\\Local\\Programs\\Python\\Python313\\Lib\\site-packages\\sklearn\\utils\\validation.py:2739: UserWarning: X does not have valid feature names, but LGBMRegressor was fitted with feature names\n",
      "  warnings.warn(\n",
      "c:\\Users\\User\\AppData\\Local\\Programs\\Python\\Python313\\Lib\\site-packages\\sklearn\\utils\\validation.py:2739: UserWarning: X does not have valid feature names, but LGBMRegressor was fitted with feature names\n",
      "  warnings.warn(\n"
     ]
    },
    {
     "name": "stdout",
     "output_type": "stream",
     "text": [
      "[LightGBM] [Info] Auto-choosing row-wise multi-threading, the overhead of testing was 0.000122 seconds.\n",
      "You can set `force_row_wise=true` to remove the overhead.\n",
      "And if memory is not enough, you can set `force_col_wise=true`.\n",
      "[LightGBM] [Info] Total Bins 1188\n",
      "[LightGBM] [Info] Number of data points in the train set: 3284, number of used features: 77\n",
      "[LightGBM] [Info] Start training from score 1.034913\n",
      "[LightGBM] [Info] Auto-choosing row-wise multi-threading, the overhead of testing was 0.000102 seconds.\n",
      "You can set `force_row_wise=true` to remove the overhead.\n",
      "And if memory is not enough, you can set `force_col_wise=true`.\n",
      "[LightGBM] [Info] Total Bins 1186\n",
      "[LightGBM] [Info] Number of data points in the train set: 3284, number of used features: 76\n",
      "[LightGBM] [Info] Start training from score 1.035330\n",
      "[LightGBM] [Info] Auto-choosing row-wise multi-threading, the overhead of testing was 0.000102 seconds.\n",
      "You can set `force_row_wise=true` to remove the overhead.\n",
      "And if memory is not enough, you can set `force_col_wise=true`.\n",
      "[LightGBM] [Info] Total Bins 1186\n",
      "[LightGBM] [Info] Number of data points in the train set: 3284, number of used features: 76\n",
      "[LightGBM] [Info] Start training from score 1.033161\n"
     ]
    },
    {
     "name": "stderr",
     "output_type": "stream",
     "text": [
      "c:\\Users\\User\\AppData\\Local\\Programs\\Python\\Python313\\Lib\\site-packages\\sklearn\\utils\\validation.py:2739: UserWarning: X does not have valid feature names, but LGBMRegressor was fitted with feature names\n",
      "  warnings.warn(\n",
      "c:\\Users\\User\\AppData\\Local\\Programs\\Python\\Python313\\Lib\\site-packages\\sklearn\\utils\\validation.py:2739: UserWarning: X does not have valid feature names, but LGBMRegressor was fitted with feature names\n",
      "  warnings.warn(\n",
      "c:\\Users\\User\\AppData\\Local\\Programs\\Python\\Python313\\Lib\\site-packages\\sklearn\\utils\\validation.py:2739: UserWarning: X does not have valid feature names, but LGBMRegressor was fitted with feature names\n",
      "  warnings.warn(\n"
     ]
    },
    {
     "name": "stdout",
     "output_type": "stream",
     "text": [
      "[LightGBM] [Info] Auto-choosing row-wise multi-threading, the overhead of testing was 0.000118 seconds.\n",
      "You can set `force_row_wise=true` to remove the overhead.\n",
      "And if memory is not enough, you can set `force_col_wise=true`.\n",
      "[LightGBM] [Info] Total Bins 1185\n",
      "[LightGBM] [Info] Number of data points in the train set: 3284, number of used features: 75\n",
      "[LightGBM] [Info] Start training from score 1.029744\n",
      "[LightGBM] [Info] Auto-choosing row-wise multi-threading, the overhead of testing was 0.000112 seconds.\n",
      "You can set `force_row_wise=true` to remove the overhead.\n",
      "And if memory is not enough, you can set `force_col_wise=true`.\n",
      "[LightGBM] [Info] Total Bins 1186\n",
      "[LightGBM] [Info] Number of data points in the train set: 3284, number of used features: 76\n",
      "[LightGBM] [Info] Start training from score 1.033340\n",
      "[LightGBM] [Info] Auto-choosing row-wise multi-threading, the overhead of testing was 0.000121 seconds.\n",
      "You can set `force_row_wise=true` to remove the overhead.\n",
      "And if memory is not enough, you can set `force_col_wise=true`.\n",
      "[LightGBM] [Info] Total Bins 1184\n",
      "[LightGBM] [Info] Number of data points in the train set: 3284, number of used features: 75\n",
      "[LightGBM] [Info] Start training from score 1.035447\n"
     ]
    },
    {
     "name": "stderr",
     "output_type": "stream",
     "text": [
      "c:\\Users\\User\\AppData\\Local\\Programs\\Python\\Python313\\Lib\\site-packages\\sklearn\\utils\\validation.py:2739: UserWarning: X does not have valid feature names, but LGBMRegressor was fitted with feature names\n",
      "  warnings.warn(\n",
      "c:\\Users\\User\\AppData\\Local\\Programs\\Python\\Python313\\Lib\\site-packages\\sklearn\\utils\\validation.py:2739: UserWarning: X does not have valid feature names, but LGBMRegressor was fitted with feature names\n",
      "  warnings.warn(\n",
      "c:\\Users\\User\\AppData\\Local\\Programs\\Python\\Python313\\Lib\\site-packages\\sklearn\\utils\\validation.py:2739: UserWarning: X does not have valid feature names, but LGBMRegressor was fitted with feature names\n",
      "  warnings.warn(\n"
     ]
    },
    {
     "name": "stdout",
     "output_type": "stream",
     "text": [
      "[LightGBM] [Info] Auto-choosing row-wise multi-threading, the overhead of testing was 0.000110 seconds.\n",
      "You can set `force_row_wise=true` to remove the overhead.\n",
      "And if memory is not enough, you can set `force_col_wise=true`.\n",
      "[LightGBM] [Info] Total Bins 1187\n",
      "[LightGBM] [Info] Number of data points in the train set: 3285, number of used features: 76\n",
      "[LightGBM] [Info] Start training from score 1.033572\n",
      "[LightGBM] [Info] Auto-choosing col-wise multi-threading, the overhead of testing was 0.000181 seconds.\n",
      "You can set `force_col_wise=true` to remove the overhead.\n",
      "[LightGBM] [Info] Total Bins 1173\n",
      "[LightGBM] [Info] Number of data points in the train set: 2919, number of used features: 69\n",
      "[LightGBM] [Info] Start training from score 1.035228\n"
     ]
    },
    {
     "name": "stderr",
     "output_type": "stream",
     "text": [
      "c:\\Users\\User\\AppData\\Local\\Programs\\Python\\Python313\\Lib\\site-packages\\sklearn\\utils\\validation.py:2739: UserWarning: X does not have valid feature names, but LGBMRegressor was fitted with feature names\n",
      "  warnings.warn(\n",
      "c:\\Users\\User\\AppData\\Local\\Programs\\Python\\Python313\\Lib\\site-packages\\sklearn\\utils\\validation.py:2739: UserWarning: X does not have valid feature names, but LGBMRegressor was fitted with feature names\n",
      "  warnings.warn(\n"
     ]
    }
   ],
   "source": [
    "model_output_OHE = []\n",
    "\n",
    "for model_name,model in model_dict.items():\n",
    "    model_output_OHE.append(scorer2(model_name,model))"
   ]
  },
  {
   "cell_type": "code",
   "execution_count": 33,
   "id": "3bd94575",
   "metadata": {},
   "outputs": [],
   "source": [
    "model_output_OHE = pd.DataFrame(model_output,columns=['model_name','r2_score','mse','mae']).sort_values(by='mse',ascending=True)"
   ]
  },
  {
   "cell_type": "code",
   "execution_count": 34,
   "id": "7eb3700a",
   "metadata": {},
   "outputs": [
    {
     "data": {
      "text/html": [
       "<div>\n",
       "<style scoped>\n",
       "    .dataframe tbody tr th:only-of-type {\n",
       "        vertical-align: middle;\n",
       "    }\n",
       "\n",
       "    .dataframe tbody tr th {\n",
       "        vertical-align: top;\n",
       "    }\n",
       "\n",
       "    .dataframe thead th {\n",
       "        text-align: right;\n",
       "    }\n",
       "</style>\n",
       "<table border=\"1\" class=\"dataframe\">\n",
       "  <thead>\n",
       "    <tr style=\"text-align: right;\">\n",
       "      <th></th>\n",
       "      <th>model_name</th>\n",
       "      <th>r2_score</th>\n",
       "      <th>mse</th>\n",
       "      <th>mae</th>\n",
       "    </tr>\n",
       "  </thead>\n",
       "  <tbody>\n",
       "    <tr>\n",
       "      <th>10</th>\n",
       "      <td>xgboost</td>\n",
       "      <td>0.896189</td>\n",
       "      <td>1.053062</td>\n",
       "      <td>0.465643</td>\n",
       "    </tr>\n",
       "    <tr>\n",
       "      <th>11</th>\n",
       "      <td>lightgbm</td>\n",
       "      <td>0.890643</td>\n",
       "      <td>1.148702</td>\n",
       "      <td>0.497829</td>\n",
       "    </tr>\n",
       "    <tr>\n",
       "      <th>5</th>\n",
       "      <td>random_forest</td>\n",
       "      <td>0.886646</td>\n",
       "      <td>1.253480</td>\n",
       "      <td>0.495775</td>\n",
       "    </tr>\n",
       "    <tr>\n",
       "      <th>6</th>\n",
       "      <td>extra_trees</td>\n",
       "      <td>0.882616</td>\n",
       "      <td>1.260250</td>\n",
       "      <td>0.510840</td>\n",
       "    </tr>\n",
       "    <tr>\n",
       "      <th>7</th>\n",
       "      <td>gradient_boosting</td>\n",
       "      <td>0.868465</td>\n",
       "      <td>1.263679</td>\n",
       "      <td>0.566611</td>\n",
       "    </tr>\n",
       "    <tr>\n",
       "      <th>9</th>\n",
       "      <td>mlp</td>\n",
       "      <td>0.802174</td>\n",
       "      <td>1.916060</td>\n",
       "      <td>0.802672</td>\n",
       "    </tr>\n",
       "    <tr>\n",
       "      <th>4</th>\n",
       "      <td>decision_tree</td>\n",
       "      <td>0.794030</td>\n",
       "      <td>2.262457</td>\n",
       "      <td>0.690122</td>\n",
       "    </tr>\n",
       "    <tr>\n",
       "      <th>8</th>\n",
       "      <td>adaboost</td>\n",
       "      <td>0.724097</td>\n",
       "      <td>2.319923</td>\n",
       "      <td>0.885448</td>\n",
       "    </tr>\n",
       "    <tr>\n",
       "      <th>1</th>\n",
       "      <td>svr</td>\n",
       "      <td>0.757169</td>\n",
       "      <td>2.609702</td>\n",
       "      <td>0.826330</td>\n",
       "    </tr>\n",
       "    <tr>\n",
       "      <th>0</th>\n",
       "      <td>linear_reg</td>\n",
       "      <td>0.724689</td>\n",
       "      <td>2.618305</td>\n",
       "      <td>0.863220</td>\n",
       "    </tr>\n",
       "    <tr>\n",
       "      <th>2</th>\n",
       "      <td>ridge</td>\n",
       "      <td>0.724695</td>\n",
       "      <td>2.618653</td>\n",
       "      <td>0.863320</td>\n",
       "    </tr>\n",
       "    <tr>\n",
       "      <th>3</th>\n",
       "      <td>lasso</td>\n",
       "      <td>0.062048</td>\n",
       "      <td>6.514899</td>\n",
       "      <td>1.421017</td>\n",
       "    </tr>\n",
       "  </tbody>\n",
       "</table>\n",
       "</div>"
      ],
      "text/plain": [
       "           model_name  r2_score       mse       mae\n",
       "10            xgboost  0.896189  1.053062  0.465643\n",
       "11           lightgbm  0.890643  1.148702  0.497829\n",
       "5       random_forest  0.886646  1.253480  0.495775\n",
       "6         extra_trees  0.882616  1.260250  0.510840\n",
       "7   gradient_boosting  0.868465  1.263679  0.566611\n",
       "9                 mlp  0.802174  1.916060  0.802672\n",
       "4       decision_tree  0.794030  2.262457  0.690122\n",
       "8            adaboost  0.724097  2.319923  0.885448\n",
       "1                 svr  0.757169  2.609702  0.826330\n",
       "0          linear_reg  0.724689  2.618305  0.863220\n",
       "2               ridge  0.724695  2.618653  0.863320\n",
       "3               lasso  0.062048  6.514899  1.421017"
      ]
     },
     "execution_count": 34,
     "metadata": {},
     "output_type": "execute_result"
    }
   ],
   "source": [
    "model_output_OHE"
   ]
  },
  {
   "cell_type": "markdown",
   "id": "302e5950",
   "metadata": {},
   "source": [
    "# Target Encoding"
   ]
  },
  {
   "cell_type": "code",
   "execution_count": 35,
   "id": "521bd92c",
   "metadata": {},
   "outputs": [],
   "source": [
    "import category_encoders as ce\n"
   ]
  },
  {
   "cell_type": "code",
   "execution_count": 36,
   "id": "d3dce377",
   "metadata": {},
   "outputs": [],
   "source": [
    "missing_pipe_cat_age = Pipeline([\n",
    "    ('Missing_Cat', SimpleImputer(strategy='most_frequent')),\n",
    "   ('Onehot',OneHotEncoder(drop='first',handle_unknown='ignore'))\n",
    "])\n",
    "\n",
    "missing_pipe_cat_floor = Pipeline([\n",
    "    ('Missing_Cat', SimpleImputer(strategy='most_frequent')),\n",
    "   ('ordinal',OrdinalEncoder())\n",
    "])\n",
    "\n",
    "missing_pipe_num = Pipeline([\n",
    "    ('Missing_Num', SimpleImputer(strategy='median')),\n",
    "    ('scaling',StandardScaler())\n",
    "])\n",
    "\n",
    "\n",
    "Target_preprocessor = ColumnTransformer([\n",
    "    ('missing_pipe_cat_age',missing_pipe_cat_age,['agePossession']),\n",
    "    ('missing_pipe_cat_floor',missing_pipe_cat_floor,['floorNum_cat']),\n",
    "    ('missing_pipe_num',missing_pipe_num,[ 'super_built_up_area','built_up_area', 'carpet_area']),\n",
    "    ('ordinal',OrdinalEncoder(),['balcony','luxury_cat']),\n",
    "    ('onehot',OneHotEncoder(drop='first', handle_unknown='ignore'), ['furnishing_type','property_type']),\n",
    "    ('target',ce.TargetEncoder(),['sector']),\n",
    "    ('scaling',StandardScaler(),['area', 'bedRoom', 'bathroom', 'study room', 'servant room'])\n",
    "],remainder='passthrough')\n",
    "\n",
    "\n",
    "model_pipe = Pipeline([\n",
    "\n",
    "    ('preprocessor',Target_preprocessor),\n",
    "    ('model',LinearRegression())    \n",
    "\n",
    "])"
   ]
  },
  {
   "cell_type": "code",
   "execution_count": 37,
   "id": "7327f087",
   "metadata": {},
   "outputs": [
    {
     "data": {
      "text/plain": [
       "np.float64(0.8211235640630894)"
      ]
     },
     "execution_count": 37,
     "metadata": {},
     "output_type": "execute_result"
    }
   ],
   "source": [
    "kfold =KFold(n_splits=10,shuffle=True, random_state=0)\n",
    "score = cross_val_score(model_pipe,x,y,cv=kfold,scoring='r2')\n",
    "score.mean()"
   ]
  },
  {
   "cell_type": "code",
   "execution_count": 38,
   "id": "f5de3b3a",
   "metadata": {},
   "outputs": [
    {
     "name": "stdout",
     "output_type": "stream",
     "text": [
      "1.7043095305448301\n",
      "0.6810544920523884\n"
     ]
    }
   ],
   "source": [
    "x_train, x_test, y_train, y_test = train_test_split(x,y,test_size=0.2, random_state=0)\n",
    "\n",
    "model_pipe.fit(x_train,y_train)\n",
    "y_pred = model_pipe.predict(x_test)\n",
    "\n",
    "y_pred = np.expm1(y_pred)\n",
    "y_test = np.expm1(y_test)\n",
    "\n",
    "mse =mean_squared_error(y_test,y_pred)\n",
    "mae = mean_absolute_error(y_test,y_pred)\n",
    "\n",
    "print(mse)\n",
    "print(mae)"
   ]
  },
  {
   "cell_type": "code",
   "execution_count": 39,
   "id": "fd537792",
   "metadata": {},
   "outputs": [],
   "source": [
    "def scorer3(model_name,model):\n",
    "\n",
    "    output = []\n",
    "    output.append(model_name)\n",
    "\n",
    "    model_pipe =Pipeline([\n",
    "        ('preprocessor',Target_preprocessor),\n",
    "        ('regressor',model)\n",
    "    ])\n",
    "\n",
    "    kfold = KFold(n_splits=10,shuffle=True,random_state=0)\n",
    "    score = cross_val_score(model_pipe,x,y,cv=kfold,scoring='r2')\n",
    "\n",
    "    output.append(score.mean())\n",
    "\n",
    "    x_train, x_test, y_train, y_test = train_test_split(x,y,test_size=0.2, random_state=0)\n",
    "\n",
    "    model_pipe.fit(x_train,y_train)\n",
    "    y_pred = model_pipe.predict(x_test)\n",
    "\n",
    "    y_pred = np.expm1(y_pred)\n",
    "    y_test = np.expm1(y_test)\n",
    "\n",
    "    mse =mean_squared_error(y_test,y_pred)\n",
    "    mae = mean_absolute_error(y_test,y_pred)\n",
    "\n",
    "    output.append(mse)\n",
    "    output.append(mae)\n",
    "\n",
    "    return output"
   ]
  },
  {
   "cell_type": "code",
   "execution_count": 40,
   "id": "1888356a",
   "metadata": {},
   "outputs": [
    {
     "name": "stderr",
     "output_type": "stream",
     "text": [
      "c:\\Users\\User\\AppData\\Local\\Programs\\Python\\Python313\\Lib\\site-packages\\sklearn\\neural_network\\_multilayer_perceptron.py:691: ConvergenceWarning: Stochastic Optimizer: Maximum iterations (200) reached and the optimization hasn't converged yet.\n",
      "  warnings.warn(\n"
     ]
    },
    {
     "name": "stdout",
     "output_type": "stream",
     "text": [
      "[LightGBM] [Info] Auto-choosing row-wise multi-threading, the overhead of testing was 0.000102 seconds.\n",
      "You can set `force_row_wise=true` to remove the overhead.\n",
      "And if memory is not enough, you can set `force_col_wise=true`.\n",
      "[LightGBM] [Info] Total Bins 1174\n",
      "[LightGBM] [Info] Number of data points in the train set: 3284, number of used features: 19\n",
      "[LightGBM] [Info] Start training from score 1.034527\n",
      "[LightGBM] [Info] Auto-choosing row-wise multi-threading, the overhead of testing was 0.000101 seconds.\n",
      "You can set `force_row_wise=true` to remove the overhead.\n",
      "And if memory is not enough, you can set `force_col_wise=true`.\n",
      "[LightGBM] [Info] Total Bins 1173\n",
      "[LightGBM] [Info] Number of data points in the train set: 3284, number of used features: 19\n",
      "[LightGBM] [Info] Start training from score 1.034588\n",
      "[LightGBM] [Info] Auto-choosing row-wise multi-threading, the overhead of testing was 0.000102 seconds.\n",
      "You can set `force_row_wise=true` to remove the overhead.\n",
      "And if memory is not enough, you can set `force_col_wise=true`.\n",
      "[LightGBM] [Info] Total Bins 1173\n",
      "[LightGBM] [Info] Number of data points in the train set: 3284, number of used features: 19\n",
      "[LightGBM] [Info] Start training from score 1.035591\n"
     ]
    },
    {
     "name": "stderr",
     "output_type": "stream",
     "text": [
      "c:\\Users\\User\\AppData\\Local\\Programs\\Python\\Python313\\Lib\\site-packages\\sklearn\\utils\\validation.py:2739: UserWarning: X does not have valid feature names, but LGBMRegressor was fitted with feature names\n",
      "  warnings.warn(\n",
      "c:\\Users\\User\\AppData\\Local\\Programs\\Python\\Python313\\Lib\\site-packages\\sklearn\\utils\\validation.py:2739: UserWarning: X does not have valid feature names, but LGBMRegressor was fitted with feature names\n",
      "  warnings.warn(\n",
      "c:\\Users\\User\\AppData\\Local\\Programs\\Python\\Python313\\Lib\\site-packages\\sklearn\\utils\\validation.py:2739: UserWarning: X does not have valid feature names, but LGBMRegressor was fitted with feature names\n",
      "  warnings.warn(\n"
     ]
    },
    {
     "name": "stdout",
     "output_type": "stream",
     "text": [
      "[LightGBM] [Info] Auto-choosing col-wise multi-threading, the overhead of testing was 0.000215 seconds.\n",
      "You can set `force_col_wise=true` to remove the overhead.\n",
      "[LightGBM] [Info] Total Bins 1173\n",
      "[LightGBM] [Info] Number of data points in the train set: 3284, number of used features: 19\n",
      "[LightGBM] [Info] Start training from score 1.034913\n",
      "[LightGBM] [Info] Auto-choosing col-wise multi-threading, the overhead of testing was 0.000200 seconds.\n",
      "You can set `force_col_wise=true` to remove the overhead.\n",
      "[LightGBM] [Info] Total Bins 1174\n",
      "[LightGBM] [Info] Number of data points in the train set: 3284, number of used features: 19\n",
      "[LightGBM] [Info] Start training from score 1.035330\n",
      "[LightGBM] [Info] Auto-choosing row-wise multi-threading, the overhead of testing was 0.000098 seconds.\n",
      "You can set `force_row_wise=true` to remove the overhead.\n",
      "And if memory is not enough, you can set `force_col_wise=true`.\n",
      "[LightGBM] [Info] Total Bins 1174\n",
      "[LightGBM] [Info] Number of data points in the train set: 3284, number of used features: 19\n",
      "[LightGBM] [Info] Start training from score 1.033161\n"
     ]
    },
    {
     "name": "stderr",
     "output_type": "stream",
     "text": [
      "c:\\Users\\User\\AppData\\Local\\Programs\\Python\\Python313\\Lib\\site-packages\\sklearn\\utils\\validation.py:2739: UserWarning: X does not have valid feature names, but LGBMRegressor was fitted with feature names\n",
      "  warnings.warn(\n",
      "c:\\Users\\User\\AppData\\Local\\Programs\\Python\\Python313\\Lib\\site-packages\\sklearn\\utils\\validation.py:2739: UserWarning: X does not have valid feature names, but LGBMRegressor was fitted with feature names\n",
      "  warnings.warn(\n",
      "c:\\Users\\User\\AppData\\Local\\Programs\\Python\\Python313\\Lib\\site-packages\\sklearn\\utils\\validation.py:2739: UserWarning: X does not have valid feature names, but LGBMRegressor was fitted with feature names\n",
      "  warnings.warn(\n"
     ]
    },
    {
     "name": "stdout",
     "output_type": "stream",
     "text": [
      "[LightGBM] [Info] Auto-choosing row-wise multi-threading, the overhead of testing was 0.000111 seconds.\n",
      "You can set `force_row_wise=true` to remove the overhead.\n",
      "And if memory is not enough, you can set `force_col_wise=true`.\n",
      "[LightGBM] [Info] Total Bins 1175\n",
      "[LightGBM] [Info] Number of data points in the train set: 3284, number of used features: 19\n",
      "[LightGBM] [Info] Start training from score 1.029744\n",
      "[LightGBM] [Info] Auto-choosing col-wise multi-threading, the overhead of testing was 0.000175 seconds.\n",
      "You can set `force_col_wise=true` to remove the overhead.\n",
      "[LightGBM] [Info] Total Bins 1174\n",
      "[LightGBM] [Info] Number of data points in the train set: 3284, number of used features: 19\n",
      "[LightGBM] [Info] Start training from score 1.033340\n",
      "[LightGBM] [Info] Auto-choosing row-wise multi-threading, the overhead of testing was 0.000104 seconds.\n",
      "You can set `force_row_wise=true` to remove the overhead.\n",
      "And if memory is not enough, you can set `force_col_wise=true`.\n",
      "[LightGBM] [Info] Total Bins 1173\n",
      "[LightGBM] [Info] Number of data points in the train set: 3284, number of used features: 19\n",
      "[LightGBM] [Info] Start training from score 1.035447\n"
     ]
    },
    {
     "name": "stderr",
     "output_type": "stream",
     "text": [
      "c:\\Users\\User\\AppData\\Local\\Programs\\Python\\Python313\\Lib\\site-packages\\sklearn\\utils\\validation.py:2739: UserWarning: X does not have valid feature names, but LGBMRegressor was fitted with feature names\n",
      "  warnings.warn(\n",
      "c:\\Users\\User\\AppData\\Local\\Programs\\Python\\Python313\\Lib\\site-packages\\sklearn\\utils\\validation.py:2739: UserWarning: X does not have valid feature names, but LGBMRegressor was fitted with feature names\n",
      "  warnings.warn(\n",
      "c:\\Users\\User\\AppData\\Local\\Programs\\Python\\Python313\\Lib\\site-packages\\sklearn\\utils\\validation.py:2739: UserWarning: X does not have valid feature names, but LGBMRegressor was fitted with feature names\n",
      "  warnings.warn(\n"
     ]
    },
    {
     "name": "stdout",
     "output_type": "stream",
     "text": [
      "[LightGBM] [Info] Auto-choosing col-wise multi-threading, the overhead of testing was 0.000171 seconds.\n",
      "You can set `force_col_wise=true` to remove the overhead.\n",
      "[LightGBM] [Info] Total Bins 1174\n",
      "[LightGBM] [Info] Number of data points in the train set: 3285, number of used features: 19\n",
      "[LightGBM] [Info] Start training from score 1.033572\n",
      "[LightGBM] [Info] Auto-choosing row-wise multi-threading, the overhead of testing was 0.000097 seconds.\n",
      "You can set `force_row_wise=true` to remove the overhead.\n",
      "And if memory is not enough, you can set `force_col_wise=true`.\n",
      "[LightGBM] [Info] Total Bins 1173\n",
      "[LightGBM] [Info] Number of data points in the train set: 2919, number of used features: 19\n",
      "[LightGBM] [Info] Start training from score 1.035228\n"
     ]
    },
    {
     "name": "stderr",
     "output_type": "stream",
     "text": [
      "c:\\Users\\User\\AppData\\Local\\Programs\\Python\\Python313\\Lib\\site-packages\\sklearn\\utils\\validation.py:2739: UserWarning: X does not have valid feature names, but LGBMRegressor was fitted with feature names\n",
      "  warnings.warn(\n",
      "c:\\Users\\User\\AppData\\Local\\Programs\\Python\\Python313\\Lib\\site-packages\\sklearn\\utils\\validation.py:2739: UserWarning: X does not have valid feature names, but LGBMRegressor was fitted with feature names\n",
      "  warnings.warn(\n"
     ]
    }
   ],
   "source": [
    "model_output_target = []\n",
    "\n",
    "for model_name,model in model_dict.items():\n",
    "    model_output_target.append(scorer3(model_name,model))"
   ]
  },
  {
   "cell_type": "code",
   "execution_count": 41,
   "id": "6df75564",
   "metadata": {},
   "outputs": [
    {
     "data": {
      "text/html": [
       "<div>\n",
       "<style scoped>\n",
       "    .dataframe tbody tr th:only-of-type {\n",
       "        vertical-align: middle;\n",
       "    }\n",
       "\n",
       "    .dataframe tbody tr th {\n",
       "        vertical-align: top;\n",
       "    }\n",
       "\n",
       "    .dataframe thead th {\n",
       "        text-align: right;\n",
       "    }\n",
       "</style>\n",
       "<table border=\"1\" class=\"dataframe\">\n",
       "  <thead>\n",
       "    <tr style=\"text-align: right;\">\n",
       "      <th></th>\n",
       "      <th>model_name</th>\n",
       "      <th>r2_score</th>\n",
       "      <th>mse</th>\n",
       "      <th>mae</th>\n",
       "    </tr>\n",
       "  </thead>\n",
       "  <tbody>\n",
       "    <tr>\n",
       "      <th>6</th>\n",
       "      <td>extra_trees</td>\n",
       "      <td>0.902844</td>\n",
       "      <td>0.967116</td>\n",
       "      <td>0.427664</td>\n",
       "    </tr>\n",
       "    <tr>\n",
       "      <th>11</th>\n",
       "      <td>lightgbm</td>\n",
       "      <td>0.896364</td>\n",
       "      <td>1.018493</td>\n",
       "      <td>0.482876</td>\n",
       "    </tr>\n",
       "    <tr>\n",
       "      <th>5</th>\n",
       "      <td>random_forest</td>\n",
       "      <td>0.897711</td>\n",
       "      <td>1.108591</td>\n",
       "      <td>0.470469</td>\n",
       "    </tr>\n",
       "    <tr>\n",
       "      <th>10</th>\n",
       "      <td>xgboost</td>\n",
       "      <td>0.898327</td>\n",
       "      <td>1.155449</td>\n",
       "      <td>0.473557</td>\n",
       "    </tr>\n",
       "    <tr>\n",
       "      <th>7</th>\n",
       "      <td>gradient_boosting</td>\n",
       "      <td>0.877633</td>\n",
       "      <td>1.255492</td>\n",
       "      <td>0.537839</td>\n",
       "    </tr>\n",
       "    <tr>\n",
       "      <th>9</th>\n",
       "      <td>mlp</td>\n",
       "      <td>0.852163</td>\n",
       "      <td>1.380693</td>\n",
       "      <td>0.613046</td>\n",
       "    </tr>\n",
       "    <tr>\n",
       "      <th>1</th>\n",
       "      <td>svr</td>\n",
       "      <td>0.859649</td>\n",
       "      <td>1.547026</td>\n",
       "      <td>0.592187</td>\n",
       "    </tr>\n",
       "    <tr>\n",
       "      <th>4</th>\n",
       "      <td>decision_tree</td>\n",
       "      <td>0.815330</td>\n",
       "      <td>1.692704</td>\n",
       "      <td>0.564178</td>\n",
       "    </tr>\n",
       "    <tr>\n",
       "      <th>0</th>\n",
       "      <td>linear_reg</td>\n",
       "      <td>0.821124</td>\n",
       "      <td>1.704310</td>\n",
       "      <td>0.681054</td>\n",
       "    </tr>\n",
       "    <tr>\n",
       "      <th>2</th>\n",
       "      <td>ridge</td>\n",
       "      <td>0.821145</td>\n",
       "      <td>1.707042</td>\n",
       "      <td>0.681398</td>\n",
       "    </tr>\n",
       "    <tr>\n",
       "      <th>8</th>\n",
       "      <td>adaboost</td>\n",
       "      <td>0.791566</td>\n",
       "      <td>1.864391</td>\n",
       "      <td>0.739456</td>\n",
       "    </tr>\n",
       "    <tr>\n",
       "      <th>3</th>\n",
       "      <td>lasso</td>\n",
       "      <td>-0.000829</td>\n",
       "      <td>6.732291</td>\n",
       "      <td>1.454169</td>\n",
       "    </tr>\n",
       "  </tbody>\n",
       "</table>\n",
       "</div>"
      ],
      "text/plain": [
       "           model_name  r2_score       mse       mae\n",
       "6         extra_trees  0.902844  0.967116  0.427664\n",
       "11           lightgbm  0.896364  1.018493  0.482876\n",
       "5       random_forest  0.897711  1.108591  0.470469\n",
       "10            xgboost  0.898327  1.155449  0.473557\n",
       "7   gradient_boosting  0.877633  1.255492  0.537839\n",
       "9                 mlp  0.852163  1.380693  0.613046\n",
       "1                 svr  0.859649  1.547026  0.592187\n",
       "4       decision_tree  0.815330  1.692704  0.564178\n",
       "0          linear_reg  0.821124  1.704310  0.681054\n",
       "2               ridge  0.821145  1.707042  0.681398\n",
       "8            adaboost  0.791566  1.864391  0.739456\n",
       "3               lasso -0.000829  6.732291  1.454169"
      ]
     },
     "execution_count": 41,
     "metadata": {},
     "output_type": "execute_result"
    }
   ],
   "source": [
    "model_output_target = pd.DataFrame(model_output_target, columns=['model_name','r2_score','mse','mae']).sort_values(by='mse', ascending=True)\n",
    "model_output_target"
   ]
  },
  {
   "cell_type": "code",
   "execution_count": 42,
   "id": "f1bf4428",
   "metadata": {},
   "outputs": [
    {
     "data": {
      "text/html": [
       "<div>\n",
       "<style scoped>\n",
       "    .dataframe tbody tr th:only-of-type {\n",
       "        vertical-align: middle;\n",
       "    }\n",
       "\n",
       "    .dataframe tbody tr th {\n",
       "        vertical-align: top;\n",
       "    }\n",
       "\n",
       "    .dataframe thead th {\n",
       "        text-align: right;\n",
       "    }\n",
       "</style>\n",
       "<table border=\"1\" class=\"dataframe\">\n",
       "  <thead>\n",
       "    <tr style=\"text-align: right;\">\n",
       "      <th></th>\n",
       "      <th>model_name</th>\n",
       "      <th>r2_score</th>\n",
       "      <th>mse</th>\n",
       "      <th>mae</th>\n",
       "    </tr>\n",
       "  </thead>\n",
       "  <tbody>\n",
       "    <tr>\n",
       "      <th>10</th>\n",
       "      <td>xgboost</td>\n",
       "      <td>0.896189</td>\n",
       "      <td>1.053062</td>\n",
       "      <td>0.465643</td>\n",
       "    </tr>\n",
       "  </tbody>\n",
       "</table>\n",
       "</div>"
      ],
      "text/plain": [
       "   model_name  r2_score       mse       mae\n",
       "10    xgboost  0.896189  1.053062  0.465643"
      ]
     },
     "execution_count": 42,
     "metadata": {},
     "output_type": "execute_result"
    }
   ],
   "source": [
    "model_output.head(1)"
   ]
  },
  {
   "cell_type": "code",
   "execution_count": 43,
   "id": "507f9eb8",
   "metadata": {},
   "outputs": [
    {
     "data": {
      "text/html": [
       "<div>\n",
       "<style scoped>\n",
       "    .dataframe tbody tr th:only-of-type {\n",
       "        vertical-align: middle;\n",
       "    }\n",
       "\n",
       "    .dataframe tbody tr th {\n",
       "        vertical-align: top;\n",
       "    }\n",
       "\n",
       "    .dataframe thead th {\n",
       "        text-align: right;\n",
       "    }\n",
       "</style>\n",
       "<table border=\"1\" class=\"dataframe\">\n",
       "  <thead>\n",
       "    <tr style=\"text-align: right;\">\n",
       "      <th></th>\n",
       "      <th>model_name</th>\n",
       "      <th>r2_score</th>\n",
       "      <th>mse</th>\n",
       "      <th>mae</th>\n",
       "    </tr>\n",
       "  </thead>\n",
       "  <tbody>\n",
       "    <tr>\n",
       "      <th>10</th>\n",
       "      <td>xgboost</td>\n",
       "      <td>0.896189</td>\n",
       "      <td>1.053062</td>\n",
       "      <td>0.465643</td>\n",
       "    </tr>\n",
       "  </tbody>\n",
       "</table>\n",
       "</div>"
      ],
      "text/plain": [
       "   model_name  r2_score       mse       mae\n",
       "10    xgboost  0.896189  1.053062  0.465643"
      ]
     },
     "execution_count": 43,
     "metadata": {},
     "output_type": "execute_result"
    }
   ],
   "source": [
    "model_output_OHE.head(1)"
   ]
  },
  {
   "cell_type": "code",
   "execution_count": 44,
   "id": "37fcc8a2",
   "metadata": {},
   "outputs": [
    {
     "data": {
      "text/html": [
       "<div>\n",
       "<style scoped>\n",
       "    .dataframe tbody tr th:only-of-type {\n",
       "        vertical-align: middle;\n",
       "    }\n",
       "\n",
       "    .dataframe tbody tr th {\n",
       "        vertical-align: top;\n",
       "    }\n",
       "\n",
       "    .dataframe thead th {\n",
       "        text-align: right;\n",
       "    }\n",
       "</style>\n",
       "<table border=\"1\" class=\"dataframe\">\n",
       "  <thead>\n",
       "    <tr style=\"text-align: right;\">\n",
       "      <th></th>\n",
       "      <th>model_name</th>\n",
       "      <th>r2_score</th>\n",
       "      <th>mse</th>\n",
       "      <th>mae</th>\n",
       "    </tr>\n",
       "  </thead>\n",
       "  <tbody>\n",
       "    <tr>\n",
       "      <th>6</th>\n",
       "      <td>extra_trees</td>\n",
       "      <td>0.902844</td>\n",
       "      <td>0.967116</td>\n",
       "      <td>0.427664</td>\n",
       "    </tr>\n",
       "  </tbody>\n",
       "</table>\n",
       "</div>"
      ],
      "text/plain": [
       "    model_name  r2_score       mse       mae\n",
       "6  extra_trees  0.902844  0.967116  0.427664"
      ]
     },
     "execution_count": 44,
     "metadata": {},
     "output_type": "execute_result"
    }
   ],
   "source": [
    "model_output_target.head(1)"
   ]
  }
 ],
 "metadata": {
  "kernelspec": {
   "display_name": "Python 3",
   "language": "python",
   "name": "python3"
  },
  "language_info": {
   "codemirror_mode": {
    "name": "ipython",
    "version": 3
   },
   "file_extension": ".py",
   "mimetype": "text/x-python",
   "name": "python",
   "nbconvert_exporter": "python",
   "pygments_lexer": "ipython3",
   "version": "3.13.1"
  }
 },
 "nbformat": 4,
 "nbformat_minor": 5
}
