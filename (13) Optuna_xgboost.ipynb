{
 "cells": [
  {
   "cell_type": "code",
   "execution_count": 1,
   "id": "f1081a02",
   "metadata": {},
   "outputs": [],
   "source": [
    "import pandas as pd\n",
    "import numpy as np\n",
    "import matplotlib.pyplot as plt\n",
    "import seaborn as sns\n",
    "\n",
    "import category_encoders as ce\n",
    "from sklearn.pipeline import Pipeline\n",
    "from sklearn.preprocessing import OneHotEncoder,StandardScaler,OrdinalEncoder,TargetEncoder\n",
    "from sklearn.compose import ColumnTransformer\n",
    "from sklearn.impute import SimpleImputer\n",
    "from sklearn.linear_model import LinearRegression\n",
    "from sklearn.model_selection import train_test_split,GridSearchCV,cross_val_score,KFold,RandomizedSearchCV\n",
    "from lightgbm import LGBMRegressor\n",
    "from sklearn.linear_model import LinearRegression, Ridge, Lasso\n",
    "from sklearn.svm import SVR\n",
    "from sklearn.tree import DecisionTreeRegressor\n",
    "from sklearn.ensemble import RandomForestRegressor, ExtraTreesRegressor, GradientBoostingRegressor, AdaBoostRegressor\n",
    "from sklearn.neural_network import MLPRegressor\n",
    "from xgboost import XGBRegressor\n",
    "import xgboost as xgb\n",
    "from sklearn.metrics import mean_squared_error,mean_absolute_error,r2_score\n",
    "import optuna\n",
    "from plotly.io import show\n",
    "\n",
    "pd.set_option('display.max_columns', None)"
   ]
  },
  {
   "cell_type": "code",
   "execution_count": 2,
   "id": "124e3828",
   "metadata": {},
   "outputs": [],
   "source": [
    "df = pd.read_csv('outliers_treated.csv')"
   ]
  },
  {
   "cell_type": "code",
   "execution_count": 3,
   "id": "98809c0e",
   "metadata": {},
   "outputs": [],
   "source": [
    "df.drop(columns=['Unnamed: 0','price_per_sqft','areaWithType','outliers','area_room_ratio','store room','pooja room','others','area'],inplace=True)\n",
    "\n",
    "df['luxury_cat'] = pd.cut(df['luxury_score'],bins=[-1,50,150,175],labels=['low','medium','high'])\n",
    "df['floorNum_cat'] = pd.cut(df['floorNum'],bins=[-1,3,10,51],labels=['low','medium','high'])\n",
    "\n",
    "df.drop(columns=['luxury_score','facing','floorNum','society'],inplace=True)\n",
    "\n",
    "df.loc[df['agePossession'] == 'Undefined','agePossession'] = np.nan\n",
    "\n",
    "df['furnishing_type'] = df['furnishing_type'].replace({0:'unfurnished',1:'semi_furnished',2:'furnished'})"
   ]
  },
  {
   "cell_type": "code",
   "execution_count": 4,
   "id": "5f2a0f09",
   "metadata": {},
   "outputs": [],
   "source": [
    "df['property_type'] = df['property_type'].astype('category')\n",
    "df['sector'] = df['sector'].astype('category')\n",
    "df['balcony'] = df['balcony'].astype('category')\n",
    "df['agePossession'] = df['agePossession'].astype('category')\n",
    "df['furnishing_type'] = df['furnishing_type'].astype('category')"
   ]
  },
  {
   "cell_type": "code",
   "execution_count": 5,
   "id": "8c0d9f62",
   "metadata": {},
   "outputs": [],
   "source": [
    "x = df.drop(columns=['price'])\n",
    "y = df['price']"
   ]
  },
  {
   "cell_type": "code",
   "execution_count": 178,
   "id": "59ed1c92",
   "metadata": {},
   "outputs": [],
   "source": [
    "y = np.log1p(y)"
   ]
  },
  {
   "cell_type": "code",
   "execution_count": 179,
   "id": "09e866a8",
   "metadata": {},
   "outputs": [],
   "source": [
    "x_train, x_test, y_train, y_test = train_test_split(x, y, test_size=0.2, random_state=0)"
   ]
  },
  {
   "cell_type": "code",
   "execution_count": 180,
   "id": "8a2d58fa",
   "metadata": {},
   "outputs": [],
   "source": [
    "missing_pipe_cat_age = Pipeline([\n",
    "    ('Missing_Cat', SimpleImputer(strategy='most_frequent')),\n",
    "    ('Onehot',OneHotEncoder(drop='first',handle_unknown='ignore'))\n",
    "    ])\n",
    "\n",
    "missing_pipe_cat_floor = Pipeline([\n",
    "    ('Missing_Cat', SimpleImputer(strategy='most_frequent')),\n",
    "    ('ordinal',OrdinalEncoder())\n",
    "    ])\n",
    "\n",
    "missing_pipe_num = Pipeline([\n",
    "    ('Missing_Num', SimpleImputer(strategy='median')),\n",
    "    ('scaling',StandardScaler())\n",
    "     ])\n",
    "\n",
    "\n",
    "Target_preprocessor = ColumnTransformer([\n",
    "    ('missing_pipe_cat_age',missing_pipe_cat_age,['agePossession']),\n",
    "    ('missing_pipe_cat_floor',missing_pipe_cat_floor,['floorNum_cat']),\n",
    "    ('missing_pipe_num',missing_pipe_num,[ 'super_built_up_area','built_up_area', 'carpet_area']),\n",
    "    ('ordinal',OrdinalEncoder(),['balcony','luxury_cat']),\n",
    "    ('onehot',OneHotEncoder(drop='first', handle_unknown='ignore'), ['furnishing_type','property_type']),\n",
    "    # ('target',ce.TargetEncoder(),['sector']),\n",
    "    ('scaling',StandardScaler(),['bedRoom', 'bathroom', 'study room', 'servant room'])\n",
    "    ],remainder='passthrough')"
   ]
  },
  {
   "cell_type": "code",
   "execution_count": 181,
   "id": "b176d37f",
   "metadata": {},
   "outputs": [],
   "source": [
    "def objective(trial,preprocessor):\n",
    "\n",
    "    regressor_name = trial.suggest_categorical('regressor',['xgboost'])\n",
    "\n",
    "\n",
    "    if regressor_name == 'xgboost':\n",
    "\n",
    "       gamma = trial.suggest_int('model__gamma',0,8)\n",
    "       reg_lambda = trial.suggest_float('model__reg_lambda',0.1,10)\n",
    "       n_estimators = trial.suggest_int('model__n_estimators',50,500)\n",
    "       eta = trial.suggest_float('model__eta',0.01,1)\n",
    "       min_child_weight = trial.suggest_int('model__min_child_weight',1,50)\n",
    "       subsample = trial.suggest_float('model__subsample',0.5,1.0)\n",
    "       colsample_bytree = trial.suggest_float('model__colsample_bytree',0.5,1.0)\n",
    "       max_depth = trial.suggest_int('model__max_depth',3,10)\n",
    "       tree_method = trial.suggest_categorical('model__tree_method',['hist'])\n",
    "       max_bin = trial.suggest_int('model__max_bin',64,256)\n",
    "\n",
    "\n",
    "\n",
    "       model_pipe = Pipeline([\n",
    "       ('target',ce.TargetEncoder(cols=['sector'])),\n",
    "       ('preprocessor',preprocessor),\n",
    "       ('model',XGBRegressor(random_state=0,gamma=gamma,reg_lambda=reg_lambda,n_estimators=n_estimators,eta=eta,\n",
    "                            min_child_weight=min_child_weight,max_bin=max_bin,\n",
    "                            subsample=subsample,colsample_bytree=colsample_bytree,max_depth=max_depth,tree_method=tree_method))    \n",
    "\n",
    "       ])\n",
    "\n",
    "       \n",
    "       \n",
    "       trial.set_user_attr('model',model_pipe)\n",
    "\n",
    "       cv_score = cross_val_score(model_pipe,x_train,y_train,cv=KFold(n_splits=5,shuffle=True,random_state=0),\n",
    "                                  scoring='r2')\n",
    "       \n",
    "       trial.set_user_attr('cv_std',cv_score.std())\n",
    "\n",
    "       return cv_score.mean()\n",
    "       "
   ]
  },
  {
   "cell_type": "code",
   "execution_count": 182,
   "id": "f1ff7d0d",
   "metadata": {},
   "outputs": [
    {
     "name": "stderr",
     "output_type": "stream",
     "text": [
      "[I 2025-08-29 10:01:51,416] A new study created in memory with name: no-name-06ae7ab7-97e2-4062-ad3e-d448935741ae\n",
      "[I 2025-08-29 10:01:51,889] Trial 0 finished with value: 0.7879698564870256 and parameters: {'regressor': 'xgboost', 'model__gamma': 4, 'model__reg_lambda': 7.180374727086953, 'model__n_estimators': 321, 'model__eta': 0.5494343511669278, 'model__min_child_weight': 22, 'model__subsample': 0.8229470565333281, 'model__colsample_bytree': 0.7187936056313462, 'model__max_depth': 10, 'model__tree_method': 'hist', 'model__max_bin': 249}. Best is trial 0 with value: 0.7879698564870256.\n",
      "[I 2025-08-29 10:01:52,282] Trial 1 finished with value: 0.7847614416503703 and parameters: {'regressor': 'xgboost', 'model__gamma': 3, 'model__reg_lambda': 7.9380778770183795, 'model__n_estimators': 288, 'model__eta': 0.572364115482993, 'model__min_child_weight': 47, 'model__subsample': 0.5355180290989434, 'model__colsample_bytree': 0.5435646498507704, 'model__max_depth': 3, 'model__tree_method': 'hist', 'model__max_bin': 224}. Best is trial 0 with value: 0.7879698564870256.\n",
      "[I 2025-08-29 10:01:52,793] Trial 2 finished with value: 0.760838351273754 and parameters: {'regressor': 'xgboost', 'model__gamma': 7, 'model__reg_lambda': 8.713120267643509, 'model__n_estimators': 491, 'model__eta': 0.8011669785745563, 'model__min_child_weight': 24, 'model__subsample': 0.8902645881432277, 'model__colsample_bytree': 0.5591372129344666, 'model__max_depth': 8, 'model__tree_method': 'hist', 'model__max_bin': 91}. Best is trial 0 with value: 0.7879698564870256.\n",
      "[I 2025-08-29 10:01:53,182] Trial 3 finished with value: 0.7714591734941119 and parameters: {'regressor': 'xgboost', 'model__gamma': 8, 'model__reg_lambda': 5.266298385325709, 'model__n_estimators': 237, 'model__eta': 0.2719100559835807, 'model__min_child_weight': 39, 'model__subsample': 0.7280751661082743, 'model__colsample_bytree': 0.7842169744343243, 'model__max_depth': 3, 'model__tree_method': 'hist', 'model__max_bin': 183}. Best is trial 0 with value: 0.7879698564870256.\n",
      "[I 2025-08-29 10:01:53,695] Trial 4 finished with value: 0.7669145681959568 and parameters: {'regressor': 'xgboost', 'model__gamma': 5, 'model__reg_lambda': 6.207646569060094, 'model__n_estimators': 475, 'model__eta': 0.6850020961124486, 'model__min_child_weight': 18, 'model__subsample': 0.7185159768996707, 'model__colsample_bytree': 0.8488155979636325, 'model__max_depth': 3, 'model__tree_method': 'hist', 'model__max_bin': 192}. Best is trial 0 with value: 0.7879698564870256.\n",
      "[I 2025-08-29 10:01:54,002] Trial 5 finished with value: 0.7846969607636827 and parameters: {'regressor': 'xgboost', 'model__gamma': 6, 'model__reg_lambda': 2.1827873546310252, 'model__n_estimators': 108, 'model__eta': 0.322274067414942, 'model__min_child_weight': 19, 'model__subsample': 0.7850983852089398, 'model__colsample_bytree': 0.7193007567311602, 'model__max_depth': 10, 'model__tree_method': 'hist', 'model__max_bin': 83}. Best is trial 0 with value: 0.7879698564870256.\n",
      "[I 2025-08-29 10:01:54,442] Trial 6 finished with value: 0.8251896926762079 and parameters: {'regressor': 'xgboost', 'model__gamma': 1, 'model__reg_lambda': 1.696964227061463, 'model__n_estimators': 344, 'model__eta': 0.2607586865143843, 'model__min_child_weight': 24, 'model__subsample': 0.6222127960008014, 'model__colsample_bytree': 0.5794847918227599, 'model__max_depth': 3, 'model__tree_method': 'hist', 'model__max_bin': 190}. Best is trial 6 with value: 0.8251896926762079.\n",
      "[I 2025-08-29 10:01:54,799] Trial 7 finished with value: 0.8011866482376677 and parameters: {'regressor': 'xgboost', 'model__gamma': 1, 'model__reg_lambda': 2.0461653806325297, 'model__n_estimators': 216, 'model__eta': 0.8227832975494558, 'model__min_child_weight': 5, 'model__subsample': 0.918972453749402, 'model__colsample_bytree': 0.5480492039469815, 'model__max_depth': 10, 'model__tree_method': 'hist', 'model__max_bin': 154}. Best is trial 6 with value: 0.8251896926762079.\n",
      "[I 2025-08-29 10:01:55,250] Trial 8 finished with value: 0.758946875526633 and parameters: {'regressor': 'xgboost', 'model__gamma': 8, 'model__reg_lambda': 6.087970645475955, 'model__n_estimators': 383, 'model__eta': 0.04879591433177747, 'model__min_child_weight': 15, 'model__subsample': 0.5600982806065844, 'model__colsample_bytree': 0.6480700987610725, 'model__max_depth': 3, 'model__tree_method': 'hist', 'model__max_bin': 125}. Best is trial 6 with value: 0.8251896926762079.\n",
      "[I 2025-08-29 10:01:55,694] Trial 9 finished with value: 0.8043519701122637 and parameters: {'regressor': 'xgboost', 'model__gamma': 3, 'model__reg_lambda': 0.7350602138529652, 'model__n_estimators': 362, 'model__eta': 0.5709354396645094, 'model__min_child_weight': 14, 'model__subsample': 0.7616240267333498, 'model__colsample_bytree': 0.5469702553792208, 'model__max_depth': 7, 'model__tree_method': 'hist', 'model__max_bin': 243}. Best is trial 6 with value: 0.8251896926762079.\n",
      "[I 2025-08-29 10:01:56,057] Trial 10 finished with value: 0.7853133768103716 and parameters: {'regressor': 'xgboost', 'model__gamma': 0, 'model__reg_lambda': 3.5185153598565035, 'model__n_estimators': 59, 'model__eta': 0.02984538474270032, 'model__min_child_weight': 33, 'model__subsample': 0.6198783209255145, 'model__colsample_bytree': 0.9266444012048564, 'model__max_depth': 5, 'model__tree_method': 'hist', 'model__max_bin': 141}. Best is trial 6 with value: 0.8251896926762079.\n",
      "[I 2025-08-29 10:01:56,525] Trial 11 finished with value: 0.8232937779923699 and parameters: {'regressor': 'xgboost', 'model__gamma': 2, 'model__reg_lambda': 0.15002965992794848, 'model__n_estimators': 384, 'model__eta': 0.34079546810724504, 'model__min_child_weight': 7, 'model__subsample': 0.656373554529317, 'model__colsample_bytree': 0.6313912747612273, 'model__max_depth': 6, 'model__tree_method': 'hist', 'model__max_bin': 214}. Best is trial 6 with value: 0.8251896926762079.\n",
      "[I 2025-08-29 10:01:57,046] Trial 12 finished with value: 0.8368521563006073 and parameters: {'regressor': 'xgboost', 'model__gamma': 1, 'model__reg_lambda': 0.5441195751509242, 'model__n_estimators': 413, 'model__eta': 0.3284648919075496, 'model__min_child_weight': 2, 'model__subsample': 0.6419740102674933, 'model__colsample_bytree': 0.6418204489745449, 'model__max_depth': 5, 'model__tree_method': 'hist', 'model__max_bin': 203}. Best is trial 12 with value: 0.8368521563006073.\n",
      "[I 2025-08-29 10:01:57,817] Trial 13 finished with value: 0.8662965388935776 and parameters: {'regressor': 'xgboost', 'model__gamma': 0, 'model__reg_lambda': 3.546857335881467, 'model__n_estimators': 423, 'model__eta': 0.2123449375972415, 'model__min_child_weight': 31, 'model__subsample': 0.6327055219254785, 'model__colsample_bytree': 0.6547521889316199, 'model__max_depth': 5, 'model__tree_method': 'hist', 'model__max_bin': 205}. Best is trial 13 with value: 0.8662965388935776.\n",
      "[I 2025-08-29 10:01:58,599] Trial 14 finished with value: 0.8676946050026754 and parameters: {'regressor': 'xgboost', 'model__gamma': 0, 'model__reg_lambda': 4.0527348748092855, 'model__n_estimators': 411, 'model__eta': 0.17045336542386796, 'model__min_child_weight': 33, 'model__subsample': 0.6835199756452834, 'model__colsample_bytree': 0.646075362584032, 'model__max_depth': 5, 'model__tree_method': 'hist', 'model__max_bin': 218}. Best is trial 14 with value: 0.8676946050026754.\n",
      "[I 2025-08-29 10:01:59,387] Trial 15 finished with value: 0.8669939743165985 and parameters: {'regressor': 'xgboost', 'model__gamma': 0, 'model__reg_lambda': 3.9795225610714997, 'model__n_estimators': 436, 'model__eta': 0.14698726053886813, 'model__min_child_weight': 33, 'model__subsample': 0.5045603838980645, 'model__colsample_bytree': 0.7461652295101296, 'model__max_depth': 5, 'model__tree_method': 'hist', 'model__max_bin': 166}. Best is trial 14 with value: 0.8676946050026754.\n",
      "[I 2025-08-29 10:02:00,261] Trial 16 finished with value: 0.8664981622016285 and parameters: {'regressor': 'xgboost', 'model__gamma': 0, 'model__reg_lambda': 3.7056941570184034, 'model__n_estimators': 448, 'model__eta': 0.14215016334039055, 'model__min_child_weight': 41, 'model__subsample': 0.5084284815894832, 'model__colsample_bytree': 0.8064266891656655, 'model__max_depth': 6, 'model__tree_method': 'hist', 'model__max_bin': 165}. Best is trial 14 with value: 0.8676946050026754.\n",
      "[I 2025-08-29 10:02:00,627] Trial 17 finished with value: 0.8104440457641784 and parameters: {'regressor': 'xgboost', 'model__gamma': 2, 'model__reg_lambda': 9.976948667030264, 'model__n_estimators': 213, 'model__eta': 0.40828232570812323, 'model__min_child_weight': 34, 'model__subsample': 0.8377726224190132, 'model__colsample_bytree': 0.9958466642947553, 'model__max_depth': 4, 'model__tree_method': 'hist', 'model__max_bin': 109}. Best is trial 14 with value: 0.8676946050026754.\n",
      "[I 2025-08-29 10:02:01,051] Trial 18 finished with value: 0.811435721588936 and parameters: {'regressor': 'xgboost', 'model__gamma': 2, 'model__reg_lambda': 5.022810347536194, 'model__n_estimators': 302, 'model__eta': 0.13702316862508376, 'model__min_child_weight': 50, 'model__subsample': 0.5737232614736515, 'model__colsample_bytree': 0.8739362408051322, 'model__max_depth': 8, 'model__tree_method': 'hist', 'model__max_bin': 168}. Best is trial 14 with value: 0.8676946050026754.\n",
      "[I 2025-08-29 10:02:01,565] Trial 19 finished with value: 0.8045073190312338 and parameters: {'regressor': 'xgboost', 'model__gamma': 3, 'model__reg_lambda': 4.477960663581572, 'model__n_estimators': 497, 'model__eta': 0.43852496080161735, 'model__min_child_weight': 29, 'model__subsample': 0.6950473329590495, 'model__colsample_bytree': 0.7180303527422075, 'model__max_depth': 7, 'model__tree_method': 'hist', 'model__max_bin': 231}. Best is trial 14 with value: 0.8676946050026754.\n",
      "[I 2025-08-29 10:02:02,054] Trial 20 finished with value: 0.7993195012145835 and parameters: {'regressor': 'xgboost', 'model__gamma': 5, 'model__reg_lambda': 2.673838719254369, 'model__n_estimators': 439, 'model__eta': 0.1162046873686231, 'model__min_child_weight': 40, 'model__subsample': 0.9782993201753992, 'model__colsample_bytree': 0.501132627839294, 'model__max_depth': 4, 'model__tree_method': 'hist', 'model__max_bin': 136}. Best is trial 14 with value: 0.8676946050026754.\n",
      "[I 2025-08-29 10:02:02,928] Trial 21 finished with value: 0.8667691149418548 and parameters: {'regressor': 'xgboost', 'model__gamma': 0, 'model__reg_lambda': 3.90401281752883, 'model__n_estimators': 454, 'model__eta': 0.16175597318129598, 'model__min_child_weight': 40, 'model__subsample': 0.5037677192481524, 'model__colsample_bytree': 0.8134047409692431, 'model__max_depth': 6, 'model__tree_method': 'hist', 'model__max_bin': 163}. Best is trial 14 with value: 0.8676946050026754.\n",
      "[I 2025-08-29 10:02:03,741] Trial 22 finished with value: 0.8684993322895744 and parameters: {'regressor': 'xgboost', 'model__gamma': 0, 'model__reg_lambda': 4.282864224293851, 'model__n_estimators': 402, 'model__eta': 0.18797317515929063, 'model__min_child_weight': 37, 'model__subsample': 0.5122324948459864, 'model__colsample_bytree': 0.7748887342675932, 'model__max_depth': 6, 'model__tree_method': 'hist', 'model__max_bin': 174}. Best is trial 22 with value: 0.8684993322895744.\n",
      "[I 2025-08-29 10:02:04,210] Trial 23 finished with value: 0.7952982104581804 and parameters: {'regressor': 'xgboost', 'model__gamma': 1, 'model__reg_lambda': 5.699362113684087, 'model__n_estimators': 398, 'model__eta': 0.9558062141118047, 'model__min_child_weight': 36, 'model__subsample': 0.5743684086491269, 'model__colsample_bytree': 0.7635644866710823, 'model__max_depth': 4, 'model__tree_method': 'hist', 'model__max_bin': 185}. Best is trial 22 with value: 0.8684993322895744.\n",
      "[I 2025-08-29 10:02:04,894] Trial 24 finished with value: 0.8388861256562372 and parameters: {'regressor': 'xgboost', 'model__gamma': 0, 'model__reg_lambda': 4.6925515158543165, 'model__n_estimators': 343, 'model__eta': 0.012422355293202875, 'model__min_child_weight': 44, 'model__subsample': 0.5919861937086568, 'model__colsample_bytree': 0.6954368747399389, 'model__max_depth': 5, 'model__tree_method': 'hist', 'model__max_bin': 150}. Best is trial 22 with value: 0.8684993322895744.\n",
      "[I 2025-08-29 10:02:05,290] Trial 25 finished with value: 0.8271682313196889 and parameters: {'regressor': 'xgboost', 'model__gamma': 1, 'model__reg_lambda': 2.742800821019814, 'model__n_estimators': 268, 'model__eta': 0.23237453839511804, 'model__min_child_weight': 30, 'model__subsample': 0.6852784628835681, 'model__colsample_bytree': 0.6902883861386183, 'model__max_depth': 7, 'model__tree_method': 'hist', 'model__max_bin': 64}. Best is trial 22 with value: 0.8684993322895744.\n",
      "[I 2025-08-29 10:02:05,637] Trial 26 finished with value: 0.7978846398405918 and parameters: {'regressor': 'xgboost', 'model__gamma': 2, 'model__reg_lambda': 6.683322302574826, 'model__n_estimators': 165, 'model__eta': 0.4618918261569548, 'model__min_child_weight': 28, 'model__subsample': 0.540075004763925, 'model__colsample_bytree': 0.6068272907894853, 'model__max_depth': 8, 'model__tree_method': 'hist', 'model__max_bin': 174}. Best is trial 22 with value: 0.8684993322895744.\n",
      "[I 2025-08-29 10:02:06,397] Trial 27 finished with value: 0.8674257277318083 and parameters: {'regressor': 'xgboost', 'model__gamma': 0, 'model__reg_lambda': 4.432237144172439, 'model__n_estimators': 372, 'model__eta': 0.09621560417683961, 'model__min_child_weight': 36, 'model__subsample': 0.5009104920770697, 'model__colsample_bytree': 0.7586192968563699, 'model__max_depth': 6, 'model__tree_method': 'hist', 'model__max_bin': 120}. Best is trial 22 with value: 0.8684993322895744.\n",
      "[I 2025-08-29 10:02:06,874] Trial 28 finished with value: 0.8274169872912163 and parameters: {'regressor': 'xgboost', 'model__gamma': 1, 'model__reg_lambda': 3.0397272452114024, 'model__n_estimators': 364, 'model__eta': 0.07217773743165373, 'model__min_child_weight': 37, 'model__subsample': 0.5949841284188863, 'model__colsample_bytree': 0.8380331947645152, 'model__max_depth': 6, 'model__tree_method': 'hist', 'model__max_bin': 118}. Best is trial 22 with value: 0.8684993322895744.\n",
      "[I 2025-08-29 10:02:07,313] Trial 29 finished with value: 0.8011949455707322 and parameters: {'regressor': 'xgboost', 'model__gamma': 4, 'model__reg_lambda': 7.377058864377693, 'model__n_estimators': 336, 'model__eta': 0.20815191173916614, 'model__min_child_weight': 44, 'model__subsample': 0.8148750859096028, 'model__colsample_bytree': 0.7497768006619386, 'model__max_depth': 9, 'model__tree_method': 'hist', 'model__max_bin': 251}. Best is trial 22 with value: 0.8684993322895744.\n",
      "[I 2025-08-29 10:02:07,736] Trial 30 finished with value: 0.7949837778762179 and parameters: {'regressor': 'xgboost', 'model__gamma': 4, 'model__reg_lambda': 1.3932132966236446, 'model__n_estimators': 309, 'model__eta': 0.38134180609795676, 'model__min_child_weight': 27, 'model__subsample': 0.538002111021634, 'model__colsample_bytree': 0.8770224065826244, 'model__max_depth': 7, 'model__tree_method': 'hist', 'model__max_bin': 236}. Best is trial 22 with value: 0.8684993322895744.\n",
      "[I 2025-08-29 10:02:08,516] Trial 31 finished with value: 0.8663367401659345 and parameters: {'regressor': 'xgboost', 'model__gamma': 0, 'model__reg_lambda': 4.132911585801311, 'model__n_estimators': 416, 'model__eta': 0.0875116662801071, 'model__min_child_weight': 34, 'model__subsample': 0.5050603028466071, 'model__colsample_bytree': 0.7407068803413571, 'model__max_depth': 5, 'model__tree_method': 'hist', 'model__max_bin': 138}. Best is trial 22 with value: 0.8684993322895744.\n",
      "[I 2025-08-29 10:02:09,392] Trial 32 finished with value: 0.867671197612621 and parameters: {'regressor': 'xgboost', 'model__gamma': 0, 'model__reg_lambda': 4.723331360949031, 'model__n_estimators': 460, 'model__eta': 0.18187262189073286, 'model__min_child_weight': 44, 'model__subsample': 0.539955821089041, 'model__colsample_bytree': 0.7784064788710515, 'model__max_depth': 6, 'model__tree_method': 'hist', 'model__max_bin': 108}. Best is trial 22 with value: 0.8684993322895744.\n",
      "[I 2025-08-29 10:02:09,900] Trial 33 finished with value: 0.8218435639707249 and parameters: {'regressor': 'xgboost', 'model__gamma': 1, 'model__reg_lambda': 5.661851159755866, 'model__n_estimators': 465, 'model__eta': 0.1819480727687064, 'model__min_child_weight': 43, 'model__subsample': 0.5441660548344036, 'model__colsample_bytree': 0.7903135150956034, 'model__max_depth': 6, 'model__tree_method': 'hist', 'model__max_bin': 104}. Best is trial 22 with value: 0.8684993322895744.\n",
      "[I 2025-08-29 10:02:10,774] Trial 34 finished with value: 0.8617292592181125 and parameters: {'regressor': 'xgboost', 'model__gamma': 0, 'model__reg_lambda': 4.783230514906483, 'model__n_estimators': 378, 'model__eta': 0.27558132622585874, 'model__min_child_weight': 48, 'model__subsample': 0.5910404864197042, 'model__colsample_bytree': 0.6698969298767968, 'model__max_depth': 6, 'model__tree_method': 'hist', 'model__max_bin': 92}. Best is trial 22 with value: 0.8684993322895744.\n",
      "[I 2025-08-29 10:02:11,302] Trial 35 finished with value: 0.7848422873398547 and parameters: {'regressor': 'xgboost', 'model__gamma': 2, 'model__reg_lambda': 5.390231865124046, 'model__n_estimators': 492, 'model__eta': 0.6455208260002544, 'model__min_child_weight': 46, 'model__subsample': 0.5311601106796792, 'model__colsample_bytree': 0.7774962299472538, 'model__max_depth': 4, 'model__tree_method': 'hist', 'model__max_bin': 124}. Best is trial 22 with value: 0.8684993322895744.\n",
      "[I 2025-08-29 10:02:11,763] Trial 36 finished with value: 0.8247193029558716 and parameters: {'regressor': 'xgboost', 'model__gamma': 1, 'model__reg_lambda': 3.08661403375544, 'model__n_estimators': 401, 'model__eta': 0.5114482234511247, 'model__min_child_weight': 38, 'model__subsample': 0.6808653310664723, 'model__colsample_bytree': 0.8298568701671594, 'model__max_depth': 7, 'model__tree_method': 'hist', 'model__max_bin': 80}. Best is trial 22 with value: 0.8684993322895744.\n",
      "[I 2025-08-29 10:02:12,259] Trial 37 finished with value: 0.8073270608274742 and parameters: {'regressor': 'xgboost', 'model__gamma': 3, 'model__reg_lambda': 6.822240355850699, 'model__n_estimators': 457, 'model__eta': 0.2896162068837066, 'model__min_child_weight': 36, 'model__subsample': 0.734670274097015, 'model__colsample_bytree': 0.7073700549568346, 'model__max_depth': 6, 'model__tree_method': 'hist', 'model__max_bin': 222}. Best is trial 22 with value: 0.8684993322895744.\n",
      "[I 2025-08-29 10:02:13,025] Trial 38 finished with value: 0.87002772843411 and parameters: {'regressor': 'xgboost', 'model__gamma': 0, 'model__reg_lambda': 4.361315330169133, 'model__n_estimators': 268, 'model__eta': 0.0968175961649571, 'model__min_child_weight': 24, 'model__subsample': 0.606919413909738, 'model__colsample_bytree': 0.8716380870501153, 'model__max_depth': 9, 'model__tree_method': 'hist', 'model__max_bin': 98}. Best is trial 38 with value: 0.87002772843411.\n",
      "[I 2025-08-29 10:02:13,450] Trial 39 finished with value: 0.8263745995538379 and parameters: {'regressor': 'xgboost', 'model__gamma': 1, 'model__reg_lambda': 6.169906624321845, 'model__n_estimators': 259, 'model__eta': 0.23829993515683165, 'model__min_child_weight': 23, 'model__subsample': 0.6621661024308599, 'model__colsample_bytree': 0.9015996742267681, 'model__max_depth': 9, 'model__tree_method': 'hist', 'model__max_bin': 102}. Best is trial 38 with value: 0.87002772843411.\n",
      "[I 2025-08-29 10:02:13,842] Trial 40 finished with value: 0.7799810188944509 and parameters: {'regressor': 'xgboost', 'model__gamma': 5, 'model__reg_lambda': 7.578447294190465, 'model__n_estimators': 163, 'model__eta': 0.3681440726308753, 'model__min_child_weight': 21, 'model__subsample': 0.6082129116706755, 'model__colsample_bytree': 0.962024008058126, 'model__max_depth': 9, 'model__tree_method': 'hist', 'model__max_bin': 70}. Best is trial 38 with value: 0.87002772843411.\n",
      "[I 2025-08-29 10:02:14,648] Trial 41 finished with value: 0.8652339850248673 and parameters: {'regressor': 'xgboost', 'model__gamma': 0, 'model__reg_lambda': 4.4793671659449465, 'model__n_estimators': 278, 'model__eta': 0.09229678526514322, 'model__min_child_weight': 42, 'model__subsample': 0.5559707229088684, 'model__colsample_bytree': 0.8625411844931572, 'model__max_depth': 8, 'model__tree_method': 'hist', 'model__max_bin': 90}. Best is trial 38 with value: 0.87002772843411.\n",
      "[I 2025-08-29 10:02:15,273] Trial 42 finished with value: 0.8670618738755371 and parameters: {'regressor': 'xgboost', 'model__gamma': 0, 'model__reg_lambda': 5.036378322037324, 'model__n_estimators': 233, 'model__eta': 0.06700825947335073, 'model__min_child_weight': 26, 'model__subsample': 0.5276486075646604, 'model__colsample_bytree': 0.8054799402388892, 'model__max_depth': 7, 'model__tree_method': 'hist', 'model__max_bin': 110}. Best is trial 38 with value: 0.87002772843411.\n",
      "[I 2025-08-29 10:02:15,934] Trial 43 finished with value: 0.8674147734996229 and parameters: {'regressor': 'xgboost', 'model__gamma': 0, 'model__reg_lambda': 4.308878242448612, 'model__n_estimators': 322, 'model__eta': 0.19259637167657007, 'model__min_child_weight': 19, 'model__subsample': 0.562420445672117, 'model__colsample_bytree': 0.7338844699015178, 'model__max_depth': 5, 'model__tree_method': 'hist', 'model__max_bin': 116}. Best is trial 38 with value: 0.87002772843411.\n",
      "[I 2025-08-29 10:02:16,445] Trial 44 finished with value: 0.7705734088191962 and parameters: {'regressor': 'xgboost', 'model__gamma': 7, 'model__reg_lambda': 3.1655720447119258, 'model__n_estimators': 476, 'model__eta': 0.290579227917353, 'model__min_child_weight': 31, 'model__subsample': 0.575476414498363, 'model__colsample_bytree': 0.9081756804509822, 'model__max_depth': 6, 'model__tree_method': 'hist', 'model__max_bin': 149}. Best is trial 38 with value: 0.87002772843411.\n",
      "[I 2025-08-29 10:02:16,974] Trial 45 finished with value: 0.8304554162339685 and parameters: {'regressor': 'xgboost', 'model__gamma': 1, 'model__reg_lambda': 2.3369857204306097, 'model__n_estimators': 364, 'model__eta': 0.026888371615560125, 'model__min_child_weight': 13, 'model__subsample': 0.5265469413300474, 'model__colsample_bytree': 0.6112736317838031, 'model__max_depth': 10, 'model__tree_method': 'hist', 'model__max_bin': 129}. Best is trial 38 with value: 0.87002772843411.\n",
      "[I 2025-08-29 10:02:17,764] Trial 46 finished with value: 0.8716929064405706 and parameters: {'regressor': 'xgboost', 'model__gamma': 0, 'model__reg_lambda': 5.498604000900143, 'model__n_estimators': 424, 'model__eta': 0.10386761354664092, 'model__min_child_weight': 25, 'model__subsample': 0.6204387385759922, 'model__colsample_bytree': 0.7698146999403133, 'model__max_depth': 5, 'model__tree_method': 'hist', 'model__max_bin': 201}. Best is trial 46 with value: 0.8716929064405706.\n",
      "[I 2025-08-29 10:02:18,290] Trial 47 finished with value: 0.8302005115877409 and parameters: {'regressor': 'xgboost', 'model__gamma': 1, 'model__reg_lambda': 5.552965434154269, 'model__n_estimators': 480, 'model__eta': 0.1846834022533717, 'model__min_child_weight': 25, 'model__subsample': 0.6472569260435436, 'model__colsample_bytree': 0.7805504258139265, 'model__max_depth': 5, 'model__tree_method': 'hist', 'model__max_bin': 199}. Best is trial 46 with value: 0.8716929064405706.\n",
      "[I 2025-08-29 10:02:18,990] Trial 48 finished with value: 0.8426683416012979 and parameters: {'regressor': 'xgboost', 'model__gamma': 0, 'model__reg_lambda': 6.619580892697835, 'model__n_estimators': 396, 'model__eta': 0.7860791218138811, 'model__min_child_weight': 16, 'model__subsample': 0.707505327091518, 'model__colsample_bytree': 0.6745641677693464, 'model__max_depth': 4, 'model__tree_method': 'hist', 'model__max_bin': 212}. Best is trial 46 with value: 0.8716929064405706.\n",
      "[I 2025-08-29 10:02:19,496] Trial 49 finished with value: 0.8278608458802115 and parameters: {'regressor': 'xgboost', 'model__gamma': 1, 'model__reg_lambda': 8.78766965786273, 'model__n_estimators': 428, 'model__eta': 0.13198115932491952, 'model__min_child_weight': 21, 'model__subsample': 0.6179105834257411, 'model__colsample_bytree': 0.8221593979424786, 'model__max_depth': 5, 'model__tree_method': 'hist', 'model__max_bin': 195}. Best is trial 46 with value: 0.8716929064405706.\n",
      "[I 2025-08-29 10:02:19,875] Trial 50 finished with value: 0.812135400992452 and parameters: {'regressor': 'xgboost', 'model__gamma': 2, 'model__reg_lambda': 5.9481353665194705, 'model__n_estimators': 202, 'model__eta': 0.25572835872287447, 'model__min_child_weight': 32, 'model__subsample': 0.6678748792315096, 'model__colsample_bytree': 0.853450999650139, 'model__max_depth': 4, 'model__tree_method': 'hist', 'model__max_bin': 177}. Best is trial 46 with value: 0.8716929064405706.\n",
      "[I 2025-08-29 10:02:20,713] Trial 51 finished with value: 0.8724467706920203 and parameters: {'regressor': 'xgboost', 'model__gamma': 0, 'model__reg_lambda': 3.484467497328874, 'model__n_estimators': 409, 'model__eta': 0.11437686074919852, 'model__min_child_weight': 36, 'model__subsample': 0.7670938660300316, 'model__colsample_bytree': 0.7720664224147189, 'model__max_depth': 6, 'model__tree_method': 'hist', 'model__max_bin': 221}. Best is trial 51 with value: 0.8724467706920203.\n",
      "[I 2025-08-29 10:02:21,491] Trial 52 finished with value: 0.8644842096683428 and parameters: {'regressor': 'xgboost', 'model__gamma': 0, 'model__reg_lambda': 3.4731799678903164, 'model__n_estimators': 416, 'model__eta': 0.056797595524364516, 'model__min_child_weight': 46, 'model__subsample': 0.751871859321927, 'model__colsample_bytree': 0.7284212610889483, 'model__max_depth': 5, 'model__tree_method': 'hist', 'model__max_bin': 218}. Best is trial 51 with value: 0.8724467706920203.\n",
      "[I 2025-08-29 10:02:22,367] Trial 53 finished with value: 0.8703517811890877 and parameters: {'regressor': 'xgboost', 'model__gamma': 0, 'model__reg_lambda': 5.109248316664555, 'model__n_estimators': 436, 'model__eta': 0.12233544129637165, 'model__min_child_weight': 39, 'model__subsample': 0.7911099514073913, 'model__colsample_bytree': 0.8015981831631865, 'model__max_depth': 6, 'model__tree_method': 'hist', 'model__max_bin': 209}. Best is trial 51 with value: 0.8724467706920203.\n",
      "[I 2025-08-29 10:02:23,310] Trial 54 finished with value: 0.871109575029933 and parameters: {'regressor': 'xgboost', 'model__gamma': 0, 'model__reg_lambda': 5.128032184916815, 'model__n_estimators': 437, 'model__eta': 0.1012084438948295, 'model__min_child_weight': 39, 'model__subsample': 0.776551269256091, 'model__colsample_bytree': 0.805400343060905, 'model__max_depth': 7, 'model__tree_method': 'hist', 'model__max_bin': 210}. Best is trial 51 with value: 0.8724467706920203.\n",
      "[I 2025-08-29 10:02:23,820] Trial 55 finished with value: 0.8315170319969891 and parameters: {'regressor': 'xgboost', 'model__gamma': 1, 'model__reg_lambda': 5.234770957730535, 'model__n_estimators': 439, 'model__eta': 0.11057914488759138, 'model__min_child_weight': 39, 'model__subsample': 0.7895379078315584, 'model__colsample_bytree': 0.8003424867505065, 'model__max_depth': 8, 'model__tree_method': 'hist', 'model__max_bin': 205}. Best is trial 51 with value: 0.8724467706920203.\n",
      "[I 2025-08-29 10:02:24,804] Trial 56 finished with value: 0.8585645262304478 and parameters: {'regressor': 'xgboost', 'model__gamma': 0, 'model__reg_lambda': 5.022998036512364, 'model__n_estimators': 391, 'model__eta': 0.013453062338509736, 'model__min_child_weight': 24, 'model__subsample': 0.8539836056675536, 'model__colsample_bytree': 0.8366513554550417, 'model__max_depth': 7, 'model__tree_method': 'hist', 'model__max_bin': 187}. Best is trial 51 with value: 0.8724467706920203.\n",
      "[I 2025-08-29 10:02:25,305] Trial 57 finished with value: 0.8346129310488642 and parameters: {'regressor': 'xgboost', 'model__gamma': 1, 'model__reg_lambda': 3.754644325556463, 'model__n_estimators': 351, 'model__eta': 0.05099414180813634, 'model__min_child_weight': 29, 'model__subsample': 0.7805192604207165, 'model__colsample_bytree': 0.7622405829010521, 'model__max_depth': 9, 'model__tree_method': 'hist', 'model__max_bin': 239}. Best is trial 51 with value: 0.8724467706920203.\n",
      "[I 2025-08-29 10:02:26,042] Trial 58 finished with value: 0.8689817987918342 and parameters: {'regressor': 'xgboost', 'model__gamma': 0, 'model__reg_lambda': 5.891911787918793, 'model__n_estimators': 294, 'model__eta': 0.13943335786957312, 'model__min_child_weight': 35, 'model__subsample': 0.8798759488990097, 'model__colsample_bytree': 0.8869858106023182, 'model__max_depth': 7, 'model__tree_method': 'hist', 'model__max_bin': 229}. Best is trial 51 with value: 0.8724467706920203.\n",
      "[I 2025-08-29 10:02:26,934] Trial 59 finished with value: 0.8785453763457329 and parameters: {'regressor': 'xgboost', 'model__gamma': 0, 'model__reg_lambda': 5.922136179202199, 'model__n_estimators': 291, 'model__eta': 0.14686939273556573, 'model__min_child_weight': 11, 'model__subsample': 0.9095690913893013, 'model__colsample_bytree': 0.9273406770536969, 'model__max_depth': 8, 'model__tree_method': 'hist', 'model__max_bin': 230}. Best is trial 59 with value: 0.8785453763457329.\n",
      "[I 2025-08-29 10:02:27,375] Trial 60 finished with value: 0.7850718398576969 and parameters: {'regressor': 'xgboost', 'model__gamma': 6, 'model__reg_lambda': 6.440315726332114, 'model__n_estimators': 323, 'model__eta': 0.10819278959699445, 'model__min_child_weight': 4, 'model__subsample': 0.9191301405480833, 'model__colsample_bytree': 0.931913671568995, 'model__max_depth': 8, 'model__tree_method': 'hist', 'model__max_bin': 209}. Best is trial 59 with value: 0.8785453763457329.\n",
      "[I 2025-08-29 10:02:28,199] Trial 61 finished with value: 0.879953553767589 and parameters: {'regressor': 'xgboost', 'model__gamma': 0, 'model__reg_lambda': 5.892906143937469, 'model__n_estimators': 248, 'model__eta': 0.14828834248234846, 'model__min_child_weight': 9, 'model__subsample': 0.9244566994079058, 'model__colsample_bytree': 0.8955636428882758, 'model__max_depth': 8, 'model__tree_method': 'hist', 'model__max_bin': 229}. Best is trial 61 with value: 0.879953553767589.\n",
      "[I 2025-08-29 10:02:29,021] Trial 62 finished with value: 0.8800543522249891 and parameters: {'regressor': 'xgboost', 'model__gamma': 0, 'model__reg_lambda': 7.013715501898961, 'model__n_estimators': 251, 'model__eta': 0.15654455375813167, 'model__min_child_weight': 10, 'model__subsample': 0.9382585794216461, 'model__colsample_bytree': 0.9647942119342541, 'model__max_depth': 8, 'model__tree_method': 'hist', 'model__max_bin': 243}. Best is trial 62 with value: 0.8800543522249891.\n",
      "[I 2025-08-29 10:02:29,940] Trial 63 finished with value: 0.8736652271781008 and parameters: {'regressor': 'xgboost', 'model__gamma': 0, 'model__reg_lambda': 6.862230405377268, 'model__n_estimators': 244, 'model__eta': 0.2291099404065346, 'model__min_child_weight': 5, 'model__subsample': 0.9723407350781114, 'model__colsample_bytree': 0.9983394721409503, 'model__max_depth': 8, 'model__tree_method': 'hist', 'model__max_bin': 245}. Best is trial 62 with value: 0.8800543522249891.\n",
      "[I 2025-08-29 10:02:30,349] Trial 64 finished with value: 0.8302850548631557 and parameters: {'regressor': 'xgboost', 'model__gamma': 1, 'model__reg_lambda': 8.091196074528442, 'model__n_estimators': 234, 'model__eta': 0.1574224793946573, 'model__min_child_weight': 10, 'model__subsample': 0.9775925426955752, 'model__colsample_bytree': 0.9621759810114441, 'model__max_depth': 8, 'model__tree_method': 'hist', 'model__max_bin': 242}. Best is trial 62 with value: 0.8800543522249891.\n",
      "[I 2025-08-29 10:02:31,037] Trial 65 finished with value: 0.8740470460468105 and parameters: {'regressor': 'xgboost', 'model__gamma': 0, 'model__reg_lambda': 7.068221363445599, 'model__n_estimators': 188, 'model__eta': 0.24319865522269882, 'model__min_child_weight': 11, 'model__subsample': 0.946667390366108, 'model__colsample_bytree': 0.9902378618428695, 'model__max_depth': 8, 'model__tree_method': 'hist', 'model__max_bin': 255}. Best is trial 62 with value: 0.8800543522249891.\n",
      "[I 2025-08-29 10:02:31,409] Trial 66 finished with value: 0.8290266639831986 and parameters: {'regressor': 'xgboost', 'model__gamma': 1, 'model__reg_lambda': 6.998634616648589, 'model__n_estimators': 187, 'model__eta': 0.31803642739101723, 'model__min_child_weight': 8, 'model__subsample': 0.9525538924646626, 'model__colsample_bytree': 0.9978477362681901, 'model__max_depth': 8, 'model__tree_method': 'hist', 'model__max_bin': 256}. Best is trial 62 with value: 0.8800543522249891.\n",
      "[I 2025-08-29 10:02:31,928] Trial 67 finished with value: 0.8747918473667381 and parameters: {'regressor': 'xgboost', 'model__gamma': 0, 'model__reg_lambda': 8.196405642065484, 'model__n_estimators': 114, 'model__eta': 0.21788662940302034, 'model__min_child_weight': 11, 'model__subsample': 0.9315368955986684, 'model__colsample_bytree': 0.975425189131949, 'model__max_depth': 8, 'model__tree_method': 'hist', 'model__max_bin': 250}. Best is trial 62 with value: 0.8800543522249891.\n",
      "[I 2025-08-29 10:02:32,373] Trial 68 finished with value: 0.8731841140403279 and parameters: {'regressor': 'xgboost', 'model__gamma': 0, 'model__reg_lambda': 8.594834001367422, 'model__n_estimators': 82, 'model__eta': 0.21972970282892917, 'model__min_child_weight': 12, 'model__subsample': 0.9367097987768125, 'model__colsample_bytree': 0.9752594537287554, 'model__max_depth': 8, 'model__tree_method': 'hist', 'model__max_bin': 249}. Best is trial 62 with value: 0.8800543522249891.\n",
      "[I 2025-08-29 10:02:32,689] Trial 69 finished with value: 0.8150902650551256 and parameters: {'regressor': 'xgboost', 'model__gamma': 2, 'model__reg_lambda': 8.638539138912389, 'model__n_estimators': 74, 'model__eta': 0.22857571431392862, 'model__min_child_weight': 11, 'model__subsample': 0.9307674548764403, 'model__colsample_bytree': 0.9730736603572319, 'model__max_depth': 8, 'model__tree_method': 'hist', 'model__max_bin': 249}. Best is trial 62 with value: 0.8800543522249891.\n",
      "[I 2025-08-29 10:02:33,027] Trial 70 finished with value: 0.8305581967372241 and parameters: {'regressor': 'xgboost', 'model__gamma': 1, 'model__reg_lambda': 9.440375732005196, 'model__n_estimators': 116, 'model__eta': 0.30536126552280535, 'model__min_child_weight': 1, 'model__subsample': 0.9930163118561675, 'model__colsample_bytree': 0.9349989374596794, 'model__max_depth': 9, 'model__tree_method': 'hist', 'model__max_bin': 230}. Best is trial 62 with value: 0.8800543522249891.\n",
      "[I 2025-08-29 10:02:33,588] Trial 71 finished with value: 0.8758307696098496 and parameters: {'regressor': 'xgboost', 'model__gamma': 0, 'model__reg_lambda': 7.887651542413325, 'model__n_estimators': 116, 'model__eta': 0.25083657315455216, 'model__min_child_weight': 6, 'model__subsample': 0.8927874443982066, 'model__colsample_bytree': 0.9840031046924831, 'model__max_depth': 8, 'model__tree_method': 'hist', 'model__max_bin': 248}. Best is trial 62 with value: 0.8800543522249891.\n",
      "[I 2025-08-29 10:02:34,159] Trial 72 finished with value: 0.8671510370443898 and parameters: {'regressor': 'xgboost', 'model__gamma': 0, 'model__reg_lambda': 7.873179964171174, 'model__n_estimators': 115, 'model__eta': 0.3471979970356192, 'model__min_child_weight': 6, 'model__subsample': 0.8940552659227933, 'model__colsample_bytree': 0.9850747240728729, 'model__max_depth': 8, 'model__tree_method': 'hist', 'model__max_bin': 246}. Best is trial 62 with value: 0.8800543522249891.\n",
      "[I 2025-08-29 10:02:34,626] Trial 73 finished with value: 0.8750102505480731 and parameters: {'regressor': 'xgboost', 'model__gamma': 0, 'model__reg_lambda': 8.326195217667205, 'model__n_estimators': 86, 'model__eta': 0.24994206742472794, 'model__min_child_weight': 9, 'model__subsample': 0.939619972489512, 'model__colsample_bytree': 0.9487290934027962, 'model__max_depth': 8, 'model__tree_method': 'hist', 'model__max_bin': 256}. Best is trial 62 with value: 0.8800543522249891.\n",
      "[I 2025-08-29 10:02:35,200] Trial 74 finished with value: 0.8710893207633218 and parameters: {'regressor': 'xgboost', 'model__gamma': 0, 'model__reg_lambda': 7.18927804827737, 'model__n_estimators': 135, 'model__eta': 0.26259953617846876, 'model__min_child_weight': 9, 'model__subsample': 0.9583793920779236, 'model__colsample_bytree': 0.9486125674076428, 'model__max_depth': 8, 'model__tree_method': 'hist', 'model__max_bin': 235}. Best is trial 62 with value: 0.8800543522249891.\n",
      "[I 2025-08-29 10:02:36,395] Trial 75 finished with value: 0.8749992902038732 and parameters: {'regressor': 'xgboost', 'model__gamma': 0, 'model__reg_lambda': 8.24437769673806, 'model__n_estimators': 248, 'model__eta': 0.24397410894006796, 'model__min_child_weight': 4, 'model__subsample': 0.8950934380537918, 'model__colsample_bytree': 0.9463511877193894, 'model__max_depth': 9, 'model__tree_method': 'hist', 'model__max_bin': 256}. Best is trial 62 with value: 0.8800543522249891.\n",
      "[I 2025-08-29 10:02:36,692] Trial 76 finished with value: 0.8064902743468959 and parameters: {'regressor': 'xgboost', 'model__gamma': 3, 'model__reg_lambda': 8.254863377058667, 'model__n_estimators': 50, 'model__eta': 0.4185595684275432, 'model__min_child_weight': 3, 'model__subsample': 0.8926742103505809, 'model__colsample_bytree': 0.9153018935225974, 'model__max_depth': 9, 'model__tree_method': 'hist', 'model__max_bin': 256}. Best is trial 62 with value: 0.8800543522249891.\n",
      "[I 2025-08-29 10:02:37,051] Trial 77 finished with value: 0.8314477478068543 and parameters: {'regressor': 'xgboost', 'model__gamma': 1, 'model__reg_lambda': 7.6497774669961816, 'model__n_estimators': 151, 'model__eta': 0.25442115281128663, 'model__min_child_weight': 15, 'model__subsample': 0.9085829533686081, 'model__colsample_bytree': 0.9400570903913119, 'model__max_depth': 9, 'model__tree_method': 'hist', 'model__max_bin': 227}. Best is trial 62 with value: 0.8800543522249891.\n",
      "[I 2025-08-29 10:02:37,624] Trial 78 finished with value: 0.8786785677662383 and parameters: {'regressor': 'xgboost', 'model__gamma': 0, 'model__reg_lambda': 8.341654553385617, 'model__n_estimators': 91, 'model__eta': 0.16242370339159312, 'model__min_child_weight': 7, 'model__subsample': 0.8611573540875409, 'model__colsample_bytree': 0.9518696596905702, 'model__max_depth': 10, 'model__tree_method': 'hist', 'model__max_bin': 236}. Best is trial 62 with value: 0.8800543522249891.\n",
      "[I 2025-08-29 10:02:38,212] Trial 79 finished with value: 0.87779088191709 and parameters: {'regressor': 'xgboost', 'model__gamma': 0, 'model__reg_lambda': 9.324933147038994, 'model__n_estimators': 97, 'model__eta': 0.16153144461144708, 'model__min_child_weight': 7, 'model__subsample': 0.8675065533181892, 'model__colsample_bytree': 0.9582384135523562, 'model__max_depth': 10, 'model__tree_method': 'hist', 'model__max_bin': 235}. Best is trial 62 with value: 0.8800543522249891.\n",
      "[I 2025-08-29 10:02:38,551] Trial 80 finished with value: 0.8315890471901932 and parameters: {'regressor': 'xgboost', 'model__gamma': 1, 'model__reg_lambda': 9.248597492552497, 'model__n_estimators': 101, 'model__eta': 0.17079345324560638, 'model__min_child_weight': 7, 'model__subsample': 0.8593823832749478, 'model__colsample_bytree': 0.9538948878815926, 'model__max_depth': 10, 'model__tree_method': 'hist', 'model__max_bin': 237}. Best is trial 62 with value: 0.8800543522249891.\n",
      "[I 2025-08-29 10:02:39,091] Trial 81 finished with value: 0.8768966405824126 and parameters: {'regressor': 'xgboost', 'model__gamma': 0, 'model__reg_lambda': 9.0899498687096, 'model__n_estimators': 90, 'model__eta': 0.20733708741936185, 'model__min_child_weight': 8, 'model__subsample': 0.8772661045688108, 'model__colsample_bytree': 0.9205381123058181, 'model__max_depth': 10, 'model__tree_method': 'hist', 'model__max_bin': 243}. Best is trial 62 with value: 0.8800543522249891.\n",
      "[I 2025-08-29 10:02:39,676] Trial 82 finished with value: 0.8775894910736912 and parameters: {'regressor': 'xgboost', 'model__gamma': 0, 'model__reg_lambda': 9.360758246625995, 'model__n_estimators': 97, 'model__eta': 0.20028098393582022, 'model__min_child_weight': 7, 'model__subsample': 0.8732668410253295, 'model__colsample_bytree': 0.9147071472275978, 'model__max_depth': 10, 'model__tree_method': 'hist', 'model__max_bin': 233}. Best is trial 62 with value: 0.8800543522249891.\n",
      "[I 2025-08-29 10:02:40,222] Trial 83 finished with value: 0.8792328508093081 and parameters: {'regressor': 'xgboost', 'model__gamma': 0, 'model__reg_lambda': 9.611155588918093, 'model__n_estimators': 93, 'model__eta': 0.20448408455645561, 'model__min_child_weight': 8, 'model__subsample': 0.8674947585783808, 'model__colsample_bytree': 0.9245910436044334, 'model__max_depth': 10, 'model__tree_method': 'hist', 'model__max_bin': 234}. Best is trial 62 with value: 0.8800543522249891.\n",
      "[I 2025-08-29 10:02:40,799] Trial 84 finished with value: 0.8785143181828708 and parameters: {'regressor': 'xgboost', 'model__gamma': 0, 'model__reg_lambda': 9.504775578696716, 'model__n_estimators': 98, 'model__eta': 0.19784021282075964, 'model__min_child_weight': 7, 'model__subsample': 0.8737097862301424, 'model__colsample_bytree': 0.9216430619688554, 'model__max_depth': 10, 'model__tree_method': 'hist', 'model__max_bin': 234}. Best is trial 62 with value: 0.8800543522249891.\n",
      "[I 2025-08-29 10:02:41,133] Trial 85 finished with value: 0.8309284206463357 and parameters: {'regressor': 'xgboost', 'model__gamma': 1, 'model__reg_lambda': 9.982161028712243, 'model__n_estimators': 97, 'model__eta': 0.20025793720924265, 'model__min_child_weight': 8, 'model__subsample': 0.8725807742545308, 'model__colsample_bytree': 0.9212835903685893, 'model__max_depth': 10, 'model__tree_method': 'hist', 'model__max_bin': 234}. Best is trial 62 with value: 0.8800543522249891.\n",
      "[I 2025-08-29 10:02:41,479] Trial 86 finished with value: 0.7712748644254482 and parameters: {'regressor': 'xgboost', 'model__gamma': 8, 'model__reg_lambda': 9.637616554444394, 'model__n_estimators': 133, 'model__eta': 0.13832481532901403, 'model__min_child_weight': 13, 'model__subsample': 0.8245824874228944, 'model__colsample_bytree': 0.8980178296750212, 'model__max_depth': 10, 'model__tree_method': 'hist', 'model__max_bin': 224}. Best is trial 62 with value: 0.8800543522249891.\n",
      "[I 2025-08-29 10:02:41,945] Trial 87 finished with value: 0.8747562930337616 and parameters: {'regressor': 'xgboost', 'model__gamma': 0, 'model__reg_lambda': 9.2390868584398, 'model__n_estimators': 64, 'model__eta': 0.1632136050977242, 'model__min_child_weight': 7, 'model__subsample': 0.8423641037944662, 'model__colsample_bytree': 0.8895333605199577, 'model__max_depth': 10, 'model__tree_method': 'hist', 'model__max_bin': 240}. Best is trial 62 with value: 0.8800543522249891.\n",
      "[I 2025-08-29 10:02:42,824] Trial 88 finished with value: 0.8799562493964095 and parameters: {'regressor': 'xgboost', 'model__gamma': 0, 'model__reg_lambda': 9.674746527221318, 'model__n_estimators': 129, 'model__eta': 0.20323999051892813, 'model__min_child_weight': 2, 'model__subsample': 0.9113613139792334, 'model__colsample_bytree': 0.9230970838666127, 'model__max_depth': 10, 'model__tree_method': 'hist', 'model__max_bin': 218}. Best is trial 62 with value: 0.8800543522249891.\n",
      "[I 2025-08-29 10:02:43,188] Trial 89 finished with value: 0.8320668731028447 and parameters: {'regressor': 'xgboost', 'model__gamma': 1, 'model__reg_lambda': 9.72154503364391, 'model__n_estimators': 132, 'model__eta': 0.15398400505243692, 'model__min_child_weight': 2, 'model__subsample': 0.9084540551257836, 'model__colsample_bytree': 0.9612960391191379, 'model__max_depth': 10, 'model__tree_method': 'hist', 'model__max_bin': 215}. Best is trial 62 with value: 0.8800543522249891.\n",
      "[I 2025-08-29 10:02:43,724] Trial 90 finished with value: 0.8741167842356733 and parameters: {'regressor': 'xgboost', 'model__gamma': 0, 'model__reg_lambda': 8.855780281419866, 'model__n_estimators': 70, 'model__eta': 0.2817218268031011, 'model__min_child_weight': 5, 'model__subsample': 0.8611911282345255, 'model__colsample_bytree': 0.9304457261014456, 'model__max_depth': 10, 'model__tree_method': 'hist', 'model__max_bin': 226}. Best is trial 62 with value: 0.8800543522249891.\n",
      "[I 2025-08-29 10:02:44,266] Trial 91 finished with value: 0.8777593702982781 and parameters: {'regressor': 'xgboost', 'model__gamma': 0, 'model__reg_lambda': 9.037447283034512, 'model__n_estimators': 93, 'model__eta': 0.2013855615328921, 'model__min_child_weight': 9, 'model__subsample': 0.8740811922875217, 'model__colsample_bytree': 0.9138372057031693, 'model__max_depth': 10, 'model__tree_method': 'hist', 'model__max_bin': 234}. Best is trial 62 with value: 0.8800543522249891.\n",
      "[I 2025-08-29 10:02:44,786] Trial 92 finished with value: 0.8711876500236455 and parameters: {'regressor': 'xgboost', 'model__gamma': 0, 'model__reg_lambda': 9.73445709600176, 'model__n_estimators': 104, 'model__eta': 0.1766283218140722, 'model__min_child_weight': 17, 'model__subsample': 0.9108444882473066, 'model__colsample_bytree': 0.9043487452286714, 'model__max_depth': 10, 'model__tree_method': 'hist', 'model__max_bin': 219}. Best is trial 62 with value: 0.8800543522249891.\n",
      "[I 2025-08-29 10:02:45,296] Trial 93 finished with value: 0.8712901324073391 and parameters: {'regressor': 'xgboost', 'model__gamma': 0, 'model__reg_lambda': 9.515573948586962, 'model__n_estimators': 80, 'model__eta': 0.08044018254778276, 'model__min_child_weight': 9, 'model__subsample': 0.8155243821559169, 'model__colsample_bytree': 0.9120734873089962, 'model__max_depth': 10, 'model__tree_method': 'hist', 'model__max_bin': 233}. Best is trial 62 with value: 0.8800543522249891.\n",
      "[I 2025-08-29 10:02:45,774] Trial 94 finished with value: 0.8754548603646495 and parameters: {'regressor': 'xgboost', 'model__gamma': 0, 'model__reg_lambda': 9.007258307358754, 'model__n_estimators': 53, 'model__eta': 0.19432072192718428, 'model__min_child_weight': 3, 'model__subsample': 0.8453725177334177, 'model__colsample_bytree': 0.890779110841495, 'model__max_depth': 10, 'model__tree_method': 'hist', 'model__max_bin': 230}. Best is trial 62 with value: 0.8800543522249891.\n",
      "[I 2025-08-29 10:02:46,455] Trial 95 finished with value: 0.8800018840592181 and parameters: {'regressor': 'xgboost', 'model__gamma': 0, 'model__reg_lambda': 8.464926072733633, 'model__n_estimators': 126, 'model__eta': 0.15108411800093247, 'model__min_child_weight': 6, 'model__subsample': 0.8696521617892716, 'model__colsample_bytree': 0.8777033509089442, 'model__max_depth': 10, 'model__tree_method': 'hist', 'model__max_bin': 238}. Best is trial 62 with value: 0.8800543522249891.\n",
      "[I 2025-08-29 10:02:47,199] Trial 96 finished with value: 0.880440097858379 and parameters: {'regressor': 'xgboost', 'model__gamma': 0, 'model__reg_lambda': 8.573248775010633, 'model__n_estimators': 149, 'model__eta': 0.14271767101435026, 'model__min_child_weight': 6, 'model__subsample': 0.9243733532935283, 'model__colsample_bytree': 0.8645689515448237, 'model__max_depth': 10, 'model__tree_method': 'hist', 'model__max_bin': 223}. Best is trial 96 with value: 0.880440097858379.\n",
      "[I 2025-08-29 10:02:48,261] Trial 97 finished with value: 0.8833253632662788 and parameters: {'regressor': 'xgboost', 'model__gamma': 0, 'model__reg_lambda': 8.49270037283895, 'model__n_estimators': 157, 'model__eta': 0.13395665226132697, 'model__min_child_weight': 1, 'model__subsample': 0.918106100688268, 'model__colsample_bytree': 0.8607389343401065, 'model__max_depth': 10, 'model__tree_method': 'hist', 'model__max_bin': 223}. Best is trial 97 with value: 0.8833253632662788.\n",
      "[I 2025-08-29 10:02:48,634] Trial 98 finished with value: 0.8328323094520375 and parameters: {'regressor': 'xgboost', 'model__gamma': 1, 'model__reg_lambda': 8.493519790997723, 'model__n_estimators': 148, 'model__eta': 0.12475477974661148, 'model__min_child_weight': 4, 'model__subsample': 0.9219790989400342, 'model__colsample_bytree': 0.8567688741210306, 'model__max_depth': 9, 'model__tree_method': 'hist', 'model__max_bin': 224}. Best is trial 97 with value: 0.8833253632662788.\n",
      "[I 2025-08-29 10:02:49,022] Trial 99 finished with value: 0.7942503640469423 and parameters: {'regressor': 'xgboost', 'model__gamma': 1, 'model__reg_lambda': 6.441802470941741, 'model__n_estimators': 220, 'model__eta': 0.9630150388313901, 'model__min_child_weight': 2, 'model__subsample': 0.96402766063307, 'model__colsample_bytree': 0.8694216881863144, 'model__max_depth': 9, 'model__tree_method': 'hist', 'model__max_bin': 216}. Best is trial 97 with value: 0.8833253632662788.\n"
     ]
    }
   ],
   "source": [
    "study = optuna.create_study(direction='maximize',sampler=optuna.samplers.TPESampler(seed=0))\n",
    "study.optimize(lambda trial: objective(trial,Target_preprocessor),n_trials=100,n_jobs=1)"
   ]
  },
  {
   "cell_type": "code",
   "execution_count": 183,
   "id": "0374d134",
   "metadata": {},
   "outputs": [
    {
     "data": {
      "text/plain": [
       "{'regressor': 'xgboost',\n",
       " 'model__gamma': 0,\n",
       " 'model__reg_lambda': 8.49270037283895,\n",
       " 'model__n_estimators': 157,\n",
       " 'model__eta': 0.13395665226132697,\n",
       " 'model__min_child_weight': 1,\n",
       " 'model__subsample': 0.918106100688268,\n",
       " 'model__colsample_bytree': 0.8607389343401065,\n",
       " 'model__max_depth': 10,\n",
       " 'model__tree_method': 'hist',\n",
       " 'model__max_bin': 223}"
      ]
     },
     "execution_count": 183,
     "metadata": {},
     "output_type": "execute_result"
    }
   ],
   "source": [
    "study.best_params"
   ]
  },
  {
   "cell_type": "code",
   "execution_count": 184,
   "id": "07f43b71",
   "metadata": {},
   "outputs": [
    {
     "data": {
      "text/plain": [
       "0.8833253632662788"
      ]
     },
     "execution_count": 184,
     "metadata": {},
     "output_type": "execute_result"
    }
   ],
   "source": [
    "study.best_value"
   ]
  },
  {
   "cell_type": "code",
   "execution_count": 185,
   "id": "26e83bc6",
   "metadata": {},
   "outputs": [
    {
     "data": {
      "text/plain": [
       "np.float64(0.0023058779278119436)"
      ]
     },
     "execution_count": 185,
     "metadata": {},
     "output_type": "execute_result"
    }
   ],
   "source": [
    "cv_std = study.best_trial.user_attrs['cv_std']\n",
    "cv_std"
   ]
  },
  {
   "cell_type": "markdown",
   "id": "1d8e6879",
   "metadata": {},
   "source": [
    "# final model"
   ]
  },
  {
   "cell_type": "code",
   "execution_count": 186,
   "id": "6a30401f",
   "metadata": {},
   "outputs": [
    {
     "name": "stdout",
     "output_type": "stream",
     "text": [
      "Test_r2_score:0.8368348565246672\n",
      "Test_mse_score:1.054224199027196\n",
      "Test_mae_score:0.4640351533350879\n"
     ]
    }
   ],
   "source": [
    "final_model = study.best_trial.user_attrs['model']\n",
    "final_model.fit(x_train,y_train)\n",
    "y_pred = final_model.predict(x_test)\n",
    "\n",
    "y_pred = np.expm1(y_pred)\n",
    "\n",
    "\n",
    "print(f\"Test_r2_score:{r2_score(np.expm1(y_test), y_pred)}\")\n",
    "print(f\"Test_mse_score:{mean_squared_error(np.expm1(y_test), y_pred)}\")\n",
    "\n",
    "print(f\"Test_mae_score:{mean_absolute_error(np.expm1(y_test), y_pred)}\")\n"
   ]
  },
  {
   "cell_type": "code",
   "execution_count": 187,
   "id": "2ea3e5ca",
   "metadata": {},
   "outputs": [
    {
     "data": {
      "text/plain": [
       "np.float64(3.044522437723423)"
      ]
     },
     "execution_count": 187,
     "metadata": {},
     "output_type": "execute_result"
    }
   ],
   "source": [
    "y_test.max()"
   ]
  },
  {
   "cell_type": "code",
   "execution_count": 188,
   "id": "87e2ba90",
   "metadata": {},
   "outputs": [
    {
     "data": {
      "application/vnd.plotly.v1+json": {
       "config": {
        "plotlyServerURL": "https://plot.ly"
       },
       "data": [
        {
         "mode": "markers",
         "name": "Objective Value",
         "type": "scatter",
         "x": [
          0,
          1,
          2,
          3,
          4,
          5,
          6,
          7,
          8,
          9,
          10,
          11,
          12,
          13,
          14,
          15,
          16,
          17,
          18,
          19,
          20,
          21,
          22,
          23,
          24,
          25,
          26,
          27,
          28,
          29,
          30,
          31,
          32,
          33,
          34,
          35,
          36,
          37,
          38,
          39,
          40,
          41,
          42,
          43,
          44,
          45,
          46,
          47,
          48,
          49,
          50,
          51,
          52,
          53,
          54,
          55,
          56,
          57,
          58,
          59,
          60,
          61,
          62,
          63,
          64,
          65,
          66,
          67,
          68,
          69,
          70,
          71,
          72,
          73,
          74,
          75,
          76,
          77,
          78,
          79,
          80,
          81,
          82,
          83,
          84,
          85,
          86,
          87,
          88,
          89,
          90,
          91,
          92,
          93,
          94,
          95,
          96,
          97,
          98,
          99
         ],
         "y": [
          0.7879698564870256,
          0.7847614416503703,
          0.760838351273754,
          0.7714591734941119,
          0.7669145681959568,
          0.7846969607636827,
          0.8251896926762079,
          0.8011866482376677,
          0.758946875526633,
          0.8043519701122637,
          0.7853133768103716,
          0.8232937779923699,
          0.8368521563006073,
          0.8662965388935776,
          0.8676946050026754,
          0.8669939743165985,
          0.8664981622016285,
          0.8104440457641784,
          0.811435721588936,
          0.8045073190312338,
          0.7993195012145835,
          0.8667691149418548,
          0.8684993322895744,
          0.7952982104581804,
          0.8388861256562372,
          0.8271682313196889,
          0.7978846398405918,
          0.8674257277318083,
          0.8274169872912163,
          0.8011949455707322,
          0.7949837778762179,
          0.8663367401659345,
          0.867671197612621,
          0.8218435639707249,
          0.8617292592181125,
          0.7848422873398547,
          0.8247193029558716,
          0.8073270608274742,
          0.87002772843411,
          0.8263745995538379,
          0.7799810188944509,
          0.8652339850248673,
          0.8670618738755371,
          0.8674147734996229,
          0.7705734088191962,
          0.8304554162339685,
          0.8716929064405706,
          0.8302005115877409,
          0.8426683416012979,
          0.8278608458802115,
          0.812135400992452,
          0.8724467706920203,
          0.8644842096683428,
          0.8703517811890877,
          0.871109575029933,
          0.8315170319969891,
          0.8585645262304478,
          0.8346129310488642,
          0.8689817987918342,
          0.8785453763457329,
          0.7850718398576969,
          0.879953553767589,
          0.8800543522249891,
          0.8736652271781008,
          0.8302850548631557,
          0.8740470460468105,
          0.8290266639831986,
          0.8747918473667381,
          0.8731841140403279,
          0.8150902650551256,
          0.8305581967372241,
          0.8758307696098496,
          0.8671510370443898,
          0.8750102505480731,
          0.8710893207633218,
          0.8749992902038732,
          0.8064902743468959,
          0.8314477478068543,
          0.8786785677662383,
          0.87779088191709,
          0.8315890471901932,
          0.8768966405824126,
          0.8775894910736912,
          0.8792328508093081,
          0.8785143181828708,
          0.8309284206463357,
          0.7712748644254482,
          0.8747562930337616,
          0.8799562493964095,
          0.8320668731028447,
          0.8741167842356733,
          0.8777593702982781,
          0.8711876500236455,
          0.8712901324073391,
          0.8754548603646495,
          0.8800018840592181,
          0.880440097858379,
          0.8833253632662788,
          0.8328323094520375,
          0.7942503640469423
         ]
        },
        {
         "mode": "lines",
         "name": "Best Value",
         "type": "scatter",
         "x": [
          0,
          1,
          2,
          3,
          4,
          5,
          6,
          7,
          8,
          9,
          10,
          11,
          12,
          13,
          14,
          15,
          16,
          17,
          18,
          19,
          20,
          21,
          22,
          23,
          24,
          25,
          26,
          27,
          28,
          29,
          30,
          31,
          32,
          33,
          34,
          35,
          36,
          37,
          38,
          39,
          40,
          41,
          42,
          43,
          44,
          45,
          46,
          47,
          48,
          49,
          50,
          51,
          52,
          53,
          54,
          55,
          56,
          57,
          58,
          59,
          60,
          61,
          62,
          63,
          64,
          65,
          66,
          67,
          68,
          69,
          70,
          71,
          72,
          73,
          74,
          75,
          76,
          77,
          78,
          79,
          80,
          81,
          82,
          83,
          84,
          85,
          86,
          87,
          88,
          89,
          90,
          91,
          92,
          93,
          94,
          95,
          96,
          97,
          98,
          99
         ],
         "y": [
          0.7879698564870256,
          0.7879698564870256,
          0.7879698564870256,
          0.7879698564870256,
          0.7879698564870256,
          0.7879698564870256,
          0.8251896926762079,
          0.8251896926762079,
          0.8251896926762079,
          0.8251896926762079,
          0.8251896926762079,
          0.8251896926762079,
          0.8368521563006073,
          0.8662965388935776,
          0.8676946050026754,
          0.8676946050026754,
          0.8676946050026754,
          0.8676946050026754,
          0.8676946050026754,
          0.8676946050026754,
          0.8676946050026754,
          0.8676946050026754,
          0.8684993322895744,
          0.8684993322895744,
          0.8684993322895744,
          0.8684993322895744,
          0.8684993322895744,
          0.8684993322895744,
          0.8684993322895744,
          0.8684993322895744,
          0.8684993322895744,
          0.8684993322895744,
          0.8684993322895744,
          0.8684993322895744,
          0.8684993322895744,
          0.8684993322895744,
          0.8684993322895744,
          0.8684993322895744,
          0.87002772843411,
          0.87002772843411,
          0.87002772843411,
          0.87002772843411,
          0.87002772843411,
          0.87002772843411,
          0.87002772843411,
          0.87002772843411,
          0.8716929064405706,
          0.8716929064405706,
          0.8716929064405706,
          0.8716929064405706,
          0.8716929064405706,
          0.8724467706920203,
          0.8724467706920203,
          0.8724467706920203,
          0.8724467706920203,
          0.8724467706920203,
          0.8724467706920203,
          0.8724467706920203,
          0.8724467706920203,
          0.8785453763457329,
          0.8785453763457329,
          0.879953553767589,
          0.8800543522249891,
          0.8800543522249891,
          0.8800543522249891,
          0.8800543522249891,
          0.8800543522249891,
          0.8800543522249891,
          0.8800543522249891,
          0.8800543522249891,
          0.8800543522249891,
          0.8800543522249891,
          0.8800543522249891,
          0.8800543522249891,
          0.8800543522249891,
          0.8800543522249891,
          0.8800543522249891,
          0.8800543522249891,
          0.8800543522249891,
          0.8800543522249891,
          0.8800543522249891,
          0.8800543522249891,
          0.8800543522249891,
          0.8800543522249891,
          0.8800543522249891,
          0.8800543522249891,
          0.8800543522249891,
          0.8800543522249891,
          0.8800543522249891,
          0.8800543522249891,
          0.8800543522249891,
          0.8800543522249891,
          0.8800543522249891,
          0.8800543522249891,
          0.8800543522249891,
          0.8800543522249891,
          0.880440097858379,
          0.8833253632662788,
          0.8833253632662788,
          0.8833253632662788
         ]
        },
        {
         "marker": {
          "color": "#cccccc"
         },
         "mode": "markers",
         "name": "Infeasible Trial",
         "showlegend": false,
         "type": "scatter",
         "x": [],
         "y": []
        }
       ],
       "layout": {
        "template": {
         "data": {
          "bar": [
           {
            "error_x": {
             "color": "#2a3f5f"
            },
            "error_y": {
             "color": "#2a3f5f"
            },
            "marker": {
             "line": {
              "color": "#E5ECF6",
              "width": 0.5
             },
             "pattern": {
              "fillmode": "overlay",
              "size": 10,
              "solidity": 0.2
             }
            },
            "type": "bar"
           }
          ],
          "barpolar": [
           {
            "marker": {
             "line": {
              "color": "#E5ECF6",
              "width": 0.5
             },
             "pattern": {
              "fillmode": "overlay",
              "size": 10,
              "solidity": 0.2
             }
            },
            "type": "barpolar"
           }
          ],
          "carpet": [
           {
            "aaxis": {
             "endlinecolor": "#2a3f5f",
             "gridcolor": "white",
             "linecolor": "white",
             "minorgridcolor": "white",
             "startlinecolor": "#2a3f5f"
            },
            "baxis": {
             "endlinecolor": "#2a3f5f",
             "gridcolor": "white",
             "linecolor": "white",
             "minorgridcolor": "white",
             "startlinecolor": "#2a3f5f"
            },
            "type": "carpet"
           }
          ],
          "choropleth": [
           {
            "colorbar": {
             "outlinewidth": 0,
             "ticks": ""
            },
            "type": "choropleth"
           }
          ],
          "contour": [
           {
            "colorbar": {
             "outlinewidth": 0,
             "ticks": ""
            },
            "colorscale": [
             [
              0,
              "#0d0887"
             ],
             [
              0.1111111111111111,
              "#46039f"
             ],
             [
              0.2222222222222222,
              "#7201a8"
             ],
             [
              0.3333333333333333,
              "#9c179e"
             ],
             [
              0.4444444444444444,
              "#bd3786"
             ],
             [
              0.5555555555555556,
              "#d8576b"
             ],
             [
              0.6666666666666666,
              "#ed7953"
             ],
             [
              0.7777777777777778,
              "#fb9f3a"
             ],
             [
              0.8888888888888888,
              "#fdca26"
             ],
             [
              1,
              "#f0f921"
             ]
            ],
            "type": "contour"
           }
          ],
          "contourcarpet": [
           {
            "colorbar": {
             "outlinewidth": 0,
             "ticks": ""
            },
            "type": "contourcarpet"
           }
          ],
          "heatmap": [
           {
            "colorbar": {
             "outlinewidth": 0,
             "ticks": ""
            },
            "colorscale": [
             [
              0,
              "#0d0887"
             ],
             [
              0.1111111111111111,
              "#46039f"
             ],
             [
              0.2222222222222222,
              "#7201a8"
             ],
             [
              0.3333333333333333,
              "#9c179e"
             ],
             [
              0.4444444444444444,
              "#bd3786"
             ],
             [
              0.5555555555555556,
              "#d8576b"
             ],
             [
              0.6666666666666666,
              "#ed7953"
             ],
             [
              0.7777777777777778,
              "#fb9f3a"
             ],
             [
              0.8888888888888888,
              "#fdca26"
             ],
             [
              1,
              "#f0f921"
             ]
            ],
            "type": "heatmap"
           }
          ],
          "histogram": [
           {
            "marker": {
             "pattern": {
              "fillmode": "overlay",
              "size": 10,
              "solidity": 0.2
             }
            },
            "type": "histogram"
           }
          ],
          "histogram2d": [
           {
            "colorbar": {
             "outlinewidth": 0,
             "ticks": ""
            },
            "colorscale": [
             [
              0,
              "#0d0887"
             ],
             [
              0.1111111111111111,
              "#46039f"
             ],
             [
              0.2222222222222222,
              "#7201a8"
             ],
             [
              0.3333333333333333,
              "#9c179e"
             ],
             [
              0.4444444444444444,
              "#bd3786"
             ],
             [
              0.5555555555555556,
              "#d8576b"
             ],
             [
              0.6666666666666666,
              "#ed7953"
             ],
             [
              0.7777777777777778,
              "#fb9f3a"
             ],
             [
              0.8888888888888888,
              "#fdca26"
             ],
             [
              1,
              "#f0f921"
             ]
            ],
            "type": "histogram2d"
           }
          ],
          "histogram2dcontour": [
           {
            "colorbar": {
             "outlinewidth": 0,
             "ticks": ""
            },
            "colorscale": [
             [
              0,
              "#0d0887"
             ],
             [
              0.1111111111111111,
              "#46039f"
             ],
             [
              0.2222222222222222,
              "#7201a8"
             ],
             [
              0.3333333333333333,
              "#9c179e"
             ],
             [
              0.4444444444444444,
              "#bd3786"
             ],
             [
              0.5555555555555556,
              "#d8576b"
             ],
             [
              0.6666666666666666,
              "#ed7953"
             ],
             [
              0.7777777777777778,
              "#fb9f3a"
             ],
             [
              0.8888888888888888,
              "#fdca26"
             ],
             [
              1,
              "#f0f921"
             ]
            ],
            "type": "histogram2dcontour"
           }
          ],
          "mesh3d": [
           {
            "colorbar": {
             "outlinewidth": 0,
             "ticks": ""
            },
            "type": "mesh3d"
           }
          ],
          "parcoords": [
           {
            "line": {
             "colorbar": {
              "outlinewidth": 0,
              "ticks": ""
             }
            },
            "type": "parcoords"
           }
          ],
          "pie": [
           {
            "automargin": true,
            "type": "pie"
           }
          ],
          "scatter": [
           {
            "fillpattern": {
             "fillmode": "overlay",
             "size": 10,
             "solidity": 0.2
            },
            "type": "scatter"
           }
          ],
          "scatter3d": [
           {
            "line": {
             "colorbar": {
              "outlinewidth": 0,
              "ticks": ""
             }
            },
            "marker": {
             "colorbar": {
              "outlinewidth": 0,
              "ticks": ""
             }
            },
            "type": "scatter3d"
           }
          ],
          "scattercarpet": [
           {
            "marker": {
             "colorbar": {
              "outlinewidth": 0,
              "ticks": ""
             }
            },
            "type": "scattercarpet"
           }
          ],
          "scattergeo": [
           {
            "marker": {
             "colorbar": {
              "outlinewidth": 0,
              "ticks": ""
             }
            },
            "type": "scattergeo"
           }
          ],
          "scattergl": [
           {
            "marker": {
             "colorbar": {
              "outlinewidth": 0,
              "ticks": ""
             }
            },
            "type": "scattergl"
           }
          ],
          "scattermap": [
           {
            "marker": {
             "colorbar": {
              "outlinewidth": 0,
              "ticks": ""
             }
            },
            "type": "scattermap"
           }
          ],
          "scattermapbox": [
           {
            "marker": {
             "colorbar": {
              "outlinewidth": 0,
              "ticks": ""
             }
            },
            "type": "scattermapbox"
           }
          ],
          "scatterpolar": [
           {
            "marker": {
             "colorbar": {
              "outlinewidth": 0,
              "ticks": ""
             }
            },
            "type": "scatterpolar"
           }
          ],
          "scatterpolargl": [
           {
            "marker": {
             "colorbar": {
              "outlinewidth": 0,
              "ticks": ""
             }
            },
            "type": "scatterpolargl"
           }
          ],
          "scatterternary": [
           {
            "marker": {
             "colorbar": {
              "outlinewidth": 0,
              "ticks": ""
             }
            },
            "type": "scatterternary"
           }
          ],
          "surface": [
           {
            "colorbar": {
             "outlinewidth": 0,
             "ticks": ""
            },
            "colorscale": [
             [
              0,
              "#0d0887"
             ],
             [
              0.1111111111111111,
              "#46039f"
             ],
             [
              0.2222222222222222,
              "#7201a8"
             ],
             [
              0.3333333333333333,
              "#9c179e"
             ],
             [
              0.4444444444444444,
              "#bd3786"
             ],
             [
              0.5555555555555556,
              "#d8576b"
             ],
             [
              0.6666666666666666,
              "#ed7953"
             ],
             [
              0.7777777777777778,
              "#fb9f3a"
             ],
             [
              0.8888888888888888,
              "#fdca26"
             ],
             [
              1,
              "#f0f921"
             ]
            ],
            "type": "surface"
           }
          ],
          "table": [
           {
            "cells": {
             "fill": {
              "color": "#EBF0F8"
             },
             "line": {
              "color": "white"
             }
            },
            "header": {
             "fill": {
              "color": "#C8D4E3"
             },
             "line": {
              "color": "white"
             }
            },
            "type": "table"
           }
          ]
         },
         "layout": {
          "annotationdefaults": {
           "arrowcolor": "#2a3f5f",
           "arrowhead": 0,
           "arrowwidth": 1
          },
          "autotypenumbers": "strict",
          "coloraxis": {
           "colorbar": {
            "outlinewidth": 0,
            "ticks": ""
           }
          },
          "colorscale": {
           "diverging": [
            [
             0,
             "#8e0152"
            ],
            [
             0.1,
             "#c51b7d"
            ],
            [
             0.2,
             "#de77ae"
            ],
            [
             0.3,
             "#f1b6da"
            ],
            [
             0.4,
             "#fde0ef"
            ],
            [
             0.5,
             "#f7f7f7"
            ],
            [
             0.6,
             "#e6f5d0"
            ],
            [
             0.7,
             "#b8e186"
            ],
            [
             0.8,
             "#7fbc41"
            ],
            [
             0.9,
             "#4d9221"
            ],
            [
             1,
             "#276419"
            ]
           ],
           "sequential": [
            [
             0,
             "#0d0887"
            ],
            [
             0.1111111111111111,
             "#46039f"
            ],
            [
             0.2222222222222222,
             "#7201a8"
            ],
            [
             0.3333333333333333,
             "#9c179e"
            ],
            [
             0.4444444444444444,
             "#bd3786"
            ],
            [
             0.5555555555555556,
             "#d8576b"
            ],
            [
             0.6666666666666666,
             "#ed7953"
            ],
            [
             0.7777777777777778,
             "#fb9f3a"
            ],
            [
             0.8888888888888888,
             "#fdca26"
            ],
            [
             1,
             "#f0f921"
            ]
           ],
           "sequentialminus": [
            [
             0,
             "#0d0887"
            ],
            [
             0.1111111111111111,
             "#46039f"
            ],
            [
             0.2222222222222222,
             "#7201a8"
            ],
            [
             0.3333333333333333,
             "#9c179e"
            ],
            [
             0.4444444444444444,
             "#bd3786"
            ],
            [
             0.5555555555555556,
             "#d8576b"
            ],
            [
             0.6666666666666666,
             "#ed7953"
            ],
            [
             0.7777777777777778,
             "#fb9f3a"
            ],
            [
             0.8888888888888888,
             "#fdca26"
            ],
            [
             1,
             "#f0f921"
            ]
           ]
          },
          "colorway": [
           "#636efa",
           "#EF553B",
           "#00cc96",
           "#ab63fa",
           "#FFA15A",
           "#19d3f3",
           "#FF6692",
           "#B6E880",
           "#FF97FF",
           "#FECB52"
          ],
          "font": {
           "color": "#2a3f5f"
          },
          "geo": {
           "bgcolor": "white",
           "lakecolor": "white",
           "landcolor": "#E5ECF6",
           "showlakes": true,
           "showland": true,
           "subunitcolor": "white"
          },
          "hoverlabel": {
           "align": "left"
          },
          "hovermode": "closest",
          "mapbox": {
           "style": "light"
          },
          "paper_bgcolor": "white",
          "plot_bgcolor": "#E5ECF6",
          "polar": {
           "angularaxis": {
            "gridcolor": "white",
            "linecolor": "white",
            "ticks": ""
           },
           "bgcolor": "#E5ECF6",
           "radialaxis": {
            "gridcolor": "white",
            "linecolor": "white",
            "ticks": ""
           }
          },
          "scene": {
           "xaxis": {
            "backgroundcolor": "#E5ECF6",
            "gridcolor": "white",
            "gridwidth": 2,
            "linecolor": "white",
            "showbackground": true,
            "ticks": "",
            "zerolinecolor": "white"
           },
           "yaxis": {
            "backgroundcolor": "#E5ECF6",
            "gridcolor": "white",
            "gridwidth": 2,
            "linecolor": "white",
            "showbackground": true,
            "ticks": "",
            "zerolinecolor": "white"
           },
           "zaxis": {
            "backgroundcolor": "#E5ECF6",
            "gridcolor": "white",
            "gridwidth": 2,
            "linecolor": "white",
            "showbackground": true,
            "ticks": "",
            "zerolinecolor": "white"
           }
          },
          "shapedefaults": {
           "line": {
            "color": "#2a3f5f"
           }
          },
          "ternary": {
           "aaxis": {
            "gridcolor": "white",
            "linecolor": "white",
            "ticks": ""
           },
           "baxis": {
            "gridcolor": "white",
            "linecolor": "white",
            "ticks": ""
           },
           "bgcolor": "#E5ECF6",
           "caxis": {
            "gridcolor": "white",
            "linecolor": "white",
            "ticks": ""
           }
          },
          "title": {
           "x": 0.05
          },
          "xaxis": {
           "automargin": true,
           "gridcolor": "white",
           "linecolor": "white",
           "ticks": "",
           "title": {
            "standoff": 15
           },
           "zerolinecolor": "white",
           "zerolinewidth": 2
          },
          "yaxis": {
           "automargin": true,
           "gridcolor": "white",
           "linecolor": "white",
           "ticks": "",
           "title": {
            "standoff": 15
           },
           "zerolinecolor": "white",
           "zerolinewidth": 2
          }
         }
        },
        "title": {
         "text": "Optimization History Plot"
        },
        "xaxis": {
         "title": {
          "text": "Trial"
         }
        },
        "yaxis": {
         "title": {
          "text": "Objective Value"
         }
        }
       }
      }
     },
     "metadata": {},
     "output_type": "display_data"
    },
    {
     "data": {
      "application/vnd.plotly.v1+json": {
       "config": {
        "plotlyServerURL": "https://plot.ly"
       },
       "data": [
        {
         "cliponaxis": false,
         "hovertemplate": [
          "model__tree_method (CategoricalDistribution): 0.0<extra></extra>",
          "regressor (CategoricalDistribution): 0.0<extra></extra>",
          "model__max_depth (IntDistribution): 0.0016343048260293678<extra></extra>",
          "model__colsample_bytree (FloatDistribution): 0.0033413818170388103<extra></extra>",
          "model__subsample (FloatDistribution): 0.007040480203114438<extra></extra>",
          "model__min_child_weight (IntDistribution): 0.0074600603591046906<extra></extra>",
          "model__reg_lambda (FloatDistribution): 0.007821224730213022<extra></extra>",
          "model__n_estimators (IntDistribution): 0.011858798274376369<extra></extra>",
          "model__max_bin (IntDistribution): 0.012540934791791398<extra></extra>",
          "model__eta (FloatDistribution): 0.035353081100131155<extra></extra>",
          "model__gamma (IntDistribution): 0.9129497338982008<extra></extra>"
         ],
         "name": "Objective Value",
         "orientation": "h",
         "text": [
          "<0.01",
          "<0.01",
          "<0.01",
          "<0.01",
          "<0.01",
          "<0.01",
          "<0.01",
          "0.01",
          "0.01",
          "0.04",
          "0.91"
         ],
         "textposition": "outside",
         "type": "bar",
         "x": [
          0,
          0,
          0.0016343048260293678,
          0.0033413818170388103,
          0.007040480203114438,
          0.0074600603591046906,
          0.007821224730213022,
          0.011858798274376369,
          0.012540934791791398,
          0.035353081100131155,
          0.9129497338982008
         ],
         "y": [
          "model__tree_method",
          "regressor",
          "model__max_depth",
          "model__colsample_bytree",
          "model__subsample",
          "model__min_child_weight",
          "model__reg_lambda",
          "model__n_estimators",
          "model__max_bin",
          "model__eta",
          "model__gamma"
         ]
        }
       ],
       "layout": {
        "template": {
         "data": {
          "bar": [
           {
            "error_x": {
             "color": "#2a3f5f"
            },
            "error_y": {
             "color": "#2a3f5f"
            },
            "marker": {
             "line": {
              "color": "#E5ECF6",
              "width": 0.5
             },
             "pattern": {
              "fillmode": "overlay",
              "size": 10,
              "solidity": 0.2
             }
            },
            "type": "bar"
           }
          ],
          "barpolar": [
           {
            "marker": {
             "line": {
              "color": "#E5ECF6",
              "width": 0.5
             },
             "pattern": {
              "fillmode": "overlay",
              "size": 10,
              "solidity": 0.2
             }
            },
            "type": "barpolar"
           }
          ],
          "carpet": [
           {
            "aaxis": {
             "endlinecolor": "#2a3f5f",
             "gridcolor": "white",
             "linecolor": "white",
             "minorgridcolor": "white",
             "startlinecolor": "#2a3f5f"
            },
            "baxis": {
             "endlinecolor": "#2a3f5f",
             "gridcolor": "white",
             "linecolor": "white",
             "minorgridcolor": "white",
             "startlinecolor": "#2a3f5f"
            },
            "type": "carpet"
           }
          ],
          "choropleth": [
           {
            "colorbar": {
             "outlinewidth": 0,
             "ticks": ""
            },
            "type": "choropleth"
           }
          ],
          "contour": [
           {
            "colorbar": {
             "outlinewidth": 0,
             "ticks": ""
            },
            "colorscale": [
             [
              0,
              "#0d0887"
             ],
             [
              0.1111111111111111,
              "#46039f"
             ],
             [
              0.2222222222222222,
              "#7201a8"
             ],
             [
              0.3333333333333333,
              "#9c179e"
             ],
             [
              0.4444444444444444,
              "#bd3786"
             ],
             [
              0.5555555555555556,
              "#d8576b"
             ],
             [
              0.6666666666666666,
              "#ed7953"
             ],
             [
              0.7777777777777778,
              "#fb9f3a"
             ],
             [
              0.8888888888888888,
              "#fdca26"
             ],
             [
              1,
              "#f0f921"
             ]
            ],
            "type": "contour"
           }
          ],
          "contourcarpet": [
           {
            "colorbar": {
             "outlinewidth": 0,
             "ticks": ""
            },
            "type": "contourcarpet"
           }
          ],
          "heatmap": [
           {
            "colorbar": {
             "outlinewidth": 0,
             "ticks": ""
            },
            "colorscale": [
             [
              0,
              "#0d0887"
             ],
             [
              0.1111111111111111,
              "#46039f"
             ],
             [
              0.2222222222222222,
              "#7201a8"
             ],
             [
              0.3333333333333333,
              "#9c179e"
             ],
             [
              0.4444444444444444,
              "#bd3786"
             ],
             [
              0.5555555555555556,
              "#d8576b"
             ],
             [
              0.6666666666666666,
              "#ed7953"
             ],
             [
              0.7777777777777778,
              "#fb9f3a"
             ],
             [
              0.8888888888888888,
              "#fdca26"
             ],
             [
              1,
              "#f0f921"
             ]
            ],
            "type": "heatmap"
           }
          ],
          "histogram": [
           {
            "marker": {
             "pattern": {
              "fillmode": "overlay",
              "size": 10,
              "solidity": 0.2
             }
            },
            "type": "histogram"
           }
          ],
          "histogram2d": [
           {
            "colorbar": {
             "outlinewidth": 0,
             "ticks": ""
            },
            "colorscale": [
             [
              0,
              "#0d0887"
             ],
             [
              0.1111111111111111,
              "#46039f"
             ],
             [
              0.2222222222222222,
              "#7201a8"
             ],
             [
              0.3333333333333333,
              "#9c179e"
             ],
             [
              0.4444444444444444,
              "#bd3786"
             ],
             [
              0.5555555555555556,
              "#d8576b"
             ],
             [
              0.6666666666666666,
              "#ed7953"
             ],
             [
              0.7777777777777778,
              "#fb9f3a"
             ],
             [
              0.8888888888888888,
              "#fdca26"
             ],
             [
              1,
              "#f0f921"
             ]
            ],
            "type": "histogram2d"
           }
          ],
          "histogram2dcontour": [
           {
            "colorbar": {
             "outlinewidth": 0,
             "ticks": ""
            },
            "colorscale": [
             [
              0,
              "#0d0887"
             ],
             [
              0.1111111111111111,
              "#46039f"
             ],
             [
              0.2222222222222222,
              "#7201a8"
             ],
             [
              0.3333333333333333,
              "#9c179e"
             ],
             [
              0.4444444444444444,
              "#bd3786"
             ],
             [
              0.5555555555555556,
              "#d8576b"
             ],
             [
              0.6666666666666666,
              "#ed7953"
             ],
             [
              0.7777777777777778,
              "#fb9f3a"
             ],
             [
              0.8888888888888888,
              "#fdca26"
             ],
             [
              1,
              "#f0f921"
             ]
            ],
            "type": "histogram2dcontour"
           }
          ],
          "mesh3d": [
           {
            "colorbar": {
             "outlinewidth": 0,
             "ticks": ""
            },
            "type": "mesh3d"
           }
          ],
          "parcoords": [
           {
            "line": {
             "colorbar": {
              "outlinewidth": 0,
              "ticks": ""
             }
            },
            "type": "parcoords"
           }
          ],
          "pie": [
           {
            "automargin": true,
            "type": "pie"
           }
          ],
          "scatter": [
           {
            "fillpattern": {
             "fillmode": "overlay",
             "size": 10,
             "solidity": 0.2
            },
            "type": "scatter"
           }
          ],
          "scatter3d": [
           {
            "line": {
             "colorbar": {
              "outlinewidth": 0,
              "ticks": ""
             }
            },
            "marker": {
             "colorbar": {
              "outlinewidth": 0,
              "ticks": ""
             }
            },
            "type": "scatter3d"
           }
          ],
          "scattercarpet": [
           {
            "marker": {
             "colorbar": {
              "outlinewidth": 0,
              "ticks": ""
             }
            },
            "type": "scattercarpet"
           }
          ],
          "scattergeo": [
           {
            "marker": {
             "colorbar": {
              "outlinewidth": 0,
              "ticks": ""
             }
            },
            "type": "scattergeo"
           }
          ],
          "scattergl": [
           {
            "marker": {
             "colorbar": {
              "outlinewidth": 0,
              "ticks": ""
             }
            },
            "type": "scattergl"
           }
          ],
          "scattermap": [
           {
            "marker": {
             "colorbar": {
              "outlinewidth": 0,
              "ticks": ""
             }
            },
            "type": "scattermap"
           }
          ],
          "scattermapbox": [
           {
            "marker": {
             "colorbar": {
              "outlinewidth": 0,
              "ticks": ""
             }
            },
            "type": "scattermapbox"
           }
          ],
          "scatterpolar": [
           {
            "marker": {
             "colorbar": {
              "outlinewidth": 0,
              "ticks": ""
             }
            },
            "type": "scatterpolar"
           }
          ],
          "scatterpolargl": [
           {
            "marker": {
             "colorbar": {
              "outlinewidth": 0,
              "ticks": ""
             }
            },
            "type": "scatterpolargl"
           }
          ],
          "scatterternary": [
           {
            "marker": {
             "colorbar": {
              "outlinewidth": 0,
              "ticks": ""
             }
            },
            "type": "scatterternary"
           }
          ],
          "surface": [
           {
            "colorbar": {
             "outlinewidth": 0,
             "ticks": ""
            },
            "colorscale": [
             [
              0,
              "#0d0887"
             ],
             [
              0.1111111111111111,
              "#46039f"
             ],
             [
              0.2222222222222222,
              "#7201a8"
             ],
             [
              0.3333333333333333,
              "#9c179e"
             ],
             [
              0.4444444444444444,
              "#bd3786"
             ],
             [
              0.5555555555555556,
              "#d8576b"
             ],
             [
              0.6666666666666666,
              "#ed7953"
             ],
             [
              0.7777777777777778,
              "#fb9f3a"
             ],
             [
              0.8888888888888888,
              "#fdca26"
             ],
             [
              1,
              "#f0f921"
             ]
            ],
            "type": "surface"
           }
          ],
          "table": [
           {
            "cells": {
             "fill": {
              "color": "#EBF0F8"
             },
             "line": {
              "color": "white"
             }
            },
            "header": {
             "fill": {
              "color": "#C8D4E3"
             },
             "line": {
              "color": "white"
             }
            },
            "type": "table"
           }
          ]
         },
         "layout": {
          "annotationdefaults": {
           "arrowcolor": "#2a3f5f",
           "arrowhead": 0,
           "arrowwidth": 1
          },
          "autotypenumbers": "strict",
          "coloraxis": {
           "colorbar": {
            "outlinewidth": 0,
            "ticks": ""
           }
          },
          "colorscale": {
           "diverging": [
            [
             0,
             "#8e0152"
            ],
            [
             0.1,
             "#c51b7d"
            ],
            [
             0.2,
             "#de77ae"
            ],
            [
             0.3,
             "#f1b6da"
            ],
            [
             0.4,
             "#fde0ef"
            ],
            [
             0.5,
             "#f7f7f7"
            ],
            [
             0.6,
             "#e6f5d0"
            ],
            [
             0.7,
             "#b8e186"
            ],
            [
             0.8,
             "#7fbc41"
            ],
            [
             0.9,
             "#4d9221"
            ],
            [
             1,
             "#276419"
            ]
           ],
           "sequential": [
            [
             0,
             "#0d0887"
            ],
            [
             0.1111111111111111,
             "#46039f"
            ],
            [
             0.2222222222222222,
             "#7201a8"
            ],
            [
             0.3333333333333333,
             "#9c179e"
            ],
            [
             0.4444444444444444,
             "#bd3786"
            ],
            [
             0.5555555555555556,
             "#d8576b"
            ],
            [
             0.6666666666666666,
             "#ed7953"
            ],
            [
             0.7777777777777778,
             "#fb9f3a"
            ],
            [
             0.8888888888888888,
             "#fdca26"
            ],
            [
             1,
             "#f0f921"
            ]
           ],
           "sequentialminus": [
            [
             0,
             "#0d0887"
            ],
            [
             0.1111111111111111,
             "#46039f"
            ],
            [
             0.2222222222222222,
             "#7201a8"
            ],
            [
             0.3333333333333333,
             "#9c179e"
            ],
            [
             0.4444444444444444,
             "#bd3786"
            ],
            [
             0.5555555555555556,
             "#d8576b"
            ],
            [
             0.6666666666666666,
             "#ed7953"
            ],
            [
             0.7777777777777778,
             "#fb9f3a"
            ],
            [
             0.8888888888888888,
             "#fdca26"
            ],
            [
             1,
             "#f0f921"
            ]
           ]
          },
          "colorway": [
           "#636efa",
           "#EF553B",
           "#00cc96",
           "#ab63fa",
           "#FFA15A",
           "#19d3f3",
           "#FF6692",
           "#B6E880",
           "#FF97FF",
           "#FECB52"
          ],
          "font": {
           "color": "#2a3f5f"
          },
          "geo": {
           "bgcolor": "white",
           "lakecolor": "white",
           "landcolor": "#E5ECF6",
           "showlakes": true,
           "showland": true,
           "subunitcolor": "white"
          },
          "hoverlabel": {
           "align": "left"
          },
          "hovermode": "closest",
          "mapbox": {
           "style": "light"
          },
          "paper_bgcolor": "white",
          "plot_bgcolor": "#E5ECF6",
          "polar": {
           "angularaxis": {
            "gridcolor": "white",
            "linecolor": "white",
            "ticks": ""
           },
           "bgcolor": "#E5ECF6",
           "radialaxis": {
            "gridcolor": "white",
            "linecolor": "white",
            "ticks": ""
           }
          },
          "scene": {
           "xaxis": {
            "backgroundcolor": "#E5ECF6",
            "gridcolor": "white",
            "gridwidth": 2,
            "linecolor": "white",
            "showbackground": true,
            "ticks": "",
            "zerolinecolor": "white"
           },
           "yaxis": {
            "backgroundcolor": "#E5ECF6",
            "gridcolor": "white",
            "gridwidth": 2,
            "linecolor": "white",
            "showbackground": true,
            "ticks": "",
            "zerolinecolor": "white"
           },
           "zaxis": {
            "backgroundcolor": "#E5ECF6",
            "gridcolor": "white",
            "gridwidth": 2,
            "linecolor": "white",
            "showbackground": true,
            "ticks": "",
            "zerolinecolor": "white"
           }
          },
          "shapedefaults": {
           "line": {
            "color": "#2a3f5f"
           }
          },
          "ternary": {
           "aaxis": {
            "gridcolor": "white",
            "linecolor": "white",
            "ticks": ""
           },
           "baxis": {
            "gridcolor": "white",
            "linecolor": "white",
            "ticks": ""
           },
           "bgcolor": "#E5ECF6",
           "caxis": {
            "gridcolor": "white",
            "linecolor": "white",
            "ticks": ""
           }
          },
          "title": {
           "x": 0.05
          },
          "xaxis": {
           "automargin": true,
           "gridcolor": "white",
           "linecolor": "white",
           "ticks": "",
           "title": {
            "standoff": 15
           },
           "zerolinecolor": "white",
           "zerolinewidth": 2
          },
          "yaxis": {
           "automargin": true,
           "gridcolor": "white",
           "linecolor": "white",
           "ticks": "",
           "title": {
            "standoff": 15
           },
           "zerolinecolor": "white",
           "zerolinewidth": 2
          }
         }
        },
        "title": {
         "text": "Hyperparameter Importances"
        },
        "xaxis": {
         "title": {
          "text": "Hyperparameter Importance"
         }
        },
        "yaxis": {
         "title": {
          "text": "Hyperparameter"
         }
        }
       }
      }
     },
     "metadata": {},
     "output_type": "display_data"
    }
   ],
   "source": [
    "fig1 = optuna.visualization.plot_optimization_history(study)\n",
    "fig2 = optuna.visualization.plot_param_importances(study)\n",
    "show(fig1)\n",
    "show(fig2)"
   ]
  },
  {
   "cell_type": "markdown",
   "id": "48a99a11",
   "metadata": {},
   "source": [
    "# Exporting Model"
   ]
  },
  {
   "cell_type": "code",
   "execution_count": null,
   "id": "792645f3",
   "metadata": {},
   "outputs": [],
   "source": [
    "# import pickle\n",
    "\n",
    "# with open('final_model.pkl', 'wb') as file:\n",
    "#     pickle.dump(final_model, file)"
   ]
  },
  {
   "cell_type": "code",
   "execution_count": 7,
   "id": "93019b63",
   "metadata": {},
   "outputs": [],
   "source": [
    "with open('df.pkl', 'wb') as file:\n",
    "    pickle.dump(x, file)"
   ]
  },
  {
   "cell_type": "code",
   "execution_count": 11,
   "id": "94802b97",
   "metadata": {},
   "outputs": [
    {
     "data": {
      "text/plain": [
       "['low', 'medium', 'high', NaN]\n",
       "Categories (3, object): ['low' < 'medium' < 'high']"
      ]
     },
     "execution_count": 11,
     "metadata": {},
     "output_type": "execute_result"
    }
   ],
   "source": [
    "x['floorNum_cat'].unique()"
   ]
  },
  {
   "cell_type": "markdown",
   "id": "30ecf12b",
   "metadata": {},
   "source": [
    "## Saving final dataframe"
   ]
  },
  {
   "cell_type": "code",
   "execution_count": 190,
   "id": "864eccbb",
   "metadata": {},
   "outputs": [],
   "source": [
    "# df.to_csv('final_df.csv')"
   ]
  },
  {
   "cell_type": "markdown",
   "id": "de082787",
   "metadata": {},
   "source": [
    "# Importing Model"
   ]
  },
  {
   "cell_type": "code",
   "execution_count": 191,
   "id": "872b3a42",
   "metadata": {},
   "outputs": [],
   "source": [
    "# # Open and read the pickle file\n",
    "# with open('final_model.pkl', 'rb') as file:  # 'rb' means read binary\n",
    "#     data = pickle.load(file)\n",
    "\n",
    "# print(data)"
   ]
  },
  {
   "cell_type": "markdown",
   "id": "ea9721f7",
   "metadata": {},
   "source": [
    "# Predicting (same format as the training df)"
   ]
  },
  {
   "cell_type": "code",
   "execution_count": 192,
   "id": "1e786ee7",
   "metadata": {},
   "outputs": [
    {
     "data": {
      "text/html": [
       "<div>\n",
       "<style scoped>\n",
       "    .dataframe tbody tr th:only-of-type {\n",
       "        vertical-align: middle;\n",
       "    }\n",
       "\n",
       "    .dataframe tbody tr th {\n",
       "        vertical-align: top;\n",
       "    }\n",
       "\n",
       "    .dataframe thead th {\n",
       "        text-align: right;\n",
       "    }\n",
       "</style>\n",
       "<table border=\"1\" class=\"dataframe\">\n",
       "  <thead>\n",
       "    <tr style=\"text-align: right;\">\n",
       "      <th></th>\n",
       "      <th>property_type</th>\n",
       "      <th>sector</th>\n",
       "      <th>bedRoom</th>\n",
       "      <th>bathroom</th>\n",
       "      <th>balcony</th>\n",
       "      <th>agePossession</th>\n",
       "      <th>super_built_up_area</th>\n",
       "      <th>built_up_area</th>\n",
       "      <th>carpet_area</th>\n",
       "      <th>study room</th>\n",
       "      <th>servant room</th>\n",
       "      <th>furnishing_type</th>\n",
       "      <th>luxury_cat</th>\n",
       "      <th>floorNum_cat</th>\n",
       "    </tr>\n",
       "  </thead>\n",
       "  <tbody>\n",
       "    <tr>\n",
       "      <th>0</th>\n",
       "      <td>flat</td>\n",
       "      <td>sector 36</td>\n",
       "      <td>3</td>\n",
       "      <td>2</td>\n",
       "      <td>2</td>\n",
       "      <td>New Property</td>\n",
       "      <td>1081.0</td>\n",
       "      <td>NaN</td>\n",
       "      <td>650.0</td>\n",
       "      <td>0</td>\n",
       "      <td>0</td>\n",
       "      <td>unfurnished</td>\n",
       "      <td>low</td>\n",
       "      <td>low</td>\n",
       "    </tr>\n",
       "    <tr>\n",
       "      <th>1</th>\n",
       "      <td>flat</td>\n",
       "      <td>sector 89</td>\n",
       "      <td>2</td>\n",
       "      <td>2</td>\n",
       "      <td>2</td>\n",
       "      <td>New Property</td>\n",
       "      <td>NaN</td>\n",
       "      <td>NaN</td>\n",
       "      <td>1103.0</td>\n",
       "      <td>1</td>\n",
       "      <td>1</td>\n",
       "      <td>unfurnished</td>\n",
       "      <td>low</td>\n",
       "      <td>medium</td>\n",
       "    </tr>\n",
       "    <tr>\n",
       "      <th>2</th>\n",
       "      <td>flat</td>\n",
       "      <td>sohna road</td>\n",
       "      <td>2</td>\n",
       "      <td>2</td>\n",
       "      <td>1</td>\n",
       "      <td>New Property</td>\n",
       "      <td>NaN</td>\n",
       "      <td>1000.0</td>\n",
       "      <td>585.0</td>\n",
       "      <td>0</td>\n",
       "      <td>0</td>\n",
       "      <td>unfurnished</td>\n",
       "      <td>low</td>\n",
       "      <td>high</td>\n",
       "    </tr>\n",
       "    <tr>\n",
       "      <th>3</th>\n",
       "      <td>flat</td>\n",
       "      <td>sector 92</td>\n",
       "      <td>3</td>\n",
       "      <td>4</td>\n",
       "      <td>3+</td>\n",
       "      <td>Relatively New</td>\n",
       "      <td>1995.0</td>\n",
       "      <td>1615.0</td>\n",
       "      <td>1476.0</td>\n",
       "      <td>0</td>\n",
       "      <td>1</td>\n",
       "      <td>semi_furnished</td>\n",
       "      <td>high</td>\n",
       "      <td>medium</td>\n",
       "    </tr>\n",
       "    <tr>\n",
       "      <th>4</th>\n",
       "      <td>flat</td>\n",
       "      <td>sector 102</td>\n",
       "      <td>2</td>\n",
       "      <td>2</td>\n",
       "      <td>1</td>\n",
       "      <td>Relatively New</td>\n",
       "      <td>632.0</td>\n",
       "      <td>NaN</td>\n",
       "      <td>532.0</td>\n",
       "      <td>0</td>\n",
       "      <td>0</td>\n",
       "      <td>unfurnished</td>\n",
       "      <td>high</td>\n",
       "      <td>medium</td>\n",
       "    </tr>\n",
       "    <tr>\n",
       "      <th>...</th>\n",
       "      <td>...</td>\n",
       "      <td>...</td>\n",
       "      <td>...</td>\n",
       "      <td>...</td>\n",
       "      <td>...</td>\n",
       "      <td>...</td>\n",
       "      <td>...</td>\n",
       "      <td>...</td>\n",
       "      <td>...</td>\n",
       "      <td>...</td>\n",
       "      <td>...</td>\n",
       "      <td>...</td>\n",
       "      <td>...</td>\n",
       "      <td>...</td>\n",
       "    </tr>\n",
       "    <tr>\n",
       "      <th>3644</th>\n",
       "      <td>flat</td>\n",
       "      <td>sector 84</td>\n",
       "      <td>2</td>\n",
       "      <td>2</td>\n",
       "      <td>1</td>\n",
       "      <td>Relatively New</td>\n",
       "      <td>583.0</td>\n",
       "      <td>NaN</td>\n",
       "      <td>483.0</td>\n",
       "      <td>0</td>\n",
       "      <td>0</td>\n",
       "      <td>unfurnished</td>\n",
       "      <td>medium</td>\n",
       "      <td>medium</td>\n",
       "    </tr>\n",
       "    <tr>\n",
       "      <th>3645</th>\n",
       "      <td>house</td>\n",
       "      <td>sector 109</td>\n",
       "      <td>5</td>\n",
       "      <td>5</td>\n",
       "      <td>3+</td>\n",
       "      <td>Relatively New</td>\n",
       "      <td>NaN</td>\n",
       "      <td>6228.0</td>\n",
       "      <td>NaN</td>\n",
       "      <td>1</td>\n",
       "      <td>1</td>\n",
       "      <td>unfurnished</td>\n",
       "      <td>high</td>\n",
       "      <td>low</td>\n",
       "    </tr>\n",
       "    <tr>\n",
       "      <th>3646</th>\n",
       "      <td>flat</td>\n",
       "      <td>sector 2</td>\n",
       "      <td>1</td>\n",
       "      <td>1</td>\n",
       "      <td>1</td>\n",
       "      <td>Moderately Old</td>\n",
       "      <td>735.0</td>\n",
       "      <td>NaN</td>\n",
       "      <td>NaN</td>\n",
       "      <td>0</td>\n",
       "      <td>0</td>\n",
       "      <td>semi_furnished</td>\n",
       "      <td>medium</td>\n",
       "      <td>medium</td>\n",
       "    </tr>\n",
       "    <tr>\n",
       "      <th>3647</th>\n",
       "      <td>house</td>\n",
       "      <td>sector 43</td>\n",
       "      <td>5</td>\n",
       "      <td>6</td>\n",
       "      <td>3</td>\n",
       "      <td>Moderately Old</td>\n",
       "      <td>NaN</td>\n",
       "      <td>5490.0</td>\n",
       "      <td>NaN</td>\n",
       "      <td>1</td>\n",
       "      <td>1</td>\n",
       "      <td>unfurnished</td>\n",
       "      <td>medium</td>\n",
       "      <td>low</td>\n",
       "    </tr>\n",
       "    <tr>\n",
       "      <th>3648</th>\n",
       "      <td>flat</td>\n",
       "      <td>sector 68</td>\n",
       "      <td>3</td>\n",
       "      <td>3</td>\n",
       "      <td>3+</td>\n",
       "      <td>Relatively New</td>\n",
       "      <td>1950.0</td>\n",
       "      <td>1845.0</td>\n",
       "      <td>1530.0</td>\n",
       "      <td>0</td>\n",
       "      <td>0</td>\n",
       "      <td>semi_furnished</td>\n",
       "      <td>medium</td>\n",
       "      <td>high</td>\n",
       "    </tr>\n",
       "  </tbody>\n",
       "</table>\n",
       "<p>3649 rows × 14 columns</p>\n",
       "</div>"
      ],
      "text/plain": [
       "     property_type      sector  bedRoom  bathroom balcony   agePossession  \\\n",
       "0             flat   sector 36        3         2       2    New Property   \n",
       "1             flat   sector 89        2         2       2    New Property   \n",
       "2             flat  sohna road        2         2       1    New Property   \n",
       "3             flat   sector 92        3         4      3+  Relatively New   \n",
       "4             flat  sector 102        2         2       1  Relatively New   \n",
       "...            ...         ...      ...       ...     ...             ...   \n",
       "3644          flat   sector 84        2         2       1  Relatively New   \n",
       "3645         house  sector 109        5         5      3+  Relatively New   \n",
       "3646          flat    sector 2        1         1       1  Moderately Old   \n",
       "3647         house   sector 43        5         6       3  Moderately Old   \n",
       "3648          flat   sector 68        3         3      3+  Relatively New   \n",
       "\n",
       "      super_built_up_area  built_up_area  carpet_area  study room  \\\n",
       "0                  1081.0            NaN        650.0           0   \n",
       "1                     NaN            NaN       1103.0           1   \n",
       "2                     NaN         1000.0        585.0           0   \n",
       "3                  1995.0         1615.0       1476.0           0   \n",
       "4                   632.0            NaN        532.0           0   \n",
       "...                   ...            ...          ...         ...   \n",
       "3644                583.0            NaN        483.0           0   \n",
       "3645                  NaN         6228.0          NaN           1   \n",
       "3646                735.0            NaN          NaN           0   \n",
       "3647                  NaN         5490.0          NaN           1   \n",
       "3648               1950.0         1845.0       1530.0           0   \n",
       "\n",
       "      servant room furnishing_type luxury_cat floorNum_cat  \n",
       "0                0     unfurnished        low          low  \n",
       "1                1     unfurnished        low       medium  \n",
       "2                0     unfurnished        low         high  \n",
       "3                1  semi_furnished       high       medium  \n",
       "4                0     unfurnished       high       medium  \n",
       "...            ...             ...        ...          ...  \n",
       "3644             0     unfurnished     medium       medium  \n",
       "3645             1     unfurnished       high          low  \n",
       "3646             0  semi_furnished     medium       medium  \n",
       "3647             1     unfurnished     medium          low  \n",
       "3648             0  semi_furnished     medium         high  \n",
       "\n",
       "[3649 rows x 14 columns]"
      ]
     },
     "execution_count": 192,
     "metadata": {},
     "output_type": "execute_result"
    }
   ],
   "source": [
    "x"
   ]
  },
  {
   "cell_type": "code",
   "execution_count": 193,
   "id": "0c08a24e",
   "metadata": {},
   "outputs": [],
   "source": [
    "columns = ['property_type', 'sector','bedRoom', 'bathroom', 'balcony',\n",
    "       'agePossession', 'super_built_up_area', 'built_up_area', 'carpet_area',\n",
    "       'study room', 'servant room', 'furnishing_type', 'luxury_cat',\n",
    "       'floorNum_cat']"
   ]
  },
  {
   "cell_type": "code",
   "execution_count": 194,
   "id": "bd238b5c",
   "metadata": {},
   "outputs": [
    {
     "data": {
      "text/plain": [
       "property_type                  flat\n",
       "sector                    sector 89\n",
       "bedRoom                           2\n",
       "bathroom                          2\n",
       "balcony                           2\n",
       "agePossession          New Property\n",
       "super_built_up_area             NaN\n",
       "built_up_area                   NaN\n",
       "carpet_area                  1103.0\n",
       "study room                        1\n",
       "servant room                      1\n",
       "furnishing_type         unfurnished\n",
       "luxury_cat                      low\n",
       "floorNum_cat                 medium\n",
       "Name: 1, dtype: object"
      ]
     },
     "execution_count": 194,
     "metadata": {},
     "output_type": "execute_result"
    }
   ],
   "source": [
    "x.iloc[1]"
   ]
  },
  {
   "cell_type": "code",
   "execution_count": 195,
   "id": "7114c90f",
   "metadata": {},
   "outputs": [
    {
     "data": {
      "text/html": [
       "<div>\n",
       "<style scoped>\n",
       "    .dataframe tbody tr th:only-of-type {\n",
       "        vertical-align: middle;\n",
       "    }\n",
       "\n",
       "    .dataframe tbody tr th {\n",
       "        vertical-align: top;\n",
       "    }\n",
       "\n",
       "    .dataframe thead th {\n",
       "        text-align: right;\n",
       "    }\n",
       "</style>\n",
       "<table border=\"1\" class=\"dataframe\">\n",
       "  <thead>\n",
       "    <tr style=\"text-align: right;\">\n",
       "      <th></th>\n",
       "      <th>property_type</th>\n",
       "      <th>sector</th>\n",
       "      <th>bedRoom</th>\n",
       "      <th>bathroom</th>\n",
       "      <th>balcony</th>\n",
       "      <th>agePossession</th>\n",
       "      <th>super_built_up_area</th>\n",
       "      <th>built_up_area</th>\n",
       "      <th>carpet_area</th>\n",
       "      <th>study room</th>\n",
       "      <th>servant room</th>\n",
       "      <th>furnishing_type</th>\n",
       "      <th>luxury_cat</th>\n",
       "      <th>floorNum_cat</th>\n",
       "    </tr>\n",
       "  </thead>\n",
       "  <tbody>\n",
       "    <tr>\n",
       "      <th>0</th>\n",
       "      <td>house</td>\n",
       "      <td>sector 102</td>\n",
       "      <td>4</td>\n",
       "      <td>3</td>\n",
       "      <td>3+</td>\n",
       "      <td>New Property</td>\n",
       "      <td>3000</td>\n",
       "      <td>2750</td>\n",
       "      <td>2500</td>\n",
       "      <td>0</td>\n",
       "      <td>0</td>\n",
       "      <td>unfurnished</td>\n",
       "      <td>low</td>\n",
       "      <td>low</td>\n",
       "    </tr>\n",
       "  </tbody>\n",
       "</table>\n",
       "</div>"
      ],
      "text/plain": [
       "  property_type      sector  bedRoom  bathroom balcony agePossession  \\\n",
       "0         house  sector 102        4         3      3+  New Property   \n",
       "\n",
       "   super_built_up_area  built_up_area  carpet_area  study room  servant room  \\\n",
       "0                 3000           2750         2500           0             0   \n",
       "\n",
       "  furnishing_type luxury_cat floorNum_cat  \n",
       "0     unfurnished        low          low  "
      ]
     },
     "execution_count": 195,
     "metadata": {},
     "output_type": "execute_result"
    }
   ],
   "source": [
    "data = [['house', 'sector 102', 4, 3, '3+', 'New Property',3000, 2750,2500, 0, 0, 'unfurnished', 'low', 'low']]\n",
    "\n",
    "data = pd.DataFrame(data,columns=columns)\n",
    "data"
   ]
  },
  {
   "cell_type": "code",
   "execution_count": 196,
   "id": "eab46a3b",
   "metadata": {},
   "outputs": [],
   "source": [
    "data['property_type'] = data['property_type'].astype('category')\n",
    "data['sector'] = data['sector'].astype('category')\n",
    "data['balcony'] = data['balcony'].astype('category')\n",
    "data['agePossession'] = data['agePossession'].astype('category')\n",
    "data['furnishing_type'] = data['furnishing_type'].astype('category')"
   ]
  },
  {
   "cell_type": "code",
   "execution_count": 197,
   "id": "99782509",
   "metadata": {},
   "outputs": [
    {
     "data": {
      "text/plain": [
       "array([1.3663626], dtype=float32)"
      ]
     },
     "execution_count": 197,
     "metadata": {},
     "output_type": "execute_result"
    }
   ],
   "source": [
    "(final_model.predict(data))"
   ]
  }
 ],
 "metadata": {
  "kernelspec": {
   "display_name": "Python 3",
   "language": "python",
   "name": "python3"
  },
  "language_info": {
   "codemirror_mode": {
    "name": "ipython",
    "version": 3
   },
   "file_extension": ".py",
   "mimetype": "text/x-python",
   "name": "python",
   "nbconvert_exporter": "python",
   "pygments_lexer": "ipython3",
   "version": "3.13.1"
  }
 },
 "nbformat": 4,
 "nbformat_minor": 5
}
