{
 "cells": [
  {
   "cell_type": "code",
   "execution_count": 103,
   "id": "365fe996",
   "metadata": {},
   "outputs": [],
   "source": [
    "import pandas as pd\n",
    "import numpy as np\n",
    "import matplotlib.pyplot as plt\n",
    "import seaborn as sns\n",
    "\n",
    "import category_encoders as ce\n",
    "from sklearn.pipeline import Pipeline\n",
    "from sklearn.preprocessing import OneHotEncoder,StandardScaler,OrdinalEncoder,TargetEncoder\n",
    "from sklearn.compose import ColumnTransformer\n",
    "from sklearn.impute import SimpleImputer\n",
    "from sklearn.linear_model import LinearRegression\n",
    "from sklearn.model_selection import train_test_split,GridSearchCV,cross_val_score,KFold,RandomizedSearchCV\n",
    "from lightgbm import LGBMRegressor\n",
    "from sklearn.linear_model import LinearRegression, Ridge, Lasso\n",
    "from sklearn.svm import SVR\n",
    "from sklearn.tree import DecisionTreeRegressor,plot_tree\n",
    "from sklearn.ensemble import RandomForestRegressor, ExtraTreesRegressor, GradientBoostingRegressor, AdaBoostRegressor\n",
    "from sklearn.neural_network import MLPRegressor\n",
    "from xgboost import XGBRegressor\n",
    "import xgboost as xgb\n",
    "from sklearn.metrics import mean_squared_error,mean_absolute_error,r2_score\n",
    "import optuna\n",
    "from plotly.io import show\n",
    "\n",
    "pd.set_option('display.max_columns', None)"
   ]
  },
  {
   "cell_type": "code",
   "execution_count": 104,
   "id": "8596e3d0",
   "metadata": {},
   "outputs": [],
   "source": [
    "df = pd.read_csv('final_df.csv')"
   ]
  },
  {
   "cell_type": "code",
   "execution_count": 105,
   "id": "a587aa19",
   "metadata": {},
   "outputs": [],
   "source": [
    "x = df.drop('price',axis=1)\n",
    "y = df['price']\n",
    "y = np.log1p(y)"
   ]
  },
  {
   "cell_type": "code",
   "execution_count": 106,
   "id": "0e98c591",
   "metadata": {},
   "outputs": [],
   "source": [
    "x_train,x_test,y_train,y_test = train_test_split(x,y,test_size=0.2,random_state=42)"
   ]
  },
  {
   "cell_type": "code",
   "execution_count": 107,
   "id": "193ebfe2",
   "metadata": {},
   "outputs": [
    {
     "data": {
      "text/plain": [
       "np.float64(0.6780471532510705)"
      ]
     },
     "execution_count": 107,
     "metadata": {},
     "output_type": "execute_result"
    }
   ],
   "source": [
    "missing_pipe_cat_age = Pipeline([\n",
    "    ('Missing_Cat', SimpleImputer(strategy='most_frequent')),\n",
    "    ('Onehot',OneHotEncoder(drop='first',handle_unknown='ignore',sparse_output=False))\n",
    "    ])\n",
    "\n",
    "missing_pipe_cat_floor = Pipeline([\n",
    "    ('Missing_Cat', SimpleImputer(strategy='most_frequent')),\n",
    "    ('ordinal',OrdinalEncoder(handle_unknown='use_encoded_value',unknown_value=-1))\n",
    "    ])\n",
    "\n",
    "missing_pipe_num = Pipeline([\n",
    "    ('Missing_Num', SimpleImputer(strategy='median')),\n",
    "    ('scaling',StandardScaler())\n",
    "     ])\n",
    "\n",
    "\n",
    "Target_preprocessor = ColumnTransformer([\n",
    "    ('missing_pipe_cat_age',missing_pipe_cat_age,['agePossession']),\n",
    "    ('missing_pipe_cat_floor',missing_pipe_cat_floor,['floorNum_cat']),\n",
    "    ('missing_pipe_num',missing_pipe_num,[ 'super_built_up_area','built_up_area', 'carpet_area']),\n",
    "    ('ordinal',OrdinalEncoder(),['balcony','luxury_cat']),\n",
    "    ('onehot',OneHotEncoder(drop='first', handle_unknown='ignore'), ['furnishing_type','property_type']),\n",
    "    # ('target',ce.TargetEncoder(),['sector']),\n",
    "    ('scaling',StandardScaler(),['bedRoom', 'bathroom', 'study room', 'servant room'])\n",
    "    ],remainder='passthrough')\n",
    "\n",
    "\n",
    "model_pipe = Pipeline([\n",
    "    ('target',ce.TargetEncoder(cols=['sector'])),\n",
    "    ('TargetEncoder',Target_preprocessor),\n",
    "    ('model',RandomForestRegressor(random_state=0,n_estimators=1,max_depth=3,n_jobs=-1))\n",
    "])\n",
    "\n",
    "\n",
    "cv_score = cross_val_score(model_pipe,x_train,y_train,cv=5,scoring='r2',n_jobs=1)\n",
    "cv_score.mean()"
   ]
  },
  {
   "cell_type": "code",
   "execution_count": 108,
   "id": "20401d6c",
   "metadata": {},
   "outputs": [
    {
     "name": "stderr",
     "output_type": "stream",
     "text": [
      "c:\\Users\\User\\AppData\\Local\\Programs\\Python\\Python313\\Lib\\site-packages\\sklearn\\compose\\_column_transformer.py:1667: FutureWarning:\n",
      "\n",
      "\n",
      "The format of the columns of the 'remainder' transformer in ColumnTransformer.transformers_ will change in version 1.7 to match the format of the other transformers.\n",
      "At the moment the remainder columns are stored as indices (of type int). With the same ColumnTransformer configuration, in the future they will be stored as column names (of type str).\n",
      "To use the new behavior now and suppress this warning, use ColumnTransformer(force_int_remainder_cols=False).\n",
      "\n",
      "\n"
     ]
    },
    {
     "data": {
      "text/html": [
       "<style>#sk-container-id-5 {\n",
       "  /* Definition of color scheme common for light and dark mode */\n",
       "  --sklearn-color-text: #000;\n",
       "  --sklearn-color-text-muted: #666;\n",
       "  --sklearn-color-line: gray;\n",
       "  /* Definition of color scheme for unfitted estimators */\n",
       "  --sklearn-color-unfitted-level-0: #fff5e6;\n",
       "  --sklearn-color-unfitted-level-1: #f6e4d2;\n",
       "  --sklearn-color-unfitted-level-2: #ffe0b3;\n",
       "  --sklearn-color-unfitted-level-3: chocolate;\n",
       "  /* Definition of color scheme for fitted estimators */\n",
       "  --sklearn-color-fitted-level-0: #f0f8ff;\n",
       "  --sklearn-color-fitted-level-1: #d4ebff;\n",
       "  --sklearn-color-fitted-level-2: #b3dbfd;\n",
       "  --sklearn-color-fitted-level-3: cornflowerblue;\n",
       "\n",
       "  /* Specific color for light theme */\n",
       "  --sklearn-color-text-on-default-background: var(--sg-text-color, var(--theme-code-foreground, var(--jp-content-font-color1, black)));\n",
       "  --sklearn-color-background: var(--sg-background-color, var(--theme-background, var(--jp-layout-color0, white)));\n",
       "  --sklearn-color-border-box: var(--sg-text-color, var(--theme-code-foreground, var(--jp-content-font-color1, black)));\n",
       "  --sklearn-color-icon: #696969;\n",
       "\n",
       "  @media (prefers-color-scheme: dark) {\n",
       "    /* Redefinition of color scheme for dark theme */\n",
       "    --sklearn-color-text-on-default-background: var(--sg-text-color, var(--theme-code-foreground, var(--jp-content-font-color1, white)));\n",
       "    --sklearn-color-background: var(--sg-background-color, var(--theme-background, var(--jp-layout-color0, #111)));\n",
       "    --sklearn-color-border-box: var(--sg-text-color, var(--theme-code-foreground, var(--jp-content-font-color1, white)));\n",
       "    --sklearn-color-icon: #878787;\n",
       "  }\n",
       "}\n",
       "\n",
       "#sk-container-id-5 {\n",
       "  color: var(--sklearn-color-text);\n",
       "}\n",
       "\n",
       "#sk-container-id-5 pre {\n",
       "  padding: 0;\n",
       "}\n",
       "\n",
       "#sk-container-id-5 input.sk-hidden--visually {\n",
       "  border: 0;\n",
       "  clip: rect(1px 1px 1px 1px);\n",
       "  clip: rect(1px, 1px, 1px, 1px);\n",
       "  height: 1px;\n",
       "  margin: -1px;\n",
       "  overflow: hidden;\n",
       "  padding: 0;\n",
       "  position: absolute;\n",
       "  width: 1px;\n",
       "}\n",
       "\n",
       "#sk-container-id-5 div.sk-dashed-wrapped {\n",
       "  border: 1px dashed var(--sklearn-color-line);\n",
       "  margin: 0 0.4em 0.5em 0.4em;\n",
       "  box-sizing: border-box;\n",
       "  padding-bottom: 0.4em;\n",
       "  background-color: var(--sklearn-color-background);\n",
       "}\n",
       "\n",
       "#sk-container-id-5 div.sk-container {\n",
       "  /* jupyter's `normalize.less` sets `[hidden] { display: none; }`\n",
       "     but bootstrap.min.css set `[hidden] { display: none !important; }`\n",
       "     so we also need the `!important` here to be able to override the\n",
       "     default hidden behavior on the sphinx rendered scikit-learn.org.\n",
       "     See: https://github.com/scikit-learn/scikit-learn/issues/21755 */\n",
       "  display: inline-block !important;\n",
       "  position: relative;\n",
       "}\n",
       "\n",
       "#sk-container-id-5 div.sk-text-repr-fallback {\n",
       "  display: none;\n",
       "}\n",
       "\n",
       "div.sk-parallel-item,\n",
       "div.sk-serial,\n",
       "div.sk-item {\n",
       "  /* draw centered vertical line to link estimators */\n",
       "  background-image: linear-gradient(var(--sklearn-color-text-on-default-background), var(--sklearn-color-text-on-default-background));\n",
       "  background-size: 2px 100%;\n",
       "  background-repeat: no-repeat;\n",
       "  background-position: center center;\n",
       "}\n",
       "\n",
       "/* Parallel-specific style estimator block */\n",
       "\n",
       "#sk-container-id-5 div.sk-parallel-item::after {\n",
       "  content: \"\";\n",
       "  width: 100%;\n",
       "  border-bottom: 2px solid var(--sklearn-color-text-on-default-background);\n",
       "  flex-grow: 1;\n",
       "}\n",
       "\n",
       "#sk-container-id-5 div.sk-parallel {\n",
       "  display: flex;\n",
       "  align-items: stretch;\n",
       "  justify-content: center;\n",
       "  background-color: var(--sklearn-color-background);\n",
       "  position: relative;\n",
       "}\n",
       "\n",
       "#sk-container-id-5 div.sk-parallel-item {\n",
       "  display: flex;\n",
       "  flex-direction: column;\n",
       "}\n",
       "\n",
       "#sk-container-id-5 div.sk-parallel-item:first-child::after {\n",
       "  align-self: flex-end;\n",
       "  width: 50%;\n",
       "}\n",
       "\n",
       "#sk-container-id-5 div.sk-parallel-item:last-child::after {\n",
       "  align-self: flex-start;\n",
       "  width: 50%;\n",
       "}\n",
       "\n",
       "#sk-container-id-5 div.sk-parallel-item:only-child::after {\n",
       "  width: 0;\n",
       "}\n",
       "\n",
       "/* Serial-specific style estimator block */\n",
       "\n",
       "#sk-container-id-5 div.sk-serial {\n",
       "  display: flex;\n",
       "  flex-direction: column;\n",
       "  align-items: center;\n",
       "  background-color: var(--sklearn-color-background);\n",
       "  padding-right: 1em;\n",
       "  padding-left: 1em;\n",
       "}\n",
       "\n",
       "\n",
       "/* Toggleable style: style used for estimator/Pipeline/ColumnTransformer box that is\n",
       "clickable and can be expanded/collapsed.\n",
       "- Pipeline and ColumnTransformer use this feature and define the default style\n",
       "- Estimators will overwrite some part of the style using the `sk-estimator` class\n",
       "*/\n",
       "\n",
       "/* Pipeline and ColumnTransformer style (default) */\n",
       "\n",
       "#sk-container-id-5 div.sk-toggleable {\n",
       "  /* Default theme specific background. It is overwritten whether we have a\n",
       "  specific estimator or a Pipeline/ColumnTransformer */\n",
       "  background-color: var(--sklearn-color-background);\n",
       "}\n",
       "\n",
       "/* Toggleable label */\n",
       "#sk-container-id-5 label.sk-toggleable__label {\n",
       "  cursor: pointer;\n",
       "  display: flex;\n",
       "  width: 100%;\n",
       "  margin-bottom: 0;\n",
       "  padding: 0.5em;\n",
       "  box-sizing: border-box;\n",
       "  text-align: center;\n",
       "  align-items: start;\n",
       "  justify-content: space-between;\n",
       "  gap: 0.5em;\n",
       "}\n",
       "\n",
       "#sk-container-id-5 label.sk-toggleable__label .caption {\n",
       "  font-size: 0.6rem;\n",
       "  font-weight: lighter;\n",
       "  color: var(--sklearn-color-text-muted);\n",
       "}\n",
       "\n",
       "#sk-container-id-5 label.sk-toggleable__label-arrow:before {\n",
       "  /* Arrow on the left of the label */\n",
       "  content: \"▸\";\n",
       "  float: left;\n",
       "  margin-right: 0.25em;\n",
       "  color: var(--sklearn-color-icon);\n",
       "}\n",
       "\n",
       "#sk-container-id-5 label.sk-toggleable__label-arrow:hover:before {\n",
       "  color: var(--sklearn-color-text);\n",
       "}\n",
       "\n",
       "/* Toggleable content - dropdown */\n",
       "\n",
       "#sk-container-id-5 div.sk-toggleable__content {\n",
       "  max-height: 0;\n",
       "  max-width: 0;\n",
       "  overflow: hidden;\n",
       "  text-align: left;\n",
       "  /* unfitted */\n",
       "  background-color: var(--sklearn-color-unfitted-level-0);\n",
       "}\n",
       "\n",
       "#sk-container-id-5 div.sk-toggleable__content.fitted {\n",
       "  /* fitted */\n",
       "  background-color: var(--sklearn-color-fitted-level-0);\n",
       "}\n",
       "\n",
       "#sk-container-id-5 div.sk-toggleable__content pre {\n",
       "  margin: 0.2em;\n",
       "  border-radius: 0.25em;\n",
       "  color: var(--sklearn-color-text);\n",
       "  /* unfitted */\n",
       "  background-color: var(--sklearn-color-unfitted-level-0);\n",
       "}\n",
       "\n",
       "#sk-container-id-5 div.sk-toggleable__content.fitted pre {\n",
       "  /* unfitted */\n",
       "  background-color: var(--sklearn-color-fitted-level-0);\n",
       "}\n",
       "\n",
       "#sk-container-id-5 input.sk-toggleable__control:checked~div.sk-toggleable__content {\n",
       "  /* Expand drop-down */\n",
       "  max-height: 200px;\n",
       "  max-width: 100%;\n",
       "  overflow: auto;\n",
       "}\n",
       "\n",
       "#sk-container-id-5 input.sk-toggleable__control:checked~label.sk-toggleable__label-arrow:before {\n",
       "  content: \"▾\";\n",
       "}\n",
       "\n",
       "/* Pipeline/ColumnTransformer-specific style */\n",
       "\n",
       "#sk-container-id-5 div.sk-label input.sk-toggleable__control:checked~label.sk-toggleable__label {\n",
       "  color: var(--sklearn-color-text);\n",
       "  background-color: var(--sklearn-color-unfitted-level-2);\n",
       "}\n",
       "\n",
       "#sk-container-id-5 div.sk-label.fitted input.sk-toggleable__control:checked~label.sk-toggleable__label {\n",
       "  background-color: var(--sklearn-color-fitted-level-2);\n",
       "}\n",
       "\n",
       "/* Estimator-specific style */\n",
       "\n",
       "/* Colorize estimator box */\n",
       "#sk-container-id-5 div.sk-estimator input.sk-toggleable__control:checked~label.sk-toggleable__label {\n",
       "  /* unfitted */\n",
       "  background-color: var(--sklearn-color-unfitted-level-2);\n",
       "}\n",
       "\n",
       "#sk-container-id-5 div.sk-estimator.fitted input.sk-toggleable__control:checked~label.sk-toggleable__label {\n",
       "  /* fitted */\n",
       "  background-color: var(--sklearn-color-fitted-level-2);\n",
       "}\n",
       "\n",
       "#sk-container-id-5 div.sk-label label.sk-toggleable__label,\n",
       "#sk-container-id-5 div.sk-label label {\n",
       "  /* The background is the default theme color */\n",
       "  color: var(--sklearn-color-text-on-default-background);\n",
       "}\n",
       "\n",
       "/* On hover, darken the color of the background */\n",
       "#sk-container-id-5 div.sk-label:hover label.sk-toggleable__label {\n",
       "  color: var(--sklearn-color-text);\n",
       "  background-color: var(--sklearn-color-unfitted-level-2);\n",
       "}\n",
       "\n",
       "/* Label box, darken color on hover, fitted */\n",
       "#sk-container-id-5 div.sk-label.fitted:hover label.sk-toggleable__label.fitted {\n",
       "  color: var(--sklearn-color-text);\n",
       "  background-color: var(--sklearn-color-fitted-level-2);\n",
       "}\n",
       "\n",
       "/* Estimator label */\n",
       "\n",
       "#sk-container-id-5 div.sk-label label {\n",
       "  font-family: monospace;\n",
       "  font-weight: bold;\n",
       "  display: inline-block;\n",
       "  line-height: 1.2em;\n",
       "}\n",
       "\n",
       "#sk-container-id-5 div.sk-label-container {\n",
       "  text-align: center;\n",
       "}\n",
       "\n",
       "/* Estimator-specific */\n",
       "#sk-container-id-5 div.sk-estimator {\n",
       "  font-family: monospace;\n",
       "  border: 1px dotted var(--sklearn-color-border-box);\n",
       "  border-radius: 0.25em;\n",
       "  box-sizing: border-box;\n",
       "  margin-bottom: 0.5em;\n",
       "  /* unfitted */\n",
       "  background-color: var(--sklearn-color-unfitted-level-0);\n",
       "}\n",
       "\n",
       "#sk-container-id-5 div.sk-estimator.fitted {\n",
       "  /* fitted */\n",
       "  background-color: var(--sklearn-color-fitted-level-0);\n",
       "}\n",
       "\n",
       "/* on hover */\n",
       "#sk-container-id-5 div.sk-estimator:hover {\n",
       "  /* unfitted */\n",
       "  background-color: var(--sklearn-color-unfitted-level-2);\n",
       "}\n",
       "\n",
       "#sk-container-id-5 div.sk-estimator.fitted:hover {\n",
       "  /* fitted */\n",
       "  background-color: var(--sklearn-color-fitted-level-2);\n",
       "}\n",
       "\n",
       "/* Specification for estimator info (e.g. \"i\" and \"?\") */\n",
       "\n",
       "/* Common style for \"i\" and \"?\" */\n",
       "\n",
       ".sk-estimator-doc-link,\n",
       "a:link.sk-estimator-doc-link,\n",
       "a:visited.sk-estimator-doc-link {\n",
       "  float: right;\n",
       "  font-size: smaller;\n",
       "  line-height: 1em;\n",
       "  font-family: monospace;\n",
       "  background-color: var(--sklearn-color-background);\n",
       "  border-radius: 1em;\n",
       "  height: 1em;\n",
       "  width: 1em;\n",
       "  text-decoration: none !important;\n",
       "  margin-left: 0.5em;\n",
       "  text-align: center;\n",
       "  /* unfitted */\n",
       "  border: var(--sklearn-color-unfitted-level-1) 1pt solid;\n",
       "  color: var(--sklearn-color-unfitted-level-1);\n",
       "}\n",
       "\n",
       ".sk-estimator-doc-link.fitted,\n",
       "a:link.sk-estimator-doc-link.fitted,\n",
       "a:visited.sk-estimator-doc-link.fitted {\n",
       "  /* fitted */\n",
       "  border: var(--sklearn-color-fitted-level-1) 1pt solid;\n",
       "  color: var(--sklearn-color-fitted-level-1);\n",
       "}\n",
       "\n",
       "/* On hover */\n",
       "div.sk-estimator:hover .sk-estimator-doc-link:hover,\n",
       ".sk-estimator-doc-link:hover,\n",
       "div.sk-label-container:hover .sk-estimator-doc-link:hover,\n",
       ".sk-estimator-doc-link:hover {\n",
       "  /* unfitted */\n",
       "  background-color: var(--sklearn-color-unfitted-level-3);\n",
       "  color: var(--sklearn-color-background);\n",
       "  text-decoration: none;\n",
       "}\n",
       "\n",
       "div.sk-estimator.fitted:hover .sk-estimator-doc-link.fitted:hover,\n",
       ".sk-estimator-doc-link.fitted:hover,\n",
       "div.sk-label-container:hover .sk-estimator-doc-link.fitted:hover,\n",
       ".sk-estimator-doc-link.fitted:hover {\n",
       "  /* fitted */\n",
       "  background-color: var(--sklearn-color-fitted-level-3);\n",
       "  color: var(--sklearn-color-background);\n",
       "  text-decoration: none;\n",
       "}\n",
       "\n",
       "/* Span, style for the box shown on hovering the info icon */\n",
       ".sk-estimator-doc-link span {\n",
       "  display: none;\n",
       "  z-index: 9999;\n",
       "  position: relative;\n",
       "  font-weight: normal;\n",
       "  right: .2ex;\n",
       "  padding: .5ex;\n",
       "  margin: .5ex;\n",
       "  width: min-content;\n",
       "  min-width: 20ex;\n",
       "  max-width: 50ex;\n",
       "  color: var(--sklearn-color-text);\n",
       "  box-shadow: 2pt 2pt 4pt #999;\n",
       "  /* unfitted */\n",
       "  background: var(--sklearn-color-unfitted-level-0);\n",
       "  border: .5pt solid var(--sklearn-color-unfitted-level-3);\n",
       "}\n",
       "\n",
       ".sk-estimator-doc-link.fitted span {\n",
       "  /* fitted */\n",
       "  background: var(--sklearn-color-fitted-level-0);\n",
       "  border: var(--sklearn-color-fitted-level-3);\n",
       "}\n",
       "\n",
       ".sk-estimator-doc-link:hover span {\n",
       "  display: block;\n",
       "}\n",
       "\n",
       "/* \"?\"-specific style due to the `<a>` HTML tag */\n",
       "\n",
       "#sk-container-id-5 a.estimator_doc_link {\n",
       "  float: right;\n",
       "  font-size: 1rem;\n",
       "  line-height: 1em;\n",
       "  font-family: monospace;\n",
       "  background-color: var(--sklearn-color-background);\n",
       "  border-radius: 1rem;\n",
       "  height: 1rem;\n",
       "  width: 1rem;\n",
       "  text-decoration: none;\n",
       "  /* unfitted */\n",
       "  color: var(--sklearn-color-unfitted-level-1);\n",
       "  border: var(--sklearn-color-unfitted-level-1) 1pt solid;\n",
       "}\n",
       "\n",
       "#sk-container-id-5 a.estimator_doc_link.fitted {\n",
       "  /* fitted */\n",
       "  border: var(--sklearn-color-fitted-level-1) 1pt solid;\n",
       "  color: var(--sklearn-color-fitted-level-1);\n",
       "}\n",
       "\n",
       "/* On hover */\n",
       "#sk-container-id-5 a.estimator_doc_link:hover {\n",
       "  /* unfitted */\n",
       "  background-color: var(--sklearn-color-unfitted-level-3);\n",
       "  color: var(--sklearn-color-background);\n",
       "  text-decoration: none;\n",
       "}\n",
       "\n",
       "#sk-container-id-5 a.estimator_doc_link.fitted:hover {\n",
       "  /* fitted */\n",
       "  background-color: var(--sklearn-color-fitted-level-3);\n",
       "}\n",
       "</style><div id=\"sk-container-id-5\" class=\"sk-top-container\"><div class=\"sk-text-repr-fallback\"><pre>Pipeline(steps=[(&#x27;target&#x27;, TargetEncoder(cols=[&#x27;sector&#x27;])),\n",
       "                (&#x27;TargetEncoder&#x27;,\n",
       "                 ColumnTransformer(remainder=&#x27;passthrough&#x27;,\n",
       "                                   transformers=[(&#x27;missing_pipe_cat_age&#x27;,\n",
       "                                                  Pipeline(steps=[(&#x27;Missing_Cat&#x27;,\n",
       "                                                                   SimpleImputer(strategy=&#x27;most_frequent&#x27;)),\n",
       "                                                                  (&#x27;Onehot&#x27;,\n",
       "                                                                   OneHotEncoder(drop=&#x27;first&#x27;,\n",
       "                                                                                 handle_unknown=&#x27;ignore&#x27;,\n",
       "                                                                                 sparse_output=False))]),\n",
       "                                                  [&#x27;agePossession&#x27;]),\n",
       "                                                 (&#x27;missing_pipe_cat_...\n",
       "                                                   &#x27;built_up_area&#x27;,\n",
       "                                                   &#x27;carpet_area&#x27;]),\n",
       "                                                 (&#x27;ordinal&#x27;, OrdinalEncoder(),\n",
       "                                                  [&#x27;balcony&#x27;, &#x27;luxury_cat&#x27;]),\n",
       "                                                 (&#x27;onehot&#x27;,\n",
       "                                                  OneHotEncoder(drop=&#x27;first&#x27;,\n",
       "                                                                handle_unknown=&#x27;ignore&#x27;),\n",
       "                                                  [&#x27;furnishing_type&#x27;,\n",
       "                                                   &#x27;property_type&#x27;]),\n",
       "                                                 (&#x27;scaling&#x27;, StandardScaler(),\n",
       "                                                  [&#x27;bedRoom&#x27;, &#x27;bathroom&#x27;,\n",
       "                                                   &#x27;study room&#x27;,\n",
       "                                                   &#x27;servant room&#x27;])])),\n",
       "                (&#x27;model&#x27;,\n",
       "                 RandomForestRegressor(max_depth=3, n_estimators=1, n_jobs=-1,\n",
       "                                       random_state=0))])</pre><b>In a Jupyter environment, please rerun this cell to show the HTML representation or trust the notebook. <br />On GitHub, the HTML representation is unable to render, please try loading this page with nbviewer.org.</b></div><div class=\"sk-container\" hidden><div class=\"sk-item sk-dashed-wrapped\"><div class=\"sk-label-container\"><div class=\"sk-label fitted sk-toggleable\"><input class=\"sk-toggleable__control sk-hidden--visually\" id=\"sk-estimator-id-87\" type=\"checkbox\" ><label for=\"sk-estimator-id-87\" class=\"sk-toggleable__label fitted sk-toggleable__label-arrow\"><div><div>Pipeline</div></div><div><a class=\"sk-estimator-doc-link fitted\" rel=\"noreferrer\" target=\"_blank\" href=\"https://scikit-learn.org/1.6/modules/generated/sklearn.pipeline.Pipeline.html\">?<span>Documentation for Pipeline</span></a><span class=\"sk-estimator-doc-link fitted\">i<span>Fitted</span></span></div></label><div class=\"sk-toggleable__content fitted\"><pre>Pipeline(steps=[(&#x27;target&#x27;, TargetEncoder(cols=[&#x27;sector&#x27;])),\n",
       "                (&#x27;TargetEncoder&#x27;,\n",
       "                 ColumnTransformer(remainder=&#x27;passthrough&#x27;,\n",
       "                                   transformers=[(&#x27;missing_pipe_cat_age&#x27;,\n",
       "                                                  Pipeline(steps=[(&#x27;Missing_Cat&#x27;,\n",
       "                                                                   SimpleImputer(strategy=&#x27;most_frequent&#x27;)),\n",
       "                                                                  (&#x27;Onehot&#x27;,\n",
       "                                                                   OneHotEncoder(drop=&#x27;first&#x27;,\n",
       "                                                                                 handle_unknown=&#x27;ignore&#x27;,\n",
       "                                                                                 sparse_output=False))]),\n",
       "                                                  [&#x27;agePossession&#x27;]),\n",
       "                                                 (&#x27;missing_pipe_cat_...\n",
       "                                                   &#x27;built_up_area&#x27;,\n",
       "                                                   &#x27;carpet_area&#x27;]),\n",
       "                                                 (&#x27;ordinal&#x27;, OrdinalEncoder(),\n",
       "                                                  [&#x27;balcony&#x27;, &#x27;luxury_cat&#x27;]),\n",
       "                                                 (&#x27;onehot&#x27;,\n",
       "                                                  OneHotEncoder(drop=&#x27;first&#x27;,\n",
       "                                                                handle_unknown=&#x27;ignore&#x27;),\n",
       "                                                  [&#x27;furnishing_type&#x27;,\n",
       "                                                   &#x27;property_type&#x27;]),\n",
       "                                                 (&#x27;scaling&#x27;, StandardScaler(),\n",
       "                                                  [&#x27;bedRoom&#x27;, &#x27;bathroom&#x27;,\n",
       "                                                   &#x27;study room&#x27;,\n",
       "                                                   &#x27;servant room&#x27;])])),\n",
       "                (&#x27;model&#x27;,\n",
       "                 RandomForestRegressor(max_depth=3, n_estimators=1, n_jobs=-1,\n",
       "                                       random_state=0))])</pre></div> </div></div><div class=\"sk-serial\"><div class=\"sk-item\"><div class=\"sk-estimator fitted sk-toggleable\"><input class=\"sk-toggleable__control sk-hidden--visually\" id=\"sk-estimator-id-88\" type=\"checkbox\" ><label for=\"sk-estimator-id-88\" class=\"sk-toggleable__label fitted sk-toggleable__label-arrow\"><div><div>TargetEncoder</div></div></label><div class=\"sk-toggleable__content fitted\"><pre>TargetEncoder(cols=[&#x27;sector&#x27;])</pre></div> </div></div><div class=\"sk-item sk-dashed-wrapped\"><div class=\"sk-label-container\"><div class=\"sk-label fitted sk-toggleable\"><input class=\"sk-toggleable__control sk-hidden--visually\" id=\"sk-estimator-id-89\" type=\"checkbox\" ><label for=\"sk-estimator-id-89\" class=\"sk-toggleable__label fitted sk-toggleable__label-arrow\"><div><div>TargetEncoder: ColumnTransformer</div></div><div><a class=\"sk-estimator-doc-link fitted\" rel=\"noreferrer\" target=\"_blank\" href=\"https://scikit-learn.org/1.6/modules/generated/sklearn.compose.ColumnTransformer.html\">?<span>Documentation for TargetEncoder: ColumnTransformer</span></a></div></label><div class=\"sk-toggleable__content fitted\"><pre>ColumnTransformer(remainder=&#x27;passthrough&#x27;,\n",
       "                  transformers=[(&#x27;missing_pipe_cat_age&#x27;,\n",
       "                                 Pipeline(steps=[(&#x27;Missing_Cat&#x27;,\n",
       "                                                  SimpleImputer(strategy=&#x27;most_frequent&#x27;)),\n",
       "                                                 (&#x27;Onehot&#x27;,\n",
       "                                                  OneHotEncoder(drop=&#x27;first&#x27;,\n",
       "                                                                handle_unknown=&#x27;ignore&#x27;,\n",
       "                                                                sparse_output=False))]),\n",
       "                                 [&#x27;agePossession&#x27;]),\n",
       "                                (&#x27;missing_pipe_cat_floor&#x27;,\n",
       "                                 Pipeline(steps=[(&#x27;Missing_Cat&#x27;,\n",
       "                                                  SimpleImputer(strategy=&#x27;most_frequent...\n",
       "                                                  SimpleImputer(strategy=&#x27;median&#x27;)),\n",
       "                                                 (&#x27;scaling&#x27;,\n",
       "                                                  StandardScaler())]),\n",
       "                                 [&#x27;super_built_up_area&#x27;, &#x27;built_up_area&#x27;,\n",
       "                                  &#x27;carpet_area&#x27;]),\n",
       "                                (&#x27;ordinal&#x27;, OrdinalEncoder(),\n",
       "                                 [&#x27;balcony&#x27;, &#x27;luxury_cat&#x27;]),\n",
       "                                (&#x27;onehot&#x27;,\n",
       "                                 OneHotEncoder(drop=&#x27;first&#x27;,\n",
       "                                               handle_unknown=&#x27;ignore&#x27;),\n",
       "                                 [&#x27;furnishing_type&#x27;, &#x27;property_type&#x27;]),\n",
       "                                (&#x27;scaling&#x27;, StandardScaler(),\n",
       "                                 [&#x27;bedRoom&#x27;, &#x27;bathroom&#x27;, &#x27;study room&#x27;,\n",
       "                                  &#x27;servant room&#x27;])])</pre></div> </div></div><div class=\"sk-parallel\"><div class=\"sk-parallel-item\"><div class=\"sk-item\"><div class=\"sk-label-container\"><div class=\"sk-label fitted sk-toggleable\"><input class=\"sk-toggleable__control sk-hidden--visually\" id=\"sk-estimator-id-90\" type=\"checkbox\" ><label for=\"sk-estimator-id-90\" class=\"sk-toggleable__label fitted sk-toggleable__label-arrow\"><div><div>missing_pipe_cat_age</div></div></label><div class=\"sk-toggleable__content fitted\"><pre>[&#x27;agePossession&#x27;]</pre></div> </div></div><div class=\"sk-serial\"><div class=\"sk-item\"><div class=\"sk-serial\"><div class=\"sk-item\"><div class=\"sk-estimator fitted sk-toggleable\"><input class=\"sk-toggleable__control sk-hidden--visually\" id=\"sk-estimator-id-91\" type=\"checkbox\" ><label for=\"sk-estimator-id-91\" class=\"sk-toggleable__label fitted sk-toggleable__label-arrow\"><div><div>SimpleImputer</div></div><div><a class=\"sk-estimator-doc-link fitted\" rel=\"noreferrer\" target=\"_blank\" href=\"https://scikit-learn.org/1.6/modules/generated/sklearn.impute.SimpleImputer.html\">?<span>Documentation for SimpleImputer</span></a></div></label><div class=\"sk-toggleable__content fitted\"><pre>SimpleImputer(strategy=&#x27;most_frequent&#x27;)</pre></div> </div></div><div class=\"sk-item\"><div class=\"sk-estimator fitted sk-toggleable\"><input class=\"sk-toggleable__control sk-hidden--visually\" id=\"sk-estimator-id-92\" type=\"checkbox\" ><label for=\"sk-estimator-id-92\" class=\"sk-toggleable__label fitted sk-toggleable__label-arrow\"><div><div>OneHotEncoder</div></div><div><a class=\"sk-estimator-doc-link fitted\" rel=\"noreferrer\" target=\"_blank\" href=\"https://scikit-learn.org/1.6/modules/generated/sklearn.preprocessing.OneHotEncoder.html\">?<span>Documentation for OneHotEncoder</span></a></div></label><div class=\"sk-toggleable__content fitted\"><pre>OneHotEncoder(drop=&#x27;first&#x27;, handle_unknown=&#x27;ignore&#x27;, sparse_output=False)</pre></div> </div></div></div></div></div></div></div><div class=\"sk-parallel-item\"><div class=\"sk-item\"><div class=\"sk-label-container\"><div class=\"sk-label fitted sk-toggleable\"><input class=\"sk-toggleable__control sk-hidden--visually\" id=\"sk-estimator-id-93\" type=\"checkbox\" ><label for=\"sk-estimator-id-93\" class=\"sk-toggleable__label fitted sk-toggleable__label-arrow\"><div><div>missing_pipe_cat_floor</div></div></label><div class=\"sk-toggleable__content fitted\"><pre>[&#x27;floorNum_cat&#x27;]</pre></div> </div></div><div class=\"sk-serial\"><div class=\"sk-item\"><div class=\"sk-serial\"><div class=\"sk-item\"><div class=\"sk-estimator fitted sk-toggleable\"><input class=\"sk-toggleable__control sk-hidden--visually\" id=\"sk-estimator-id-94\" type=\"checkbox\" ><label for=\"sk-estimator-id-94\" class=\"sk-toggleable__label fitted sk-toggleable__label-arrow\"><div><div>SimpleImputer</div></div><div><a class=\"sk-estimator-doc-link fitted\" rel=\"noreferrer\" target=\"_blank\" href=\"https://scikit-learn.org/1.6/modules/generated/sklearn.impute.SimpleImputer.html\">?<span>Documentation for SimpleImputer</span></a></div></label><div class=\"sk-toggleable__content fitted\"><pre>SimpleImputer(strategy=&#x27;most_frequent&#x27;)</pre></div> </div></div><div class=\"sk-item\"><div class=\"sk-estimator fitted sk-toggleable\"><input class=\"sk-toggleable__control sk-hidden--visually\" id=\"sk-estimator-id-95\" type=\"checkbox\" ><label for=\"sk-estimator-id-95\" class=\"sk-toggleable__label fitted sk-toggleable__label-arrow\"><div><div>OrdinalEncoder</div></div><div><a class=\"sk-estimator-doc-link fitted\" rel=\"noreferrer\" target=\"_blank\" href=\"https://scikit-learn.org/1.6/modules/generated/sklearn.preprocessing.OrdinalEncoder.html\">?<span>Documentation for OrdinalEncoder</span></a></div></label><div class=\"sk-toggleable__content fitted\"><pre>OrdinalEncoder(handle_unknown=&#x27;use_encoded_value&#x27;, unknown_value=-1)</pre></div> </div></div></div></div></div></div></div><div class=\"sk-parallel-item\"><div class=\"sk-item\"><div class=\"sk-label-container\"><div class=\"sk-label fitted sk-toggleable\"><input class=\"sk-toggleable__control sk-hidden--visually\" id=\"sk-estimator-id-96\" type=\"checkbox\" ><label for=\"sk-estimator-id-96\" class=\"sk-toggleable__label fitted sk-toggleable__label-arrow\"><div><div>missing_pipe_num</div></div></label><div class=\"sk-toggleable__content fitted\"><pre>[&#x27;super_built_up_area&#x27;, &#x27;built_up_area&#x27;, &#x27;carpet_area&#x27;]</pre></div> </div></div><div class=\"sk-serial\"><div class=\"sk-item\"><div class=\"sk-serial\"><div class=\"sk-item\"><div class=\"sk-estimator fitted sk-toggleable\"><input class=\"sk-toggleable__control sk-hidden--visually\" id=\"sk-estimator-id-97\" type=\"checkbox\" ><label for=\"sk-estimator-id-97\" class=\"sk-toggleable__label fitted sk-toggleable__label-arrow\"><div><div>SimpleImputer</div></div><div><a class=\"sk-estimator-doc-link fitted\" rel=\"noreferrer\" target=\"_blank\" href=\"https://scikit-learn.org/1.6/modules/generated/sklearn.impute.SimpleImputer.html\">?<span>Documentation for SimpleImputer</span></a></div></label><div class=\"sk-toggleable__content fitted\"><pre>SimpleImputer(strategy=&#x27;median&#x27;)</pre></div> </div></div><div class=\"sk-item\"><div class=\"sk-estimator fitted sk-toggleable\"><input class=\"sk-toggleable__control sk-hidden--visually\" id=\"sk-estimator-id-98\" type=\"checkbox\" ><label for=\"sk-estimator-id-98\" class=\"sk-toggleable__label fitted sk-toggleable__label-arrow\"><div><div>StandardScaler</div></div><div><a class=\"sk-estimator-doc-link fitted\" rel=\"noreferrer\" target=\"_blank\" href=\"https://scikit-learn.org/1.6/modules/generated/sklearn.preprocessing.StandardScaler.html\">?<span>Documentation for StandardScaler</span></a></div></label><div class=\"sk-toggleable__content fitted\"><pre>StandardScaler()</pre></div> </div></div></div></div></div></div></div><div class=\"sk-parallel-item\"><div class=\"sk-item\"><div class=\"sk-label-container\"><div class=\"sk-label fitted sk-toggleable\"><input class=\"sk-toggleable__control sk-hidden--visually\" id=\"sk-estimator-id-99\" type=\"checkbox\" ><label for=\"sk-estimator-id-99\" class=\"sk-toggleable__label fitted sk-toggleable__label-arrow\"><div><div>ordinal</div></div></label><div class=\"sk-toggleable__content fitted\"><pre>[&#x27;balcony&#x27;, &#x27;luxury_cat&#x27;]</pre></div> </div></div><div class=\"sk-serial\"><div class=\"sk-item\"><div class=\"sk-estimator fitted sk-toggleable\"><input class=\"sk-toggleable__control sk-hidden--visually\" id=\"sk-estimator-id-100\" type=\"checkbox\" ><label for=\"sk-estimator-id-100\" class=\"sk-toggleable__label fitted sk-toggleable__label-arrow\"><div><div>OrdinalEncoder</div></div><div><a class=\"sk-estimator-doc-link fitted\" rel=\"noreferrer\" target=\"_blank\" href=\"https://scikit-learn.org/1.6/modules/generated/sklearn.preprocessing.OrdinalEncoder.html\">?<span>Documentation for OrdinalEncoder</span></a></div></label><div class=\"sk-toggleable__content fitted\"><pre>OrdinalEncoder()</pre></div> </div></div></div></div></div><div class=\"sk-parallel-item\"><div class=\"sk-item\"><div class=\"sk-label-container\"><div class=\"sk-label fitted sk-toggleable\"><input class=\"sk-toggleable__control sk-hidden--visually\" id=\"sk-estimator-id-101\" type=\"checkbox\" ><label for=\"sk-estimator-id-101\" class=\"sk-toggleable__label fitted sk-toggleable__label-arrow\"><div><div>onehot</div></div></label><div class=\"sk-toggleable__content fitted\"><pre>[&#x27;furnishing_type&#x27;, &#x27;property_type&#x27;]</pre></div> </div></div><div class=\"sk-serial\"><div class=\"sk-item\"><div class=\"sk-estimator fitted sk-toggleable\"><input class=\"sk-toggleable__control sk-hidden--visually\" id=\"sk-estimator-id-102\" type=\"checkbox\" ><label for=\"sk-estimator-id-102\" class=\"sk-toggleable__label fitted sk-toggleable__label-arrow\"><div><div>OneHotEncoder</div></div><div><a class=\"sk-estimator-doc-link fitted\" rel=\"noreferrer\" target=\"_blank\" href=\"https://scikit-learn.org/1.6/modules/generated/sklearn.preprocessing.OneHotEncoder.html\">?<span>Documentation for OneHotEncoder</span></a></div></label><div class=\"sk-toggleable__content fitted\"><pre>OneHotEncoder(drop=&#x27;first&#x27;, handle_unknown=&#x27;ignore&#x27;)</pre></div> </div></div></div></div></div><div class=\"sk-parallel-item\"><div class=\"sk-item\"><div class=\"sk-label-container\"><div class=\"sk-label fitted sk-toggleable\"><input class=\"sk-toggleable__control sk-hidden--visually\" id=\"sk-estimator-id-103\" type=\"checkbox\" ><label for=\"sk-estimator-id-103\" class=\"sk-toggleable__label fitted sk-toggleable__label-arrow\"><div><div>scaling</div></div></label><div class=\"sk-toggleable__content fitted\"><pre>[&#x27;bedRoom&#x27;, &#x27;bathroom&#x27;, &#x27;study room&#x27;, &#x27;servant room&#x27;]</pre></div> </div></div><div class=\"sk-serial\"><div class=\"sk-item\"><div class=\"sk-estimator fitted sk-toggleable\"><input class=\"sk-toggleable__control sk-hidden--visually\" id=\"sk-estimator-id-104\" type=\"checkbox\" ><label for=\"sk-estimator-id-104\" class=\"sk-toggleable__label fitted sk-toggleable__label-arrow\"><div><div>StandardScaler</div></div><div><a class=\"sk-estimator-doc-link fitted\" rel=\"noreferrer\" target=\"_blank\" href=\"https://scikit-learn.org/1.6/modules/generated/sklearn.preprocessing.StandardScaler.html\">?<span>Documentation for StandardScaler</span></a></div></label><div class=\"sk-toggleable__content fitted\"><pre>StandardScaler()</pre></div> </div></div></div></div></div><div class=\"sk-parallel-item\"><div class=\"sk-item\"><div class=\"sk-label-container\"><div class=\"sk-label fitted sk-toggleable\"><input class=\"sk-toggleable__control sk-hidden--visually\" id=\"sk-estimator-id-105\" type=\"checkbox\" ><label for=\"sk-estimator-id-105\" class=\"sk-toggleable__label fitted sk-toggleable__label-arrow\"><div><div>remainder</div></div></label><div class=\"sk-toggleable__content fitted\"><pre>[&#x27;Unnamed: 0&#x27;, &#x27;sector&#x27;]</pre></div> </div></div><div class=\"sk-serial\"><div class=\"sk-item\"><div class=\"sk-estimator fitted sk-toggleable\"><input class=\"sk-toggleable__control sk-hidden--visually\" id=\"sk-estimator-id-106\" type=\"checkbox\" ><label for=\"sk-estimator-id-106\" class=\"sk-toggleable__label fitted sk-toggleable__label-arrow\"><div><div>passthrough</div></div></label><div class=\"sk-toggleable__content fitted\"><pre>passthrough</pre></div> </div></div></div></div></div></div></div><div class=\"sk-item\"><div class=\"sk-estimator fitted sk-toggleable\"><input class=\"sk-toggleable__control sk-hidden--visually\" id=\"sk-estimator-id-107\" type=\"checkbox\" ><label for=\"sk-estimator-id-107\" class=\"sk-toggleable__label fitted sk-toggleable__label-arrow\"><div><div>RandomForestRegressor</div></div><div><a class=\"sk-estimator-doc-link fitted\" rel=\"noreferrer\" target=\"_blank\" href=\"https://scikit-learn.org/1.6/modules/generated/sklearn.ensemble.RandomForestRegressor.html\">?<span>Documentation for RandomForestRegressor</span></a></div></label><div class=\"sk-toggleable__content fitted\"><pre>RandomForestRegressor(max_depth=3, n_estimators=1, n_jobs=-1, random_state=0)</pre></div> </div></div></div></div></div></div>"
      ],
      "text/plain": [
       "Pipeline(steps=[('target', TargetEncoder(cols=['sector'])),\n",
       "                ('TargetEncoder',\n",
       "                 ColumnTransformer(remainder='passthrough',\n",
       "                                   transformers=[('missing_pipe_cat_age',\n",
       "                                                  Pipeline(steps=[('Missing_Cat',\n",
       "                                                                   SimpleImputer(strategy='most_frequent')),\n",
       "                                                                  ('Onehot',\n",
       "                                                                   OneHotEncoder(drop='first',\n",
       "                                                                                 handle_unknown='ignore',\n",
       "                                                                                 sparse_output=False))]),\n",
       "                                                  ['agePossession']),\n",
       "                                                 ('missing_pipe_cat_...\n",
       "                                                   'built_up_area',\n",
       "                                                   'carpet_area']),\n",
       "                                                 ('ordinal', OrdinalEncoder(),\n",
       "                                                  ['balcony', 'luxury_cat']),\n",
       "                                                 ('onehot',\n",
       "                                                  OneHotEncoder(drop='first',\n",
       "                                                                handle_unknown='ignore'),\n",
       "                                                  ['furnishing_type',\n",
       "                                                   'property_type']),\n",
       "                                                 ('scaling', StandardScaler(),\n",
       "                                                  ['bedRoom', 'bathroom',\n",
       "                                                   'study room',\n",
       "                                                   'servant room'])])),\n",
       "                ('model',\n",
       "                 RandomForestRegressor(max_depth=3, n_estimators=1, n_jobs=-1,\n",
       "                                       random_state=0))])"
      ]
     },
     "execution_count": 108,
     "metadata": {},
     "output_type": "execute_result"
    }
   ],
   "source": [
    "model_pipe.fit(x_train,y_train)\n",
    "\n"
   ]
  },
  {
   "cell_type": "code",
   "execution_count": 109,
   "id": "a740d458",
   "metadata": {},
   "outputs": [],
   "source": [
    "from sklearn.tree import plot_tree"
   ]
  },
  {
   "cell_type": "code",
   "execution_count": 110,
   "id": "3e230145",
   "metadata": {},
   "outputs": [
    {
     "data": {
      "image/png": "[encoded data removed]",
      "text/plain": [
       "<Figure size 640x480 with 1 Axes>"
      ]
     },
     "metadata": {},
     "output_type": "display_data"
    }
   ],
   "source": [
    "# plt.figure(figsize=(10,20))\n",
    "plot_tree(model_pipe.named_steps['model'].estimators_[0])\n",
    "plt.show()"
   ]
  },
  {
   "cell_type": "code",
   "execution_count": 111,
   "id": "68646174",
   "metadata": {},
   "outputs": [],
   "source": [
    "def objective(trial,preprocessor):\n",
    "\n",
    "    regressor_name = trial.suggest_categorical('regressor',['Rf'])\n",
    "\n",
    "    if regressor_name == 'Rf':\n",
    "\n",
    "        n_estimators = trial.suggest_int('model__n_estimators',50,500)\n",
    "        max_depth = trial.suggest_int('model__max_depth',5,100)\n",
    "        min_samples_split = trial.suggest_int('model__min_samples_split',2,20)\n",
    "        min_samples_leaf = trial.suggest_int('model__min_samples_leaf',1,10)\n",
    "        max_features = trial.suggest_categorical('model__max_features', ['sqrt', 'log2',0.3, 0.5, 0.7, 0.9])\n",
    "        bootstrap = trial.suggest_categorical('model__bootstrap', [True])\n",
    "\n",
    "        model_pipe = Pipeline([\n",
    "            ('target',ce.TargetEncoder(cols=['sector'])),\n",
    "            ('TargetEncoder',Target_preprocessor),\n",
    "            ('model',RandomForestRegressor(random_state=0,n_jobs=-1,n_estimators=n_estimators,max_depth=max_depth,\n",
    "                                              min_samples_split=min_samples_split,min_samples_leaf=min_samples_leaf,\n",
    "                                              max_features=max_features,bootstrap=bootstrap))\n",
    "        ])\n",
    "\n",
    "        trial.set_user_attr('model',model_pipe)\n",
    "    cv_score = cross_val_score(model_pipe,x_train,y_train,cv = KFold(n_splits=5,shuffle=True,random_state=0),\n",
    "                               scoring='r2')\n",
    "   \n",
    "   \n",
    "\n",
    "    trial.set_user_attr('cv_std',cv_score.std())\n",
    "\n",
    "    return cv_score.mean()\n",
    "        \n",
    "\n",
    "       "
   ]
  },
  {
   "cell_type": "code",
   "execution_count": 112,
   "id": "e5439dc2",
   "metadata": {},
   "outputs": [
    {
     "name": "stderr",
     "output_type": "stream",
     "text": [
      "[I 2025-08-29 09:55:32,638] A new study created in memory with name: no-name-56db000f-1d8e-4c44-b317-a5ef9567ccc0\n",
      "[I 2025-08-29 09:55:34,588] Trial 0 finished with value: 0.8491073814451402 and parameters: {'regressor': 'Rf', 'model__n_estimators': 297, 'model__max_depth': 73, 'model__min_samples_split': 13, 'model__min_samples_leaf': 6, 'model__max_features': 0.7, 'model__bootstrap': True}. Best is trial 0 with value: 0.8491073814451402.\n",
      "[I 2025-08-29 09:55:37,157] Trial 1 finished with value: 0.8346736486657651 and parameters: {'regressor': 'Rf', 'model__n_estimators': 407, 'model__max_depth': 55, 'model__min_samples_split': 12, 'model__min_samples_leaf': 10, 'model__max_features': 0.9, 'model__bootstrap': True}. Best is trial 0 with value: 0.8491073814451402.\n",
      "[I 2025-08-29 09:55:39,875] Trial 2 finished with value: 0.8449639216474922 and parameters: {'regressor': 'Rf', 'model__n_estimators': 491, 'model__max_depth': 81, 'model__min_samples_split': 10, 'model__min_samples_leaf': 8, 'model__max_features': 0.5, 'model__bootstrap': True}. Best is trial 0 with value: 0.8491073814451402.\n",
      "[I 2025-08-29 09:55:41,042] Trial 3 finished with value: 0.8487429855136339 and parameters: {'regressor': 'Rf', 'model__n_estimators': 169, 'model__max_depth': 79, 'model__min_samples_split': 10, 'model__min_samples_leaf': 6, 'model__max_features': 0.7, 'model__bootstrap': True}. Best is trial 0 with value: 0.8491073814451402.\n",
      "[I 2025-08-29 09:55:42,346] Trial 4 finished with value: 0.8518904175263294 and parameters: {'regressor': 'Rf', 'model__n_estimators': 212, 'model__max_depth': 46, 'model__min_samples_split': 15, 'model__min_samples_leaf': 1, 'model__max_features': 'log2', 'model__bootstrap': True}. Best is trial 4 with value: 0.8518904175263294.\n",
      "[I 2025-08-29 09:55:44,114] Trial 5 finished with value: 0.8507539003487533 and parameters: {'regressor': 'Rf', 'model__n_estimators': 307, 'model__max_depth': 47, 'model__min_samples_split': 20, 'model__min_samples_leaf': 2, 'model__max_features': 0.3, 'model__bootstrap': True}. Best is trial 4 with value: 0.8518904175263294.\n",
      "[I 2025-08-29 09:55:45,079] Trial 6 finished with value: 0.8573755370026503 and parameters: {'regressor': 'Rf', 'model__n_estimators': 121, 'model__max_depth': 15, 'model__min_samples_split': 14, 'model__min_samples_leaf': 2, 'model__max_features': 0.7, 'model__bootstrap': True}. Best is trial 6 with value: 0.8573755370026503.\n",
      "[I 2025-08-29 09:55:47,740] Trial 7 finished with value: 0.8363424104591637 and parameters: {'regressor': 'Rf', 'model__n_estimators': 490, 'model__max_depth': 49, 'model__min_samples_split': 20, 'model__min_samples_leaf': 7, 'model__max_features': 'sqrt', 'model__bootstrap': True}. Best is trial 6 with value: 0.8573755370026503.\n",
      "[I 2025-08-29 09:55:49,131] Trial 8 finished with value: 0.8433198082352333 and parameters: {'regressor': 'Rf', 'model__n_estimators': 193, 'model__max_depth': 44, 'model__min_samples_split': 3, 'model__min_samples_leaf': 7, 'model__max_features': 0.9, 'model__bootstrap': True}. Best is trial 6 with value: 0.8573755370026503.\n",
      "[I 2025-08-29 09:55:50,454] Trial 9 finished with value: 0.84261513028644 and parameters: {'regressor': 'Rf', 'model__n_estimators': 193, 'model__max_depth': 69, 'model__min_samples_split': 4, 'model__min_samples_leaf': 8, 'model__max_features': 0.7, 'model__bootstrap': True}. Best is trial 6 with value: 0.8573755370026503.\n",
      "[I 2025-08-29 09:55:51,010] Trial 10 finished with value: 0.8354393275954919 and parameters: {'regressor': 'Rf', 'model__n_estimators': 59, 'model__max_depth': 7, 'model__min_samples_split': 7, 'model__min_samples_leaf': 3, 'model__max_features': 0.3, 'model__bootstrap': True}. Best is trial 6 with value: 0.8573755370026503.\n",
      "[I 2025-08-29 09:55:51,669] Trial 11 finished with value: 0.8514479660850018 and parameters: {'regressor': 'Rf', 'model__n_estimators': 80, 'model__max_depth': 18, 'model__min_samples_split': 16, 'model__min_samples_leaf': 1, 'model__max_features': 'log2', 'model__bootstrap': True}. Best is trial 6 with value: 0.8573755370026503.\n",
      "[I 2025-08-29 09:55:52,579] Trial 12 finished with value: 0.8436374404195304 and parameters: {'regressor': 'Rf', 'model__n_estimators': 132, 'model__max_depth': 24, 'model__min_samples_split': 16, 'model__min_samples_leaf': 4, 'model__max_features': 'log2', 'model__bootstrap': True}. Best is trial 6 with value: 0.8573755370026503.\n",
      "[I 2025-08-29 09:55:54,157] Trial 13 finished with value: 0.8527979462017466 and parameters: {'regressor': 'Rf', 'model__n_estimators': 272, 'model__max_depth': 98, 'model__min_samples_split': 16, 'model__min_samples_leaf': 1, 'model__max_features': 'log2', 'model__bootstrap': True}. Best is trial 6 with value: 0.8573755370026503.\n",
      "[I 2025-08-29 09:55:56,356] Trial 14 finished with value: 0.8522751129003494 and parameters: {'regressor': 'Rf', 'model__n_estimators': 358, 'model__max_depth': 97, 'model__min_samples_split': 18, 'model__min_samples_leaf': 4, 'model__max_features': 0.5, 'model__bootstrap': True}. Best is trial 6 with value: 0.8573755370026503.\n",
      "[I 2025-08-29 09:55:57,869] Trial 15 finished with value: 0.8507858019932503 and parameters: {'regressor': 'Rf', 'model__n_estimators': 257, 'model__max_depth': 99, 'model__min_samples_split': 14, 'model__min_samples_leaf': 2, 'model__max_features': 'sqrt', 'model__bootstrap': True}. Best is trial 6 with value: 0.8573755370026503.\n",
      "[I 2025-08-29 09:55:58,817] Trial 16 finished with value: 0.8566861549173627 and parameters: {'regressor': 'Rf', 'model__n_estimators': 116, 'model__max_depth': 33, 'model__min_samples_split': 8, 'model__min_samples_leaf': 4, 'model__max_features': 0.7, 'model__bootstrap': True}. Best is trial 6 with value: 0.8573755370026503.\n",
      "[I 2025-08-29 09:55:59,761] Trial 17 finished with value: 0.8568372460839712 and parameters: {'regressor': 'Rf', 'model__n_estimators': 112, 'model__max_depth': 31, 'model__min_samples_split': 7, 'model__min_samples_leaf': 4, 'model__max_features': 0.7, 'model__bootstrap': True}. Best is trial 6 with value: 0.8573755370026503.\n",
      "[I 2025-08-29 09:56:00,706] Trial 18 finished with value: 0.8304138542578972 and parameters: {'regressor': 'Rf', 'model__n_estimators': 126, 'model__max_depth': 6, 'model__min_samples_split': 6, 'model__min_samples_leaf': 3, 'model__max_features': 0.7, 'model__bootstrap': True}. Best is trial 6 with value: 0.8573755370026503.\n",
      "[I 2025-08-29 09:56:01,323] Trial 19 finished with value: 0.8519173906809165 and parameters: {'regressor': 'Rf', 'model__n_estimators': 58, 'model__max_depth': 29, 'model__min_samples_split': 9, 'model__min_samples_leaf': 5, 'model__max_features': 0.7, 'model__bootstrap': True}. Best is trial 6 with value: 0.8573755370026503.\n",
      "[I 2025-08-29 09:56:02,911] Trial 20 finished with value: 0.8611283131691223 and parameters: {'regressor': 'Rf', 'model__n_estimators': 231, 'model__max_depth': 35, 'model__min_samples_split': 5, 'model__min_samples_leaf': 3, 'model__max_features': 0.7, 'model__bootstrap': True}. Best is trial 20 with value: 0.8611283131691223.\n",
      "[I 2025-08-29 09:56:04,543] Trial 21 finished with value: 0.8605524594665501 and parameters: {'regressor': 'Rf', 'model__n_estimators': 239, 'model__max_depth': 17, 'model__min_samples_split': 5, 'model__min_samples_leaf': 3, 'model__max_features': 0.7, 'model__bootstrap': True}. Best is trial 20 with value: 0.8611283131691223.\n",
      "[I 2025-08-29 09:56:06,303] Trial 22 finished with value: 0.8656167640213441 and parameters: {'regressor': 'Rf', 'model__n_estimators': 244, 'model__max_depth': 17, 'model__min_samples_split': 2, 'model__min_samples_leaf': 2, 'model__max_features': 0.7, 'model__bootstrap': True}. Best is trial 22 with value: 0.8656167640213441.\n",
      "[I 2025-08-29 09:56:07,886] Trial 23 finished with value: 0.8611674258811188 and parameters: {'regressor': 'Rf', 'model__n_estimators': 226, 'model__max_depth': 37, 'model__min_samples_split': 2, 'model__min_samples_leaf': 3, 'model__max_features': 0.7, 'model__bootstrap': True}. Best is trial 22 with value: 0.8656167640213441.\n",
      "[I 2025-08-29 09:56:10,064] Trial 24 finished with value: 0.8659546658067437 and parameters: {'regressor': 'Rf', 'model__n_estimators': 325, 'model__max_depth': 39, 'model__min_samples_split': 2, 'model__min_samples_leaf': 2, 'model__max_features': 0.7, 'model__bootstrap': True}. Best is trial 24 with value: 0.8659546658067437.\n",
      "[I 2025-08-29 09:56:12,370] Trial 25 finished with value: 0.8658818657437235 and parameters: {'regressor': 'Rf', 'model__n_estimators': 345, 'model__max_depth': 59, 'model__min_samples_split': 2, 'model__min_samples_leaf': 2, 'model__max_features': 0.7, 'model__bootstrap': True}. Best is trial 24 with value: 0.8659546658067437.\n",
      "[I 2025-08-29 09:56:14,383] Trial 26 finished with value: 0.8603298208933478 and parameters: {'regressor': 'Rf', 'model__n_estimators': 352, 'model__max_depth': 61, 'model__min_samples_split': 2, 'model__min_samples_leaf': 2, 'model__max_features': 'sqrt', 'model__bootstrap': True}. Best is trial 24 with value: 0.8659546658067437.\n",
      "[I 2025-08-29 09:56:17,299] Trial 27 finished with value: 0.8669709255681836 and parameters: {'regressor': 'Rf', 'model__n_estimators': 406, 'model__max_depth': 59, 'model__min_samples_split': 4, 'model__min_samples_leaf': 1, 'model__max_features': 0.9, 'model__bootstrap': True}. Best is trial 27 with value: 0.8669709255681836.\n",
      "[I 2025-08-29 09:56:20,414] Trial 28 finished with value: 0.8669408108104115 and parameters: {'regressor': 'Rf', 'model__n_estimators': 437, 'model__max_depth': 58, 'model__min_samples_split': 4, 'model__min_samples_leaf': 1, 'model__max_features': 0.9, 'model__bootstrap': True}. Best is trial 27 with value: 0.8669709255681836.\n",
      "[I 2025-08-29 09:56:23,477] Trial 29 finished with value: 0.8668523896495903 and parameters: {'regressor': 'Rf', 'model__n_estimators': 422, 'model__max_depth': 65, 'model__min_samples_split': 4, 'model__min_samples_leaf': 1, 'model__max_features': 0.9, 'model__bootstrap': True}. Best is trial 27 with value: 0.8669709255681836.\n",
      "[I 2025-08-29 09:56:26,564] Trial 30 finished with value: 0.8669431283447875 and parameters: {'regressor': 'Rf', 'model__n_estimators': 430, 'model__max_depth': 68, 'model__min_samples_split': 4, 'model__min_samples_leaf': 1, 'model__max_features': 0.9, 'model__bootstrap': True}. Best is trial 27 with value: 0.8669709255681836.\n",
      "[I 2025-08-29 09:56:29,733] Trial 31 finished with value: 0.867030966859482 and parameters: {'regressor': 'Rf', 'model__n_estimators': 440, 'model__max_depth': 68, 'model__min_samples_split': 4, 'model__min_samples_leaf': 1, 'model__max_features': 0.9, 'model__bootstrap': True}. Best is trial 31 with value: 0.867030966859482.\n",
      "[I 2025-08-29 09:56:32,883] Trial 32 finished with value: 0.867030966859482 and parameters: {'regressor': 'Rf', 'model__n_estimators': 440, 'model__max_depth': 74, 'model__min_samples_split': 4, 'model__min_samples_leaf': 1, 'model__max_features': 0.9, 'model__bootstrap': True}. Best is trial 31 with value: 0.867030966859482.\n",
      "[I 2025-08-29 09:56:35,982] Trial 33 finished with value: 0.8650960599376205 and parameters: {'regressor': 'Rf', 'model__n_estimators': 454, 'model__max_depth': 76, 'model__min_samples_split': 6, 'model__min_samples_leaf': 1, 'model__max_features': 0.9, 'model__bootstrap': True}. Best is trial 31 with value: 0.867030966859482.\n",
      "[I 2025-08-29 09:56:38,720] Trial 34 finished with value: 0.8657531114148729 and parameters: {'regressor': 'Rf', 'model__n_estimators': 392, 'model__max_depth': 71, 'model__min_samples_split': 5, 'model__min_samples_leaf': 1, 'model__max_features': 0.9, 'model__bootstrap': True}. Best is trial 31 with value: 0.867030966859482.\n",
      "[I 2025-08-29 09:56:41,183] Trial 35 finished with value: 0.8374799667126046 and parameters: {'regressor': 'Rf', 'model__n_estimators': 392, 'model__max_depth': 83, 'model__min_samples_split': 11, 'model__min_samples_leaf': 9, 'model__max_features': 0.9, 'model__bootstrap': True}. Best is trial 31 with value: 0.867030966859482.\n",
      "[I 2025-08-29 09:56:44,303] Trial 36 finished with value: 0.8632371587589279 and parameters: {'regressor': 'Rf', 'model__n_estimators': 466, 'model__max_depth': 84, 'model__min_samples_split': 8, 'model__min_samples_leaf': 1, 'model__max_features': 0.9, 'model__bootstrap': True}. Best is trial 31 with value: 0.867030966859482.\n",
      "[I 2025-08-29 09:56:46,981] Trial 37 finished with value: 0.8507858103880871 and parameters: {'regressor': 'Rf', 'model__n_estimators': 383, 'model__max_depth': 52, 'model__min_samples_split': 3, 'model__min_samples_leaf': 5, 'model__max_features': 0.9, 'model__bootstrap': True}. Best is trial 31 with value: 0.867030966859482.\n",
      "[I 2025-08-29 09:56:49,883] Trial 38 finished with value: 0.8345313239153592 and parameters: {'regressor': 'Rf', 'model__n_estimators': 478, 'model__max_depth': 89, 'model__min_samples_split': 6, 'model__min_samples_leaf': 10, 'model__max_features': 0.9, 'model__bootstrap': True}. Best is trial 31 with value: 0.867030966859482.\n",
      "[I 2025-08-29 09:56:53,184] Trial 39 finished with value: 0.8601515364265557 and parameters: {'regressor': 'Rf', 'model__n_estimators': 500, 'model__max_depth': 66, 'model__min_samples_split': 10, 'model__min_samples_leaf': 2, 'model__max_features': 0.9, 'model__bootstrap': True}. Best is trial 31 with value: 0.867030966859482.\n",
      "[I 2025-08-29 09:56:55,975] Trial 40 finished with value: 0.8708112544206298 and parameters: {'regressor': 'Rf', 'model__n_estimators': 440, 'model__max_depth': 74, 'model__min_samples_split': 3, 'model__min_samples_leaf': 1, 'model__max_features': 0.5, 'model__bootstrap': True}. Best is trial 40 with value: 0.8708112544206298.\n",
      "[I 2025-08-29 09:56:58,790] Trial 41 finished with value: 0.870792815357382 and parameters: {'regressor': 'Rf', 'model__n_estimators': 445, 'model__max_depth': 75, 'model__min_samples_split': 3, 'model__min_samples_leaf': 1, 'model__max_features': 0.5, 'model__bootstrap': True}. Best is trial 40 with value: 0.8708112544206298.\n",
      "[I 2025-08-29 09:57:01,508] Trial 42 finished with value: 0.8673525287199654 and parameters: {'regressor': 'Rf', 'model__n_estimators': 450, 'model__max_depth': 73, 'model__min_samples_split': 3, 'model__min_samples_leaf': 2, 'model__max_features': 0.5, 'model__bootstrap': True}. Best is trial 40 with value: 0.8708112544206298.\n",
      "[I 2025-08-29 09:57:04,231] Trial 43 finished with value: 0.8673525287199654 and parameters: {'regressor': 'Rf', 'model__n_estimators': 450, 'model__max_depth': 76, 'model__min_samples_split': 3, 'model__min_samples_leaf': 2, 'model__max_features': 0.5, 'model__bootstrap': True}. Best is trial 40 with value: 0.8708112544206298.\n",
      "[I 2025-08-29 09:57:06,994] Trial 44 finished with value: 0.8672842125010682 and parameters: {'regressor': 'Rf', 'model__n_estimators': 461, 'model__max_depth': 89, 'model__min_samples_split': 3, 'model__min_samples_leaf': 2, 'model__max_features': 0.5, 'model__bootstrap': True}. Best is trial 40 with value: 0.8708112544206298.\n",
      "[I 2025-08-29 09:57:09,784] Trial 45 finished with value: 0.8672935254320947 and parameters: {'regressor': 'Rf', 'model__n_estimators': 466, 'model__max_depth': 93, 'model__min_samples_split': 3, 'model__min_samples_leaf': 2, 'model__max_features': 0.5, 'model__bootstrap': True}. Best is trial 40 with value: 0.8708112544206298.\n",
      "[I 2025-08-29 09:57:12,612] Trial 46 finished with value: 0.8619614320084205 and parameters: {'regressor': 'Rf', 'model__n_estimators': 484, 'model__max_depth': 91, 'model__min_samples_split': 3, 'model__min_samples_leaf': 3, 'model__max_features': 0.5, 'model__bootstrap': True}. Best is trial 40 with value: 0.8708112544206298.\n",
      "[I 2025-08-29 09:57:14,916] Trial 47 finished with value: 0.8672239060532456 and parameters: {'regressor': 'Rf', 'model__n_estimators': 374, 'model__max_depth': 80, 'model__min_samples_split': 3, 'model__min_samples_leaf': 2, 'model__max_features': 0.5, 'model__bootstrap': True}. Best is trial 40 with value: 0.8708112544206298.\n",
      "[I 2025-08-29 09:57:17,301] Trial 48 finished with value: 0.8479751183397409 and parameters: {'regressor': 'Rf', 'model__n_estimators': 412, 'model__max_depth': 76, 'model__min_samples_split': 5, 'model__min_samples_leaf': 7, 'model__max_features': 0.5, 'model__bootstrap': True}. Best is trial 40 with value: 0.8708112544206298.\n",
      "[I 2025-08-29 09:57:20,037] Trial 49 finished with value: 0.8611953586254831 and parameters: {'regressor': 'Rf', 'model__n_estimators': 470, 'model__max_depth': 85, 'model__min_samples_split': 7, 'model__min_samples_leaf': 3, 'model__max_features': 0.5, 'model__bootstrap': True}. Best is trial 40 with value: 0.8708112544206298.\n",
      "[I 2025-08-29 09:57:22,594] Trial 50 finished with value: 0.8500104870430929 and parameters: {'regressor': 'Rf', 'model__n_estimators': 449, 'model__max_depth': 94, 'model__min_samples_split': 12, 'model__min_samples_leaf': 6, 'model__max_features': 0.5, 'model__bootstrap': True}. Best is trial 40 with value: 0.8708112544206298.\n",
      "[I 2025-08-29 09:57:25,378] Trial 51 finished with value: 0.8672842125010682 and parameters: {'regressor': 'Rf', 'model__n_estimators': 461, 'model__max_depth': 87, 'model__min_samples_split': 3, 'model__min_samples_leaf': 2, 'model__max_features': 0.5, 'model__bootstrap': True}. Best is trial 40 with value: 0.8708112544206298.\n",
      "[I 2025-08-29 09:57:27,923] Trial 52 finished with value: 0.8674354600217258 and parameters: {'regressor': 'Rf', 'model__n_estimators': 411, 'model__max_depth': 77, 'model__min_samples_split': 3, 'model__min_samples_leaf': 2, 'model__max_features': 0.5, 'model__bootstrap': True}. Best is trial 40 with value: 0.8708112544206298.\n",
      "[I 2025-08-29 09:57:30,445] Trial 53 finished with value: 0.86741976230443 and parameters: {'regressor': 'Rf', 'model__n_estimators': 412, 'model__max_depth': 78, 'model__min_samples_split': 2, 'model__min_samples_leaf': 2, 'model__max_features': 0.5, 'model__bootstrap': True}. Best is trial 40 with value: 0.8708112544206298.\n",
      "[I 2025-08-29 09:57:32,868] Trial 54 finished with value: 0.8575715697423977 and parameters: {'regressor': 'Rf', 'model__n_estimators': 411, 'model__max_depth': 79, 'model__min_samples_split': 2, 'model__min_samples_leaf': 4, 'model__max_features': 0.5, 'model__bootstrap': True}. Best is trial 40 with value: 0.8708112544206298.\n",
      "[I 2025-08-29 09:57:34,952] Trial 55 finished with value: 0.8584443652514049 and parameters: {'regressor': 'Rf', 'model__n_estimators': 370, 'model__max_depth': 73, 'model__min_samples_split': 5, 'model__min_samples_leaf': 3, 'model__max_features': 0.3, 'model__bootstrap': True}. Best is trial 40 with value: 0.8708112544206298.\n",
      "[I 2025-08-29 09:57:37,513] Trial 56 finished with value: 0.8656666443947341 and parameters: {'regressor': 'Rf', 'model__n_estimators': 424, 'model__max_depth': 78, 'model__min_samples_split': 6, 'model__min_samples_leaf': 2, 'model__max_features': 0.5, 'model__bootstrap': True}. Best is trial 40 with value: 0.8708112544206298.\n",
      "[I 2025-08-29 09:57:39,436] Trial 57 finished with value: 0.8626034098263027 and parameters: {'regressor': 'Rf', 'model__n_estimators': 306, 'model__max_depth': 63, 'model__min_samples_split': 2, 'model__min_samples_leaf': 3, 'model__max_features': 0.5, 'model__bootstrap': True}. Best is trial 40 with value: 0.8708112544206298.\n",
      "[I 2025-08-29 09:57:41,627] Trial 58 finished with value: 0.8710369532765059 and parameters: {'regressor': 'Rf', 'model__n_estimators': 328, 'model__max_depth': 71, 'model__min_samples_split': 3, 'model__min_samples_leaf': 1, 'model__max_features': 0.5, 'model__bootstrap': True}. Best is trial 58 with value: 0.8710369532765059.\n",
      "[I 2025-08-29 09:57:43,772] Trial 59 finished with value: 0.8701252105459799 and parameters: {'regressor': 'Rf', 'model__n_estimators': 332, 'model__max_depth': 71, 'model__min_samples_split': 5, 'model__min_samples_leaf': 1, 'model__max_features': 0.5, 'model__bootstrap': True}. Best is trial 58 with value: 0.8710369532765059.\n",
      "[I 2025-08-29 09:57:45,563] Trial 60 finished with value: 0.8700735144494915 and parameters: {'regressor': 'Rf', 'model__n_estimators': 274, 'model__max_depth': 55, 'model__min_samples_split': 5, 'model__min_samples_leaf': 1, 'model__max_features': 0.5, 'model__bootstrap': True}. Best is trial 58 with value: 0.8710369532765059.\n",
      "[I 2025-08-29 09:57:47,379] Trial 61 finished with value: 0.8700811521511488 and parameters: {'regressor': 'Rf', 'model__n_estimators': 280, 'model__max_depth': 54, 'model__min_samples_split': 5, 'model__min_samples_leaf': 1, 'model__max_features': 0.5, 'model__bootstrap': True}. Best is trial 58 with value: 0.8710369532765059.\n",
      "[I 2025-08-29 09:57:49,238] Trial 62 finished with value: 0.8675542527873171 and parameters: {'regressor': 'Rf', 'model__n_estimators': 285, 'model__max_depth': 54, 'model__min_samples_split': 6, 'model__min_samples_leaf': 1, 'model__max_features': 0.5, 'model__bootstrap': True}. Best is trial 58 with value: 0.8710369532765059.\n",
      "[I 2025-08-29 09:57:50,909] Trial 63 finished with value: 0.8602956850990064 and parameters: {'regressor': 'Rf', 'model__n_estimators': 285, 'model__max_depth': 54, 'model__min_samples_split': 8, 'model__min_samples_leaf': 1, 'model__max_features': 'log2', 'model__bootstrap': True}. Best is trial 58 with value: 0.8710369532765059.\n",
      "[I 2025-08-29 09:57:53,028] Trial 64 finished with value: 0.870138107572363 and parameters: {'regressor': 'Rf', 'model__n_estimators': 329, 'model__max_depth': 49, 'model__min_samples_split': 5, 'model__min_samples_leaf': 1, 'model__max_features': 0.5, 'model__bootstrap': True}. Best is trial 58 with value: 0.8710369532765059.\n",
      "[I 2025-08-29 09:57:54,962] Trial 65 finished with value: 0.8671631613693302 and parameters: {'regressor': 'Rf', 'model__n_estimators': 324, 'model__max_depth': 46, 'model__min_samples_split': 5, 'model__min_samples_leaf': 1, 'model__max_features': 0.3, 'model__bootstrap': True}. Best is trial 58 with value: 0.8710369532765059.\n",
      "[I 2025-08-29 09:57:56,866] Trial 66 finished with value: 0.861046909045794 and parameters: {'regressor': 'Rf', 'model__n_estimators': 328, 'model__max_depth': 42, 'model__min_samples_split': 7, 'model__min_samples_leaf': 1, 'model__max_features': 'sqrt', 'model__bootstrap': True}. Best is trial 58 with value: 0.8710369532765059.\n",
      "[I 2025-08-29 09:57:58,566] Trial 67 finished with value: 0.8662073991749004 and parameters: {'regressor': 'Rf', 'model__n_estimators': 260, 'model__max_depth': 50, 'model__min_samples_split': 9, 'model__min_samples_leaf': 1, 'model__max_features': 0.5, 'model__bootstrap': True}. Best is trial 58 with value: 0.8710369532765059.\n",
      "[I 2025-08-29 09:58:00,016] Trial 68 finished with value: 0.8698022230539767 and parameters: {'regressor': 'Rf', 'model__n_estimators': 207, 'model__max_depth': 42, 'model__min_samples_split': 5, 'model__min_samples_leaf': 1, 'model__max_features': 0.5, 'model__bootstrap': True}. Best is trial 58 with value: 0.8710369532765059.\n",
      "[I 2025-08-29 09:58:02,058] Trial 69 finished with value: 0.8579716785111918 and parameters: {'regressor': 'Rf', 'model__n_estimators': 336, 'model__max_depth': 56, 'model__min_samples_split': 19, 'model__min_samples_leaf': 1, 'model__max_features': 0.5, 'model__bootstrap': True}. Best is trial 58 with value: 0.8710369532765059.\n",
      "[I 2025-08-29 09:58:03,816] Trial 70 finished with value: 0.870326788316311 and parameters: {'regressor': 'Rf', 'model__n_estimators': 266, 'model__max_depth': 63, 'model__min_samples_split': 4, 'model__min_samples_leaf': 1, 'model__max_features': 0.5, 'model__bootstrap': True}. Best is trial 58 with value: 0.8710369532765059.\n",
      "[I 2025-08-29 09:58:05,579] Trial 71 finished with value: 0.8704089158922435 and parameters: {'regressor': 'Rf', 'model__n_estimators': 265, 'model__max_depth': 62, 'model__min_samples_split': 4, 'model__min_samples_leaf': 1, 'model__max_features': 0.5, 'model__bootstrap': True}. Best is trial 58 with value: 0.8710369532765059.\n",
      "[I 2025-08-29 09:58:07,296] Trial 72 finished with value: 0.8705114552905092 and parameters: {'regressor': 'Rf', 'model__n_estimators': 255, 'model__max_depth': 62, 'model__min_samples_split': 4, 'model__min_samples_leaf': 1, 'model__max_features': 0.5, 'model__bootstrap': True}. Best is trial 58 with value: 0.8710369532765059.\n",
      "[I 2025-08-29 09:58:09,302] Trial 73 finished with value: 0.8701843367358297 and parameters: {'regressor': 'Rf', 'model__n_estimators': 304, 'model__max_depth': 62, 'model__min_samples_split': 4, 'model__min_samples_leaf': 1, 'model__max_features': 0.5, 'model__bootstrap': True}. Best is trial 58 with value: 0.8710369532765059.\n",
      "[I 2025-08-29 09:58:10,438] Trial 74 finished with value: 0.864115319495081 and parameters: {'regressor': 'Rf', 'model__n_estimators': 171, 'model__max_depth': 62, 'model__min_samples_split': 4, 'model__min_samples_leaf': 1, 'model__max_features': 'log2', 'model__bootstrap': True}. Best is trial 58 with value: 0.8710369532765059.\n",
      "[I 2025-08-29 09:58:12,430] Trial 75 finished with value: 0.8701162522707244 and parameters: {'regressor': 'Rf', 'model__n_estimators': 301, 'model__max_depth': 65, 'model__min_samples_split': 4, 'model__min_samples_leaf': 1, 'model__max_features': 0.5, 'model__bootstrap': True}. Best is trial 58 with value: 0.8710369532765059.\n",
      "[I 2025-08-29 09:58:13,968] Trial 76 finished with value: 0.8328112344856458 and parameters: {'regressor': 'Rf', 'model__n_estimators': 261, 'model__max_depth': 60, 'model__min_samples_split': 4, 'model__min_samples_leaf': 9, 'model__max_features': 'sqrt', 'model__bootstrap': True}. Best is trial 58 with value: 0.8710369532765059.\n",
      "[I 2025-08-29 09:58:15,652] Trial 77 finished with value: 0.8674173227651911 and parameters: {'regressor': 'Rf', 'model__n_estimators': 247, 'model__max_depth': 70, 'model__min_samples_split': 6, 'model__min_samples_leaf': 1, 'model__max_features': 0.5, 'model__bootstrap': True}. Best is trial 58 with value: 0.8710369532765059.\n",
      "[I 2025-08-29 09:58:17,181] Trial 78 finished with value: 0.8671557414808045 and parameters: {'regressor': 'Rf', 'model__n_estimators': 224, 'model__max_depth': 66, 'model__min_samples_split': 4, 'model__min_samples_leaf': 2, 'model__max_features': 0.5, 'model__bootstrap': True}. Best is trial 58 with value: 0.8710369532765059.\n",
      "[I 2025-08-29 09:58:19,154] Trial 79 finished with value: 0.8699520011907073 and parameters: {'regressor': 'Rf', 'model__n_estimators': 313, 'model__max_depth': 50, 'model__min_samples_split': 2, 'model__min_samples_leaf': 1, 'model__max_features': 0.3, 'model__bootstrap': True}. Best is trial 58 with value: 0.8710369532765059.\n",
      "[I 2025-08-29 09:58:21,242] Trial 80 finished with value: 0.8710536287149118 and parameters: {'regressor': 'Rf', 'model__n_estimators': 315, 'model__max_depth': 67, 'model__min_samples_split': 3, 'model__min_samples_leaf': 1, 'model__max_features': 0.5, 'model__bootstrap': True}. Best is trial 80 with value: 0.8710536287149118.\n",
      "[I 2025-08-29 09:58:23,362] Trial 81 finished with value: 0.8710536287149118 and parameters: {'regressor': 'Rf', 'model__n_estimators': 315, 'model__max_depth': 63, 'model__min_samples_split': 3, 'model__min_samples_leaf': 1, 'model__max_features': 0.5, 'model__bootstrap': True}. Best is trial 80 with value: 0.8710536287149118.\n",
      "[I 2025-08-29 09:58:25,459] Trial 82 finished with value: 0.8710536287149118 and parameters: {'regressor': 'Rf', 'model__n_estimators': 315, 'model__max_depth': 63, 'model__min_samples_split': 3, 'model__min_samples_leaf': 1, 'model__max_features': 0.5, 'model__bootstrap': True}. Best is trial 80 with value: 0.8710536287149118.\n",
      "[I 2025-08-29 09:58:27,686] Trial 83 finished with value: 0.8672044963164515 and parameters: {'regressor': 'Rf', 'model__n_estimators': 358, 'model__max_depth': 69, 'model__min_samples_split': 3, 'model__min_samples_leaf': 2, 'model__max_features': 0.5, 'model__bootstrap': True}. Best is trial 80 with value: 0.8710536287149118.\n",
      "[I 2025-08-29 09:58:29,719] Trial 84 finished with value: 0.8704089113161568 and parameters: {'regressor': 'Rf', 'model__n_estimators': 294, 'model__max_depth': 58, 'model__min_samples_split': 2, 'model__min_samples_leaf': 1, 'model__max_features': 0.5, 'model__bootstrap': True}. Best is trial 80 with value: 0.8710536287149118.\n",
      "[I 2025-08-29 09:58:31,621] Trial 85 finished with value: 0.8672764618181248 and parameters: {'regressor': 'Rf', 'model__n_estimators': 294, 'model__max_depth': 67, 'model__min_samples_split': 2, 'model__min_samples_leaf': 2, 'model__max_features': 0.5, 'model__bootstrap': True}. Best is trial 80 with value: 0.8710536287149118.\n",
      "[I 2025-08-29 09:58:33,944] Trial 86 finished with value: 0.8706699691897372 and parameters: {'regressor': 'Rf', 'model__n_estimators': 343, 'model__max_depth': 59, 'model__min_samples_split': 2, 'model__min_samples_leaf': 1, 'model__max_features': 0.5, 'model__bootstrap': True}. Best is trial 80 with value: 0.8710536287149118.\n",
      "[I 2025-08-29 09:58:35,973] Trial 87 finished with value: 0.8672608322084434 and parameters: {'regressor': 'Rf', 'model__n_estimators': 313, 'model__max_depth': 72, 'model__min_samples_split': 3, 'model__min_samples_leaf': 2, 'model__max_features': 0.5, 'model__bootstrap': True}. Best is trial 80 with value: 0.8710536287149118.\n",
      "[I 2025-08-29 09:58:38,239] Trial 88 finished with value: 0.8711587311391673 and parameters: {'regressor': 'Rf', 'model__n_estimators': 348, 'model__max_depth': 57, 'model__min_samples_split': 3, 'model__min_samples_leaf': 1, 'model__max_features': 0.5, 'model__bootstrap': True}. Best is trial 88 with value: 0.8711587311391673.\n",
      "[I 2025-08-29 09:58:40,405] Trial 89 finished with value: 0.8673213186045274 and parameters: {'regressor': 'Rf', 'model__n_estimators': 346, 'model__max_depth': 59, 'model__min_samples_split': 2, 'model__min_samples_leaf': 2, 'model__max_features': 0.5, 'model__bootstrap': True}. Best is trial 88 with value: 0.8711587311391673.\n",
      "[I 2025-08-29 09:58:42,497] Trial 90 finished with value: 0.8653394284004456 and parameters: {'regressor': 'Rf', 'model__n_estimators': 358, 'model__max_depth': 64, 'model__min_samples_split': 3, 'model__min_samples_leaf': 1, 'model__max_features': 'log2', 'model__bootstrap': True}. Best is trial 88 with value: 0.8711587311391673.\n",
      "[I 2025-08-29 09:58:44,629] Trial 91 finished with value: 0.8710473812045099 and parameters: {'regressor': 'Rf', 'model__n_estimators': 319, 'model__max_depth': 68, 'model__min_samples_split': 3, 'model__min_samples_leaf': 1, 'model__max_features': 0.5, 'model__bootstrap': True}. Best is trial 88 with value: 0.8711587311391673.\n",
      "[I 2025-08-29 09:58:46,728] Trial 92 finished with value: 0.8710693678760609 and parameters: {'regressor': 'Rf', 'model__n_estimators': 317, 'model__max_depth': 82, 'model__min_samples_split': 3, 'model__min_samples_leaf': 1, 'model__max_features': 0.5, 'model__bootstrap': True}. Best is trial 88 with value: 0.8711587311391673.\n",
      "[I 2025-08-29 09:58:48,832] Trial 93 finished with value: 0.8710012847718203 and parameters: {'regressor': 'Rf', 'model__n_estimators': 318, 'model__max_depth': 74, 'model__min_samples_split': 3, 'model__min_samples_leaf': 1, 'model__max_features': 0.5, 'model__bootstrap': True}. Best is trial 88 with value: 0.8711587311391673.\n",
      "[I 2025-08-29 09:58:50,881] Trial 94 finished with value: 0.8672802062268676 and parameters: {'regressor': 'Rf', 'model__n_estimators': 320, 'model__max_depth': 74, 'model__min_samples_split': 3, 'model__min_samples_leaf': 2, 'model__max_features': 0.5, 'model__bootstrap': True}. Best is trial 88 with value: 0.8711587311391673.\n",
      "[I 2025-08-29 09:58:53,307] Trial 95 finished with value: 0.8710834125908823 and parameters: {'regressor': 'Rf', 'model__n_estimators': 366, 'model__max_depth': 75, 'model__min_samples_split': 3, 'model__min_samples_leaf': 1, 'model__max_features': 0.5, 'model__bootstrap': True}. Best is trial 88 with value: 0.8711587311391673.\n",
      "[I 2025-08-29 09:58:55,472] Trial 96 finished with value: 0.865403017491589 and parameters: {'regressor': 'Rf', 'model__n_estimators': 365, 'model__max_depth': 69, 'model__min_samples_split': 3, 'model__min_samples_leaf': 1, 'model__max_features': 'sqrt', 'model__bootstrap': True}. Best is trial 88 with value: 0.8711587311391673.\n",
      "[I 2025-08-29 09:58:57,549] Trial 97 finished with value: 0.8617330347263129 and parameters: {'regressor': 'Rf', 'model__n_estimators': 339, 'model__max_depth': 82, 'model__min_samples_split': 14, 'model__min_samples_leaf': 1, 'model__max_features': 0.5, 'model__bootstrap': True}. Best is trial 88 with value: 0.8711587311391673.\n",
      "[I 2025-08-29 09:58:59,453] Trial 98 finished with value: 0.8478102637128021 and parameters: {'regressor': 'Rf', 'model__n_estimators': 317, 'model__max_depth': 81, 'model__min_samples_split': 2, 'model__min_samples_leaf': 7, 'model__max_features': 0.5, 'model__bootstrap': True}. Best is trial 88 with value: 0.8711587311391673.\n",
      "[I 2025-08-29 09:59:01,836] Trial 99 finished with value: 0.8672798917750983 and parameters: {'regressor': 'Rf', 'model__n_estimators': 384, 'model__max_depth': 71, 'model__min_samples_split': 3, 'model__min_samples_leaf': 2, 'model__max_features': 0.5, 'model__bootstrap': True}. Best is trial 88 with value: 0.8711587311391673.\n"
     ]
    }
   ],
   "source": [
    "study = optuna.create_study(direction='maximize',sampler=optuna.samplers.TPESampler(seed=0))\n",
    "study.optimize(lambda trial : objective(trial,Target_preprocessor),n_trials=100,n_jobs=1)"
   ]
  },
  {
   "cell_type": "code",
   "execution_count": 121,
   "id": "faae53df",
   "metadata": {},
   "outputs": [
    {
     "data": {
      "text/plain": [
       "0.8711587311391673"
      ]
     },
     "execution_count": 121,
     "metadata": {},
     "output_type": "execute_result"
    }
   ],
   "source": [
    "study.best_value"
   ]
  },
  {
   "cell_type": "code",
   "execution_count": 120,
   "id": "c6ab7893",
   "metadata": {},
   "outputs": [
    {
     "data": {
      "text/plain": [
       "np.float64(0.014341438369554893)"
      ]
     },
     "execution_count": 120,
     "metadata": {},
     "output_type": "execute_result"
    }
   ],
   "source": [
    "cv_std = study.best_trial.user_attrs['cv_std']\n",
    "cv_std"
   ]
  },
  {
   "cell_type": "code",
   "execution_count": 116,
   "id": "19c42aa1",
   "metadata": {},
   "outputs": [
    {
     "data": {
      "text/plain": [
       "{'regressor': 'Rf',\n",
       " 'model__n_estimators': 348,\n",
       " 'model__max_depth': 57,\n",
       " 'model__min_samples_split': 3,\n",
       " 'model__min_samples_leaf': 1,\n",
       " 'model__max_features': 0.5,\n",
       " 'model__bootstrap': True}"
      ]
     },
     "execution_count": 116,
     "metadata": {},
     "output_type": "execute_result"
    }
   ],
   "source": [
    "study.best_params"
   ]
  },
  {
   "cell_type": "code",
   "execution_count": 117,
   "id": "15ce1088",
   "metadata": {},
   "outputs": [
    {
     "name": "stdout",
     "output_type": "stream",
     "text": [
      "Test_MSE:1.528103368238784\n",
      "Test_MAE:0.48884579948770024\n",
      "Test_R2:0.7950299309576578\n"
     ]
    }
   ],
   "source": [
    "final_model = study.best_trial.user_attrs['model']\n",
    "final_model.fit(x_train,y_train)\n",
    "\n",
    "y_pred = final_model.predict(x_test)\n",
    "\n",
    "y_pred = np.expm1(y_pred)\n",
    "y_test = np.expm1(y_test)\n",
    "\n",
    "print(f\"Test_MSE:{mean_squared_error(y_test,y_pred)}\")\n",
    "print(f\"Test_MAE:{mean_absolute_error(y_test,y_pred)}\")\n",
    "print(f\"Test_R2:{r2_score(y_test,y_pred)}\")"
   ]
  },
  {
   "cell_type": "code",
   "execution_count": 118,
   "id": "e09bd787",
   "metadata": {},
   "outputs": [
    {
     "data": {
      "application/vnd.plotly.v1+json": {
       "config": {
        "plotlyServerURL": "https://plot.ly"
       },
       "data": [
        {
         "mode": "markers",
         "name": "Objective Value",
         "type": "scatter",
         "x": [
          0,
          1,
          2,
          3,
          4,
          5,
          6,
          7,
          8,
          9,
          10,
          11,
          12,
          13,
          14,
          15,
          16,
          17,
          18,
          19,
          20,
          21,
          22,
          23,
          24,
          25,
          26,
          27,
          28,
          29,
          30,
          31,
          32,
          33,
          34,
          35,
          36,
          37,
          38,
          39,
          40,
          41,
          42,
          43,
          44,
          45,
          46,
          47,
          48,
          49,
          50,
          51,
          52,
          53,
          54,
          55,
          56,
          57,
          58,
          59,
          60,
          61,
          62,
          63,
          64,
          65,
          66,
          67,
          68,
          69,
          70,
          71,
          72,
          73,
          74,
          75,
          76,
          77,
          78,
          79,
          80,
          81,
          82,
          83,
          84,
          85,
          86,
          87,
          88,
          89,
          90,
          91,
          92,
          93,
          94,
          95,
          96,
          97,
          98,
          99
         ],
         "y": [
          0.8491073814451402,
          0.8346736486657651,
          0.8449639216474922,
          0.8487429855136339,
          0.8518904175263294,
          0.8507539003487533,
          0.8573755370026503,
          0.8363424104591637,
          0.8433198082352333,
          0.84261513028644,
          0.8354393275954919,
          0.8514479660850018,
          0.8436374404195304,
          0.8527979462017466,
          0.8522751129003494,
          0.8507858019932503,
          0.8566861549173627,
          0.8568372460839712,
          0.8304138542578972,
          0.8519173906809165,
          0.8611283131691223,
          0.8605524594665501,
          0.8656167640213441,
          0.8611674258811188,
          0.8659546658067437,
          0.8658818657437235,
          0.8603298208933478,
          0.8669709255681836,
          0.8669408108104115,
          0.8668523896495903,
          0.8669431283447875,
          0.867030966859482,
          0.867030966859482,
          0.8650960599376205,
          0.8657531114148729,
          0.8374799667126046,
          0.8632371587589279,
          0.8507858103880871,
          0.8345313239153592,
          0.8601515364265557,
          0.8708112544206298,
          0.870792815357382,
          0.8673525287199654,
          0.8673525287199654,
          0.8672842125010682,
          0.8672935254320947,
          0.8619614320084205,
          0.8672239060532456,
          0.8479751183397409,
          0.8611953586254831,
          0.8500104870430929,
          0.8672842125010682,
          0.8674354600217258,
          0.86741976230443,
          0.8575715697423977,
          0.8584443652514049,
          0.8656666443947341,
          0.8626034098263027,
          0.8710369532765059,
          0.8701252105459799,
          0.8700735144494915,
          0.8700811521511488,
          0.8675542527873171,
          0.8602956850990064,
          0.870138107572363,
          0.8671631613693302,
          0.861046909045794,
          0.8662073991749004,
          0.8698022230539767,
          0.8579716785111918,
          0.870326788316311,
          0.8704089158922435,
          0.8705114552905092,
          0.8701843367358297,
          0.864115319495081,
          0.8701162522707244,
          0.8328112344856458,
          0.8674173227651911,
          0.8671557414808045,
          0.8699520011907073,
          0.8710536287149118,
          0.8710536287149118,
          0.8710536287149118,
          0.8672044963164515,
          0.8704089113161568,
          0.8672764618181248,
          0.8706699691897372,
          0.8672608322084434,
          0.8711587311391673,
          0.8673213186045274,
          0.8653394284004456,
          0.8710473812045099,
          0.8710693678760609,
          0.8710012847718203,
          0.8672802062268676,
          0.8710834125908823,
          0.865403017491589,
          0.8617330347263129,
          0.8478102637128021,
          0.8672798917750983
         ]
        },
        {
         "mode": "lines",
         "name": "Best Value",
         "type": "scatter",
         "x": [
          0,
          1,
          2,
          3,
          4,
          5,
          6,
          7,
          8,
          9,
          10,
          11,
          12,
          13,
          14,
          15,
          16,
          17,
          18,
          19,
          20,
          21,
          22,
          23,
          24,
          25,
          26,
          27,
          28,
          29,
          30,
          31,
          32,
          33,
          34,
          35,
          36,
          37,
          38,
          39,
          40,
          41,
          42,
          43,
          44,
          45,
          46,
          47,
          48,
          49,
          50,
          51,
          52,
          53,
          54,
          55,
          56,
          57,
          58,
          59,
          60,
          61,
          62,
          63,
          64,
          65,
          66,
          67,
          68,
          69,
          70,
          71,
          72,
          73,
          74,
          75,
          76,
          77,
          78,
          79,
          80,
          81,
          82,
          83,
          84,
          85,
          86,
          87,
          88,
          89,
          90,
          91,
          92,
          93,
          94,
          95,
          96,
          97,
          98,
          99
         ],
         "y": [
          0.8491073814451402,
          0.8491073814451402,
          0.8491073814451402,
          0.8491073814451402,
          0.8518904175263294,
          0.8518904175263294,
          0.8573755370026503,
          0.8573755370026503,
          0.8573755370026503,
          0.8573755370026503,
          0.8573755370026503,
          0.8573755370026503,
          0.8573755370026503,
          0.8573755370026503,
          0.8573755370026503,
          0.8573755370026503,
          0.8573755370026503,
          0.8573755370026503,
          0.8573755370026503,
          0.8573755370026503,
          0.8611283131691223,
          0.8611283131691223,
          0.8656167640213441,
          0.8656167640213441,
          0.8659546658067437,
          0.8659546658067437,
          0.8659546658067437,
          0.8669709255681836,
          0.8669709255681836,
          0.8669709255681836,
          0.8669709255681836,
          0.867030966859482,
          0.867030966859482,
          0.867030966859482,
          0.867030966859482,
          0.867030966859482,
          0.867030966859482,
          0.867030966859482,
          0.867030966859482,
          0.867030966859482,
          0.8708112544206298,
          0.8708112544206298,
          0.8708112544206298,
          0.8708112544206298,
          0.8708112544206298,
          0.8708112544206298,
          0.8708112544206298,
          0.8708112544206298,
          0.8708112544206298,
          0.8708112544206298,
          0.8708112544206298,
          0.8708112544206298,
          0.8708112544206298,
          0.8708112544206298,
          0.8708112544206298,
          0.8708112544206298,
          0.8708112544206298,
          0.8708112544206298,
          0.8710369532765059,
          0.8710369532765059,
          0.8710369532765059,
          0.8710369532765059,
          0.8710369532765059,
          0.8710369532765059,
          0.8710369532765059,
          0.8710369532765059,
          0.8710369532765059,
          0.8710369532765059,
          0.8710369532765059,
          0.8710369532765059,
          0.8710369532765059,
          0.8710369532765059,
          0.8710369532765059,
          0.8710369532765059,
          0.8710369532765059,
          0.8710369532765059,
          0.8710369532765059,
          0.8710369532765059,
          0.8710369532765059,
          0.8710369532765059,
          0.8710536287149118,
          0.8710536287149118,
          0.8710536287149118,
          0.8710536287149118,
          0.8710536287149118,
          0.8710536287149118,
          0.8710536287149118,
          0.8710536287149118,
          0.8711587311391673,
          0.8711587311391673,
          0.8711587311391673,
          0.8711587311391673,
          0.8711587311391673,
          0.8711587311391673,
          0.8711587311391673,
          0.8711587311391673,
          0.8711587311391673,
          0.8711587311391673,
          0.8711587311391673,
          0.8711587311391673
         ]
        },
        {
         "marker": {
          "color": "#cccccc"
         },
         "mode": "markers",
         "name": "Infeasible Trial",
         "showlegend": false,
         "type": "scatter",
         "x": [],
         "y": []
        }
       ],
       "layout": {
        "template": {
         "data": {
          "bar": [
           {
            "error_x": {
             "color": "#2a3f5f"
            },
            "error_y": {
             "color": "#2a3f5f"
            },
            "marker": {
             "line": {
              "color": "#E5ECF6",
              "width": 0.5
             },
             "pattern": {
              "fillmode": "overlay",
              "size": 10,
              "solidity": 0.2
             }
            },
            "type": "bar"
           }
          ],
          "barpolar": [
           {
            "marker": {
             "line": {
              "color": "#E5ECF6",
              "width": 0.5
             },
             "pattern": {
              "fillmode": "overlay",
              "size": 10,
              "solidity": 0.2
             }
            },
            "type": "barpolar"
           }
          ],
          "carpet": [
           {
            "aaxis": {
             "endlinecolor": "#2a3f5f",
             "gridcolor": "white",
             "linecolor": "white",
             "minorgridcolor": "white",
             "startlinecolor": "#2a3f5f"
            },
            "baxis": {
             "endlinecolor": "#2a3f5f",
             "gridcolor": "white",
             "linecolor": "white",
             "minorgridcolor": "white",
             "startlinecolor": "#2a3f5f"
            },
            "type": "carpet"
           }
          ],
          "choropleth": [
           {
            "colorbar": {
             "outlinewidth": 0,
             "ticks": ""
            },
            "type": "choropleth"
           }
          ],
          "contour": [
           {
            "colorbar": {
             "outlinewidth": 0,
             "ticks": ""
            },
            "colorscale": [
             [
              0,
              "#0d0887"
             ],
             [
              0.1111111111111111,
              "#46039f"
             ],
             [
              0.2222222222222222,
              "#7201a8"
             ],
             [
              0.3333333333333333,
              "#9c179e"
             ],
             [
              0.4444444444444444,
              "#bd3786"
             ],
             [
              0.5555555555555556,
              "#d8576b"
             ],
             [
              0.6666666666666666,
              "#ed7953"
             ],
             [
              0.7777777777777778,
              "#fb9f3a"
             ],
             [
              0.8888888888888888,
              "#fdca26"
             ],
             [
              1,
              "#f0f921"
             ]
            ],
            "type": "contour"
           }
          ],
          "contourcarpet": [
           {
            "colorbar": {
             "outlinewidth": 0,
             "ticks": ""
            },
            "type": "contourcarpet"
           }
          ],
          "heatmap": [
           {
            "colorbar": {
             "outlinewidth": 0,
             "ticks": ""
            },
            "colorscale": [
             [
              0,
              "#0d0887"
             ],
             [
              0.1111111111111111,
              "#46039f"
             ],
             [
              0.2222222222222222,
              "#7201a8"
             ],
             [
              0.3333333333333333,
              "#9c179e"
             ],
             [
              0.4444444444444444,
              "#bd3786"
             ],
             [
              0.5555555555555556,
              "#d8576b"
             ],
             [
              0.6666666666666666,
              "#ed7953"
             ],
             [
              0.7777777777777778,
              "#fb9f3a"
             ],
             [
              0.8888888888888888,
              "#fdca26"
             ],
             [
              1,
              "#f0f921"
             ]
            ],
            "type": "heatmap"
           }
          ],
          "histogram": [
           {
            "marker": {
             "pattern": {
              "fillmode": "overlay",
              "size": 10,
              "solidity": 0.2
             }
            },
            "type": "histogram"
           }
          ],
          "histogram2d": [
           {
            "colorbar": {
             "outlinewidth": 0,
             "ticks": ""
            },
            "colorscale": [
             [
              0,
              "#0d0887"
             ],
             [
              0.1111111111111111,
              "#46039f"
             ],
             [
              0.2222222222222222,
              "#7201a8"
             ],
             [
              0.3333333333333333,
              "#9c179e"
             ],
             [
              0.4444444444444444,
              "#bd3786"
             ],
             [
              0.5555555555555556,
              "#d8576b"
             ],
             [
              0.6666666666666666,
              "#ed7953"
             ],
             [
              0.7777777777777778,
              "#fb9f3a"
             ],
             [
              0.8888888888888888,
              "#fdca26"
             ],
             [
              1,
              "#f0f921"
             ]
            ],
            "type": "histogram2d"
           }
          ],
          "histogram2dcontour": [
           {
            "colorbar": {
             "outlinewidth": 0,
             "ticks": ""
            },
            "colorscale": [
             [
              0,
              "#0d0887"
             ],
             [
              0.1111111111111111,
              "#46039f"
             ],
             [
              0.2222222222222222,
              "#7201a8"
             ],
             [
              0.3333333333333333,
              "#9c179e"
             ],
             [
              0.4444444444444444,
              "#bd3786"
             ],
             [
              0.5555555555555556,
              "#d8576b"
             ],
             [
              0.6666666666666666,
              "#ed7953"
             ],
             [
              0.7777777777777778,
              "#fb9f3a"
             ],
             [
              0.8888888888888888,
              "#fdca26"
             ],
             [
              1,
              "#f0f921"
             ]
            ],
            "type": "histogram2dcontour"
           }
          ],
          "mesh3d": [
           {
            "colorbar": {
             "outlinewidth": 0,
             "ticks": ""
            },
            "type": "mesh3d"
           }
          ],
          "parcoords": [
           {
            "line": {
             "colorbar": {
              "outlinewidth": 0,
              "ticks": ""
             }
            },
            "type": "parcoords"
           }
          ],
          "pie": [
           {
            "automargin": true,
            "type": "pie"
           }
          ],
          "scatter": [
           {
            "fillpattern": {
             "fillmode": "overlay",
             "size": 10,
             "solidity": 0.2
            },
            "type": "scatter"
           }
          ],
          "scatter3d": [
           {
            "line": {
             "colorbar": {
              "outlinewidth": 0,
              "ticks": ""
             }
            },
            "marker": {
             "colorbar": {
              "outlinewidth": 0,
              "ticks": ""
             }
            },
            "type": "scatter3d"
           }
          ],
          "scattercarpet": [
           {
            "marker": {
             "colorbar": {
              "outlinewidth": 0,
              "ticks": ""
             }
            },
            "type": "scattercarpet"
           }
          ],
          "scattergeo": [
           {
            "marker": {
             "colorbar": {
              "outlinewidth": 0,
              "ticks": ""
             }
            },
            "type": "scattergeo"
           }
          ],
          "scattergl": [
           {
            "marker": {
             "colorbar": {
              "outlinewidth": 0,
              "ticks": ""
             }
            },
            "type": "scattergl"
           }
          ],
          "scattermap": [
           {
            "marker": {
             "colorbar": {
              "outlinewidth": 0,
              "ticks": ""
             }
            },
            "type": "scattermap"
           }
          ],
          "scattermapbox": [
           {
            "marker": {
             "colorbar": {
              "outlinewidth": 0,
              "ticks": ""
             }
            },
            "type": "scattermapbox"
           }
          ],
          "scatterpolar": [
           {
            "marker": {
             "colorbar": {
              "outlinewidth": 0,
              "ticks": ""
             }
            },
            "type": "scatterpolar"
           }
          ],
          "scatterpolargl": [
           {
            "marker": {
             "colorbar": {
              "outlinewidth": 0,
              "ticks": ""
             }
            },
            "type": "scatterpolargl"
           }
          ],
          "scatterternary": [
           {
            "marker": {
             "colorbar": {
              "outlinewidth": 0,
              "ticks": ""
             }
            },
            "type": "scatterternary"
           }
          ],
          "surface": [
           {
            "colorbar": {
             "outlinewidth": 0,
             "ticks": ""
            },
            "colorscale": [
             [
              0,
              "#0d0887"
             ],
             [
              0.1111111111111111,
              "#46039f"
             ],
             [
              0.2222222222222222,
              "#7201a8"
             ],
             [
              0.3333333333333333,
              "#9c179e"
             ],
             [
              0.4444444444444444,
              "#bd3786"
             ],
             [
              0.5555555555555556,
              "#d8576b"
             ],
             [
              0.6666666666666666,
              "#ed7953"
             ],
             [
              0.7777777777777778,
              "#fb9f3a"
             ],
             [
              0.8888888888888888,
              "#fdca26"
             ],
             [
              1,
              "#f0f921"
             ]
            ],
            "type": "surface"
           }
          ],
          "table": [
           {
            "cells": {
             "fill": {
              "color": "#EBF0F8"
             },
             "line": {
              "color": "white"
             }
            },
            "header": {
             "fill": {
              "color": "#C8D4E3"
             },
             "line": {
              "color": "white"
             }
            },
            "type": "table"
           }
          ]
         },
         "layout": {
          "annotationdefaults": {
           "arrowcolor": "#2a3f5f",
           "arrowhead": 0,
           "arrowwidth": 1
          },
          "autotypenumbers": "strict",
          "coloraxis": {
           "colorbar": {
            "outlinewidth": 0,
            "ticks": ""
           }
          },
          "colorscale": {
           "diverging": [
            [
             0,
             "#8e0152"
            ],
            [
             0.1,
             "#c51b7d"
            ],
            [
             0.2,
             "#de77ae"
            ],
            [
             0.3,
             "#f1b6da"
            ],
            [
             0.4,
             "#fde0ef"
            ],
            [
             0.5,
             "#f7f7f7"
            ],
            [
             0.6,
             "#e6f5d0"
            ],
            [
             0.7,
             "#b8e186"
            ],
            [
             0.8,
             "#7fbc41"
            ],
            [
             0.9,
             "#4d9221"
            ],
            [
             1,
             "#276419"
            ]
           ],
           "sequential": [
            [
             0,
             "#0d0887"
            ],
            [
             0.1111111111111111,
             "#46039f"
            ],
            [
             0.2222222222222222,
             "#7201a8"
            ],
            [
             0.3333333333333333,
             "#9c179e"
            ],
            [
             0.4444444444444444,
             "#bd3786"
            ],
            [
             0.5555555555555556,
             "#d8576b"
            ],
            [
             0.6666666666666666,
             "#ed7953"
            ],
            [
             0.7777777777777778,
             "#fb9f3a"
            ],
            [
             0.8888888888888888,
             "#fdca26"
            ],
            [
             1,
             "#f0f921"
            ]
           ],
           "sequentialminus": [
            [
             0,
             "#0d0887"
            ],
            [
             0.1111111111111111,
             "#46039f"
            ],
            [
             0.2222222222222222,
             "#7201a8"
            ],
            [
             0.3333333333333333,
             "#9c179e"
            ],
            [
             0.4444444444444444,
             "#bd3786"
            ],
            [
             0.5555555555555556,
             "#d8576b"
            ],
            [
             0.6666666666666666,
             "#ed7953"
            ],
            [
             0.7777777777777778,
             "#fb9f3a"
            ],
            [
             0.8888888888888888,
             "#fdca26"
            ],
            [
             1,
             "#f0f921"
            ]
           ]
          },
          "colorway": [
           "#636efa",
           "#EF553B",
           "#00cc96",
           "#ab63fa",
           "#FFA15A",
           "#19d3f3",
           "#FF6692",
           "#B6E880",
           "#FF97FF",
           "#FECB52"
          ],
          "font": {
           "color": "#2a3f5f"
          },
          "geo": {
           "bgcolor": "white",
           "lakecolor": "white",
           "landcolor": "#E5ECF6",
           "showlakes": true,
           "showland": true,
           "subunitcolor": "white"
          },
          "hoverlabel": {
           "align": "left"
          },
          "hovermode": "closest",
          "mapbox": {
           "style": "light"
          },
          "paper_bgcolor": "white",
          "plot_bgcolor": "#E5ECF6",
          "polar": {
           "angularaxis": {
            "gridcolor": "white",
            "linecolor": "white",
            "ticks": ""
           },
           "bgcolor": "#E5ECF6",
           "radialaxis": {
            "gridcolor": "white",
            "linecolor": "white",
            "ticks": ""
           }
          },
          "scene": {
           "xaxis": {
            "backgroundcolor": "#E5ECF6",
            "gridcolor": "white",
            "gridwidth": 2,
            "linecolor": "white",
            "showbackground": true,
            "ticks": "",
            "zerolinecolor": "white"
           },
           "yaxis": {
            "backgroundcolor": "#E5ECF6",
            "gridcolor": "white",
            "gridwidth": 2,
            "linecolor": "white",
            "showbackground": true,
            "ticks": "",
            "zerolinecolor": "white"
           },
           "zaxis": {
            "backgroundcolor": "#E5ECF6",
            "gridcolor": "white",
            "gridwidth": 2,
            "linecolor": "white",
            "showbackground": true,
            "ticks": "",
            "zerolinecolor": "white"
           }
          },
          "shapedefaults": {
           "line": {
            "color": "#2a3f5f"
           }
          },
          "ternary": {
           "aaxis": {
            "gridcolor": "white",
            "linecolor": "white",
            "ticks": ""
           },
           "baxis": {
            "gridcolor": "white",
            "linecolor": "white",
            "ticks": ""
           },
           "bgcolor": "#E5ECF6",
           "caxis": {
            "gridcolor": "white",
            "linecolor": "white",
            "ticks": ""
           }
          },
          "title": {
           "x": 0.05
          },
          "xaxis": {
           "automargin": true,
           "gridcolor": "white",
           "linecolor": "white",
           "ticks": "",
           "title": {
            "standoff": 15
           },
           "zerolinecolor": "white",
           "zerolinewidth": 2
          },
          "yaxis": {
           "automargin": true,
           "gridcolor": "white",
           "linecolor": "white",
           "ticks": "",
           "title": {
            "standoff": 15
           },
           "zerolinecolor": "white",
           "zerolinewidth": 2
          }
         }
        },
        "title": {
         "text": "Optimization History Plot"
        },
        "xaxis": {
         "title": {
          "text": "Trial"
         }
        },
        "yaxis": {
         "title": {
          "text": "Objective Value"
         }
        }
       }
      }
     },
     "metadata": {},
     "output_type": "display_data"
    }
   ],
   "source": [
    "fig1 = optuna.visualization.plot_optimization_history(study)\n",
    "show(fig1)"
   ]
  },
  {
   "cell_type": "code",
   "execution_count": 119,
   "id": "4df33198",
   "metadata": {},
   "outputs": [
    {
     "data": {
      "application/vnd.plotly.v1+json": {
       "config": {
        "plotlyServerURL": "https://plot.ly"
       },
       "data": [
        {
         "cliponaxis": false,
         "hovertemplate": [
          "model__bootstrap (CategoricalDistribution): 0.0<extra></extra>",
          "regressor (CategoricalDistribution): 0.0<extra></extra>",
          "model__n_estimators (IntDistribution): 0.012543033767689388<extra></extra>",
          "model__max_features (CategoricalDistribution): 0.03960663692003548<extra></extra>",
          "model__min_samples_split (IntDistribution): 0.06469064976787733<extra></extra>",
          "model__max_depth (IntDistribution): 0.08361149450783661<extra></extra>",
          "model__min_samples_leaf (IntDistribution): 0.7995481850365611<extra></extra>"
         ],
         "name": "Objective Value",
         "orientation": "h",
         "text": [
          "<0.01",
          "<0.01",
          "0.01",
          "0.04",
          "0.06",
          "0.08",
          "0.80"
         ],
         "textposition": "outside",
         "type": "bar",
         "x": [
          0,
          0,
          0.012543033767689388,
          0.03960663692003548,
          0.06469064976787733,
          0.08361149450783661,
          0.7995481850365611
         ],
         "y": [
          "model__bootstrap",
          "regressor",
          "model__n_estimators",
          "model__max_features",
          "model__min_samples_split",
          "model__max_depth",
          "model__min_samples_leaf"
         ]
        }
       ],
       "layout": {
        "template": {
         "data": {
          "bar": [
           {
            "error_x": {
             "color": "#2a3f5f"
            },
            "error_y": {
             "color": "#2a3f5f"
            },
            "marker": {
             "line": {
              "color": "#E5ECF6",
              "width": 0.5
             },
             "pattern": {
              "fillmode": "overlay",
              "size": 10,
              "solidity": 0.2
             }
            },
            "type": "bar"
           }
          ],
          "barpolar": [
           {
            "marker": {
             "line": {
              "color": "#E5ECF6",
              "width": 0.5
             },
             "pattern": {
              "fillmode": "overlay",
              "size": 10,
              "solidity": 0.2
             }
            },
            "type": "barpolar"
           }
          ],
          "carpet": [
           {
            "aaxis": {
             "endlinecolor": "#2a3f5f",
             "gridcolor": "white",
             "linecolor": "white",
             "minorgridcolor": "white",
             "startlinecolor": "#2a3f5f"
            },
            "baxis": {
             "endlinecolor": "#2a3f5f",
             "gridcolor": "white",
             "linecolor": "white",
             "minorgridcolor": "white",
             "startlinecolor": "#2a3f5f"
            },
            "type": "carpet"
           }
          ],
          "choropleth": [
           {
            "colorbar": {
             "outlinewidth": 0,
             "ticks": ""
            },
            "type": "choropleth"
           }
          ],
          "contour": [
           {
            "colorbar": {
             "outlinewidth": 0,
             "ticks": ""
            },
            "colorscale": [
             [
              0,
              "#0d0887"
             ],
             [
              0.1111111111111111,
              "#46039f"
             ],
             [
              0.2222222222222222,
              "#7201a8"
             ],
             [
              0.3333333333333333,
              "#9c179e"
             ],
             [
              0.4444444444444444,
              "#bd3786"
             ],
             [
              0.5555555555555556,
              "#d8576b"
             ],
             [
              0.6666666666666666,
              "#ed7953"
             ],
             [
              0.7777777777777778,
              "#fb9f3a"
             ],
             [
              0.8888888888888888,
              "#fdca26"
             ],
             [
              1,
              "#f0f921"
             ]
            ],
            "type": "contour"
           }
          ],
          "contourcarpet": [
           {
            "colorbar": {
             "outlinewidth": 0,
             "ticks": ""
            },
            "type": "contourcarpet"
           }
          ],
          "heatmap": [
           {
            "colorbar": {
             "outlinewidth": 0,
             "ticks": ""
            },
            "colorscale": [
             [
              0,
              "#0d0887"
             ],
             [
              0.1111111111111111,
              "#46039f"
             ],
             [
              0.2222222222222222,
              "#7201a8"
             ],
             [
              0.3333333333333333,
              "#9c179e"
             ],
             [
              0.4444444444444444,
              "#bd3786"
             ],
             [
              0.5555555555555556,
              "#d8576b"
             ],
             [
              0.6666666666666666,
              "#ed7953"
             ],
             [
              0.7777777777777778,
              "#fb9f3a"
             ],
             [
              0.8888888888888888,
              "#fdca26"
             ],
             [
              1,
              "#f0f921"
             ]
            ],
            "type": "heatmap"
           }
          ],
          "histogram": [
           {
            "marker": {
             "pattern": {
              "fillmode": "overlay",
              "size": 10,
              "solidity": 0.2
             }
            },
            "type": "histogram"
           }
          ],
          "histogram2d": [
           {
            "colorbar": {
             "outlinewidth": 0,
             "ticks": ""
            },
            "colorscale": [
             [
              0,
              "#0d0887"
             ],
             [
              0.1111111111111111,
              "#46039f"
             ],
             [
              0.2222222222222222,
              "#7201a8"
             ],
             [
              0.3333333333333333,
              "#9c179e"
             ],
             [
              0.4444444444444444,
              "#bd3786"
             ],
             [
              0.5555555555555556,
              "#d8576b"
             ],
             [
              0.6666666666666666,
              "#ed7953"
             ],
             [
              0.7777777777777778,
              "#fb9f3a"
             ],
             [
              0.8888888888888888,
              "#fdca26"
             ],
             [
              1,
              "#f0f921"
             ]
            ],
            "type": "histogram2d"
           }
          ],
          "histogram2dcontour": [
           {
            "colorbar": {
             "outlinewidth": 0,
             "ticks": ""
            },
            "colorscale": [
             [
              0,
              "#0d0887"
             ],
             [
              0.1111111111111111,
              "#46039f"
             ],
             [
              0.2222222222222222,
              "#7201a8"
             ],
             [
              0.3333333333333333,
              "#9c179e"
             ],
             [
              0.4444444444444444,
              "#bd3786"
             ],
             [
              0.5555555555555556,
              "#d8576b"
             ],
             [
              0.6666666666666666,
              "#ed7953"
             ],
             [
              0.7777777777777778,
              "#fb9f3a"
             ],
             [
              0.8888888888888888,
              "#fdca26"
             ],
             [
              1,
              "#f0f921"
             ]
            ],
            "type": "histogram2dcontour"
           }
          ],
          "mesh3d": [
           {
            "colorbar": {
             "outlinewidth": 0,
             "ticks": ""
            },
            "type": "mesh3d"
           }
          ],
          "parcoords": [
           {
            "line": {
             "colorbar": {
              "outlinewidth": 0,
              "ticks": ""
             }
            },
            "type": "parcoords"
           }
          ],
          "pie": [
           {
            "automargin": true,
            "type": "pie"
           }
          ],
          "scatter": [
           {
            "fillpattern": {
             "fillmode": "overlay",
             "size": 10,
             "solidity": 0.2
            },
            "type": "scatter"
           }
          ],
          "scatter3d": [
           {
            "line": {
             "colorbar": {
              "outlinewidth": 0,
              "ticks": ""
             }
            },
            "marker": {
             "colorbar": {
              "outlinewidth": 0,
              "ticks": ""
             }
            },
            "type": "scatter3d"
           }
          ],
          "scattercarpet": [
           {
            "marker": {
             "colorbar": {
              "outlinewidth": 0,
              "ticks": ""
             }
            },
            "type": "scattercarpet"
           }
          ],
          "scattergeo": [
           {
            "marker": {
             "colorbar": {
              "outlinewidth": 0,
              "ticks": ""
             }
            },
            "type": "scattergeo"
           }
          ],
          "scattergl": [
           {
            "marker": {
             "colorbar": {
              "outlinewidth": 0,
              "ticks": ""
             }
            },
            "type": "scattergl"
           }
          ],
          "scattermap": [
           {
            "marker": {
             "colorbar": {
              "outlinewidth": 0,
              "ticks": ""
             }
            },
            "type": "scattermap"
           }
          ],
          "scattermapbox": [
           {
            "marker": {
             "colorbar": {
              "outlinewidth": 0,
              "ticks": ""
             }
            },
            "type": "scattermapbox"
           }
          ],
          "scatterpolar": [
           {
            "marker": {
             "colorbar": {
              "outlinewidth": 0,
              "ticks": ""
             }
            },
            "type": "scatterpolar"
           }
          ],
          "scatterpolargl": [
           {
            "marker": {
             "colorbar": {
              "outlinewidth": 0,
              "ticks": ""
             }
            },
            "type": "scatterpolargl"
           }
          ],
          "scatterternary": [
           {
            "marker": {
             "colorbar": {
              "outlinewidth": 0,
              "ticks": ""
             }
            },
            "type": "scatterternary"
           }
          ],
          "surface": [
           {
            "colorbar": {
             "outlinewidth": 0,
             "ticks": ""
            },
            "colorscale": [
             [
              0,
              "#0d0887"
             ],
             [
              0.1111111111111111,
              "#46039f"
             ],
             [
              0.2222222222222222,
              "#7201a8"
             ],
             [
              0.3333333333333333,
              "#9c179e"
             ],
             [
              0.4444444444444444,
              "#bd3786"
             ],
             [
              0.5555555555555556,
              "#d8576b"
             ],
             [
              0.6666666666666666,
              "#ed7953"
             ],
             [
              0.7777777777777778,
              "#fb9f3a"
             ],
             [
              0.8888888888888888,
              "#fdca26"
             ],
             [
              1,
              "#f0f921"
             ]
            ],
            "type": "surface"
           }
          ],
          "table": [
           {
            "cells": {
             "fill": {
              "color": "#EBF0F8"
             },
             "line": {
              "color": "white"
             }
            },
            "header": {
             "fill": {
              "color": "#C8D4E3"
             },
             "line": {
              "color": "white"
             }
            },
            "type": "table"
           }
          ]
         },
         "layout": {
          "annotationdefaults": {
           "arrowcolor": "#2a3f5f",
           "arrowhead": 0,
           "arrowwidth": 1
          },
          "autotypenumbers": "strict",
          "coloraxis": {
           "colorbar": {
            "outlinewidth": 0,
            "ticks": ""
           }
          },
          "colorscale": {
           "diverging": [
            [
             0,
             "#8e0152"
            ],
            [
             0.1,
             "#c51b7d"
            ],
            [
             0.2,
             "#de77ae"
            ],
            [
             0.3,
             "#f1b6da"
            ],
            [
             0.4,
             "#fde0ef"
            ],
            [
             0.5,
             "#f7f7f7"
            ],
            [
             0.6,
             "#e6f5d0"
            ],
            [
             0.7,
             "#b8e186"
            ],
            [
             0.8,
             "#7fbc41"
            ],
            [
             0.9,
             "#4d9221"
            ],
            [
             1,
             "#276419"
            ]
           ],
           "sequential": [
            [
             0,
             "#0d0887"
            ],
            [
             0.1111111111111111,
             "#46039f"
            ],
            [
             0.2222222222222222,
             "#7201a8"
            ],
            [
             0.3333333333333333,
             "#9c179e"
            ],
            [
             0.4444444444444444,
             "#bd3786"
            ],
            [
             0.5555555555555556,
             "#d8576b"
            ],
            [
             0.6666666666666666,
             "#ed7953"
            ],
            [
             0.7777777777777778,
             "#fb9f3a"
            ],
            [
             0.8888888888888888,
             "#fdca26"
            ],
            [
             1,
             "#f0f921"
            ]
           ],
           "sequentialminus": [
            [
             0,
             "#0d0887"
            ],
            [
             0.1111111111111111,
             "#46039f"
            ],
            [
             0.2222222222222222,
             "#7201a8"
            ],
            [
             0.3333333333333333,
             "#9c179e"
            ],
            [
             0.4444444444444444,
             "#bd3786"
            ],
            [
             0.5555555555555556,
             "#d8576b"
            ],
            [
             0.6666666666666666,
             "#ed7953"
            ],
            [
             0.7777777777777778,
             "#fb9f3a"
            ],
            [
             0.8888888888888888,
             "#fdca26"
            ],
            [
             1,
             "#f0f921"
            ]
           ]
          },
          "colorway": [
           "#636efa",
           "#EF553B",
           "#00cc96",
           "#ab63fa",
           "#FFA15A",
           "#19d3f3",
           "#FF6692",
           "#B6E880",
           "#FF97FF",
           "#FECB52"
          ],
          "font": {
           "color": "#2a3f5f"
          },
          "geo": {
           "bgcolor": "white",
           "lakecolor": "white",
           "landcolor": "#E5ECF6",
           "showlakes": true,
           "showland": true,
           "subunitcolor": "white"
          },
          "hoverlabel": {
           "align": "left"
          },
          "hovermode": "closest",
          "mapbox": {
           "style": "light"
          },
          "paper_bgcolor": "white",
          "plot_bgcolor": "#E5ECF6",
          "polar": {
           "angularaxis": {
            "gridcolor": "white",
            "linecolor": "white",
            "ticks": ""
           },
           "bgcolor": "#E5ECF6",
           "radialaxis": {
            "gridcolor": "white",
            "linecolor": "white",
            "ticks": ""
           }
          },
          "scene": {
           "xaxis": {
            "backgroundcolor": "#E5ECF6",
            "gridcolor": "white",
            "gridwidth": 2,
            "linecolor": "white",
            "showbackground": true,
            "ticks": "",
            "zerolinecolor": "white"
           },
           "yaxis": {
            "backgroundcolor": "#E5ECF6",
            "gridcolor": "white",
            "gridwidth": 2,
            "linecolor": "white",
            "showbackground": true,
            "ticks": "",
            "zerolinecolor": "white"
           },
           "zaxis": {
            "backgroundcolor": "#E5ECF6",
            "gridcolor": "white",
            "gridwidth": 2,
            "linecolor": "white",
            "showbackground": true,
            "ticks": "",
            "zerolinecolor": "white"
           }
          },
          "shapedefaults": {
           "line": {
            "color": "#2a3f5f"
           }
          },
          "ternary": {
           "aaxis": {
            "gridcolor": "white",
            "linecolor": "white",
            "ticks": ""
           },
           "baxis": {
            "gridcolor": "white",
            "linecolor": "white",
            "ticks": ""
           },
           "bgcolor": "#E5ECF6",
           "caxis": {
            "gridcolor": "white",
            "linecolor": "white",
            "ticks": ""
           }
          },
          "title": {
           "x": 0.05
          },
          "xaxis": {
           "automargin": true,
           "gridcolor": "white",
           "linecolor": "white",
           "ticks": "",
           "title": {
            "standoff": 15
           },
           "zerolinecolor": "white",
           "zerolinewidth": 2
          },
          "yaxis": {
           "automargin": true,
           "gridcolor": "white",
           "linecolor": "white",
           "ticks": "",
           "title": {
            "standoff": 15
           },
           "zerolinecolor": "white",
           "zerolinewidth": 2
          }
         }
        },
        "title": {
         "text": "Hyperparameter Importances"
        },
        "xaxis": {
         "title": {
          "text": "Hyperparameter Importance"
         }
        },
        "yaxis": {
         "title": {
          "text": "Hyperparameter"
         }
        }
       }
      }
     },
     "metadata": {},
     "output_type": "display_data"
    }
   ],
   "source": [
    "fig2 = optuna.visualization.plot_param_importances(study)\n",
    "show(fig2)"
   ]
  },
  {
   "cell_type": "code",
   "execution_count": null,
   "id": "b983c55c",
   "metadata": {},
   "outputs": [],
   "source": []
  }
 ],
 "metadata": {
  "kernelspec": {
   "display_name": "Python 3",
   "language": "python",
   "name": "python3"
  },
  "language_info": {
   "codemirror_mode": {
    "name": "ipython",
    "version": 3
   },
   "file_extension": ".py",
   "mimetype": "text/x-python",
   "name": "python",
   "nbconvert_exporter": "python",
   "pygments_lexer": "ipython3",
   "version": "3.13.1"
  }
 },
 "nbformat": 4,
 "nbformat_minor": 5
}
